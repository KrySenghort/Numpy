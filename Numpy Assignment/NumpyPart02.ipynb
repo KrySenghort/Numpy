{
 "cells": [
  {
   "cell_type": "code",
   "execution_count": 1,
   "metadata": {},
   "outputs": [],
   "source": [
    "import numpy as np"
   ]
  },
  {
   "cell_type": "code",
   "execution_count": 2,
   "metadata": {},
   "outputs": [
    {
     "data": {
      "text/plain": [
       "array([ 57,  27, 205, 161, 228, 141, 296,   4, 189, 223, 212,  22, 157,\n",
       "        13,   2,  12, 186, 114,  87, 116,  18, 145, 124,  81, 104])"
      ]
     },
     "execution_count": 2,
     "metadata": {},
     "output_type": "execute_result"
    }
   ],
   "source": [
    "a = np.random.randint(1,300,25) # 25elements random 1 to 300\n",
    "a"
   ]
  },
  {
   "cell_type": "code",
   "execution_count": 3,
   "metadata": {},
   "outputs": [
    {
     "data": {
      "text/plain": [
       "array([False, False, False, False,  True, False,  True,  True, False,\n",
       "       False,  True,  True, False, False,  True,  True,  True,  True,\n",
       "       False,  True,  True, False,  True, False,  True])"
      ]
     },
     "execution_count": 3,
     "metadata": {},
     "output_type": "execute_result"
    }
   ],
   "source": [
    "a%2==0"
   ]
  },
  {
   "cell_type": "code",
   "execution_count": 4,
   "metadata": {},
   "outputs": [
    {
     "data": {
      "text/plain": [
       "array([ True,  True,  True,  True, False,  True, False, False,  True,\n",
       "        True, False, False,  True,  True, False, False, False, False,\n",
       "        True, False, False,  True, False,  True, False])"
      ]
     },
     "execution_count": 4,
     "metadata": {},
     "output_type": "execute_result"
    }
   ],
   "source": [
    "a%2!=0"
   ]
  },
  {
   "cell_type": "code",
   "execution_count": 5,
   "metadata": {},
   "outputs": [
    {
     "ename": "ValueError",
     "evalue": "The truth value of an array with more than one element is ambiguous. Use a.any() or a.all()",
     "output_type": "error",
     "traceback": [
      "\u001b[1;31m---------------------------------------------------------------------------\u001b[0m",
      "\u001b[1;31mValueError\u001b[0m                                Traceback (most recent call last)",
      "Cell \u001b[1;32mIn[5], line 1\u001b[0m\n\u001b[1;32m----> 1\u001b[0m a\u001b[39m%\u001b[39m\u001b[39m2\u001b[39m\u001b[39m==\u001b[39m\u001b[39m0\u001b[39m \u001b[39mand\u001b[39;00m a\u001b[39m%\u001b[39m\u001b[39m5\u001b[39m\u001b[39m==\u001b[39m\u001b[39m0\u001b[39m\n\u001b[0;32m      2\u001b[0m \u001b[39m# we cannot use and operator to intersect two proposition.\u001b[39;00m\n",
      "\u001b[1;31mValueError\u001b[0m: The truth value of an array with more than one element is ambiguous. Use a.any() or a.all()"
     ]
    }
   ],
   "source": [
    "a%2==0 and a%5==0\n",
    "# we cannot use and operator to intersect two proposition."
   ]
  },
  {
   "cell_type": "code",
   "execution_count": null,
   "metadata": {},
   "outputs": [
    {
     "data": {
      "text/plain": [
       "array([ True, False, False, False, False, False, False, False, False,\n",
       "       False, False, False, False, False, False, False, False, False,\n",
       "       False, False, False, False, False, False, False])"
      ]
     },
     "execution_count": 17,
     "metadata": {},
     "output_type": "execute_result"
    }
   ],
   "source": [
    "(a%2==0) & (a%5==0)"
   ]
  },
  {
   "cell_type": "code",
   "execution_count": null,
   "metadata": {},
   "outputs": [
    {
     "data": {
      "text/plain": [
       "(array([0], dtype=int64),)"
      ]
     },
     "execution_count": 19,
     "metadata": {},
     "output_type": "execute_result"
    }
   ],
   "source": [
    "# Display the location or index in which divided by 2 and 5 without remainder.\n",
    "np.where((a%2==0) & (a%5==0))"
   ]
  },
  {
   "cell_type": "code",
   "execution_count": null,
   "metadata": {},
   "outputs": [
    {
     "data": {
      "text/plain": [
       "array([190,  12,  31, 137, 112, 107,  71,  15, 201, 174,  42,   6, 165,\n",
       "       241,  67, 238, 136,  36, 182, 171,  97, 133, 208,  53,  59])"
      ]
     },
     "execution_count": 20,
     "metadata": {},
     "output_type": "execute_result"
    }
   ],
   "source": [
    "a"
   ]
  },
  {
   "cell_type": "code",
   "execution_count": null,
   "metadata": {},
   "outputs": [
    {
     "ename": "ValueError",
     "evalue": "low >= high",
     "output_type": "error",
     "traceback": [
      "\u001b[1;31m---------------------------------------------------------------------------\u001b[0m",
      "\u001b[1;31mValueError\u001b[0m                                Traceback (most recent call last)",
      "Cell \u001b[1;32mIn[29], line 1\u001b[0m\n\u001b[1;32m----> 1\u001b[0m b \u001b[39m=\u001b[39m np\u001b[39m.\u001b[39;49mrandom\u001b[39m.\u001b[39;49mrandint(\u001b[39m1000\u001b[39;49m,\u001b[39m20\u001b[39;49m) \u001b[39m# we cannot random number from 1000 to 20 becasue 1000>20\u001b[39;00m\n\u001b[0;32m      2\u001b[0m b\n",
      "File \u001b[1;32mmtrand.pyx:746\u001b[0m, in \u001b[0;36mnumpy.random.mtrand.RandomState.randint\u001b[1;34m()\u001b[0m\n",
      "File \u001b[1;32m_bounded_integers.pyx:1338\u001b[0m, in \u001b[0;36mnumpy.random._bounded_integers._rand_int32\u001b[1;34m()\u001b[0m\n",
      "\u001b[1;31mValueError\u001b[0m: low >= high"
     ]
    }
   ],
   "source": [
    "b = np.random.randint(1000,20) # we cannot random number from 1000 to 20 becasue 1000>20\n",
    "b"
   ]
  },
  {
   "cell_type": "code",
   "execution_count": null,
   "metadata": {},
   "outputs": [
    {
     "data": {
      "text/plain": [
       "array([157, 766,  97, 241, 748, 811, 284, 706, 287, 457, 953, 392, 349,\n",
       "       506, 735,  81, 586, 983, 410, 136, 388, 649, 776, 882, 265])"
      ]
     },
     "execution_count": 36,
     "metadata": {},
     "output_type": "execute_result"
    }
   ],
   "source": [
    "c = np.random.randint(20,1000,25)\n",
    "c"
   ]
  },
  {
   "cell_type": "code",
   "execution_count": null,
   "metadata": {},
   "outputs": [
    {
     "data": {
      "text/plain": [
       "array([False, False, False, False, False, False, False, False, False,\n",
       "       False, False, False, False, False, False, False, False, False,\n",
       "       False, False, False, False, False, False, False])"
      ]
     },
     "execution_count": 37,
     "metadata": {},
     "output_type": "execute_result"
    }
   ],
   "source": [
    "(c%2==0) & (c%3==0) & (c%5==0)"
   ]
  },
  {
   "cell_type": "code",
   "execution_count": null,
   "metadata": {},
   "outputs": [
    {
     "data": {
      "text/plain": [
       "array([9353, 5093, 6531, 9839, 7940, 7032, 6297, 5142, 6761, 6188, 9835,\n",
       "       8743, 6423, 7822, 6232, 8635, 5303, 5935, 9733, 6129, 9042, 6968,\n",
       "       7514, 9438, 6746, 8140, 8326, 8729, 7797, 8538, 7574, 5497, 8325,\n",
       "       5028, 8250, 9870, 5572, 8738, 9828, 6520, 9709, 5640, 6481, 9912,\n",
       "       5005, 7232, 8934, 5075, 7928, 7415, 5470, 7246, 5890, 6178, 9028,\n",
       "       8068, 6586, 7971, 7998, 5389, 8128, 6044, 9776, 8996, 7403, 7679,\n",
       "       7326, 6609, 6601, 7246, 9011, 9124, 7791, 7899, 5872, 7231, 9316,\n",
       "       9716, 9419, 7513, 5186, 8932, 8584, 7614, 5631, 9602, 6182, 7931,\n",
       "       8052, 5531, 6158, 5376, 9533, 7290, 7609, 9654, 5003, 9205, 8496,\n",
       "       6806, 6458, 8488, 6530, 6692, 7981, 7536, 8666, 6506, 8685, 8969,\n",
       "       6400, 7156, 7689, 9287, 8365, 6145, 7375, 5675, 5062, 6369, 6641,\n",
       "       7489, 9574, 7314, 6964, 5158, 9400, 8391, 6005, 6482, 8384, 9774,\n",
       "       6172, 8900, 5630, 6357, 9042, 9034, 8777, 5488, 8322, 9974, 7606,\n",
       "       9680, 7837, 6476, 7957, 9936, 8179, 5126, 8446, 8018, 7694, 7532,\n",
       "       8742, 5033, 5988, 5782, 9064, 8464, 5788, 5681, 6587, 8874, 7560,\n",
       "       6855, 5985, 6092, 9837, 5717, 7448, 9707, 8638, 7507, 7821, 7142,\n",
       "       7103, 6134, 9141, 6296, 9557, 6624, 9115, 8969, 9140, 9259, 6337,\n",
       "       5900, 7847, 9890, 6294, 5650, 7732, 9689, 9064, 5423, 5717, 9879,\n",
       "       8403, 9995, 9257, 6879, 9339, 9498, 7413, 6695, 9973, 6214, 9588,\n",
       "       6154, 8089, 6160, 8211, 8928, 7048, 9871, 9625, 9969, 6119, 5072,\n",
       "       6846, 6295, 6757, 8302, 5116, 6032, 7857, 9700, 7286, 5706, 5545,\n",
       "       8908, 8905, 9851, 7189, 8403, 6152, 8281, 5342, 5464, 8109, 7245,\n",
       "       7675, 7185, 8733, 5353, 8065, 9339, 8106, 7302, 5584, 8821, 6561,\n",
       "       9119, 8829, 7436, 7302, 7590, 9228, 8402, 8102, 8901, 8085, 8614,\n",
       "       6647, 8864, 6085, 8949, 7036, 5567, 7108, 7278, 9048, 9232, 5227,\n",
       "       7260, 9247, 9786, 7545, 5094, 6805, 7926, 5976, 5034, 5639, 7125,\n",
       "       5769, 5025, 5828, 5609, 8849, 7840, 6124, 5282, 5945, 8136, 5237,\n",
       "       5728, 7622, 6641])"
      ]
     },
     "execution_count": 42,
     "metadata": {},
     "output_type": "execute_result"
    }
   ],
   "source": [
    "d = np.random.randint(5000,9999,300) # 300 elements random number from 5000 to 9999\n",
    "d"
   ]
  },
  {
   "cell_type": "code",
   "execution_count": null,
   "metadata": {},
   "outputs": [
    {
     "data": {
      "text/plain": [
       "array([False, False, False, False,  True,  True, False,  True, False,\n",
       "        True, False, False, False,  True,  True, False, False, False,\n",
       "       False, False,  True,  True,  True,  True,  True,  True,  True,\n",
       "       False, False,  True,  True, False, False,  True,  True,  True,\n",
       "        True,  True,  True,  True, False,  True, False,  True, False,\n",
       "        True,  True, False,  True, False,  True,  True,  True,  True,\n",
       "        True,  True,  True, False,  True, False,  True,  True,  True,\n",
       "        True, False, False,  True, False, False,  True, False,  True,\n",
       "       False, False,  True, False,  True,  True, False, False,  True,\n",
       "        True,  True,  True, False,  True,  True, False,  True, False,\n",
       "        True,  True, False,  True, False,  True, False, False,  True,\n",
       "        True,  True,  True,  True,  True, False,  True,  True,  True,\n",
       "       False, False,  True,  True, False, False, False, False, False,\n",
       "       False,  True, False, False, False,  True,  True,  True,  True,\n",
       "        True, False, False,  True,  True,  True,  True,  True,  True,\n",
       "       False,  True,  True, False,  True,  True,  True,  True,  True,\n",
       "       False,  True, False,  True, False,  True,  True,  True,  True,\n",
       "        True,  True, False,  True,  True,  True,  True,  True, False,\n",
       "       False,  True,  True, False, False,  True, False, False,  True,\n",
       "       False,  True, False, False,  True, False,  True, False,  True,\n",
       "       False,  True, False, False,  True, False, False,  True, False,\n",
       "        True,  True,  True,  True, False,  True, False, False, False,\n",
       "       False, False, False, False, False,  True, False, False, False,\n",
       "        True,  True,  True, False,  True, False,  True,  True, False,\n",
       "       False, False, False,  True,  True, False, False,  True,  True,\n",
       "        True, False,  True,  True,  True, False,  True, False, False,\n",
       "       False, False,  True, False,  True,  True, False, False, False,\n",
       "       False, False, False, False, False,  True,  True,  True, False,\n",
       "       False, False, False,  True,  True,  True,  True,  True,  True,\n",
       "       False, False,  True, False,  True, False, False,  True, False,\n",
       "        True,  True,  True,  True, False,  True, False,  True, False,\n",
       "        True, False,  True,  True,  True, False, False, False, False,\n",
       "        True, False, False,  True,  True,  True, False,  True, False,\n",
       "        True,  True, False])"
      ]
     },
     "execution_count": 43,
     "metadata": {},
     "output_type": "execute_result"
    }
   ],
   "source": [
    "d%2==0"
   ]
  },
  {
   "cell_type": "code",
   "execution_count": null,
   "metadata": {},
   "outputs": [
    {
     "data": {
      "text/plain": [
       "array([False, False, False, False,  True, False, False, False, False,\n",
       "       False, False, False, False, False, False, False, False, False,\n",
       "       False, False, False, False, False, False, False,  True, False,\n",
       "       False, False, False, False, False, False, False,  True,  True,\n",
       "       False, False, False,  True, False,  True, False, False, False,\n",
       "       False, False, False, False, False,  True, False,  True, False,\n",
       "       False, False, False, False, False, False, False, False, False,\n",
       "       False, False, False, False, False, False, False, False, False,\n",
       "       False, False, False, False, False, False, False, False, False,\n",
       "       False, False, False, False, False, False, False, False, False,\n",
       "       False, False, False,  True, False, False, False, False, False,\n",
       "       False, False, False,  True, False, False, False, False, False,\n",
       "       False, False,  True, False, False, False, False, False, False,\n",
       "       False, False, False, False, False, False, False, False, False,\n",
       "        True, False, False, False, False, False, False,  True,  True,\n",
       "       False, False, False, False, False, False, False, False,  True,\n",
       "       False, False, False, False, False, False, False, False, False,\n",
       "       False, False, False, False, False, False, False, False, False,\n",
       "       False, False,  True, False, False, False, False, False, False,\n",
       "       False, False, False, False, False, False, False, False, False,\n",
       "       False, False, False, False,  True, False, False,  True, False,\n",
       "        True, False,  True, False, False, False, False, False, False,\n",
       "       False, False, False, False, False, False, False, False, False,\n",
       "       False, False, False, False,  True, False, False, False, False,\n",
       "       False, False, False, False, False, False, False, False, False,\n",
       "       False, False,  True, False, False, False, False, False, False,\n",
       "       False, False, False, False, False, False, False, False, False,\n",
       "       False, False, False, False, False, False, False, False, False,\n",
       "       False, False, False, False, False,  True, False, False, False,\n",
       "       False, False, False, False, False, False, False, False, False,\n",
       "       False, False, False, False, False,  True, False, False, False,\n",
       "       False, False, False, False, False, False, False, False, False,\n",
       "       False, False, False,  True, False, False, False, False, False,\n",
       "       False, False, False])"
      ]
     },
     "execution_count": 44,
     "metadata": {},
     "output_type": "execute_result"
    }
   ],
   "source": [
    "(d%2==0) & (d%5==0)"
   ]
  },
  {
   "cell_type": "code",
   "execution_count": null,
   "metadata": {},
   "outputs": [
    {
     "data": {
      "text/plain": [
       "array([False, False,  True, False,  True,  True,  True,  True, False,\n",
       "       False,  True, False,  True, False, False,  True, False,  True,\n",
       "       False,  True,  True, False, False,  True, False,  True, False,\n",
       "       False,  True,  True, False, False,  True,  True,  True,  True,\n",
       "       False, False,  True,  True, False,  True, False,  True,  True,\n",
       "       False,  True,  True, False,  True,  True, False,  True, False,\n",
       "       False, False, False,  True,  True, False, False, False, False,\n",
       "       False, False, False,  True,  True, False, False, False, False,\n",
       "        True,  True, False, False, False, False, False, False, False,\n",
       "       False, False,  True,  True, False, False, False,  True, False,\n",
       "       False,  True, False,  True, False,  True, False,  True,  True,\n",
       "       False, False, False,  True, False, False,  True, False, False,\n",
       "        True, False,  True, False,  True, False,  True,  True,  True,\n",
       "        True, False,  True, False, False, False,  True, False, False,\n",
       "        True,  True,  True, False, False,  True, False,  True,  True,\n",
       "        True,  True, False, False, False,  True, False, False,  True,\n",
       "       False, False, False,  True, False, False, False, False, False,\n",
       "       False,  True, False,  True, False, False, False, False, False,\n",
       "       False,  True,  True,  True,  True, False,  True, False, False,\n",
       "       False, False, False,  True, False, False, False,  True, False,\n",
       "       False,  True,  True, False,  True, False, False,  True, False,\n",
       "        True,  True,  True, False, False, False, False, False,  True,\n",
       "        True,  True, False,  True,  True,  True,  True,  True, False,\n",
       "       False,  True, False, False,  True,  True,  True, False, False,\n",
       "        True,  True, False, False,  True,  True, False, False, False,\n",
       "       False,  True,  True, False,  True,  True, False,  True, False,\n",
       "       False,  True, False, False, False, False,  True,  True,  True,\n",
       "        True,  True, False,  True,  True,  True,  True, False, False,\n",
       "        True, False,  True, False,  True,  True,  True, False, False,\n",
       "        True,  True, False, False, False,  True,  True, False, False,\n",
       "       False,  True,  True, False, False,  True, False,  True,  True,\n",
       "        True,  True,  True,  True,  True, False,  True,  True,  True,\n",
       "       False, False, False,  True, False, False,  True,  True, False,\n",
       "       False, False, False])"
      ]
     },
     "execution_count": 47,
     "metadata": {},
     "output_type": "execute_result"
    }
   ],
   "source": [
    "(d%3==0) | (d%5==0)"
   ]
  },
  {
   "cell_type": "code",
   "execution_count": null,
   "metadata": {},
   "outputs": [
    {
     "data": {
      "text/plain": [
       "array([6531, 7940, 7032, 6297, 5142, 9835, 6423, 8635, 5935, 6129, 9042,\n",
       "       9438, 8140, 7797, 8538, 8325, 5028, 8250, 9870, 9828, 6520, 5640,\n",
       "       9912, 5005, 8934, 5075, 7415, 5470, 5890, 7971, 7998, 7326, 6609,\n",
       "       7791, 7899, 7614, 5631, 8052, 5376, 7290, 9654, 9205, 8496, 6530,\n",
       "       7536, 8685, 6400, 7689, 8365, 6145, 7375, 5675, 6369, 7314, 9400,\n",
       "       8391, 6005, 9774, 8900, 5630, 6357, 9042, 8322, 9680, 9936, 8742,\n",
       "       5988, 8874, 7560, 6855, 5985, 9837, 7821, 9141, 6624, 9115, 9140,\n",
       "       5900, 9890, 6294, 5650, 9879, 8403, 9995, 6879, 9339, 9498, 7413,\n",
       "       6695, 9588, 6160, 8211, 8928, 9625, 9969, 6846, 6295, 7857, 9700,\n",
       "       5706, 5545, 8905, 8403, 8109, 7245, 7675, 7185, 8733, 8065, 9339,\n",
       "       8106, 7302, 6561, 8829, 7302, 7590, 9228, 8901, 8085, 6085, 8949,\n",
       "       7278, 9048, 7260, 9786, 7545, 5094, 6805, 7926, 5976, 5034, 7125,\n",
       "       5769, 5025, 7840, 5945, 8136])"
      ]
     },
     "execution_count": 48,
     "metadata": {},
     "output_type": "execute_result"
    }
   ],
   "source": [
    "d[(d%3==0) | (d%5==0)]"
   ]
  },
  {
   "cell_type": "code",
   "execution_count": 6,
   "metadata": {},
   "outputs": [
    {
     "ename": "NameError",
     "evalue": "name 'd' is not defined",
     "output_type": "error",
     "traceback": [
      "\u001b[1;31m---------------------------------------------------------------------------\u001b[0m",
      "\u001b[1;31mNameError\u001b[0m                                 Traceback (most recent call last)",
      "Cell \u001b[1;32mIn[6], line 1\u001b[0m\n\u001b[1;32m----> 1\u001b[0m (d\u001b[39m%\u001b[39m\u001b[39m7\u001b[39m\u001b[39m==\u001b[39m\u001b[39m0\u001b[39m) \u001b[39m|\u001b[39m (d\u001b[39m%\u001b[39m\u001b[39m5\u001b[39m\u001b[39m==\u001b[39m\u001b[39m0\u001b[39m)\n",
      "\u001b[1;31mNameError\u001b[0m: name 'd' is not defined"
     ]
    }
   ],
   "source": [
    "(d%7==0) | (d%5==0)"
   ]
  },
  {
   "cell_type": "code",
   "execution_count": 7,
   "metadata": {},
   "outputs": [
    {
     "ename": "NameError",
     "evalue": "name 'd' is not defined",
     "output_type": "error",
     "traceback": [
      "\u001b[1;31m---------------------------------------------------------------------------\u001b[0m",
      "\u001b[1;31mNameError\u001b[0m                                 Traceback (most recent call last)",
      "Cell \u001b[1;32mIn[7], line 1\u001b[0m\n\u001b[1;32m----> 1\u001b[0m d[(d\u001b[39m%\u001b[39m\u001b[39m7\u001b[39m\u001b[39m==\u001b[39m\u001b[39m0\u001b[39m) \u001b[39m|\u001b[39m (d\u001b[39m%\u001b[39m\u001b[39m5\u001b[39m\u001b[39m==\u001b[39m\u001b[39m0\u001b[39m)] \u001b[39m# display the number divided by 7 or 5\u001b[39;00m\n",
      "\u001b[1;31mNameError\u001b[0m: name 'd' is not defined"
     ]
    }
   ],
   "source": [
    "d[(d%7==0) | (d%5==0)] # display the number divided by 7 or 5"
   ]
  },
  {
   "cell_type": "code",
   "execution_count": 8,
   "metadata": {},
   "outputs": [
    {
     "ename": "NameError",
     "evalue": "name 'd' is not defined",
     "output_type": "error",
     "traceback": [
      "\u001b[1;31m---------------------------------------------------------------------------\u001b[0m",
      "\u001b[1;31mNameError\u001b[0m                                 Traceback (most recent call last)",
      "Cell \u001b[1;32mIn[8], line 2\u001b[0m\n\u001b[0;32m      1\u001b[0m \u001b[39m# show the index where divided by number with verified conditions.\u001b[39;00m\n\u001b[1;32m----> 2\u001b[0m \u001b[39mprint\u001b[39m(np\u001b[39m.\u001b[39mwhere((d\u001b[39m%\u001b[39m\u001b[39m2\u001b[39m \u001b[39m==\u001b[39m \u001b[39m0\u001b[39m)\u001b[39m&\u001b[39m(d\u001b[39m%\u001b[39m\u001b[39m3\u001b[39m \u001b[39m==\u001b[39m \u001b[39m0\u001b[39m)))\n\u001b[0;32m      3\u001b[0m \u001b[39mprint\u001b[39m(np\u001b[39m.\u001b[39mwhere((d\u001b[39m%\u001b[39m\u001b[39m5\u001b[39m \u001b[39m==\u001b[39m \u001b[39m0\u001b[39m)\u001b[39m&\u001b[39m(d\u001b[39m%\u001b[39m\u001b[39m7\u001b[39m \u001b[39m==\u001b[39m \u001b[39m0\u001b[39m)))\n\u001b[0;32m      4\u001b[0m \u001b[39mprint\u001b[39m(np\u001b[39m.\u001b[39mwhere((d\u001b[39m%\u001b[39m\u001b[39m2\u001b[39m \u001b[39m==\u001b[39m \u001b[39m0\u001b[39m)\u001b[39m|\u001b[39m(d\u001b[39m%\u001b[39m\u001b[39m3\u001b[39m \u001b[39m==\u001b[39m \u001b[39m0\u001b[39m)))\n",
      "\u001b[1;31mNameError\u001b[0m: name 'd' is not defined"
     ]
    }
   ],
   "source": [
    "# show the index where divided by number with verified conditions.\n",
    "print(np.where((d%2 == 0)&(d%3 == 0)))\n",
    "print(np.where((d%5 == 0)&(d%7 == 0)))\n",
    "print(np.where((d%2 == 0)|(d%3 == 0)))\n",
    "print(np.where((d%2 == 0)|(d%3 == 0)))"
   ]
  },
  {
   "cell_type": "code",
   "execution_count": null,
   "metadata": {},
   "outputs": [
    {
     "data": {
      "text/plain": [
       "array([9839, 6129, 8729, 9709, 5389, 7679, 6609, 7899, 9419, 7609, 8969,\n",
       "       7689, 6369, 7489, 8179, 8969, 9259, 9689, 9879, 6879, 9339, 8089,\n",
       "       9969, 6119, 7189, 8109, 9339, 9119, 8829, 8949, 5639, 5769, 5609,\n",
       "       8849])"
      ]
     },
     "execution_count": 66,
     "metadata": {},
     "output_type": "execute_result"
    }
   ],
   "source": [
    "d[d%10==9]"
   ]
  },
  {
   "cell_type": "code",
   "execution_count": 9,
   "metadata": {},
   "outputs": [
    {
     "data": {
      "text/plain": [
       "array([[ 2.4, 21. , 31. ],\n",
       "       [ 2.4, 22. , 31. ],\n",
       "       [ 3.3, 18. , 27. ],\n",
       "       [ 1.8, 28. , 37. ],\n",
       "       [ 1.8, 26. , 35. ],\n",
       "       [ 4. , 21. , 31. ],\n",
       "       [ 2.4, 21. , 31. ],\n",
       "       [ 3.5, 19. , 28. ],\n",
       "       [ 2.7, 17. , 22. ],\n",
       "       [ 4. , 15. , 18. ],\n",
       "       [ 4. , 16. , 20. ],\n",
       "       [ 4. , 16. , 20. ],\n",
       "       [ 4.7, 14. , 17. ],\n",
       "       [ 5.7, 13. , 18. ]])"
      ]
     },
     "execution_count": 9,
     "metadata": {},
     "output_type": "execute_result"
    }
   ],
   "source": [
    "a = np.loadtxt('disply_cty_hwy.csv',delimiter=\",\")\n",
    "a"
   ]
  },
  {
   "cell_type": "code",
   "execution_count": 10,
   "metadata": {},
   "outputs": [
    {
     "data": {
      "text/plain": [
       "array([[False, False, False],\n",
       "       [False, False, False],\n",
       "       [False, False, False],\n",
       "       [False, False, False],\n",
       "       [False, False, False],\n",
       "       [False, False, False],\n",
       "       [False, False, False],\n",
       "       [False, False, False],\n",
       "       [False, False, False],\n",
       "       [False, False, False],\n",
       "       [False, False,  True],\n",
       "       [False, False,  True],\n",
       "       [False, False, False],\n",
       "       [False, False, False]])"
      ]
     },
     "execution_count": 10,
     "metadata": {},
     "output_type": "execute_result"
    }
   ],
   "source": [
    "# display the verified condition that value equal to 20\n",
    "a==20"
   ]
  },
  {
   "cell_type": "code",
   "execution_count": 11,
   "metadata": {},
   "outputs": [
    {
     "data": {
      "text/plain": [
       "array([[0, 0, 0],\n",
       "       [0, 0, 0],\n",
       "       [0, 0, 0],\n",
       "       [0, 0, 0],\n",
       "       [0, 0, 0],\n",
       "       [0, 0, 0],\n",
       "       [0, 0, 0],\n",
       "       [0, 0, 0],\n",
       "       [0, 0, 0],\n",
       "       [0, 0, 0],\n",
       "       [0, 0, 1],\n",
       "       [0, 0, 1],\n",
       "       [0, 0, 0],\n",
       "       [0, 0, 0]])"
      ]
     },
     "execution_count": 11,
     "metadata": {},
     "output_type": "execute_result"
    }
   ],
   "source": [
    "(a==20).astype(int)"
   ]
  },
  {
   "cell_type": "code",
   "execution_count": 12,
   "metadata": {},
   "outputs": [
    {
     "data": {
      "text/plain": [
       "array([20., 20.])"
      ]
     },
     "execution_count": 12,
     "metadata": {},
     "output_type": "execute_result"
    }
   ],
   "source": [
    "a[a==20]"
   ]
  },
  {
   "cell_type": "code",
   "execution_count": 13,
   "metadata": {},
   "outputs": [
    {
     "data": {
      "text/plain": [
       "(array([10, 11], dtype=int64), array([2, 2], dtype=int64))"
      ]
     },
     "execution_count": 13,
     "metadata": {},
     "output_type": "execute_result"
    }
   ],
   "source": [
    "np.where(a==20)"
   ]
  },
  {
   "cell_type": "code",
   "execution_count": 18,
   "metadata": {},
   "outputs": [
    {
     "data": {
      "text/plain": [
       "array([ True,  True,  True, False, False,  True,  True,  True,  True,\n",
       "        True,  True,  True,  True,  True])"
      ]
     },
     "execution_count": 18,
     "metadata": {},
     "output_type": "execute_result"
    }
   ],
   "source": [
    "a[:,0]>2 # verified the number that satisfying condition "
   ]
  },
  {
   "cell_type": "code",
   "execution_count": 19,
   "metadata": {},
   "outputs": [
    {
     "data": {
      "text/plain": [
       "array([[ 2.4, 21. , 31. ],\n",
       "       [ 2.4, 22. , 31. ],\n",
       "       [ 3.3, 18. , 27. ],\n",
       "       [ 4. , 21. , 31. ],\n",
       "       [ 2.4, 21. , 31. ],\n",
       "       [ 3.5, 19. , 28. ],\n",
       "       [ 2.7, 17. , 22. ],\n",
       "       [ 4. , 15. , 18. ],\n",
       "       [ 4. , 16. , 20. ],\n",
       "       [ 4. , 16. , 20. ],\n",
       "       [ 4.7, 14. , 17. ],\n",
       "       [ 5.7, 13. , 18. ]])"
      ]
     },
     "execution_count": 19,
     "metadata": {},
     "output_type": "execute_result"
    }
   ],
   "source": [
    "a[a[:,0]>2] # value indexing"
   ]
  },
  {
   "cell_type": "code",
   "execution_count": 22,
   "metadata": {},
   "outputs": [
    {
     "data": {
      "text/plain": [
       "array([[ 4.7, 14. , 17. ],\n",
       "       [ 5.7, 13. , 18. ]])"
      ]
     },
     "execution_count": 22,
     "metadata": {},
     "output_type": "execute_result"
    }
   ],
   "source": [
    "a[(a[:,0]>3) & (a[:,1]<15)]"
   ]
  },
  {
   "attachments": {},
   "cell_type": "markdown",
   "metadata": {},
   "source": [
    "Iterative Numpy|"
   ]
  },
  {
   "cell_type": "code",
   "execution_count": 26,
   "metadata": {},
   "outputs": [
    {
     "data": {
      "text/plain": [
       "array([ 0, 10, 20, 30, 40, 50, 60, 70, 80, 90])"
      ]
     },
     "execution_count": 26,
     "metadata": {},
     "output_type": "execute_result"
    }
   ],
   "source": [
    "c = np.arange(10)*10\n",
    "c"
   ]
  },
  {
   "cell_type": "code",
   "execution_count": 28,
   "metadata": {},
   "outputs": [
    {
     "name": "stdout",
     "output_type": "stream",
     "text": [
      "0\n",
      "10\n",
      "20\n",
      "30\n",
      "40\n",
      "50\n",
      "60\n",
      "70\n",
      "80\n",
      "90\n"
     ]
    }
   ],
   "source": [
    "for i in c : \n",
    "  print(i)"
   ]
  },
  {
   "attachments": {},
   "cell_type": "markdown",
   "metadata": {},
   "source": [
    "enumerate() is a built-in Python function that allows you to iterate over a sequence (such as a list or a string) and keep track of the index of the current item."
   ]
  },
  {
   "cell_type": "code",
   "execution_count": 30,
   "metadata": {},
   "outputs": [
    {
     "name": "stdout",
     "output_type": "stream",
     "text": [
      "0 0\n",
      "1 10\n",
      "2 20\n",
      "3 30\n",
      "4 40\n",
      "5 50\n",
      "6 60\n",
      "7 70\n",
      "8 80\n",
      "9 90\n"
     ]
    }
   ],
   "source": [
    "for i,v in enumerate(c,start=0): # \n",
    "  print(i,v)"
   ]
  },
  {
   "cell_type": "code",
   "execution_count": 32,
   "metadata": {},
   "outputs": [
    {
     "data": {
      "text/plain": [
       "array([[11, 12, 13, 14, 15],\n",
       "       [16, 17, 18, 19, 20],\n",
       "       [21, 22, 23, 24, 25],\n",
       "       [26, 27, 28, 29, 30]])"
      ]
     },
     "execution_count": 32,
     "metadata": {},
     "output_type": "execute_result"
    }
   ],
   "source": [
    "d = np.arange(11,31).reshape(4,5)\n",
    "d"
   ]
  },
  {
   "cell_type": "code",
   "execution_count": 33,
   "metadata": {},
   "outputs": [
    {
     "name": "stdout",
     "output_type": "stream",
     "text": [
      "[11 12 13 14 15]\n",
      "[16 17 18 19 20]\n",
      "[21 22 23 24 25]\n",
      "[26 27 28 29 30]\n"
     ]
    }
   ],
   "source": [
    "for i in d:\n",
    "  print(i)"
   ]
  },
  {
   "attachments": {},
   "cell_type": "markdown",
   "metadata": {},
   "source": [
    "<b><font color = yellow>np.ndenumerate()</font></b> is a NumPy function that returns an iterator yielding pairs of indices and values from a given NumPy array."
   ]
  },
  {
   "cell_type": "code",
   "execution_count": 37,
   "metadata": {},
   "outputs": [
    {
     "name": "stdout",
     "output_type": "stream",
     "text": [
      "(0, 0) 11\n",
      "(0, 1) 12\n",
      "(0, 2) 13\n",
      "(0, 3) 14\n",
      "(0, 4) 15\n",
      "(1, 0) 16\n",
      "(1, 1) 17\n",
      "(1, 2) 18\n",
      "(1, 3) 19\n",
      "(1, 4) 20\n",
      "(2, 0) 21\n",
      "(2, 1) 22\n",
      "(2, 2) 23\n",
      "(2, 3) 24\n",
      "(2, 4) 25\n",
      "(3, 0) 26\n",
      "(3, 1) 27\n",
      "(3, 2) 28\n",
      "(3, 3) 29\n",
      "(3, 4) 30\n"
     ]
    }
   ],
   "source": [
    "for i,v in np.ndenumerate(d):\n",
    "  print(i,v)"
   ]
  },
  {
   "cell_type": "code",
   "execution_count": 38,
   "metadata": {},
   "outputs": [
    {
     "name": "stdout",
     "output_type": "stream",
     "text": [
      "(0,) 16\n",
      "(1,) 17\n",
      "(2,) 18\n",
      "(3,) 19\n",
      "(4,) 20\n"
     ]
    }
   ],
   "source": [
    "for i,v in np.ndenumerate(d[1]):\n",
    "  print(i,v)"
   ]
  },
  {
   "cell_type": "code",
   "execution_count": 39,
   "metadata": {},
   "outputs": [
    {
     "name": "stdout",
     "output_type": "stream",
     "text": [
      "(0, 0) 1\n",
      "(0, 1) 2\n",
      "(1, 0) 3\n",
      "(1, 1) 4\n"
     ]
    }
   ],
   "source": [
    "arr = np.array([[1, 2], [3, 4]])\n",
    "\n",
    "for index, value in np.ndenumerate(arr):\n",
    "    print(index, value)"
   ]
  },
  {
   "cell_type": "code",
   "execution_count": 40,
   "metadata": {},
   "outputs": [
    {
     "name": "stdout",
     "output_type": "stream",
     "text": [
      "(0, 0) 11\n",
      "(0, 1) 12\n",
      "(0, 2) 13\n",
      "(0, 3) 14\n",
      "(0, 4) 15\n",
      "(1, 0) 16\n",
      "(1, 1) 17\n",
      "(1, 2) 18\n",
      "(1, 3) 19\n",
      "(1, 4) 20\n",
      "(2, 0) 21\n",
      "(2, 1) 22\n",
      "(2, 2) 23\n",
      "(2, 3) 24\n",
      "(2, 4) 25\n",
      "(3, 0) 26\n",
      "(3, 1) 27\n",
      "(3, 2) 28\n",
      "(3, 3) 29\n",
      "(3, 4) 30\n"
     ]
    }
   ],
   "source": [
    "for i,v in np.ndenumerate(d):\n",
    "  print(i,v)"
   ]
  },
  {
   "cell_type": "code",
   "execution_count": 42,
   "metadata": {},
   "outputs": [
    {
     "data": {
      "text/plain": [
       "array([[11, 12, 13, 14, 15],\n",
       "       [16, 17, 18, 19, 20],\n",
       "       [21, 22, 23, 24, 25],\n",
       "       [26, 27, 28, 29, 30]])"
      ]
     },
     "execution_count": 42,
     "metadata": {},
     "output_type": "execute_result"
    }
   ],
   "source": [
    "d"
   ]
  },
  {
   "cell_type": "code",
   "execution_count": 41,
   "metadata": {},
   "outputs": [
    {
     "name": "stdout",
     "output_type": "stream",
     "text": [
      "12 (0,)\n",
      "17 (1,)\n",
      "22 (2,)\n",
      "27 (3,)\n"
     ]
    }
   ],
   "source": [
    "for i,v in np.ndenumerate(d[:,1]):\n",
    "  print(v,i)"
   ]
  },
  {
   "cell_type": "code",
   "execution_count": 45,
   "metadata": {},
   "outputs": [
    {
     "name": "stdout",
     "output_type": "stream",
     "text": [
      "11 (0,)\n",
      "16 (1,)\n",
      "21 (2,)\n",
      "26 (3,)\n",
      "\n",
      "\n",
      "12 (0,)\n",
      "17 (1,)\n",
      "22 (2,)\n",
      "27 (3,)\n",
      "\n",
      "\n",
      "13 (0,)\n",
      "18 (1,)\n",
      "23 (2,)\n",
      "28 (3,)\n",
      "\n",
      "\n",
      "14 (0,)\n",
      "19 (1,)\n",
      "24 (2,)\n",
      "29 (3,)\n",
      "\n",
      "\n"
     ]
    }
   ],
   "source": [
    "for j in range(4):\n",
    "  for i,v in np.ndenumerate(d[:,j]):\n",
    "    print(v,i)\n",
    "  print('\\n')"
   ]
  },
  {
   "cell_type": "code",
   "execution_count": 47,
   "metadata": {},
   "outputs": [
    {
     "name": "stdout",
     "output_type": "stream",
     "text": [
      "(0, 0) 14\n",
      "(0, 1) 15\n",
      "(1, 0) 19\n",
      "(1, 1) 20\n",
      "(2, 0) 24\n",
      "(2, 1) 25\n",
      "(3, 0) 29\n",
      "(3, 1) 30\n"
     ]
    }
   ],
   "source": [
    "for i,v in np.ndenumerate(d[:,3:]): # diaplay element at index 3rd column upforward.\n",
    "  print(i,v)"
   ]
  },
  {
   "cell_type": "code",
   "execution_count": 49,
   "metadata": {},
   "outputs": [
    {
     "name": "stdout",
     "output_type": "stream",
     "text": [
      "11\n",
      "12\n",
      "13\n",
      "14\n",
      "15\n",
      "16\n",
      "17\n",
      "18\n",
      "19\n",
      "20\n",
      "21\n",
      "22\n",
      "23\n",
      "24\n",
      "25\n",
      "26\n",
      "27\n",
      "28\n",
      "29\n",
      "30\n"
     ]
    }
   ],
   "source": [
    "for i in d.flat: # display the element without bracket arrat styke,\n",
    "  print(i)"
   ]
  },
  {
   "cell_type": "code",
   "execution_count": 50,
   "metadata": {},
   "outputs": [
    {
     "data": {
      "text/plain": [
       "array([[[21, 22, 23, 24, 25],\n",
       "        [26, 27, 28, 29, 30]],\n",
       "\n",
       "       [[31, 32, 33, 34, 35],\n",
       "        [36, 37, 38, 39, 40]],\n",
       "\n",
       "       [[41, 42, 43, 44, 45],\n",
       "        [46, 47, 48, 49, 50]]])"
      ]
     },
     "execution_count": 50,
     "metadata": {},
     "output_type": "execute_result"
    }
   ],
   "source": [
    "e = np.arange(21,51).reshape(3,2,5)\n",
    "e"
   ]
  },
  {
   "cell_type": "code",
   "execution_count": 51,
   "metadata": {},
   "outputs": [
    {
     "data": {
      "text/plain": [
       "array([[31, 32, 33, 34, 35],\n",
       "       [36, 37, 38, 39, 40]])"
      ]
     },
     "execution_count": 51,
     "metadata": {},
     "output_type": "execute_result"
    }
   ],
   "source": [
    "e[1]"
   ]
  },
  {
   "cell_type": "code",
   "execution_count": 53,
   "metadata": {},
   "outputs": [
    {
     "data": {
      "text/plain": [
       "array([46, 47, 48, 49, 50])"
      ]
     },
     "execution_count": 53,
     "metadata": {},
     "output_type": "execute_result"
    }
   ],
   "source": [
    "e[2][1] # showing the 2nd matrix at 1st row."
   ]
  },
  {
   "cell_type": "code",
   "execution_count": 54,
   "metadata": {},
   "outputs": [
    {
     "data": {
      "text/plain": [
       "array([[21, 22, 23, 24, 25],\n",
       "       [26, 27, 28, 29, 30]])"
      ]
     },
     "execution_count": 54,
     "metadata": {},
     "output_type": "execute_result"
    }
   ],
   "source": [
    "e[0]"
   ]
  },
  {
   "attachments": {},
   "cell_type": "markdown",
   "metadata": {},
   "source": [
    "np.linspace() is a NumPy function that creates a one-dimensional evenly spaced array of a specified number of elements between a specified start and end point, inclusive of both endpoints.\n",
    "\n",
    "The function takes three arguments: start, stop, and num. start is the starting point of the sequence, stop is the ending point of the sequence, and num is the number of elements to be created in the sequence."
   ]
  },
  {
   "cell_type": "code",
   "execution_count": 56,
   "metadata": {},
   "outputs": [
    {
     "data": {
      "text/plain": [
       "array([ 1.        ,  1.2244898 ,  1.44897959,  1.67346939,  1.89795918,\n",
       "        2.12244898,  2.34693878,  2.57142857,  2.79591837,  3.02040816,\n",
       "        3.24489796,  3.46938776,  3.69387755,  3.91836735,  4.14285714,\n",
       "        4.36734694,  4.59183673,  4.81632653,  5.04081633,  5.26530612,\n",
       "        5.48979592,  5.71428571,  5.93877551,  6.16326531,  6.3877551 ,\n",
       "        6.6122449 ,  6.83673469,  7.06122449,  7.28571429,  7.51020408,\n",
       "        7.73469388,  7.95918367,  8.18367347,  8.40816327,  8.63265306,\n",
       "        8.85714286,  9.08163265,  9.30612245,  9.53061224,  9.75510204,\n",
       "        9.97959184, 10.20408163, 10.42857143, 10.65306122, 10.87755102,\n",
       "       11.10204082, 11.32653061, 11.55102041, 11.7755102 , 12.        ])"
      ]
     },
     "execution_count": 56,
     "metadata": {},
     "output_type": "execute_result"
    }
   ],
   "source": [
    "np.linspace(1,12)"
   ]
  },
  {
   "cell_type": "code",
   "execution_count": 58,
   "metadata": {},
   "outputs": [
    {
     "data": {
      "text/plain": [
       "array([ 1.  ,  3.75,  6.5 ,  9.25, 12.  ])"
      ]
     },
     "execution_count": 58,
     "metadata": {},
     "output_type": "execute_result"
    }
   ],
   "source": [
    "np.linspace(1,12,5) # 5 elements of startNum = 1 to endNum = 12"
   ]
  },
  {
   "cell_type": "code",
   "execution_count": 64,
   "metadata": {},
   "outputs": [
    {
     "data": {
      "text/plain": [
       "3.141592653589793"
      ]
     },
     "execution_count": 64,
     "metadata": {},
     "output_type": "execute_result"
    }
   ],
   "source": [
    "np.pi"
   ]
  },
  {
   "cell_type": "code",
   "execution_count": 66,
   "metadata": {},
   "outputs": [
    {
     "data": {
      "text/plain": [
       "array([0.        , 0.16110732, 0.32221463, 0.48332195, 0.64442926,\n",
       "       0.80553658, 0.96664389, 1.12775121, 1.28885852, 1.44996584,\n",
       "       1.61107316, 1.77218047, 1.93328779, 2.0943951 , 2.25550242,\n",
       "       2.41660973, 2.57771705, 2.73882436, 2.89993168, 3.061039  ,\n",
       "       3.22214631, 3.38325363, 3.54436094, 3.70546826, 3.86657557,\n",
       "       4.02768289, 4.1887902 , 4.34989752, 4.51100484, 4.67211215,\n",
       "       4.83321947, 4.99432678, 5.1554341 , 5.31654141, 5.47764873,\n",
       "       5.63875604, 5.79986336, 5.96097068, 6.12207799, 6.28318531])"
      ]
     },
     "execution_count": 66,
     "metadata": {},
     "output_type": "execute_result"
    }
   ],
   "source": [
    "x = np.linspace(0,2*np.pi,40)\n",
    "x"
   ]
  },
  {
   "cell_type": "code",
   "execution_count": 67,
   "metadata": {},
   "outputs": [
    {
     "data": {
      "text/plain": [
       "array([ 1.        ,  0.98705026,  0.94853644,  0.88545603,  0.79944276,\n",
       "        0.69272435,  0.56806475,  0.42869256,  0.27821746,  0.12053668,\n",
       "       -0.04026594, -0.20002569, -0.35460489, -0.5       , -0.63244538,\n",
       "       -0.74851075, -0.84519009, -0.91997944, -0.97094182, -0.99675731,\n",
       "       -0.99675731, -0.97094182, -0.91997944, -0.84519009, -0.74851075,\n",
       "       -0.63244538, -0.5       , -0.35460489, -0.20002569, -0.04026594,\n",
       "        0.12053668,  0.27821746,  0.42869256,  0.56806475,  0.69272435,\n",
       "        0.79944276,  0.88545603,  0.94853644,  0.98705026,  1.        ])"
      ]
     },
     "execution_count": 67,
     "metadata": {},
     "output_type": "execute_result"
    }
   ],
   "source": [
    "y = np.cos(x)\n",
    "y"
   ]
  },
  {
   "cell_type": "code",
   "execution_count": 69,
   "metadata": {},
   "outputs": [],
   "source": [
    "import matplotlib.pyplot as plt\n",
    "%matplotlib inline"
   ]
  },
  {
   "cell_type": "code",
   "execution_count": 70,
   "metadata": {},
   "outputs": [
    {
     "data": {
      "text/plain": [
       "[<matplotlib.lines.Line2D at 0x1f158d54100>]"
      ]
     },
     "execution_count": 70,
     "metadata": {},
     "output_type": "execute_result"
    },
    {
     "data": {
      "image/png": "[encoded data removed]",
      "text/plain": [
       "<Figure size 640x480 with 1 Axes>"
      ]
     },
     "metadata": {},
     "output_type": "display_data"
    }
   ],
   "source": [
    "plt.plot(x,y)"
   ]
  },
  {
   "cell_type": "code",
   "execution_count": 71,
   "metadata": {},
   "outputs": [
    {
     "data": {
      "text/plain": [
       "<matplotlib.collections.PathCollection at 0x1f15af999a0>"
      ]
     },
     "execution_count": 71,
     "metadata": {},
     "output_type": "execute_result"
    },
    {
     "data": {
      "image/png": "[encoded data removed]",
      "text/plain": [
       "<Figure size 640x480 with 1 Axes>"
      ]
     },
     "metadata": {},
     "output_type": "display_data"
    }
   ],
   "source": [
    "plt.scatter(x,y)"
   ]
  },
  {
   "cell_type": "code",
   "execution_count": 72,
   "metadata": {},
   "outputs": [
    {
     "data": {
      "text/plain": [
       "<matplotlib.collections.PathCollection at 0x1f158dff730>"
      ]
     },
     "execution_count": 72,
     "metadata": {},
     "output_type": "execute_result"
    },
    {
     "data": {
      "image/png": "[encoded data removed]",
      "text/plain": [
       "<Figure size 640x480 with 1 Axes>"
      ]
     },
     "metadata": {
      "image/png": {
       "height": 413,
       "width": 568
      }
     },
     "output_type": "display_data"
    }
   ],
   "source": [
    "%config InlineBackend.figure_format=\"retina\"\n",
    "plt.scatter(x,y)"
   ]
  },
  {
   "cell_type": "code",
   "execution_count": 73,
   "metadata": {},
   "outputs": [
    {
     "data": {
      "text/plain": [
       "[<matplotlib.lines.Line2D at 0x1f158e76c40>]"
      ]
     },
     "execution_count": 73,
     "metadata": {},
     "output_type": "execute_result"
    },
    {
     "data": {
      "image/png": "[encoded data removed]",
      "text/plain": [
       "<Figure size 640x480 with 1 Axes>"
      ]
     },
     "metadata": {
      "image/png": {
       "height": 413,
       "width": 552
      }
     },
     "output_type": "display_data"
    }
   ],
   "source": [
    "a,b,c = [4,3,-5]\n",
    "x = np.linspace(-15,15,60)\n",
    "y = a*x**2 + b*c\n",
    "plt.plot(x,y)"
   ]
  },
  {
   "attachments": {},
   "cell_type": "markdown",
   "metadata": {},
   "source": [
    "# The End"
   ]
  }
 ],
 "metadata": {
  "kernelspec": {
   "display_name": "Python 3",
   "language": "python",
   "name": "python3"
  },
  "language_info": {
   "codemirror_mode": {
    "name": "ipython",
    "version": 3
   },
   "file_extension": ".py",
   "mimetype": "text/x-python",
   "name": "python",
   "nbconvert_exporter": "python",
   "pygments_lexer": "ipython3",
   "version": "3.9.7"
  },
  "orig_nbformat": 4
 },
 "nbformat": 4,
 "nbformat_minor": 2
}
