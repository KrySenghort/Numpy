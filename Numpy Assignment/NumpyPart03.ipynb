{
 "cells": [
  {
   "attachments": {},
   "cell_type": "markdown",
   "metadata": {},
   "source": [
    "### Save file"
   ]
  },
  {
   "cell_type": "code",
   "execution_count": 1,
   "metadata": {},
   "outputs": [],
   "source": [
    "import numpy as np"
   ]
  },
  {
   "cell_type": "code",
   "execution_count": 2,
   "metadata": {},
   "outputs": [
    {
     "data": {
      "text/plain": [
       "array([  0,   1,   2,   3,   4,   5,   6,   7,   8,   9,  10,  11,  12,\n",
       "        13,  14,  15,  16,  17,  18,  19,  20,  21,  22,  23,  24,  25,\n",
       "        26,  27,  28,  29,  30,  31,  32,  33,  34,  35,  36,  37,  38,\n",
       "        39,  40,  41,  42,  43,  44,  45,  46,  47,  48,  49,  50,  51,\n",
       "        52,  53,  54,  55,  56,  57,  58,  59,  60,  61,  62,  63,  64,\n",
       "        65,  66,  67,  68,  69,  70,  71,  72,  73,  74,  75,  76,  77,\n",
       "        78,  79,  80,  81,  82,  83,  84,  85,  86,  87,  88,  89,  90,\n",
       "        91,  92,  93,  94,  95,  96,  97,  98,  99, 100, 101, 102, 103,\n",
       "       104, 105, 106, 107, 108, 109, 110, 111, 112, 113, 114, 115, 116,\n",
       "       117, 118, 119, 120, 121, 122, 123, 124, 125, 126, 127, 128, 129,\n",
       "       130, 131, 132, 133, 134, 135, 136, 137, 138, 139, 140, 141, 142,\n",
       "       143, 144, 145, 146, 147, 148, 149, 150, 151, 152, 153, 154, 155,\n",
       "       156, 157, 158, 159, 160, 161, 162, 163, 164, 165, 166, 167, 168,\n",
       "       169, 170, 171, 172, 173, 174, 175, 176, 177, 178, 179, 180, 181,\n",
       "       182, 183, 184, 185, 186, 187, 188, 189, 190, 191, 192, 193, 194,\n",
       "       195, 196, 197, 198, 199, 200])"
      ]
     },
     "execution_count": 2,
     "metadata": {},
     "output_type": "execute_result"
    }
   ],
   "source": [
    "cel = np.arange(0,201)\n",
    "cel"
   ]
  },
  {
   "cell_type": "code",
   "execution_count": 3,
   "metadata": {},
   "outputs": [
    {
     "data": {
      "text/plain": [
       "array([ 32. ,  33.8,  35.6,  37.4,  39.2,  41. ,  42.8,  44.6,  46.4,\n",
       "        48.2,  50. ,  51.8,  53.6,  55.4,  57.2,  59. ,  60.8,  62.6,\n",
       "        64.4,  66.2,  68. ,  69.8,  71.6,  73.4,  75.2,  77. ,  78.8,\n",
       "        80.6,  82.4,  84.2,  86. ,  87.8,  89.6,  91.4,  93.2,  95. ,\n",
       "        96.8,  98.6, 100.4, 102.2, 104. , 105.8, 107.6, 109.4, 111.2,\n",
       "       113. , 114.8, 116.6, 118.4, 120.2, 122. , 123.8, 125.6, 127.4,\n",
       "       129.2, 131. , 132.8, 134.6, 136.4, 138.2, 140. , 141.8, 143.6,\n",
       "       145.4, 147.2, 149. , 150.8, 152.6, 154.4, 156.2, 158. , 159.8,\n",
       "       161.6, 163.4, 165.2, 167. , 168.8, 170.6, 172.4, 174.2, 176. ,\n",
       "       177.8, 179.6, 181.4, 183.2, 185. , 186.8, 188.6, 190.4, 192.2,\n",
       "       194. , 195.8, 197.6, 199.4, 201.2, 203. , 204.8, 206.6, 208.4,\n",
       "       210.2, 212. , 213.8, 215.6, 217.4, 219.2, 221. , 222.8, 224.6,\n",
       "       226.4, 228.2, 230. , 231.8, 233.6, 235.4, 237.2, 239. , 240.8,\n",
       "       242.6, 244.4, 246.2, 248. , 249.8, 251.6, 253.4, 255.2, 257. ,\n",
       "       258.8, 260.6, 262.4, 264.2, 266. , 267.8, 269.6, 271.4, 273.2,\n",
       "       275. , 276.8, 278.6, 280.4, 282.2, 284. , 285.8, 287.6, 289.4,\n",
       "       291.2, 293. , 294.8, 296.6, 298.4, 300.2, 302. , 303.8, 305.6,\n",
       "       307.4, 309.2, 311. , 312.8, 314.6, 316.4, 318.2, 320. , 321.8,\n",
       "       323.6, 325.4, 327.2, 329. , 330.8, 332.6, 334.4, 336.2, 338. ,\n",
       "       339.8, 341.6, 343.4, 345.2, 347. , 348.8, 350.6, 352.4, 354.2,\n",
       "       356. , 357.8, 359.6, 361.4, 363.2, 365. , 366.8, 368.6, 370.4,\n",
       "       372.2, 374. , 375.8, 377.6, 379.4, 381.2, 383. , 384.8, 386.6,\n",
       "       388.4, 390.2, 392. ])"
      ]
     },
     "execution_count": 3,
     "metadata": {},
     "output_type": "execute_result"
    }
   ],
   "source": [
    "far = cel*1.8 + 32\n",
    "far"
   ]
  },
  {
   "cell_type": "code",
   "execution_count": 4,
   "metadata": {},
   "outputs": [
    {
     "data": {
      "text/plain": [
       "array([[  0. ,  32. ],\n",
       "       [  1. ,  33.8],\n",
       "       [  2. ,  35.6],\n",
       "       [  3. ,  37.4],\n",
       "       [  4. ,  39.2],\n",
       "       [  5. ,  41. ],\n",
       "       [  6. ,  42.8],\n",
       "       [  7. ,  44.6],\n",
       "       [  8. ,  46.4],\n",
       "       [  9. ,  48.2],\n",
       "       [ 10. ,  50. ],\n",
       "       [ 11. ,  51.8],\n",
       "       [ 12. ,  53.6],\n",
       "       [ 13. ,  55.4],\n",
       "       [ 14. ,  57.2],\n",
       "       [ 15. ,  59. ],\n",
       "       [ 16. ,  60.8],\n",
       "       [ 17. ,  62.6],\n",
       "       [ 18. ,  64.4],\n",
       "       [ 19. ,  66.2],\n",
       "       [ 20. ,  68. ],\n",
       "       [ 21. ,  69.8],\n",
       "       [ 22. ,  71.6],\n",
       "       [ 23. ,  73.4],\n",
       "       [ 24. ,  75.2],\n",
       "       [ 25. ,  77. ],\n",
       "       [ 26. ,  78.8],\n",
       "       [ 27. ,  80.6],\n",
       "       [ 28. ,  82.4],\n",
       "       [ 29. ,  84.2],\n",
       "       [ 30. ,  86. ],\n",
       "       [ 31. ,  87.8],\n",
       "       [ 32. ,  89.6],\n",
       "       [ 33. ,  91.4],\n",
       "       [ 34. ,  93.2],\n",
       "       [ 35. ,  95. ],\n",
       "       [ 36. ,  96.8],\n",
       "       [ 37. ,  98.6],\n",
       "       [ 38. , 100.4],\n",
       "       [ 39. , 102.2],\n",
       "       [ 40. , 104. ],\n",
       "       [ 41. , 105.8],\n",
       "       [ 42. , 107.6],\n",
       "       [ 43. , 109.4],\n",
       "       [ 44. , 111.2],\n",
       "       [ 45. , 113. ],\n",
       "       [ 46. , 114.8],\n",
       "       [ 47. , 116.6],\n",
       "       [ 48. , 118.4],\n",
       "       [ 49. , 120.2],\n",
       "       [ 50. , 122. ],\n",
       "       [ 51. , 123.8],\n",
       "       [ 52. , 125.6],\n",
       "       [ 53. , 127.4],\n",
       "       [ 54. , 129.2],\n",
       "       [ 55. , 131. ],\n",
       "       [ 56. , 132.8],\n",
       "       [ 57. , 134.6],\n",
       "       [ 58. , 136.4],\n",
       "       [ 59. , 138.2],\n",
       "       [ 60. , 140. ],\n",
       "       [ 61. , 141.8],\n",
       "       [ 62. , 143.6],\n",
       "       [ 63. , 145.4],\n",
       "       [ 64. , 147.2],\n",
       "       [ 65. , 149. ],\n",
       "       [ 66. , 150.8],\n",
       "       [ 67. , 152.6],\n",
       "       [ 68. , 154.4],\n",
       "       [ 69. , 156.2],\n",
       "       [ 70. , 158. ],\n",
       "       [ 71. , 159.8],\n",
       "       [ 72. , 161.6],\n",
       "       [ 73. , 163.4],\n",
       "       [ 74. , 165.2],\n",
       "       [ 75. , 167. ],\n",
       "       [ 76. , 168.8],\n",
       "       [ 77. , 170.6],\n",
       "       [ 78. , 172.4],\n",
       "       [ 79. , 174.2],\n",
       "       [ 80. , 176. ],\n",
       "       [ 81. , 177.8],\n",
       "       [ 82. , 179.6],\n",
       "       [ 83. , 181.4],\n",
       "       [ 84. , 183.2],\n",
       "       [ 85. , 185. ],\n",
       "       [ 86. , 186.8],\n",
       "       [ 87. , 188.6],\n",
       "       [ 88. , 190.4],\n",
       "       [ 89. , 192.2],\n",
       "       [ 90. , 194. ],\n",
       "       [ 91. , 195.8],\n",
       "       [ 92. , 197.6],\n",
       "       [ 93. , 199.4],\n",
       "       [ 94. , 201.2],\n",
       "       [ 95. , 203. ],\n",
       "       [ 96. , 204.8],\n",
       "       [ 97. , 206.6],\n",
       "       [ 98. , 208.4],\n",
       "       [ 99. , 210.2],\n",
       "       [100. , 212. ],\n",
       "       [101. , 213.8],\n",
       "       [102. , 215.6],\n",
       "       [103. , 217.4],\n",
       "       [104. , 219.2],\n",
       "       [105. , 221. ],\n",
       "       [106. , 222.8],\n",
       "       [107. , 224.6],\n",
       "       [108. , 226.4],\n",
       "       [109. , 228.2],\n",
       "       [110. , 230. ],\n",
       "       [111. , 231.8],\n",
       "       [112. , 233.6],\n",
       "       [113. , 235.4],\n",
       "       [114. , 237.2],\n",
       "       [115. , 239. ],\n",
       "       [116. , 240.8],\n",
       "       [117. , 242.6],\n",
       "       [118. , 244.4],\n",
       "       [119. , 246.2],\n",
       "       [120. , 248. ],\n",
       "       [121. , 249.8],\n",
       "       [122. , 251.6],\n",
       "       [123. , 253.4],\n",
       "       [124. , 255.2],\n",
       "       [125. , 257. ],\n",
       "       [126. , 258.8],\n",
       "       [127. , 260.6],\n",
       "       [128. , 262.4],\n",
       "       [129. , 264.2],\n",
       "       [130. , 266. ],\n",
       "       [131. , 267.8],\n",
       "       [132. , 269.6],\n",
       "       [133. , 271.4],\n",
       "       [134. , 273.2],\n",
       "       [135. , 275. ],\n",
       "       [136. , 276.8],\n",
       "       [137. , 278.6],\n",
       "       [138. , 280.4],\n",
       "       [139. , 282.2],\n",
       "       [140. , 284. ],\n",
       "       [141. , 285.8],\n",
       "       [142. , 287.6],\n",
       "       [143. , 289.4],\n",
       "       [144. , 291.2],\n",
       "       [145. , 293. ],\n",
       "       [146. , 294.8],\n",
       "       [147. , 296.6],\n",
       "       [148. , 298.4],\n",
       "       [149. , 300.2],\n",
       "       [150. , 302. ],\n",
       "       [151. , 303.8],\n",
       "       [152. , 305.6],\n",
       "       [153. , 307.4],\n",
       "       [154. , 309.2],\n",
       "       [155. , 311. ],\n",
       "       [156. , 312.8],\n",
       "       [157. , 314.6],\n",
       "       [158. , 316.4],\n",
       "       [159. , 318.2],\n",
       "       [160. , 320. ],\n",
       "       [161. , 321.8],\n",
       "       [162. , 323.6],\n",
       "       [163. , 325.4],\n",
       "       [164. , 327.2],\n",
       "       [165. , 329. ],\n",
       "       [166. , 330.8],\n",
       "       [167. , 332.6],\n",
       "       [168. , 334.4],\n",
       "       [169. , 336.2],\n",
       "       [170. , 338. ],\n",
       "       [171. , 339.8],\n",
       "       [172. , 341.6],\n",
       "       [173. , 343.4],\n",
       "       [174. , 345.2],\n",
       "       [175. , 347. ],\n",
       "       [176. , 348.8],\n",
       "       [177. , 350.6],\n",
       "       [178. , 352.4],\n",
       "       [179. , 354.2],\n",
       "       [180. , 356. ],\n",
       "       [181. , 357.8],\n",
       "       [182. , 359.6],\n",
       "       [183. , 361.4],\n",
       "       [184. , 363.2],\n",
       "       [185. , 365. ],\n",
       "       [186. , 366.8],\n",
       "       [187. , 368.6],\n",
       "       [188. , 370.4],\n",
       "       [189. , 372.2],\n",
       "       [190. , 374. ],\n",
       "       [191. , 375.8],\n",
       "       [192. , 377.6],\n",
       "       [193. , 379.4],\n",
       "       [194. , 381.2],\n",
       "       [195. , 383. ],\n",
       "       [196. , 384.8],\n",
       "       [197. , 386.6],\n",
       "       [198. , 388.4],\n",
       "       [199. , 390.2],\n",
       "       [200. , 392. ]])"
      ]
     },
     "execution_count": 4,
     "metadata": {},
     "output_type": "execute_result"
    }
   ],
   "source": [
    "t = np.stack((cel,far),axis=1)\n",
    "t"
   ]
  },
  {
   "cell_type": "code",
   "execution_count": 5,
   "metadata": {},
   "outputs": [],
   "source": [
    "np.savetxt('Data1.csv',t)"
   ]
  },
  {
   "cell_type": "code",
   "execution_count": 6,
   "metadata": {},
   "outputs": [],
   "source": [
    "np.savetxt('Data2.csv',t)"
   ]
  },
  {
   "cell_type": "code",
   "execution_count": 7,
   "metadata": {},
   "outputs": [],
   "source": [
    "np.savetxt('Data1.csv',t,delimiter=',',fmt='%.1f',header='Celcuis Vs Farenheit',encoding=None,newline='\\n',footer=',')\n",
    "np.savetxt('Data2.csv',t,delimiter=',',fmt='%.1f',header='Celcuis Vs Farenheit',encoding=None,newline='\\n',footer=',')"
   ]
  },
  {
   "cell_type": "code",
   "execution_count": 8,
   "metadata": {},
   "outputs": [
    {
     "data": {
      "text/plain": [
       "array([[  0. ,  32. ],\n",
       "       [  1. ,  33.8],\n",
       "       [  2. ,  35.6],\n",
       "       [  3. ,  37.4],\n",
       "       [  4. ,  39.2],\n",
       "       [  5. ,  41. ],\n",
       "       [  6. ,  42.8],\n",
       "       [  7. ,  44.6],\n",
       "       [  8. ,  46.4],\n",
       "       [  9. ,  48.2],\n",
       "       [ 10. ,  50. ],\n",
       "       [ 11. ,  51.8],\n",
       "       [ 12. ,  53.6],\n",
       "       [ 13. ,  55.4],\n",
       "       [ 14. ,  57.2],\n",
       "       [ 15. ,  59. ],\n",
       "       [ 16. ,  60.8],\n",
       "       [ 17. ,  62.6],\n",
       "       [ 18. ,  64.4],\n",
       "       [ 19. ,  66.2],\n",
       "       [ 20. ,  68. ],\n",
       "       [ 21. ,  69.8],\n",
       "       [ 22. ,  71.6],\n",
       "       [ 23. ,  73.4],\n",
       "       [ 24. ,  75.2],\n",
       "       [ 25. ,  77. ],\n",
       "       [ 26. ,  78.8],\n",
       "       [ 27. ,  80.6],\n",
       "       [ 28. ,  82.4],\n",
       "       [ 29. ,  84.2],\n",
       "       [ 30. ,  86. ],\n",
       "       [ 31. ,  87.8],\n",
       "       [ 32. ,  89.6],\n",
       "       [ 33. ,  91.4],\n",
       "       [ 34. ,  93.2],\n",
       "       [ 35. ,  95. ],\n",
       "       [ 36. ,  96.8],\n",
       "       [ 37. ,  98.6],\n",
       "       [ 38. , 100.4],\n",
       "       [ 39. , 102.2],\n",
       "       [ 40. , 104. ],\n",
       "       [ 41. , 105.8],\n",
       "       [ 42. , 107.6],\n",
       "       [ 43. , 109.4],\n",
       "       [ 44. , 111.2],\n",
       "       [ 45. , 113. ],\n",
       "       [ 46. , 114.8],\n",
       "       [ 47. , 116.6],\n",
       "       [ 48. , 118.4],\n",
       "       [ 49. , 120.2],\n",
       "       [ 50. , 122. ],\n",
       "       [ 51. , 123.8],\n",
       "       [ 52. , 125.6],\n",
       "       [ 53. , 127.4],\n",
       "       [ 54. , 129.2],\n",
       "       [ 55. , 131. ],\n",
       "       [ 56. , 132.8],\n",
       "       [ 57. , 134.6],\n",
       "       [ 58. , 136.4],\n",
       "       [ 59. , 138.2],\n",
       "       [ 60. , 140. ],\n",
       "       [ 61. , 141.8],\n",
       "       [ 62. , 143.6],\n",
       "       [ 63. , 145.4],\n",
       "       [ 64. , 147.2],\n",
       "       [ 65. , 149. ],\n",
       "       [ 66. , 150.8],\n",
       "       [ 67. , 152.6],\n",
       "       [ 68. , 154.4],\n",
       "       [ 69. , 156.2],\n",
       "       [ 70. , 158. ],\n",
       "       [ 71. , 159.8],\n",
       "       [ 72. , 161.6],\n",
       "       [ 73. , 163.4],\n",
       "       [ 74. , 165.2],\n",
       "       [ 75. , 167. ],\n",
       "       [ 76. , 168.8],\n",
       "       [ 77. , 170.6],\n",
       "       [ 78. , 172.4],\n",
       "       [ 79. , 174.2],\n",
       "       [ 80. , 176. ],\n",
       "       [ 81. , 177.8],\n",
       "       [ 82. , 179.6],\n",
       "       [ 83. , 181.4],\n",
       "       [ 84. , 183.2],\n",
       "       [ 85. , 185. ],\n",
       "       [ 86. , 186.8],\n",
       "       [ 87. , 188.6],\n",
       "       [ 88. , 190.4],\n",
       "       [ 89. , 192.2],\n",
       "       [ 90. , 194. ],\n",
       "       [ 91. , 195.8],\n",
       "       [ 92. , 197.6],\n",
       "       [ 93. , 199.4],\n",
       "       [ 94. , 201.2],\n",
       "       [ 95. , 203. ],\n",
       "       [ 96. , 204.8],\n",
       "       [ 97. , 206.6],\n",
       "       [ 98. , 208.4],\n",
       "       [ 99. , 210.2],\n",
       "       [100. , 212. ],\n",
       "       [101. , 213.8],\n",
       "       [102. , 215.6],\n",
       "       [103. , 217.4],\n",
       "       [104. , 219.2],\n",
       "       [105. , 221. ],\n",
       "       [106. , 222.8],\n",
       "       [107. , 224.6],\n",
       "       [108. , 226.4],\n",
       "       [109. , 228.2],\n",
       "       [110. , 230. ],\n",
       "       [111. , 231.8],\n",
       "       [112. , 233.6],\n",
       "       [113. , 235.4],\n",
       "       [114. , 237.2],\n",
       "       [115. , 239. ],\n",
       "       [116. , 240.8],\n",
       "       [117. , 242.6],\n",
       "       [118. , 244.4],\n",
       "       [119. , 246.2],\n",
       "       [120. , 248. ],\n",
       "       [121. , 249.8],\n",
       "       [122. , 251.6],\n",
       "       [123. , 253.4],\n",
       "       [124. , 255.2],\n",
       "       [125. , 257. ],\n",
       "       [126. , 258.8],\n",
       "       [127. , 260.6],\n",
       "       [128. , 262.4],\n",
       "       [129. , 264.2],\n",
       "       [130. , 266. ],\n",
       "       [131. , 267.8],\n",
       "       [132. , 269.6],\n",
       "       [133. , 271.4],\n",
       "       [134. , 273.2],\n",
       "       [135. , 275. ],\n",
       "       [136. , 276.8],\n",
       "       [137. , 278.6],\n",
       "       [138. , 280.4],\n",
       "       [139. , 282.2],\n",
       "       [140. , 284. ],\n",
       "       [141. , 285.8],\n",
       "       [142. , 287.6],\n",
       "       [143. , 289.4],\n",
       "       [144. , 291.2],\n",
       "       [145. , 293. ],\n",
       "       [146. , 294.8],\n",
       "       [147. , 296.6],\n",
       "       [148. , 298.4],\n",
       "       [149. , 300.2],\n",
       "       [150. , 302. ],\n",
       "       [151. , 303.8],\n",
       "       [152. , 305.6],\n",
       "       [153. , 307.4],\n",
       "       [154. , 309.2],\n",
       "       [155. , 311. ],\n",
       "       [156. , 312.8],\n",
       "       [157. , 314.6],\n",
       "       [158. , 316.4],\n",
       "       [159. , 318.2],\n",
       "       [160. , 320. ],\n",
       "       [161. , 321.8],\n",
       "       [162. , 323.6],\n",
       "       [163. , 325.4],\n",
       "       [164. , 327.2],\n",
       "       [165. , 329. ],\n",
       "       [166. , 330.8],\n",
       "       [167. , 332.6],\n",
       "       [168. , 334.4],\n",
       "       [169. , 336.2],\n",
       "       [170. , 338. ],\n",
       "       [171. , 339.8],\n",
       "       [172. , 341.6],\n",
       "       [173. , 343.4],\n",
       "       [174. , 345.2],\n",
       "       [175. , 347. ],\n",
       "       [176. , 348.8],\n",
       "       [177. , 350.6],\n",
       "       [178. , 352.4],\n",
       "       [179. , 354.2],\n",
       "       [180. , 356. ],\n",
       "       [181. , 357.8],\n",
       "       [182. , 359.6],\n",
       "       [183. , 361.4],\n",
       "       [184. , 363.2],\n",
       "       [185. , 365. ],\n",
       "       [186. , 366.8],\n",
       "       [187. , 368.6],\n",
       "       [188. , 370.4],\n",
       "       [189. , 372.2],\n",
       "       [190. , 374. ],\n",
       "       [191. , 375.8],\n",
       "       [192. , 377.6],\n",
       "       [193. , 379.4],\n",
       "       [194. , 381.2],\n",
       "       [195. , 383. ],\n",
       "       [196. , 384.8],\n",
       "       [197. , 386.6],\n",
       "       [198. , 388.4],\n",
       "       [199. , 390.2],\n",
       "       [200. , 392. ]])"
      ]
     },
     "execution_count": 8,
     "metadata": {},
     "output_type": "execute_result"
    }
   ],
   "source": [
    "r1 = np.loadtxt('Data1.csv',delimiter=',')\n",
    "r1"
   ]
  },
  {
   "cell_type": "code",
   "execution_count": 9,
   "metadata": {},
   "outputs": [
    {
     "data": {
      "text/plain": [
       "array([[  0. ,  32. ],\n",
       "       [  1. ,  33.8],\n",
       "       [  2. ,  35.6],\n",
       "       [  3. ,  37.4],\n",
       "       [  4. ,  39.2],\n",
       "       [  5. ,  41. ],\n",
       "       [  6. ,  42.8],\n",
       "       [  7. ,  44.6],\n",
       "       [  8. ,  46.4],\n",
       "       [  9. ,  48.2],\n",
       "       [ 10. ,  50. ],\n",
       "       [ 11. ,  51.8],\n",
       "       [ 12. ,  53.6],\n",
       "       [ 13. ,  55.4],\n",
       "       [ 14. ,  57.2],\n",
       "       [ 15. ,  59. ],\n",
       "       [ 16. ,  60.8],\n",
       "       [ 17. ,  62.6],\n",
       "       [ 18. ,  64.4],\n",
       "       [ 19. ,  66.2],\n",
       "       [ 20. ,  68. ],\n",
       "       [ 21. ,  69.8],\n",
       "       [ 22. ,  71.6],\n",
       "       [ 23. ,  73.4],\n",
       "       [ 24. ,  75.2],\n",
       "       [ 25. ,  77. ],\n",
       "       [ 26. ,  78.8],\n",
       "       [ 27. ,  80.6],\n",
       "       [ 28. ,  82.4],\n",
       "       [ 29. ,  84.2],\n",
       "       [ 30. ,  86. ],\n",
       "       [ 31. ,  87.8],\n",
       "       [ 32. ,  89.6],\n",
       "       [ 33. ,  91.4],\n",
       "       [ 34. ,  93.2],\n",
       "       [ 35. ,  95. ],\n",
       "       [ 36. ,  96.8],\n",
       "       [ 37. ,  98.6],\n",
       "       [ 38. , 100.4],\n",
       "       [ 39. , 102.2],\n",
       "       [ 40. , 104. ],\n",
       "       [ 41. , 105.8],\n",
       "       [ 42. , 107.6],\n",
       "       [ 43. , 109.4],\n",
       "       [ 44. , 111.2],\n",
       "       [ 45. , 113. ],\n",
       "       [ 46. , 114.8],\n",
       "       [ 47. , 116.6],\n",
       "       [ 48. , 118.4],\n",
       "       [ 49. , 120.2],\n",
       "       [ 50. , 122. ],\n",
       "       [ 51. , 123.8],\n",
       "       [ 52. , 125.6],\n",
       "       [ 53. , 127.4],\n",
       "       [ 54. , 129.2],\n",
       "       [ 55. , 131. ],\n",
       "       [ 56. , 132.8],\n",
       "       [ 57. , 134.6],\n",
       "       [ 58. , 136.4],\n",
       "       [ 59. , 138.2],\n",
       "       [ 60. , 140. ],\n",
       "       [ 61. , 141.8],\n",
       "       [ 62. , 143.6],\n",
       "       [ 63. , 145.4],\n",
       "       [ 64. , 147.2],\n",
       "       [ 65. , 149. ],\n",
       "       [ 66. , 150.8],\n",
       "       [ 67. , 152.6],\n",
       "       [ 68. , 154.4],\n",
       "       [ 69. , 156.2],\n",
       "       [ 70. , 158. ],\n",
       "       [ 71. , 159.8],\n",
       "       [ 72. , 161.6],\n",
       "       [ 73. , 163.4],\n",
       "       [ 74. , 165.2],\n",
       "       [ 75. , 167. ],\n",
       "       [ 76. , 168.8],\n",
       "       [ 77. , 170.6],\n",
       "       [ 78. , 172.4],\n",
       "       [ 79. , 174.2],\n",
       "       [ 80. , 176. ],\n",
       "       [ 81. , 177.8],\n",
       "       [ 82. , 179.6],\n",
       "       [ 83. , 181.4],\n",
       "       [ 84. , 183.2],\n",
       "       [ 85. , 185. ],\n",
       "       [ 86. , 186.8],\n",
       "       [ 87. , 188.6],\n",
       "       [ 88. , 190.4],\n",
       "       [ 89. , 192.2],\n",
       "       [ 90. , 194. ],\n",
       "       [ 91. , 195.8],\n",
       "       [ 92. , 197.6],\n",
       "       [ 93. , 199.4],\n",
       "       [ 94. , 201.2],\n",
       "       [ 95. , 203. ],\n",
       "       [ 96. , 204.8],\n",
       "       [ 97. , 206.6],\n",
       "       [ 98. , 208.4],\n",
       "       [ 99. , 210.2],\n",
       "       [100. , 212. ],\n",
       "       [101. , 213.8],\n",
       "       [102. , 215.6],\n",
       "       [103. , 217.4],\n",
       "       [104. , 219.2],\n",
       "       [105. , 221. ],\n",
       "       [106. , 222.8],\n",
       "       [107. , 224.6],\n",
       "       [108. , 226.4],\n",
       "       [109. , 228.2],\n",
       "       [110. , 230. ],\n",
       "       [111. , 231.8],\n",
       "       [112. , 233.6],\n",
       "       [113. , 235.4],\n",
       "       [114. , 237.2],\n",
       "       [115. , 239. ],\n",
       "       [116. , 240.8],\n",
       "       [117. , 242.6],\n",
       "       [118. , 244.4],\n",
       "       [119. , 246.2],\n",
       "       [120. , 248. ],\n",
       "       [121. , 249.8],\n",
       "       [122. , 251.6],\n",
       "       [123. , 253.4],\n",
       "       [124. , 255.2],\n",
       "       [125. , 257. ],\n",
       "       [126. , 258.8],\n",
       "       [127. , 260.6],\n",
       "       [128. , 262.4],\n",
       "       [129. , 264.2],\n",
       "       [130. , 266. ],\n",
       "       [131. , 267.8],\n",
       "       [132. , 269.6],\n",
       "       [133. , 271.4],\n",
       "       [134. , 273.2],\n",
       "       [135. , 275. ],\n",
       "       [136. , 276.8],\n",
       "       [137. , 278.6],\n",
       "       [138. , 280.4],\n",
       "       [139. , 282.2],\n",
       "       [140. , 284. ],\n",
       "       [141. , 285.8],\n",
       "       [142. , 287.6],\n",
       "       [143. , 289.4],\n",
       "       [144. , 291.2],\n",
       "       [145. , 293. ],\n",
       "       [146. , 294.8],\n",
       "       [147. , 296.6],\n",
       "       [148. , 298.4],\n",
       "       [149. , 300.2],\n",
       "       [150. , 302. ],\n",
       "       [151. , 303.8],\n",
       "       [152. , 305.6],\n",
       "       [153. , 307.4],\n",
       "       [154. , 309.2],\n",
       "       [155. , 311. ],\n",
       "       [156. , 312.8],\n",
       "       [157. , 314.6],\n",
       "       [158. , 316.4],\n",
       "       [159. , 318.2],\n",
       "       [160. , 320. ],\n",
       "       [161. , 321.8],\n",
       "       [162. , 323.6],\n",
       "       [163. , 325.4],\n",
       "       [164. , 327.2],\n",
       "       [165. , 329. ],\n",
       "       [166. , 330.8],\n",
       "       [167. , 332.6],\n",
       "       [168. , 334.4],\n",
       "       [169. , 336.2],\n",
       "       [170. , 338. ],\n",
       "       [171. , 339.8],\n",
       "       [172. , 341.6],\n",
       "       [173. , 343.4],\n",
       "       [174. , 345.2],\n",
       "       [175. , 347. ],\n",
       "       [176. , 348.8],\n",
       "       [177. , 350.6],\n",
       "       [178. , 352.4],\n",
       "       [179. , 354.2],\n",
       "       [180. , 356. ],\n",
       "       [181. , 357.8],\n",
       "       [182. , 359.6],\n",
       "       [183. , 361.4],\n",
       "       [184. , 363.2],\n",
       "       [185. , 365. ],\n",
       "       [186. , 366.8],\n",
       "       [187. , 368.6],\n",
       "       [188. , 370.4],\n",
       "       [189. , 372.2],\n",
       "       [190. , 374. ],\n",
       "       [191. , 375.8],\n",
       "       [192. , 377.6],\n",
       "       [193. , 379.4],\n",
       "       [194. , 381.2],\n",
       "       [195. , 383. ],\n",
       "       [196. , 384.8],\n",
       "       [197. , 386.6],\n",
       "       [198. , 388.4],\n",
       "       [199. , 390.2],\n",
       "       [200. , 392. ]])"
      ]
     },
     "execution_count": 9,
     "metadata": {},
     "output_type": "execute_result"
    }
   ],
   "source": [
    "r2 = np.loadtxt('Data2.csv',delimiter=',',skiprows=1)\n",
    "r2"
   ]
  },
  {
   "attachments": {},
   "cell_type": "markdown",
   "metadata": {},
   "source": [
    "#### Random Distribution"
   ]
  },
  {
   "cell_type": "code",
   "execution_count": 10,
   "metadata": {},
   "outputs": [
    {
     "data": {
      "text/plain": [
       "0.9415550281762207"
      ]
     },
     "execution_count": 10,
     "metadata": {},
     "output_type": "execute_result"
    }
   ],
   "source": [
    "np.random.rand() # random on the interval[0,1]"
   ]
  },
  {
   "cell_type": "code",
   "execution_count": 11,
   "metadata": {},
   "outputs": [
    {
     "data": {
      "text/plain": [
       "array([0.67959646, 0.78134376, 0.57871572, 0.73410435, 0.06306029,\n",
       "       0.15107599, 0.45065649, 0.18674898, 0.7685507 , 0.45481961])"
      ]
     },
     "execution_count": 11,
     "metadata": {},
     "output_type": "execute_result"
    }
   ],
   "source": [
    "np.random.rand(10) # random on the interval[0,1] displaying 10 values "
   ]
  },
  {
   "cell_type": "code",
   "execution_count": 12,
   "metadata": {},
   "outputs": [
    {
     "data": {
      "text/plain": [
       "array([[0.11410657, 0.54211808, 0.73856417, 0.35372282],\n",
       "       [0.09141424, 0.54958653, 0.79757304, 0.91403746],\n",
       "       [0.83731692, 0.30525611, 0.33466897, 0.21470909],\n",
       "       [0.7317709 , 0.45323371, 0.86008044, 0.84522656],\n",
       "       [0.36623157, 0.42265123, 0.00585465, 0.22823178]])"
      ]
     },
     "execution_count": 12,
     "metadata": {},
     "output_type": "execute_result"
    }
   ],
   "source": [
    "np.random.rand(5,4) # 5 rows and 4 columns randoming from 0 to 1"
   ]
  },
  {
   "cell_type": "code",
   "execution_count": 13,
   "metadata": {},
   "outputs": [],
   "source": [
    "import matplotlib.pyplot as plt\n",
    "%matplotlib inline\n",
    "%config InlineBackend.figure_format = 'retina'"
   ]
  },
  {
   "cell_type": "code",
   "execution_count": 14,
   "metadata": {},
   "outputs": [
    {
     "data": {
      "text/plain": [
       "(array([109., 100., 101.,  98.,  93.,  93.,  92.,  98., 113., 103.]),\n",
       " array([5.69957042e-04, 1.00506292e-01, 2.00442627e-01, 3.00378962e-01,\n",
       "        4.00315297e-01, 5.00251631e-01, 6.00187966e-01, 7.00124301e-01,\n",
       "        8.00060636e-01, 8.99996971e-01, 9.99933306e-01]),\n",
       " <BarContainer object of 10 artists>)"
      ]
     },
     "execution_count": 14,
     "metadata": {},
     "output_type": "execute_result"
    },
    {
     "data": {
      "image/png": "[encoded data removed]",
      "text/plain": [
       "<Figure size 640x480 with 1 Axes>"
      ]
     },
     "metadata": {
      "image/png": {
       "height": 413,
       "width": 552
      }
     },
     "output_type": "display_data"
    }
   ],
   "source": [
    "plt.hist(np.random.rand(1000))"
   ]
  },
  {
   "cell_type": "code",
   "execution_count": 15,
   "metadata": {},
   "outputs": [
    {
     "data": {
      "text/plain": [
       "5"
      ]
     },
     "execution_count": 15,
     "metadata": {},
     "output_type": "execute_result"
    }
   ],
   "source": [
    "np.random.randint(1,7)"
   ]
  },
  {
   "cell_type": "code",
   "execution_count": 16,
   "metadata": {},
   "outputs": [
    {
     "data": {
      "text/plain": [
       "array([1, 6, 5, 4, 4, 2, 1, 3, 1, 4, 2, 1, 4, 5, 1, 1, 5, 3, 3, 3, 4, 4,\n",
       "       3, 2, 6, 2, 5, 6, 2, 1, 6, 3, 2, 5, 1, 4, 3, 6, 5, 2, 1, 4, 4, 5,\n",
       "       2, 1, 3, 6, 6, 3, 4, 3, 3, 6, 2, 3, 5, 6, 6, 5, 2, 2, 5, 2, 1, 3,\n",
       "       4, 4, 2, 1, 2, 4, 5, 3, 6, 1, 5, 1, 4, 2, 3, 4, 3, 6, 2, 2, 6, 4,\n",
       "       2, 3, 6, 4, 6, 1, 6, 6, 6, 6, 3, 6])"
      ]
     },
     "execution_count": 16,
     "metadata": {},
     "output_type": "execute_result"
    }
   ],
   "source": [
    "np.random.randint(1,7,100) # random number on interval [1,7] displaying 100 elements"
   ]
  },
  {
   "cell_type": "code",
   "execution_count": 17,
   "metadata": {},
   "outputs": [
    {
     "data": {
      "text/plain": [
       "(array([ 3.,  5.,  5., 17., 29., 18., 14.,  6.,  2.,  1.]),\n",
       " array([162.3207919 , 164.00823066, 165.69566943, 167.3831082 ,\n",
       "        169.07054696, 170.75798573, 172.4454245 , 174.13286327,\n",
       "        175.82030203, 177.5077408 , 179.19517957]),\n",
       " <BarContainer object of 10 artists>)"
      ]
     },
     "execution_count": 17,
     "metadata": {},
     "output_type": "execute_result"
    },
    {
     "data": {
      "image/png": "[encoded data removed]",
      "text/plain": [
       "<Figure size 640x480 with 1 Axes>"
      ]
     },
     "metadata": {
      "image/png": {
       "height": 413,
       "width": 562
      }
     },
     "output_type": "display_data"
    }
   ],
   "source": [
    "plt.hist(np.random.normal(170,3,100))"
   ]
  },
  {
   "cell_type": "code",
   "execution_count": 21,
   "metadata": {},
   "outputs": [
    {
     "data": {
      "text/plain": [
       "array([168.90033265, 169.73075552, 168.31541412, 167.93241065,\n",
       "       167.37802133, 168.58052562, 171.11235953, 169.7879465 ,\n",
       "       165.64843894, 173.5676504 , 172.01750348, 168.51780644,\n",
       "       167.12412599, 175.06149478, 170.01733366, 169.60499357,\n",
       "       173.58923426, 167.53875624, 172.11945946, 170.27425997,\n",
       "       168.33916176, 169.02352103, 172.9038419 , 170.06307728,\n",
       "       168.92722028, 174.74331634, 172.63279813, 176.62292654,\n",
       "       173.27245663, 171.01245912, 172.3449355 , 172.23251211,\n",
       "       166.98487787, 169.3761049 , 169.3107573 , 166.16395583,\n",
       "       167.67951352, 175.59736486, 168.70951787, 170.53027929,\n",
       "       163.78951363, 170.85447962, 171.97306503, 173.58671832,\n",
       "       172.82763955, 172.26521318, 171.31129355, 172.01917716,\n",
       "       166.43632927, 172.14484045, 168.8380913 , 169.46051036,\n",
       "       171.9104367 , 173.71477553, 170.60201164, 171.94305171,\n",
       "       172.17524952, 167.80526522, 169.02293404, 170.13367556,\n",
       "       166.54954745, 167.82870031, 171.84243337, 167.5675163 ,\n",
       "       171.43685693, 169.73745441, 170.99683255, 169.88855933,\n",
       "       172.89686893, 169.19520232, 169.49296572, 173.05825589,\n",
       "       174.02332634, 169.89072321, 165.69768824, 170.80889479,\n",
       "       172.42337455, 171.44769757, 170.18979713, 169.88778933,\n",
       "       172.30706765, 174.50698203, 170.22717635, 168.45086572,\n",
       "       169.7431664 , 169.06574775, 171.71293297, 168.92684985,\n",
       "       169.49367527, 171.16102676, 167.91123619, 168.52635606,\n",
       "       169.41427755, 168.304755  , 169.78191289, 170.65131156,\n",
       "       168.3646851 , 170.6147194 , 166.93837451, 173.33525916,\n",
       "       166.62079885, 167.21113301, 169.09368611, 165.81384918,\n",
       "       175.76011653, 169.75576573, 169.82321682, 166.32453365,\n",
       "       167.2551756 , 171.20200217, 170.18997205, 169.30133774,\n",
       "       172.74803045, 164.42202648, 170.42970417, 172.99509113,\n",
       "       168.27200499, 164.80479724, 165.5732553 , 172.22563331,\n",
       "       167.51102793, 171.29398093, 173.73994825, 175.26226786,\n",
       "       168.20382521, 174.88607312, 166.99686758, 172.7099877 ,\n",
       "       171.50448007, 173.53230855, 171.91808529, 175.36013366,\n",
       "       169.89862184, 168.31045998, 170.37285959, 171.9674821 ,\n",
       "       172.06062399, 170.85426697, 169.79604945, 169.34820514,\n",
       "       164.40229974, 170.72359933, 173.8574074 , 163.37914145,\n",
       "       169.10299407, 169.44330151, 170.04559344, 168.29810123,\n",
       "       173.0208802 , 175.08536351, 167.77935651, 169.84606227,\n",
       "       166.35553443, 168.45136913, 161.68374576, 171.00512042,\n",
       "       172.40250012, 168.25338588, 169.07181752, 172.01688177,\n",
       "       173.24255599, 164.04861808, 173.63035275, 169.33502862,\n",
       "       165.92403136, 166.53673447, 172.81956905, 172.47805039,\n",
       "       168.16719397, 170.88862559, 173.49935547, 169.00313579,\n",
       "       164.96551393, 170.67055046, 169.07851018, 169.24441204,\n",
       "       170.67896326, 172.2320703 , 170.05145086, 172.57612154,\n",
       "       173.2731949 , 168.14561769, 166.99049402, 168.08144897,\n",
       "       172.51552921, 170.69396118, 168.36293594, 172.22165879,\n",
       "       166.84012521, 170.10231692, 166.5354007 , 172.41615704,\n",
       "       167.26443468, 166.92075876, 171.00865705, 169.41722466,\n",
       "       170.96431906, 174.55833129, 175.57955457, 172.87467343,\n",
       "       166.91620072, 165.52111821, 168.77703918, 169.82567964,\n",
       "       175.06505473, 168.8795081 , 172.95799198, 169.61125542,\n",
       "       168.65716196, 164.55217886, 176.17020865, 170.37374742,\n",
       "       170.82891007, 174.35384922, 168.21280082, 170.67546719,\n",
       "       169.12467922, 165.42438544, 167.49915733, 167.48833582,\n",
       "       164.1558828 , 177.80360195, 171.50842405, 175.67187159,\n",
       "       170.25074772, 170.50828778, 166.95461314, 169.80106957,\n",
       "       171.33027376, 174.36501143, 170.88328946, 167.41683831,\n",
       "       172.11061613, 171.18020275, 173.11176949, 171.42109207,\n",
       "       170.27682477, 167.72042618, 168.41690513, 171.25354473,\n",
       "       174.20924589, 170.63560553, 173.63436855, 170.58711734,\n",
       "       165.70261367, 165.35920219, 169.57922617, 173.18746881,\n",
       "       166.61728194, 169.3506101 , 169.02766619, 170.36805308,\n",
       "       171.12920937, 170.96755315, 173.45500763, 169.02204945,\n",
       "       167.44160189, 170.77382044, 171.34935584, 169.09639122,\n",
       "       170.54338915, 169.01040296, 173.79354614, 172.33725886,\n",
       "       163.76487388, 169.49446805, 173.53125036, 172.67904103,\n",
       "       173.69407958, 169.49901531, 169.77779696, 167.80919158,\n",
       "       166.91994879, 177.38941685, 169.81592263, 173.97953664,\n",
       "       170.25272085, 172.55301631, 173.26024652, 166.75737023,\n",
       "       168.71324875, 166.69202128, 170.5435461 , 178.26842001,\n",
       "       166.83631088, 169.36654361, 171.13885143, 166.66219521,\n",
       "       163.03902315, 171.64748462, 171.59436485, 175.50647581,\n",
       "       170.06561939, 174.6327097 , 176.09225503, 168.68814783,\n",
       "       165.73174439, 169.39083493, 171.06053153, 173.02177987,\n",
       "       171.59369902, 173.03053328, 172.18327445, 172.4765097 ,\n",
       "       170.58707782, 170.97566938, 168.43959598, 168.88650648,\n",
       "       164.67954802, 168.64072015, 168.87213246, 167.80007652,\n",
       "       170.19344722, 168.70650969, 170.613181  , 169.77017801,\n",
       "       167.60770501, 168.69475209, 175.01861184, 168.65626035,\n",
       "       173.17083854, 173.89987625, 170.97257015, 174.92258197,\n",
       "       167.53062798, 165.61294594, 168.25152333, 169.66048256,\n",
       "       167.70735421, 172.19163604, 168.00491655, 168.51876007,\n",
       "       172.79848228, 170.07860787, 172.83852573, 169.15558987,\n",
       "       172.65164058, 165.69339159, 173.14238918, 165.37208323,\n",
       "       168.89812339, 169.50075589, 168.39061367, 173.26178735,\n",
       "       167.37957974, 175.29824134, 169.67382456, 172.53616726,\n",
       "       171.92256166, 169.94889543, 171.63776377, 169.51769667,\n",
       "       170.71317828, 172.04033345, 170.62491595, 166.08105769,\n",
       "       171.51384262, 169.87754356, 166.54997225, 167.54798142,\n",
       "       167.71256323, 163.65902137, 165.50924466, 168.5629134 ,\n",
       "       167.34982818, 169.82686348, 174.44834   , 173.70561857,\n",
       "       172.16299246, 173.33536496, 172.38315997, 166.79889118,\n",
       "       170.77197967, 172.00909349, 166.49300076, 167.04075645,\n",
       "       168.79465308, 164.438715  , 168.46277414, 167.63066725,\n",
       "       166.33074907, 172.6162593 , 172.29977652, 169.64621909,\n",
       "       175.83070582, 169.89679295, 174.06702557, 170.32087204,\n",
       "       174.5958545 , 168.62203014, 169.6988747 , 173.03064647,\n",
       "       172.06844751, 171.31596777, 169.97640876, 178.59066378,\n",
       "       164.86309389, 173.49333526, 170.82193002, 173.86976959,\n",
       "       171.38842858, 169.04522836, 167.50185835, 166.73044905,\n",
       "       168.67648121, 175.86808065, 170.09436233, 170.02018738,\n",
       "       171.00106432, 168.54885792, 168.15970239, 165.66496528,\n",
       "       169.13265984, 170.47879702, 163.53279436, 167.43047405,\n",
       "       167.19714343, 168.09302168, 169.37970343, 163.95275821,\n",
       "       167.84777627, 165.63211747, 165.75731316, 171.86222231,\n",
       "       173.21489169, 173.66695497, 170.24529465, 171.85765638,\n",
       "       172.5409773 , 166.62617564, 167.73925223, 168.54565415,\n",
       "       170.74993301, 168.62855622, 173.13085445, 170.01740868,\n",
       "       172.24745747, 170.97493435, 169.49819709, 170.84009431,\n",
       "       173.076875  , 166.81544294, 170.62954838, 167.30741167,\n",
       "       174.98881982, 168.36690576, 167.99816058, 168.26187542,\n",
       "       168.74512119, 171.43408102, 168.18048366, 170.46897722,\n",
       "       171.05443122, 167.58457459, 170.98845146, 174.73984482,\n",
       "       175.10624246, 168.53389145, 167.98718183, 165.05164023,\n",
       "       173.09573919, 170.04417673, 167.385531  , 168.85326972,\n",
       "       169.47232902, 170.60899465, 175.20115956, 168.16727051,\n",
       "       168.51820498, 165.81995631, 166.50824996, 170.46299197,\n",
       "       169.76507964, 173.48381316, 171.88783641, 168.97528965,\n",
       "       166.9994085 , 169.61763197, 169.84004165, 171.3641701 ,\n",
       "       172.27466494, 171.20894245, 170.03601216, 167.8742357 ,\n",
       "       168.66539071, 167.15881198, 175.25068089, 171.65226803,\n",
       "       175.10520606, 170.95741393, 167.73289481, 167.75392237,\n",
       "       169.08829771, 166.27745732, 169.51567327, 164.80864582,\n",
       "       167.73335083, 180.81917276, 164.61540112, 169.4880596 ,\n",
       "       170.72548353, 172.07762526, 169.11883243, 169.5481659 ,\n",
       "       169.03680929, 169.88403527, 171.85733736, 171.39443973,\n",
       "       167.79466332, 168.41916212, 168.34277557, 171.34361734,\n",
       "       164.2324579 , 169.67819285, 171.47633579, 171.71795536,\n",
       "       164.31343305, 170.55240991, 167.10649493, 174.61199077,\n",
       "       170.67906587, 165.01402572, 177.56211031, 173.03697151,\n",
       "       169.21597647, 166.79231382, 167.40000399, 165.48368136,\n",
       "       169.62177313, 177.64050869, 164.20597391, 171.31189207,\n",
       "       173.69887331, 163.8287955 , 169.4296622 , 170.15192094,\n",
       "       166.60032261, 172.92249561, 167.09430781, 166.21442393,\n",
       "       173.00587774, 166.49082357, 169.54406471, 173.89418552,\n",
       "       164.2223005 , 170.82690364, 164.97670234, 169.76729309,\n",
       "       166.62143961, 169.55610453, 170.11398177, 170.28315834,\n",
       "       171.48976889, 168.70653632, 170.50022938, 168.312571  ,\n",
       "       169.16967685, 172.0218675 , 168.89253125, 171.52127246,\n",
       "       168.79710665, 168.14352408, 170.5116285 , 164.82534771,\n",
       "       175.59903466, 167.44503747, 165.85840409, 165.07847063,\n",
       "       170.80309492, 166.13934147, 175.40889644, 173.78946991,\n",
       "       165.82634077, 172.94040332, 169.017939  , 169.51219888,\n",
       "       166.61308838, 172.45065581, 168.43057099, 172.11822677,\n",
       "       170.03718294, 170.64450053, 172.3176672 , 172.37599786,\n",
       "       162.07063078, 168.14756949, 176.35478018, 167.9625914 ,\n",
       "       172.51265949, 169.17264654, 173.9303488 , 170.93330007,\n",
       "       173.62633954, 169.89528235, 168.33989966, 173.35817563,\n",
       "       169.84730062, 167.19053983, 166.8638184 , 171.22998062,\n",
       "       172.4363241 , 174.02068391, 171.66265126, 167.27022907,\n",
       "       170.46186468, 167.97113675, 172.24860829, 174.94521631,\n",
       "       172.55413724, 169.53174226, 169.5909443 , 169.19055716,\n",
       "       171.99406409, 170.29144176, 170.38611329, 171.9414005 ,\n",
       "       173.38084714, 172.25383472, 167.57311503, 168.35999865,\n",
       "       172.23556175, 174.69264327, 168.52589264, 171.39660537,\n",
       "       164.52891556, 171.72876533, 173.08559   , 175.01465484,\n",
       "       173.40934308, 175.9469043 , 169.38661817, 173.3970629 ,\n",
       "       169.46034219, 170.86556547, 169.67380761, 166.64276743,\n",
       "       173.3760652 , 173.58683275, 166.82985555, 166.81770461,\n",
       "       167.67587168, 169.98257809, 173.70903536, 169.18648538,\n",
       "       174.68501777, 171.88933715, 168.34648312, 174.51828457,\n",
       "       170.96853437, 162.37633104, 172.68732019, 174.36823429,\n",
       "       167.33786555, 173.33364959, 166.92805293, 170.7804902 ,\n",
       "       168.92941785, 165.6423888 , 171.17879425, 171.46092311,\n",
       "       174.49601063, 175.32658152, 172.90642296, 165.20917669,\n",
       "       171.35660128, 173.29081225, 169.00068102, 170.40797014,\n",
       "       170.02020504, 168.69803708, 170.54632801, 169.69874621,\n",
       "       165.92772689, 166.66667839, 168.31796579, 166.74685441,\n",
       "       166.78973408, 171.79779136, 172.05273227, 167.43917201,\n",
       "       171.43453053, 170.25092703, 172.16771204, 171.37510824,\n",
       "       165.97648396, 169.5183383 , 166.67776877, 170.80487819,\n",
       "       170.58577564, 171.56047829, 171.1668416 , 173.96550343,\n",
       "       165.68777707, 173.02690694, 171.28733986, 169.39219386,\n",
       "       163.91573062, 168.20762147, 167.52972017, 173.50865178,\n",
       "       173.70346986, 172.14467106, 178.57858311, 170.12196035,\n",
       "       174.79142471, 174.38415843, 170.33083536, 172.2726208 ,\n",
       "       173.42727332, 169.89392957, 168.1946334 , 170.19194926,\n",
       "       172.30712219, 170.71912529, 165.30030031, 168.71246651,\n",
       "       168.02003124, 168.57769658, 165.92218002, 165.20095102,\n",
       "       166.65259013, 174.24228873, 167.3108247 , 170.22059637,\n",
       "       170.95500576, 171.07856953, 167.13043721, 169.19918133,\n",
       "       166.99551586, 169.04914034, 170.16740385, 165.5537916 ,\n",
       "       173.89160038, 168.50872954, 171.15867813, 170.32499388,\n",
       "       167.90673261, 167.78864495, 163.7313988 , 170.2437472 ,\n",
       "       171.42410444, 172.62919683, 172.68925774, 170.36650832,\n",
       "       169.87436093, 173.30421019, 170.84998995, 172.50744876,\n",
       "       172.88813978, 168.99538706, 167.84824318, 169.24799784,\n",
       "       168.46423198, 166.15504275, 161.4155709 , 168.9239067 ,\n",
       "       169.98776708, 169.80465281, 170.49539913, 167.0120031 ,\n",
       "       160.69542851, 171.08597243, 172.10948988, 169.20928548,\n",
       "       168.96631644, 172.36557551, 172.18972082, 175.13709145,\n",
       "       171.08247238, 169.34602859, 173.22724582, 168.22337002,\n",
       "       174.95546844, 169.34665218, 165.09459999, 169.56734514,\n",
       "       174.07374285, 175.66994592, 173.59168073, 171.44186495,\n",
       "       171.28258142, 174.62973618, 164.65471696, 164.81121102,\n",
       "       169.77154086, 163.34046128, 167.8868139 , 170.97962435,\n",
       "       170.2018017 , 172.90213568, 173.25726606, 168.45946073,\n",
       "       173.39278672, 172.41155011, 167.53090711, 170.7719553 ,\n",
       "       168.16836669, 169.61180546, 169.9802839 , 165.69080616,\n",
       "       171.74446452, 173.82414006, 170.43748594, 165.01197062,\n",
       "       168.72673954, 171.83106597, 170.93574574, 174.26081643,\n",
       "       170.19554364, 170.37483326, 165.30666371, 172.8212482 ,\n",
       "       167.60193058, 168.6325595 , 169.65738652, 167.91590187,\n",
       "       170.70109592, 170.23891153, 169.26959631, 170.64826998,\n",
       "       174.78602377, 171.27399991, 173.75056976, 172.01426155,\n",
       "       170.87213789, 165.81646791, 171.12115146, 173.97193203,\n",
       "       165.33441602, 162.74569572, 166.95126654, 164.90853961,\n",
       "       170.04489378, 170.93461419, 171.42246922, 170.84173354,\n",
       "       176.85526632, 170.12204801, 168.75097448, 168.88028821,\n",
       "       168.97156794, 170.43062687, 174.44986885, 174.66631788,\n",
       "       166.76071374, 171.17550906, 173.4407047 , 169.88619855,\n",
       "       169.59801977, 170.64643038, 170.35520906, 167.32127317,\n",
       "       174.88516114, 171.33375998, 167.23173626, 166.75040568,\n",
       "       174.44204253, 171.60472934, 176.69419967, 165.98361039,\n",
       "       171.31943166, 171.94520969, 172.49890545, 175.58633652,\n",
       "       159.19288799, 167.47660579, 170.51445063, 164.87519276,\n",
       "       169.1567385 , 170.45829922, 171.69862637, 167.40152181,\n",
       "       170.64258749, 174.09481079, 167.65381732, 168.39812911,\n",
       "       173.80453398, 168.55795892, 170.12231831, 174.783477  ,\n",
       "       168.05572761, 171.16575806, 168.74580247, 167.05800667,\n",
       "       174.56803324, 171.73717811, 168.49648025, 170.56258707,\n",
       "       170.01876067, 164.60784032, 172.9020783 , 170.20575971,\n",
       "       167.33133879, 174.5531427 , 173.9041095 , 161.89219094,\n",
       "       174.0936114 , 167.42174429, 166.80310899, 169.90780894,\n",
       "       169.11965492, 167.74455794, 168.21255034, 175.37202673,\n",
       "       169.54371033, 170.98861942, 173.18633603, 164.76568962,\n",
       "       168.74073324, 169.17125198, 167.65207635, 164.26021843,\n",
       "       168.54043414, 164.91284253, 175.80090206, 165.1806108 ,\n",
       "       172.63882517, 169.03752661, 167.97500718, 171.28008686,\n",
       "       171.68734466, 174.76186774, 168.69486247, 172.56175477,\n",
       "       171.26967485, 175.14952723, 173.2185358 , 166.59077725,\n",
       "       169.44340425, 168.55514067, 171.67215807, 169.36898347,\n",
       "       175.55258433, 171.9218581 , 171.03772457, 166.7286946 ,\n",
       "       166.77739941, 167.78374628, 176.57716374, 168.71916584,\n",
       "       170.03358109, 174.56871866, 169.81041524, 171.17824399,\n",
       "       172.67530724, 174.08737446, 172.80979424, 165.61670364,\n",
       "       164.78287538, 164.70863527, 170.14388816, 169.81819703,\n",
       "       169.40399397, 169.54186264, 165.39406592, 169.53536773,\n",
       "       173.81644851, 177.16737775, 173.41759119, 173.54346506,\n",
       "       169.97075451, 173.9577619 , 176.30147431, 168.00738807,\n",
       "       171.49352467, 167.53378411, 173.8547151 , 174.03763729,\n",
       "       165.24179872, 168.63535118, 169.13461328, 171.35753636,\n",
       "       167.64013995, 169.84216393, 171.43116685, 164.72062139,\n",
       "       167.42496523, 164.4720855 , 171.31854828, 167.80065672,\n",
       "       168.2912699 , 169.82161106, 174.68645821, 171.6514617 ,\n",
       "       169.98226044, 172.00271766, 172.34841467, 170.8860198 ,\n",
       "       168.52230646, 166.03288068, 172.31117218, 169.25098701,\n",
       "       170.50866898, 167.34901247, 170.00687204, 166.64285925,\n",
       "       174.13996198, 166.81079786, 168.19728417, 171.34458122])"
      ]
     },
     "execution_count": 21,
     "metadata": {},
     "output_type": "execute_result"
    }
   ],
   "source": [
    "# normal random distribution\n",
    "# height = np.random.normal(low=170,high=3,size=1000)\n",
    "height = np.random.normal(170,3,1000)\n",
    "height"
   ]
  },
  {
   "cell_type": "code",
   "execution_count": 22,
   "metadata": {},
   "outputs": [
    {
     "data": {
      "text/plain": [
       "170.06347099978967"
      ]
     },
     "execution_count": 22,
     "metadata": {},
     "output_type": "execute_result"
    }
   ],
   "source": [
    "np.mean(height)"
   ]
  },
  {
   "cell_type": "code",
   "execution_count": 23,
   "metadata": {},
   "outputs": [
    {
     "data": {
      "text/plain": [
       "2.986661220254422"
      ]
     },
     "execution_count": 23,
     "metadata": {},
     "output_type": "execute_result"
    }
   ],
   "source": [
    "np.std(height)"
   ]
  },
  {
   "cell_type": "code",
   "execution_count": 24,
   "metadata": {},
   "outputs": [
    {
     "data": {
      "text/plain": [
       "8.920145244571632"
      ]
     },
     "execution_count": 24,
     "metadata": {},
     "output_type": "execute_result"
    }
   ],
   "source": [
    "np.var(height)"
   ]
  },
  {
   "cell_type": "code",
   "execution_count": 25,
   "metadata": {},
   "outputs": [
    {
     "data": {
      "text/plain": [
       "(array([  3.,  34.,  77., 155., 216., 224., 171.,  81.,  27.,  12.]),\n",
       " array([160.7153989 , 162.53559127, 164.35578364, 166.17597601,\n",
       "        167.99616838, 169.81636075, 171.63655312, 173.45674549,\n",
       "        175.27693786, 177.09713024, 178.91732261]),\n",
       " <BarContainer object of 10 artists>)"
      ]
     },
     "execution_count": 25,
     "metadata": {},
     "output_type": "execute_result"
    },
    {
     "data": {
      "image/png": "[encoded data removed]",
      "text/plain": [
       "<Figure size 640x480 with 1 Axes>"
      ]
     },
     "metadata": {
      "image/png": {
       "height": 413,
       "width": 552
      }
     },
     "output_type": "display_data"
    }
   ],
   "source": [
    "plt.hist(np.random.normal(170,3,1000))"
   ]
  },
  {
   "cell_type": "code",
   "execution_count": 26,
   "metadata": {},
   "outputs": [
    {
     "data": {
      "text/plain": [
       "array([ 2.35477090e+00, -4.60867879e+00, -9.82513215e-01, -1.20636061e+00,\n",
       "       -6.66366816e+00, -4.31287452e+00, -4.02557258e+00, -4.19094465e+00,\n",
       "       -4.83973284e-01, -9.57128547e+00,  2.44855299e+00, -4.89357339e+00,\n",
       "       -7.47902748e+00, -2.94120470e+00,  5.30269483e-01, -9.57856362e+00,\n",
       "       -9.08121867e-01, -6.46584361e+00, -9.28159279e+00, -3.89543652e+00,\n",
       "       -8.87184207e-01, -4.50112135e+00, -1.18094700e-01, -3.42255760e-01,\n",
       "       -5.42866896e+00, -1.19303897e+00, -5.81940001e+00, -3.06782777e+00,\n",
       "       -5.84314200e+00, -1.91938238e+00, -1.08975367e+00,  1.64634958e+00,\n",
       "       -9.83144022e-01, -1.81073569e+00, -6.94036243e+00, -6.75752785e+00,\n",
       "       -3.75992582e+00, -4.14971363e+00, -8.65284053e+00, -4.60443631e+00,\n",
       "       -8.49881074e+00, -5.13016319e+00,  9.29477122e-01, -8.21177778e+00,\n",
       "       -6.90327116e+00,  5.76531938e-01, -2.90736076e+00, -5.27337507e-01,\n",
       "       -8.39324394e-01, -2.78107600e+00, -9.16487950e-01, -1.99083164e+00,\n",
       "       -2.81715383e+00, -3.90568389e-01, -5.25226255e+00, -4.06770763e+00,\n",
       "       -2.56731242e+00, -1.58968669e+00, -9.32418379e+00, -1.76372820e+00,\n",
       "       -6.23640874e+00, -9.33415084e+00, -4.80599602e+00, -5.91113267e+00,\n",
       "        1.06414776e+00, -4.87557786e-01, -4.57868414e+00, -8.31270269e+00,\n",
       "        1.29749557e+00, -2.80079420e+00, -1.92336472e-01, -5.57969556e+00,\n",
       "       -6.83044106e+00, -6.88764681e+00, -5.20870441e+00,  2.90830718e+00,\n",
       "       -4.87369727e+00, -2.23291049e+00,  2.91415077e+00, -4.97751249e+00,\n",
       "       -3.77587488e+00, -7.70610276e+00,  2.00024187e+00, -6.00472680e+00,\n",
       "        2.63042114e+00, -2.06620752e+00, -3.24730264e-01, -1.50077716e+00,\n",
       "        7.07942040e-01, -5.66437093e+00,  1.60606400e+00,  1.58509984e-01,\n",
       "       -7.93238927e+00, -5.12465609e+00,  2.12056368e+00,  1.79856309e+00,\n",
       "       -1.83978259e-01, -8.66054091e+00,  3.44977853e-01, -6.20560395e+00,\n",
       "       -8.46252060e+00, -1.13759614e+00, -5.07599077e+00, -4.91039051e+00,\n",
       "        1.46437435e+00, -6.48540380e+00,  1.41849649e+00, -8.91981711e+00,\n",
       "       -6.72684401e+00, -6.53613091e-01, -9.52203258e+00, -3.08353479e+00,\n",
       "       -3.82620851e+00, -2.07110190e+00, -9.87135846e+00, -3.96752987e+00,\n",
       "        1.56687605e+00,  6.60005034e-01,  1.75580170e+00, -9.44955514e+00,\n",
       "       -3.36824233e+00,  1.42958311e+00,  2.91426243e+00, -2.88848401e+00,\n",
       "       -9.58099197e+00,  2.34572899e+00, -4.89484439e+00, -9.31826908e+00,\n",
       "        9.83685683e-01, -3.38044249e+00, -5.48470540e+00, -9.99114950e+00,\n",
       "       -6.16869284e+00, -8.31656923e+00, -3.92240748e+00, -6.97572413e+00,\n",
       "       -8.48670884e+00,  2.57845697e+00, -4.55371207e+00,  3.53885251e-01,\n",
       "       -5.96386299e-01, -2.87713401e+00,  2.35955526e+00, -2.86827218e+00,\n",
       "       -8.48357440e+00, -6.00116021e+00, -8.48692246e+00, -1.89967643e+00,\n",
       "        2.41980009e+00, -3.34045303e+00, -5.60881637e+00,  1.69435722e+00,\n",
       "        1.39251461e+00, -2.58861110e+00, -9.26434640e+00, -9.53762090e+00,\n",
       "       -4.89810257e+00, -2.77826960e+00, -4.37618742e+00, -1.41899306e+00,\n",
       "        2.65294464e+00, -7.06654639e+00,  1.70676678e+00, -4.06299039e+00,\n",
       "       -9.54183043e+00, -5.53121484e+00, -4.59521376e+00, -8.62278154e+00,\n",
       "       -6.42698400e+00, -8.24183673e+00,  1.53997771e+00, -5.52108511e+00,\n",
       "       -1.45922578e+00,  6.80314284e-01, -3.89408116e+00, -9.34349537e+00,\n",
       "       -9.11030566e+00,  2.56875143e-01, -4.08424012e-01, -3.70278114e+00,\n",
       "       -5.72708651e-01, -5.18976215e+00, -1.49242131e+00, -6.26477702e+00,\n",
       "       -7.70062606e+00, -1.81438059e+00, -3.01502371e+00, -5.92440414e+00,\n",
       "       -9.61127070e+00,  8.10167315e-01, -5.21095467e+00, -4.89587495e+00,\n",
       "       -8.45113561e+00,  9.49358268e-01, -7.75751860e+00, -4.63241817e+00,\n",
       "       -5.45302244e+00,  2.91718376e+00, -4.66086940e+00, -5.41846380e+00,\n",
       "        8.41343936e-01, -2.63029631e+00,  2.65196954e+00,  1.54919987e+00,\n",
       "       -4.68995522e+00, -1.22307829e-01, -9.46914697e+00, -5.28434494e+00,\n",
       "       -9.62687031e+00, -2.59233207e+00, -3.45675045e+00, -9.31597956e+00,\n",
       "       -1.17428315e+00, -9.40111959e-01, -6.98738061e+00, -3.38556147e+00,\n",
       "        2.80001444e+00, -8.93935140e+00, -7.53441933e+00, -2.13376317e+00,\n",
       "       -2.36711187e+00,  2.07291957e+00, -7.88125208e+00, -1.07298545e+00,\n",
       "       -9.13676976e+00, -9.55969342e+00,  4.71378211e-01, -9.69387141e+00,\n",
       "       -5.15373301e+00, -1.01346244e+00, -3.90379810e+00, -4.53153047e+00,\n",
       "       -6.59034785e+00, -9.42073162e+00, -1.49191666e-03,  1.90854557e+00,\n",
       "       -2.13673715e-01, -6.45562225e-01,  2.51173093e+00,  1.45360298e+00,\n",
       "       -7.46928733e+00, -9.08709624e+00,  1.66285400e+00, -1.21794416e+00,\n",
       "       -4.32864382e+00, -9.17765380e+00, -3.23676379e+00,  1.29525982e+00,\n",
       "       -2.82001020e+00, -3.46923545e+00, -5.73107054e+00,  2.99145553e+00,\n",
       "       -2.94119489e+00, -1.41621974e+00, -8.87233977e+00, -5.80420965e+00,\n",
       "       -3.20844209e+00, -8.01601486e+00, -6.22693882e+00, -6.62800435e+00,\n",
       "        1.46782709e+00, -1.76439014e+00, -5.38367230e+00, -4.15394948e-01,\n",
       "       -4.75996468e+00, -4.04869268e+00, -6.79115432e+00, -2.48323889e+00,\n",
       "       -7.48183746e+00, -2.83042067e+00, -9.63930300e+00,  2.00416301e+00,\n",
       "       -8.36400993e-01, -5.89056452e+00, -7.97469165e+00, -9.46883863e+00,\n",
       "       -8.67191144e+00, -5.14142305e+00, -4.20186671e+00, -6.99729467e-01,\n",
       "       -2.23182268e+00, -6.21866221e+00, -1.61757365e+00, -8.41051662e-01,\n",
       "        1.68178997e+00, -4.90181651e+00, -7.17658520e+00, -5.77853965e+00,\n",
       "        1.87491961e+00, -9.73478461e+00,  2.17884424e+00,  1.11059637e+00,\n",
       "       -5.27196371e+00, -9.04543292e+00, -6.53558469e+00, -3.33693588e+00,\n",
       "       -1.46246698e+00, -9.01771799e+00, -5.30381934e+00,  2.04299081e+00,\n",
       "       -2.59768418e-01, -1.01466899e+00, -6.98309759e+00, -4.95879642e+00,\n",
       "        5.89826982e-01,  9.61243419e-02, -7.61796890e+00,  2.42380733e+00,\n",
       "       -6.06026196e+00, -7.19707705e+00, -5.69901429e+00, -9.33431369e+00,\n",
       "       -9.49680608e+00, -2.47910531e+00, -2.81352677e+00, -3.84262492e+00,\n",
       "       -9.14788496e+00, -1.34818878e+00, -8.31338915e+00, -7.56336037e+00,\n",
       "       -8.40203601e+00, -1.98724289e+00,  1.31514480e+00, -2.72936675e+00,\n",
       "       -4.30050859e+00, -4.20460256e+00, -1.47030330e+00,  1.92957157e+00,\n",
       "        1.96842401e+00, -3.02667232e+00, -2.36970431e+00, -7.28817662e+00,\n",
       "       -8.33599875e+00, -1.09177815e+00,  1.75541000e+00, -3.69290954e+00,\n",
       "        2.06990454e+00, -2.91245950e+00, -2.75573270e+00, -8.62906442e+00,\n",
       "       -1.35165969e+00, -7.59648064e+00, -7.78661579e+00, -6.54804187e-01,\n",
       "       -1.23729955e+00, -1.93704906e+00,  1.57720986e-01, -4.22886311e+00,\n",
       "       -1.30073764e+00, -1.92689544e+00, -6.66990959e+00, -1.76209646e+00,\n",
       "        2.73890476e+00, -1.80745537e+00, -9.10704951e+00, -1.44336402e+00,\n",
       "        7.72799098e-01, -9.27062947e+00,  1.44385958e-01, -3.74249855e+00,\n",
       "       -8.98940648e+00, -5.75942280e-01,  9.07727078e-01, -7.45554015e+00,\n",
       "       -9.22349365e+00, -5.51501993e-01,  2.22730151e+00, -6.87279497e+00,\n",
       "       -5.79443226e+00, -3.95991835e+00,  8.33740093e-01, -5.05955179e-01,\n",
       "        3.24162436e-02,  4.95488838e-01,  8.88660225e-01, -1.55930096e+00,\n",
       "        1.53875612e+00,  2.29511201e+00,  2.39223290e+00, -4.48891083e+00,\n",
       "       -5.14283477e+00, -1.29254659e+00, -2.42995268e+00, -2.02784321e+00,\n",
       "        2.68814905e+00, -2.09692397e+00, -6.01519899e-01, -8.30985848e+00,\n",
       "       -9.90175557e+00,  2.64970770e-01,  8.01362971e-01,  1.12777225e+00,\n",
       "        2.31658289e+00, -8.45300510e-02, -6.62726683e+00,  2.76508737e+00,\n",
       "       -5.34418660e+00, -9.99083755e+00, -8.85535528e+00, -3.10465754e+00,\n",
       "       -2.37070399e+00, -2.67602955e+00, -7.20135076e+00, -1.70925071e+00,\n",
       "       -1.15265502e+00, -2.00964177e-01, -5.42506301e+00, -5.61355547e+00,\n",
       "       -3.63704580e+00, -5.82399514e+00, -2.96841913e+00, -9.66606577e+00,\n",
       "       -6.72904166e+00, -1.87174283e+00,  1.72653276e+00, -1.03570421e+00,\n",
       "       -8.09080061e+00, -4.69087246e-01,  2.85714012e+00, -2.44114028e+00,\n",
       "       -7.55062893e+00, -4.28988045e+00, -1.02772031e+00, -3.05324111e+00,\n",
       "        2.15271864e-01, -3.52335078e+00, -5.82459339e+00, -1.23449922e+00,\n",
       "       -2.68131131e+00, -4.97973506e-01, -6.23874733e+00, -2.60714089e+00,\n",
       "       -8.13469713e+00, -5.28113897e+00, -1.53639192e+00,  3.15573473e-01,\n",
       "       -6.44794831e-01, -9.93648498e+00, -8.13416451e+00, -1.31445430e+00,\n",
       "       -2.69137315e+00, -6.46097067e+00, -5.28719564e+00,  2.99532591e+00,\n",
       "        2.35707453e+00, -7.88972396e+00, -1.21525382e+00, -4.41423200e-01,\n",
       "       -6.40549619e+00, -2.66101965e+00, -3.54656803e+00, -9.02971511e+00,\n",
       "       -1.24239442e+00, -9.46073067e+00,  2.74282256e+00, -1.70476775e+00,\n",
       "       -4.95601659e+00, -7.77290077e+00, -3.40026074e+00, -3.69001978e-01,\n",
       "        2.78403684e+00, -4.62442212e+00, -3.44106762e+00, -6.55813861e+00,\n",
       "       -7.46137770e+00,  5.96751348e-02, -8.28805582e+00, -7.21309081e+00,\n",
       "       -3.88954429e+00, -3.34332483e+00, -3.98972523e+00, -3.55570874e+00,\n",
       "       -3.37813673e+00, -1.33077369e+00, -8.28273247e+00, -2.54221125e+00,\n",
       "       -9.27360672e+00, -9.17683834e+00, -5.15060727e+00, -2.50543192e+00,\n",
       "       -9.93610937e+00, -3.81063028e+00, -6.62816356e+00, -6.68139592e+00,\n",
       "       -1.85062000e-01,  1.63658061e+00, -8.56823584e+00, -9.46812069e+00,\n",
       "       -3.34269239e+00, -4.40108834e+00, -2.41610800e+00, -9.02113542e-01,\n",
       "        6.49457674e-01, -8.53603232e+00, -8.76796633e-01, -3.69250998e+00,\n",
       "       -4.71382658e+00, -5.08008348e+00,  2.80902067e+00,  2.08627128e+00,\n",
       "        2.42679553e+00,  1.67116233e+00, -7.51191321e+00, -9.52692678e-02,\n",
       "        8.97793657e-01, -5.08370065e+00,  1.07415624e+00, -2.20547382e+00,\n",
       "       -3.51671216e+00, -2.89533716e+00, -9.07853530e+00, -9.43279004e+00,\n",
       "       -6.92544021e+00, -8.56443743e+00, -7.33939009e+00, -8.01199970e-01,\n",
       "       -6.86044244e+00, -8.51241385e-01, -7.74104166e+00, -8.49124237e+00,\n",
       "       -5.42450087e+00, -9.32356421e-01,  1.53157473e+00, -4.83324000e+00,\n",
       "       -9.27990133e-01,  1.67736189e+00,  1.31681686e+00, -4.84551685e+00,\n",
       "       -8.56619702e+00,  1.23202816e+00, -9.69440274e+00, -2.99910609e+00,\n",
       "       -6.45775471e+00,  2.80823477e+00, -5.21630120e+00, -4.41563730e+00,\n",
       "       -9.04577741e-01, -3.34100016e+00, -8.35976151e+00, -1.73739328e+00,\n",
       "       -8.68837495e+00,  2.25424391e+00,  4.62096970e-01, -4.78990611e-02,\n",
       "       -5.59094865e+00,  1.88422933e+00, -3.09446151e+00, -8.72385061e-01,\n",
       "       -7.92057496e+00, -2.93798876e+00, -6.28467651e+00,  2.85968259e+00,\n",
       "       -6.21492366e+00, -4.40098734e+00,  2.74752900e+00, -8.99460314e+00,\n",
       "       -3.30034563e+00,  2.85111420e+00, -7.52235305e+00, -3.31392578e+00,\n",
       "       -7.54884230e+00, -3.37000310e+00, -7.13234910e+00, -2.47860812e+00,\n",
       "       -5.29514452e+00, -9.41465417e+00, -8.15925744e+00, -2.75191299e-02,\n",
       "       -2.72389308e+00, -1.88518154e+00, -5.13619773e+00,  5.48696254e-01,\n",
       "       -7.92925563e+00,  1.08312848e+00, -4.91204300e-01,  1.37407838e+00,\n",
       "        1.02511474e+00,  1.41226666e+00,  2.35587293e+00, -5.08140795e+00,\n",
       "        6.31377020e-01, -3.42293897e+00, -4.44578453e-01,  2.53799719e+00,\n",
       "        1.27238487e+00, -9.38905898e+00, -2.83623210e+00, -8.33314794e+00,\n",
       "       -6.18486193e+00, -3.17334253e+00,  2.52752973e+00, -7.78770431e+00,\n",
       "        7.31035436e-01, -2.60679305e+00, -2.78592869e-01, -3.76952808e+00,\n",
       "       -1.87713817e+00, -4.78429234e+00, -4.26316460e+00, -6.15901982e+00,\n",
       "       -7.53113731e+00, -7.67555392e+00, -1.99810862e+00, -6.97785000e+00,\n",
       "       -3.52943129e+00, -1.45399713e+00, -6.68746743e+00, -3.71805648e-03,\n",
       "       -2.17566745e+00,  2.76884936e+00, -5.10491613e-01, -4.68743288e+00,\n",
       "       -4.33343414e+00, -4.87381895e+00, -4.54243387e+00,  1.42473900e+00,\n",
       "       -8.53846593e+00,  1.60168393e+00, -4.64629698e-01, -4.96602897e-01,\n",
       "       -2.68356172e+00, -4.59613835e+00,  1.99294940e+00, -3.31910455e+00,\n",
       "       -2.64556558e+00,  9.71829091e-01, -8.94061258e+00, -8.92380656e-01,\n",
       "       -1.97757132e-01,  1.87349048e+00, -4.67148560e+00, -5.77887943e+00,\n",
       "        2.84829689e-01,  1.17369231e+00, -2.57551558e+00, -9.50052909e+00,\n",
       "       -4.93526600e+00,  1.78549741e+00, -7.77726766e+00, -7.63664839e+00,\n",
       "       -6.35906677e+00, -6.25062920e+00, -4.12925066e+00,  2.49857907e+00,\n",
       "       -3.42153849e+00, -7.70199490e+00, -1.59455839e+00, -2.43419977e+00,\n",
       "       -7.36395612e+00, -2.91907579e+00, -9.08838780e+00, -5.73561178e+00,\n",
       "        1.38743978e+00, -4.73064516e+00, -5.29565028e+00, -5.04618404e-01,\n",
       "       -5.85030706e-01, -2.95972502e+00, -2.93122604e+00,  2.68995414e-01,\n",
       "       -7.74083542e+00,  2.35974134e+00, -1.29772318e+00, -5.07869826e+00,\n",
       "        4.97084421e-01, -4.23815075e+00, -9.19794642e-01,  1.08077163e+00,\n",
       "       -5.08979574e+00, -4.04690778e+00, -6.17514282e+00, -9.81329747e+00,\n",
       "       -6.37813922e+00, -8.02685290e+00,  3.57286553e-01,  2.04028359e-01,\n",
       "        1.60161058e+00, -5.41918827e+00, -5.30675165e-01, -7.42279281e+00,\n",
       "       -6.08086576e+00, -8.90832938e+00,  2.88624481e-01, -6.11351599e-01,\n",
       "       -7.00571345e+00, -7.43475653e+00, -6.71198357e-01,  1.45334743e+00,\n",
       "       -6.27248180e+00, -8.72915148e+00,  1.80964004e+00,  5.66561498e-01,\n",
       "       -4.83519971e+00, -6.22765791e-02, -5.89697168e+00, -4.98054769e+00,\n",
       "       -9.92195577e+00,  1.16217400e+00,  1.15084778e+00, -3.54423366e+00,\n",
       "       -8.26616627e-01, -4.73765868e+00, -5.01690557e+00, -4.28652136e+00,\n",
       "       -5.28404014e+00,  2.59403517e+00, -6.24651470e+00, -4.74475765e+00,\n",
       "       -2.33204356e+00, -8.12814344e+00,  2.71219682e+00, -9.12243693e+00,\n",
       "       -4.73055846e+00, -5.31881362e+00,  2.41033765e+00, -9.65446476e+00,\n",
       "       -5.05882495e+00, -3.40205638e+00, -3.93873523e+00,  6.19429294e-01,\n",
       "       -7.67689961e+00,  2.81333896e+00, -3.15019840e-01, -2.57889075e+00,\n",
       "        2.85461458e+00, -7.26532727e+00,  1.40908246e+00, -7.74752228e+00,\n",
       "       -4.04008087e+00,  2.98624727e+00, -8.27111550e+00, -4.72701006e+00,\n",
       "       -1.95155843e+00,  3.51008014e-01, -3.98758270e+00, -1.88439754e+00,\n",
       "       -6.99690456e+00, -9.37393549e+00,  1.12567736e+00, -9.80895928e+00,\n",
       "       -5.45485112e+00,  2.32495927e+00, -3.29313269e-01, -7.86615851e-01,\n",
       "       -1.74437647e+00, -1.87857325e+00, -9.46305826e+00, -8.56736892e+00,\n",
       "        1.28561680e+00, -6.47702194e+00, -6.68871001e+00, -4.95787983e+00,\n",
       "        2.09910678e+00,  2.74961796e+00, -7.28774444e+00, -7.53540470e+00,\n",
       "       -4.90174985e+00, -6.71395626e+00, -3.91279658e+00, -4.75432904e+00,\n",
       "       -2.27308818e+00, -6.25482047e+00, -3.77487646e+00, -3.11869510e+00,\n",
       "       -9.39980938e+00, -5.96286671e+00, -9.05521445e+00,  2.35416460e+00,\n",
       "       -6.80522016e+00, -8.78361641e+00, -4.82223155e+00, -4.63769963e+00,\n",
       "       -4.94313022e+00, -1.14306884e+00, -4.03148789e+00, -7.07877444e+00,\n",
       "        1.50949631e+00,  2.83796100e+00, -9.43090730e+00, -6.98009340e+00,\n",
       "       -3.09339562e-02, -5.50635774e+00,  7.58365141e-01, -2.37330235e-01,\n",
       "       -4.82813270e+00,  1.61600904e+00,  1.09753067e+00, -2.80268446e+00,\n",
       "       -3.47177064e+00, -9.38366818e+00, -1.44278533e+00, -3.37549257e+00,\n",
       "        7.73932014e-01,  2.44390641e+00,  2.15264169e+00,  1.59103697e+00,\n",
       "       -5.06241911e+00, -4.51630677e+00, -4.91430667e+00, -1.96239165e+00,\n",
       "        2.57422268e+00,  7.40451535e-01, -4.94190140e+00, -5.88229143e+00,\n",
       "       -5.35954634e+00, -1.34395342e+00,  1.93577185e+00, -4.86376435e+00,\n",
       "       -7.69423159e+00, -4.65239224e+00,  1.32493025e-01, -3.94341382e+00,\n",
       "       -8.40017139e+00, -3.93686719e+00, -7.62881928e+00, -6.31762904e+00,\n",
       "       -2.12428091e+00, -2.29853496e-01, -8.07919857e+00, -1.46920057e+00,\n",
       "       -3.18164793e+00, -4.38915190e+00,  1.57930711e+00, -5.91573959e+00,\n",
       "       -5.70347502e+00,  3.97285136e-01, -6.46811287e+00,  2.05933491e+00,\n",
       "        8.72991719e-01, -1.21689586e+00, -8.07220007e+00, -9.54264305e+00,\n",
       "       -4.11601192e+00,  1.22337444e+00,  1.35631304e-01, -6.95730489e+00,\n",
       "       -7.79064336e-01, -8.76008044e+00, -3.02542475e+00, -5.62650317e+00,\n",
       "       -7.17144601e+00, -9.73544455e+00, -1.80713757e-01, -9.90043250e+00,\n",
       "       -3.27019021e+00,  2.17287750e+00, -7.25723722e-01, -3.24669060e+00,\n",
       "       -5.85518224e+00, -1.05073438e+00, -6.36877738e+00, -5.76120067e+00,\n",
       "       -4.48425685e+00, -5.63612068e+00, -7.26156967e+00, -1.06989391e+00,\n",
       "       -4.69366186e+00, -2.92760220e+00, -7.10599200e+00, -6.39710979e+00,\n",
       "        2.23849503e+00, -4.65118964e+00,  8.57885933e-01,  1.32905751e+00,\n",
       "        1.27754642e+00, -5.70430241e-01, -4.98396370e+00, -5.64043349e-01,\n",
       "        7.74391565e-01,  1.96760933e+00,  9.91937354e-01, -4.08967745e+00,\n",
       "        8.32319081e-01, -8.65528495e+00, -7.81221008e+00, -5.90543216e+00,\n",
       "       -8.11006122e+00, -8.19285183e+00, -3.22376544e+00, -2.78825833e+00,\n",
       "       -9.98274417e+00, -9.75975272e-01, -4.36442062e+00, -9.15975448e+00,\n",
       "       -5.20228189e+00,  4.20149243e-01, -7.84308645e-01, -8.93618393e+00,\n",
       "       -5.64117375e+00, -7.58705638e+00, -6.96029846e+00, -7.77137958e+00,\n",
       "       -6.60709511e+00,  1.33580471e-01, -5.83861639e+00, -3.99362894e+00,\n",
       "        2.75490034e+00, -8.47642459e+00, -9.90412470e+00,  2.88802427e+00,\n",
       "        1.78326944e+00, -7.48206723e+00, -6.56789361e+00,  1.92226902e+00,\n",
       "       -5.80844802e+00, -5.51116863e-02,  6.22944820e-01, -6.09863131e+00,\n",
       "       -8.50426152e+00, -4.67779200e+00, -9.44606941e+00, -4.78228276e+00,\n",
       "       -4.01377997e+00,  1.67381708e+00, -7.51731805e+00, -1.55277421e+00,\n",
       "        1.52731282e+00,  1.84575321e+00, -1.32866447e+00, -2.62740238e+00,\n",
       "       -8.62729796e+00,  5.97126909e-01, -6.74276852e+00,  8.16142652e-01,\n",
       "       -3.29616862e+00, -2.52511830e+00, -3.26349801e+00,  2.53330231e+00,\n",
       "        2.54538907e+00, -6.94911917e-01, -9.22970580e+00, -5.15155252e+00,\n",
       "       -4.10658137e+00, -3.07393882e+00,  3.42256236e-01, -9.37507578e+00,\n",
       "       -7.49921519e+00,  2.48802100e+00, -5.88814431e+00, -8.57905796e+00,\n",
       "       -9.02170517e+00, -1.34114354e+00, -5.00101769e+00,  6.97455177e-01,\n",
       "       -5.94416206e+00, -2.12292133e-01, -5.54485575e+00,  2.40891468e+00,\n",
       "       -3.14128404e+00, -3.11555120e-01, -6.47382023e-01,  8.18087467e-01,\n",
       "       -7.20230729e+00, -3.38542928e+00, -4.98819722e+00, -5.04209964e+00,\n",
       "       -4.13009457e+00, -4.74587007e+00, -2.54021558e+00, -8.62140430e-01,\n",
       "       -7.36470831e+00, -3.70525987e+00,  2.03947356e+00, -9.97847487e+00,\n",
       "       -9.77271332e+00, -5.63975807e+00, -4.32390435e+00,  1.08814424e+00,\n",
       "       -4.21246574e+00,  2.06528908e+00, -7.90321939e+00,  1.78467043e+00,\n",
       "        2.94459797e+00, -6.04045147e+00, -4.82855666e+00, -5.51553893e+00,\n",
       "       -1.20718042e+00, -1.95317298e-01, -4.04842666e+00, -7.14910304e+00,\n",
       "       -9.56418243e+00,  1.86777283e+00, -6.22171085e+00, -7.88855171e+00,\n",
       "       -5.73252435e+00,  6.00140294e-01, -2.02489927e+00, -1.92463575e+00,\n",
       "       -4.03256153e-01,  3.55358157e-01, -5.17539252e+00, -4.86449109e-01,\n",
       "       -7.86211527e+00, -7.15496249e+00, -4.93581899e+00, -2.19042925e+00,\n",
       "        2.46549272e-01, -3.09454496e+00, -8.02122503e+00, -9.98671595e+00])"
      ]
     },
     "execution_count": 26,
     "metadata": {},
     "output_type": "execute_result"
    }
   ],
   "source": [
    "x = np.random.uniform(-10,3,1000) # random uniform from -10 to 3 display 1000 elements.\n",
    "x"
   ]
  },
  {
   "cell_type": "code",
   "execution_count": 27,
   "metadata": {},
   "outputs": [
    {
     "data": {
      "text/plain": [
       "(array([111., 105., 104.,  93.,  88., 101., 108., 112.,  96.,  82.]),\n",
       " array([-9.99947636, -8.70562886, -7.41178137, -6.11793388, -4.82408639,\n",
       "        -3.53023889, -2.2363914 , -0.94254391,  0.35130358,  1.64515108,\n",
       "         2.93899857]),\n",
       " <BarContainer object of 10 artists>)"
      ]
     },
     "execution_count": 27,
     "metadata": {},
     "output_type": "execute_result"
    },
    {
     "data": {
      "image/png": "[encoded data removed]",
      "text/plain": [
       "<Figure size 640x480 with 1 Axes>"
      ]
     },
     "metadata": {
      "image/png": {
       "height": 413,
       "width": 552
      }
     },
     "output_type": "display_data"
    }
   ],
   "source": [
    "plt.hist(np.random.uniform(-10,3,1000))"
   ]
  },
  {
   "attachments": {},
   "cell_type": "markdown",
   "metadata": {},
   "source": [
    "## Test BMI"
   ]
  },
  {
   "cell_type": "code",
   "execution_count": 28,
   "metadata": {},
   "outputs": [],
   "source": [
    "# BMI = w/(h/100)**2 by using ndarray\n",
    "def test1():\n",
    "  w = np.array([60,70,80,65,98])\n",
    "  h = np.array([156,170,165,168,180])\n",
    "  BMI = w/(h/100)**2\n",
    "  print(BMI)"
   ]
  },
  {
   "cell_type": "code",
   "execution_count": 29,
   "metadata": {},
   "outputs": [
    {
     "name": "stdout",
     "output_type": "stream",
     "text": [
      "[24.65483235 24.22145329 29.38475666 23.03004535 30.24691358]\n"
     ]
    }
   ],
   "source": [
    "test1()"
   ]
  },
  {
   "cell_type": "code",
   "execution_count": 30,
   "metadata": {},
   "outputs": [
    {
     "name": "stdout",
     "output_type": "stream",
     "text": [
      "<function test2 at 0x000001F8F8F01E50>\n"
     ]
    }
   ],
   "source": [
    "# BMI = [] by using list comprehension\n",
    "def test2():\n",
    "  w = np.array([60,70,80,65,98])\n",
    "  h = np.array([156,170,165,168,180])\n",
    "  BMI = []\n",
    "  for i in range(len(w)):\n",
    "    BMI.append(w[i]/(h[i]/100)**2)\n",
    "  return BMI\n",
    "\n",
    "print(test2)"
   ]
  },
  {
   "cell_type": "code",
   "execution_count": 31,
   "metadata": {},
   "outputs": [
    {
     "data": {
      "text/plain": [
       "[24.654832347140037,\n",
       " 24.221453287197235,\n",
       " 29.384756657483933,\n",
       " 23.030045351473927,\n",
       " 30.24691358024691]"
      ]
     },
     "execution_count": 31,
     "metadata": {},
     "output_type": "execute_result"
    }
   ],
   "source": [
    "test2()"
   ]
  },
  {
   "cell_type": "code",
   "execution_count": 32,
   "metadata": {},
   "outputs": [
    {
     "data": {
      "text/plain": [
       "[array([24.65483235, 24.22145329, 29.38475666, 23.03004535, 30.24691358]),\n",
       " array([24.65483235, 24.22145329, 29.38475666, 23.03004535, 30.24691358]),\n",
       " array([24.65483235, 24.22145329, 29.38475666, 23.03004535, 30.24691358]),\n",
       " array([24.65483235, 24.22145329, 29.38475666, 23.03004535, 30.24691358]),\n",
       " array([24.65483235, 24.22145329, 29.38475666, 23.03004535, 30.24691358])]"
      ]
     },
     "execution_count": 32,
     "metadata": {},
     "output_type": "execute_result"
    }
   ],
   "source": [
    "def test3():\n",
    "  w = np.array([60,70,80,65,98])\n",
    "  h = np.array([156,170,165,168,180])\n",
    "  BMI = []\n",
    "  for weight,height in zip(w,h):\n",
    "    BMI.append(w/(h/100)**2)\n",
    "  return BMI\n",
    "\n",
    "test3()"
   ]
  },
  {
   "cell_type": "code",
   "execution_count": 33,
   "metadata": {},
   "outputs": [
    {
     "name": "stdout",
     "output_type": "stream",
     "text": [
      "[array([24.65483235, 24.22145329, 29.38475666, 23.03004535, 30.24691358]), array([24.65483235, 24.22145329, 29.38475666, 23.03004535, 30.24691358]), array([24.65483235, 24.22145329, 29.38475666, 23.03004535, 30.24691358]), array([24.65483235, 24.22145329, 29.38475666, 23.03004535, 30.24691358]), array([24.65483235, 24.22145329, 29.38475666, 23.03004535, 30.24691358])]\n"
     ]
    }
   ],
   "source": [
    "print(test3())"
   ]
  }
 ],
 "metadata": {
  "kernelspec": {
   "display_name": "Python 3",
   "language": "python",
   "name": "python3"
  },
  "language_info": {
   "codemirror_mode": {
    "name": "ipython",
    "version": 3
   },
   "file_extension": ".py",
   "mimetype": "text/x-python",
   "name": "python",
   "nbconvert_exporter": "python",
   "pygments_lexer": "ipython3",
   "version": "3.9.7"
  },
  "orig_nbformat": 4
 },
 "nbformat": 4,
 "nbformat_minor": 2
}
