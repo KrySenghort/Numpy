{
 "cells": [
  {
   "cell_type": "code",
   "execution_count": 1,
   "metadata": {
    "collapsed": true
   },
   "outputs": [
    {
     "name": "stdout",
     "output_type": "stream",
     "text": [
      "1.23.3\n"
     ]
    }
   ],
   "source": [
    "import numpy as np\n",
    "\n",
    "print(np.__version__)"
   ]
  },
  {
   "cell_type": "code",
   "execution_count": null,
   "metadata": {
    "collapsed": false
   },
   "outputs": [],
   "source": []
  },
  {
   "attachments": {},
   "cell_type": "markdown",
   "metadata": {
    "collapsed": false
   },
   "source": [
    "The whole NumPy library is based on one main object: **ndarray**(which stands for N-dimensional array). This object is a multidimensional homogeneous"
   ]
  },
  {
   "cell_type": "code",
   "execution_count": 2,
   "metadata": {
    "collapsed": false
   },
   "outputs": [
    {
     "name": "stdout",
     "output_type": "stream",
     "text": [
      "['1' '2' '3' 'ag' '4' '5' 'False']\n",
      "<class 'numpy.ndarray'>\n"
     ]
    }
   ],
   "source": [
    "array = np.array([1, 2, 3, \"ag\", 4, 5, False]) # every element will be automatically casted to strings\n",
    "\n",
    "print(array)\n",
    "\n",
    "print(type(array))"
   ]
  },
  {
   "cell_type": "markdown",
   "metadata": {
    "collapsed": false
   },
   "source": []
  },
  {
   "cell_type": "markdown",
   "metadata": {
    "collapsed": false
   },
   "source": [
    "##### Python list vs numpy array"
   ]
  },
  {
   "cell_type": "code",
   "execution_count": 3,
   "metadata": {
    "collapsed": false
   },
   "outputs": [
    {
     "data": {
      "text/plain": [
       "array([[1, 2, 3],\n",
       "       [4, 5, 6]])"
      ]
     },
     "execution_count": 3,
     "metadata": {},
     "output_type": "execute_result"
    }
   ],
   "source": [
    "B = np.arange(1, 7).reshape(2, 3)\n",
    "B"
   ]
  },
  {
   "cell_type": "markdown",
   "metadata": {
    "collapsed": false
   },
   "source": [
    "#### to get the dimension of the numpy array"
   ]
  },
  {
   "cell_type": "code",
   "execution_count": 4,
   "metadata": {
    "collapsed": false
   },
   "outputs": [
    {
     "data": {
      "text/plain": [
       "2"
      ]
     },
     "execution_count": 4,
     "metadata": {},
     "output_type": "execute_result"
    }
   ],
   "source": [
    "np.ndim(B)"
   ]
  },
  {
   "cell_type": "markdown",
   "metadata": {
    "collapsed": false
   },
   "source": [
    "#### shape will return a tuple of N-positive integers that specifies the size for each dimension. The dimensions are defined as axes and the number of axes as rank"
   ]
  },
  {
   "cell_type": "code",
   "execution_count": 5,
   "metadata": {
    "collapsed": false
   },
   "outputs": [
    {
     "data": {
      "text/plain": [
       "(2, 3)"
      ]
     },
     "execution_count": 5,
     "metadata": {},
     "output_type": "execute_result"
    }
   ],
   "source": [
    "np.shape(B) # to get the row and column of the array"
   ]
  },
  {
   "cell_type": "markdown",
   "metadata": {
    "collapsed": false
   },
   "source": [
    "# Dimensions of numpy arrays"
   ]
  },
  {
   "cell_type": "code",
   "execution_count": 6,
   "metadata": {
    "collapsed": false
   },
   "outputs": [
    {
     "name": "stdout",
     "output_type": "stream",
     "text": [
      "0\n",
      "1\n",
      "2\n",
      "3\n"
     ]
    }
   ],
   "source": [
    "arr0 = np.array(45)\n",
    "arr1 = np.array([\n",
    "    1, 2, 3\n",
    "])\n",
    "\n",
    "arr2 = np.array([\n",
    "    [1, 2, 3],\n",
    "    [4, 5, 6]\n",
    "])\n",
    "\n",
    "\n",
    "arr3 = np.array([\n",
    "    [\n",
    "        [1, 2, 3],\n",
    "        [4, 5, 6]\n",
    "    ],\n",
    "    [\n",
    "        [7, 8, 9],\n",
    "        [10, 11, 12]\n",
    "    ]\n",
    "])\n",
    "\n",
    "\n",
    "print(arr0.ndim)\n",
    "print(arr1.ndim)\n",
    "print(arr2.ndim)\n",
    "print(arr3.ndim)"
   ]
  },
  {
   "cell_type": "code",
   "execution_count": 7,
   "metadata": {
    "collapsed": false
   },
   "outputs": [
    {
     "name": "stdout",
     "output_type": "stream",
     "text": [
      "[[0. 0. 0. 0.]\n",
      " [0. 0. 0. 0.]\n",
      " [0. 0. 0. 0.]]\n"
     ]
    }
   ],
   "source": [
    "print(np.zeros((3,4)))"
   ]
  },
  {
   "cell_type": "code",
   "execution_count": 8,
   "metadata": {
    "collapsed": false
   },
   "outputs": [
    {
     "name": "stdout",
     "output_type": "stream",
     "text": [
      "[[1. 1. 1. 1.]\n",
      " [1. 1. 1. 1.]\n",
      " [1. 1. 1. 1.]]\n"
     ]
    }
   ],
   "source": [
    "print(np.ones((3,4)))"
   ]
  },
  {
   "cell_type": "code",
   "execution_count": 9,
   "metadata": {
    "collapsed": false
   },
   "outputs": [
    {
     "name": "stdout",
     "output_type": "stream",
     "text": [
      "[[1. 0. 0.]\n",
      " [0. 1. 0.]\n",
      " [0. 0. 1.]]\n"
     ]
    }
   ],
   "source": [
    "print(np.identity(3))"
   ]
  },
  {
   "cell_type": "code",
   "execution_count": 10,
   "metadata": {
    "collapsed": false
   },
   "outputs": [
    {
     "name": "stdout",
     "output_type": "stream",
     "text": [
      "[[1. 0. 0.]\n",
      " [0. 1. 0.]\n",
      " [0. 0. 1.]]\n"
     ]
    }
   ],
   "source": [
    "print(np.eye(3))"
   ]
  },
  {
   "cell_type": "code",
   "execution_count": 11,
   "metadata": {
    "collapsed": false
   },
   "outputs": [
    {
     "data": {
      "text/plain": [
       "[1, 2, 3, 4, '5']"
      ]
     },
     "execution_count": 11,
     "metadata": {},
     "output_type": "execute_result"
    }
   ],
   "source": [
    "x = [1, 2, 3, 4, '5']\n",
    "x"
   ]
  },
  {
   "cell_type": "code",
   "execution_count": 12,
   "metadata": {
    "collapsed": false
   },
   "outputs": [
    {
     "data": {
      "text/plain": [
       "array(['1', '2', '3', '4', '5'], dtype='<U11')"
      ]
     },
     "execution_count": 12,
     "metadata": {},
     "output_type": "execute_result"
    }
   ],
   "source": [
    "y = np.array(x)\n",
    "y"
   ]
  },
  {
   "cell_type": "code",
   "execution_count": 13,
   "metadata": {
    "collapsed": false
   },
   "outputs": [
    {
     "data": {
      "text/plain": [
       "array([[ 1.,  2., 32.,  3.],\n",
       "       [21., 34., 54.,  2.]])"
      ]
     },
     "execution_count": 13,
     "metadata": {},
     "output_type": "execute_result"
    }
   ],
   "source": [
    "c = np.array([\n",
    "    [1, 2, 32, 3],\n",
    "    [21, 34, 54, 2]\n",
    "], dtype = float)\n",
    "c"
   ]
  },
  {
   "cell_type": "code",
   "execution_count": null,
   "metadata": {
    "collapsed": false
   },
   "outputs": [],
   "source": []
  },
  {
   "cell_type": "markdown",
   "metadata": {
    "collapsed": false
   },
   "source": [
    "##### arange() will fill out the an array from start to stop by step"
   ]
  },
  {
   "cell_type": "code",
   "execution_count": 14,
   "metadata": {
    "collapsed": false
   },
   "outputs": [
    {
     "data": {
      "text/plain": [
       "array([ 1,  2,  3,  4,  5,  6,  7,  8,  9, 10, 11, 12, 13, 14, 15, 16, 17,\n",
       "       18, 19, 20, 21, 22, 23, 24, 25, 26, 27, 28, 29, 30, 31])"
      ]
     },
     "execution_count": 14,
     "metadata": {},
     "output_type": "execute_result"
    }
   ],
   "source": [
    "d = np.arange(1, 32)\n",
    "d"
   ]
  },
  {
   "cell_type": "code",
   "execution_count": 15,
   "metadata": {
    "collapsed": false
   },
   "outputs": [
    {
     "data": {
      "text/plain": [
       "array([ 1,  3,  5,  7,  9, 11, 13, 15, 17, 19, 21, 23, 25, 27, 29, 31])"
      ]
     },
     "execution_count": 15,
     "metadata": {},
     "output_type": "execute_result"
    }
   ],
   "source": [
    "d = np.arange(1, 32, 2)\n",
    "d"
   ]
  },
  {
   "cell_type": "code",
   "execution_count": 16,
   "metadata": {
    "collapsed": false
   },
   "outputs": [
    {
     "data": {
      "text/plain": [
       "array([ 1.  ,  8.25, 15.5 , 22.75, 30.  ])"
      ]
     },
     "execution_count": 16,
     "metadata": {},
     "output_type": "execute_result"
    }
   ],
   "source": [
    "e = np.linspace(1, 30, 5)\n",
    "e"
   ]
  },
  {
   "cell_type": "code",
   "execution_count": null,
   "metadata": {
    "collapsed": false
   },
   "outputs": [],
   "source": []
  },
  {
   "cell_type": "code",
   "execution_count": 17,
   "metadata": {
    "collapsed": false
   },
   "outputs": [
    {
     "data": {
      "text/plain": [
       "array([ 32. ,  33.8,  35.6,  37.4,  39.2,  41. ,  42.8,  44.6,  46.4,\n",
       "        48.2,  50. ,  51.8,  53.6,  55.4,  57.2,  59. ,  60.8,  62.6,\n",
       "        64.4,  66.2,  68. ,  69.8,  71.6,  73.4,  75.2,  77. ,  78.8,\n",
       "        80.6,  82.4,  84.2,  86. ,  87.8,  89.6,  91.4,  93.2,  95. ,\n",
       "        96.8,  98.6, 100.4, 102.2, 104. , 105.8, 107.6, 109.4, 111.2,\n",
       "       113. , 114.8, 116.6, 118.4, 120.2, 122. , 123.8, 125.6, 127.4,\n",
       "       129.2, 131. , 132.8, 134.6, 136.4, 138.2, 140. , 141.8, 143.6,\n",
       "       145.4, 147.2, 149. , 150.8, 152.6, 154.4, 156.2, 158. , 159.8,\n",
       "       161.6, 163.4, 165.2, 167. , 168.8, 170.6, 172.4, 174.2, 176. ,\n",
       "       177.8, 179.6, 181.4, 183.2, 185. , 186.8, 188.6, 190.4, 192.2,\n",
       "       194. , 195.8, 197.6, 199.4, 201.2, 203. , 204.8, 206.6, 208.4,\n",
       "       210.2, 212. ])"
      ]
     },
     "execution_count": 17,
     "metadata": {},
     "output_type": "execute_result"
    }
   ],
   "source": [
    "# 1 ==> 100 List of degree in C = [1, 2, ..., 100]\n",
    "cel = np.arange(101)\n",
    "far = (cel*9/5) + 32\n",
    "far"
   ]
  },
  {
   "cell_type": "code",
   "execution_count": 18,
   "metadata": {
    "collapsed": false
   },
   "outputs": [
    {
     "name": "stdout",
     "output_type": "stream",
     "text": [
      "32.0 fahrenheit\n",
      "33.8 fahrenheit\n",
      "35.6 fahrenheit\n",
      "37.4 fahrenheit\n",
      "39.2 fahrenheit\n",
      "41.0 fahrenheit\n",
      "42.8 fahrenheit\n",
      "44.6 fahrenheit\n",
      "46.4 fahrenheit\n",
      "48.2 fahrenheit\n",
      "50.0 fahrenheit\n",
      "51.8 fahrenheit\n",
      "53.6 fahrenheit\n",
      "55.400000000000006 fahrenheit\n",
      "57.2 fahrenheit\n",
      "59.0 fahrenheit\n",
      "60.8 fahrenheit\n",
      "62.6 fahrenheit\n",
      "64.4 fahrenheit\n",
      "66.2 fahrenheit\n",
      "68.0 fahrenheit\n",
      "69.80000000000001 fahrenheit\n",
      "71.6 fahrenheit\n",
      "73.4 fahrenheit\n",
      "75.2 fahrenheit\n",
      "77.0 fahrenheit\n",
      "78.80000000000001 fahrenheit\n",
      "80.6 fahrenheit\n",
      "82.4 fahrenheit\n",
      "84.2 fahrenheit\n",
      "86.0 fahrenheit\n",
      "87.80000000000001 fahrenheit\n",
      "89.6 fahrenheit\n",
      "91.4 fahrenheit\n",
      "93.2 fahrenheit\n",
      "95.0 fahrenheit\n",
      "96.8 fahrenheit\n",
      "98.60000000000001 fahrenheit\n",
      "100.4 fahrenheit\n",
      "102.2 fahrenheit\n",
      "104.0 fahrenheit\n",
      "105.8 fahrenheit\n",
      "107.60000000000001 fahrenheit\n",
      "109.4 fahrenheit\n",
      "111.2 fahrenheit\n",
      "113.0 fahrenheit\n",
      "114.8 fahrenheit\n",
      "116.60000000000001 fahrenheit\n",
      "118.4 fahrenheit\n",
      "120.2 fahrenheit\n",
      "122.0 fahrenheit\n",
      "123.8 fahrenheit\n",
      "125.60000000000001 fahrenheit\n",
      "127.4 fahrenheit\n",
      "129.2 fahrenheit\n",
      "131.0 fahrenheit\n",
      "132.8 fahrenheit\n",
      "134.60000000000002 fahrenheit\n",
      "136.4 fahrenheit\n",
      "138.2 fahrenheit\n",
      "140.0 fahrenheit\n",
      "141.8 fahrenheit\n",
      "143.60000000000002 fahrenheit\n",
      "145.4 fahrenheit\n",
      "147.2 fahrenheit\n",
      "149.0 fahrenheit\n",
      "150.8 fahrenheit\n",
      "152.60000000000002 fahrenheit\n",
      "154.4 fahrenheit\n",
      "156.2 fahrenheit\n",
      "158.0 fahrenheit\n",
      "159.8 fahrenheit\n",
      "161.6 fahrenheit\n",
      "163.4 fahrenheit\n",
      "165.20000000000002 fahrenheit\n",
      "167.0 fahrenheit\n",
      "168.8 fahrenheit\n",
      "170.6 fahrenheit\n",
      "172.4 fahrenheit\n",
      "174.20000000000002 fahrenheit\n",
      "176.0 fahrenheit\n",
      "177.8 fahrenheit\n",
      "179.6 fahrenheit\n",
      "181.4 fahrenheit\n",
      "183.20000000000002 fahrenheit\n",
      "185.0 fahrenheit\n",
      "186.8 fahrenheit\n",
      "188.6 fahrenheit\n",
      "190.4 fahrenheit\n",
      "192.20000000000002 fahrenheit\n",
      "194.0 fahrenheit\n",
      "195.8 fahrenheit\n",
      "197.6 fahrenheit\n",
      "199.4 fahrenheit\n",
      "201.20000000000002 fahrenheit\n",
      "203.0 fahrenheit\n",
      "204.8 fahrenheit\n",
      "206.6 fahrenheit\n",
      "208.4 fahrenheit\n",
      "210.20000000000002 fahrenheit\n",
      "212.0 fahrenheit\n"
     ]
    }
   ],
   "source": [
    "G = [c * (9/5) + 32 for c in range(101)]\n",
    "for g in G:\n",
    "    print(f\"{g} fahrenheit\")"
   ]
  },
  {
   "cell_type": "code",
   "execution_count": 19,
   "metadata": {
    "collapsed": false
   },
   "outputs": [
    {
     "name": "stdout",
     "output_type": "stream",
     "text": [
      "Time taken by lists: 0.0009965896606445312 seconds.\n",
      "Time taken by Numpy Arrays: 0.0 seconds\n"
     ]
    }
   ],
   "source": [
    "import time\n",
    "import numpy\n",
    "size = 1000\n",
    "\n",
    "list1 = range(size)\n",
    "list2 = range(size)\n",
    "\n",
    "array1 = numpy.arange(size)\n",
    "array2 = numpy.arange(size)\n",
    "\n",
    "\n",
    "initialTime = time.time()\n",
    "resultant_list = [(a*b) for a,b in zip(list1, list2)]\n",
    "\n",
    "\n",
    "print(f\"Time taken by lists: {time.time() - initialTime} seconds.\")\n",
    "\n",
    "\n",
    "# Numpy array\n",
    "initialTime = time.time()\n",
    "resultantArray = array1 * array2\n",
    "print(f\"Time taken by Numpy Arrays: {time.time() - initialTime} seconds\")"
   ]
  },
  {
   "cell_type": "code",
   "execution_count": 20,
   "metadata": {
    "collapsed": false
   },
   "outputs": [
    {
     "name": "stdout",
     "output_type": "stream",
     "text": [
      "11.7 µs ± 1.96 µs per loop (mean ± std. dev. of 7 runs, 100,000 loops each)\n"
     ]
    }
   ],
   "source": [
    "%timeit -n100000 np.arange(101)*9/5 + 32"
   ]
  },
  {
   "cell_type": "code",
   "execution_count": 21,
   "metadata": {
    "collapsed": false
   },
   "outputs": [
    {
     "name": "stdout",
     "output_type": "stream",
     "text": [
      "13.1 µs ± 635 ns per loop (mean ± std. dev. of 7 runs, 100,000 loops each)\n"
     ]
    }
   ],
   "source": [
    "%timeit -n100000 [c*(9/2)+32 for c in range(101)]"
   ]
  },
  {
   "cell_type": "code",
   "execution_count": 22,
   "metadata": {
    "collapsed": false
   },
   "outputs": [
    {
     "data": {
      "text/plain": [
       "[34000, 67000, 89000, 33800.0]"
      ]
     },
     "execution_count": 22,
     "metadata": {},
     "output_type": "execute_result"
    }
   ],
   "source": [
    "# km to m\n",
    "\n",
    "km = [34, 67, 89, 33.8]\n",
    "m = [1000*k for k in km]\n",
    "m"
   ]
  },
  {
   "cell_type": "code",
   "execution_count": 23,
   "metadata": {
    "collapsed": false
   },
   "outputs": [
    {
     "data": {
      "text/plain": [
       "[34000, 67000, 89000, 33800.0]"
      ]
     },
     "execution_count": 23,
     "metadata": {},
     "output_type": "execute_result"
    }
   ],
   "source": [
    "x = []\n",
    "for i in range(len(km)):\n",
    "    x.append(km[i]*1000)\n",
    "x"
   ]
  },
  {
   "cell_type": "code",
   "execution_count": 24,
   "metadata": {
    "collapsed": false
   },
   "outputs": [
    {
     "data": {
      "text/plain": [
       "<map at 0x2e2de3e5a60>"
      ]
     },
     "execution_count": 24,
     "metadata": {},
     "output_type": "execute_result"
    }
   ],
   "source": [
    "m2 = map(lambda y: y*1000, km)\n",
    "m2"
   ]
  },
  {
   "cell_type": "code",
   "execution_count": 25,
   "metadata": {
    "collapsed": false
   },
   "outputs": [
    {
     "data": {
      "text/plain": [
       "[34000, 67000, 89000, 33800.0]"
      ]
     },
     "execution_count": 25,
     "metadata": {},
     "output_type": "execute_result"
    }
   ],
   "source": [
    "m3 = list(m2)\n",
    "m3"
   ]
  },
  {
   "cell_type": "code",
   "execution_count": 26,
   "metadata": {
    "collapsed": false
   },
   "outputs": [
    {
     "data": {
      "text/plain": [
       "array([34000., 67000., 89000., 33800.])"
      ]
     },
     "execution_count": 26,
     "metadata": {},
     "output_type": "execute_result"
    }
   ],
   "source": [
    "m4 = np.array(km) * 1000\n",
    "m4"
   ]
  },
  {
   "cell_type": "code",
   "execution_count": 27,
   "metadata": {
    "collapsed": false
   },
   "outputs": [
    {
     "name": "stdout",
     "output_type": "stream",
     "text": [
      "\n",
      "Concatenation:\n",
      "Time taken by Lists : 0.032912254333496094 seconds\n",
      "Time taken by NumPy Arrays : 0.005986213684082031 seconds\n",
      "\n",
      "Dot Product:\n",
      "Time taken by Lists : 0.37977170944213867 seconds\n",
      "Time taken by NumPy Arrays : 0.0029883384704589844 seconds\n",
      "\n",
      "Scalar Addition:\n",
      "Time taken by Lists : 0.12525558471679688 seconds\n",
      "Time taken by NumPy Arrays : 0.0020456314086914062 seconds\n",
      "\n",
      "Deletion: \n",
      "Time taken by Lists : 0.018604278564453125 seconds\n",
      "Time taken by NumPy Arrays : 0.0 seconds\n"
     ]
    }
   ],
   "source": [
    "# importing required packages\n",
    "import numpy\n",
    "import time\n",
    "\n",
    "\n",
    "# size of arrays and lists\n",
    "size = 1000000\n",
    "\n",
    "# declaring lists\n",
    "list1 = [i for i in range(size)]\n",
    "list2 = [i for i in range(size)]\n",
    "\n",
    "# declaring arrays\n",
    "array1 = numpy.arange(size)\n",
    "array2 = numpy.arange(size)\n",
    "\n",
    "# Concatenation\n",
    "print(\"\\nConcatenation:\")\n",
    "\n",
    "# list\n",
    "initialTime = time.time()\n",
    "list1 = list1 + list2\n",
    "\n",
    "# calculating execution time\n",
    "print(\"Time taken by Lists :\",\n",
    "\t(time.time() - initialTime),\n",
    "\t\"seconds\")\n",
    "\n",
    "# NumPy array\n",
    "initialTime = time.time()\n",
    "array = numpy.concatenate((array1, array2),\n",
    "\t\t\t\t\t\taxis = 0)\n",
    "\n",
    "# calculating execution time\n",
    "print(\"Time taken by NumPy Arrays :\",\n",
    "\t(time.time() - initialTime),\n",
    "\t\"seconds\")\n",
    "\n",
    "\n",
    "# Dot Product\n",
    "dot = 0\n",
    "print(\"\\nDot Product:\")\n",
    "\n",
    "# list\n",
    "initialTime = time.time()\n",
    "for a, b in zip(list1, list2):\n",
    "\t\tdot = dot + (a * b)\n",
    "\n",
    "# calculating execution time\n",
    "print(\"Time taken by Lists :\",\n",
    "\t(time.time() - initialTime),\n",
    "\t\"seconds\")\n",
    "\n",
    "# NumPy array\n",
    "initialTime = time.time()\n",
    "array = numpy.dot(array1, array2)\n",
    "\n",
    "# calculating execution time\n",
    "print(\"Time taken by NumPy Arrays :\",\n",
    "\t(time.time() - initialTime),\n",
    "\t\"seconds\")\n",
    "\n",
    "\n",
    "# Scalar Addition\n",
    "print(\"\\nScalar Addition:\")\n",
    "\n",
    "# list\n",
    "initialTime = time.time()\n",
    "list1 =[i + 2 for i in range(size)]\n",
    "\n",
    "# calculating execution time\n",
    "print(\"Time taken by Lists :\",\n",
    "\t(time.time() - initialTime),\n",
    "\t\"seconds\")\n",
    "\n",
    "# NumPy array\n",
    "initialTime = time.time()\n",
    "array1 = array1 + 2\n",
    "\n",
    "# calculating execution time\n",
    "print(\"Time taken by NumPy Arrays :\",\n",
    "\t(time.time() - initialTime),\n",
    "\t\"seconds\")\n",
    "\n",
    "\n",
    "# Deletion\n",
    "print(\"\\nDeletion: \")\n",
    "\n",
    "# list\n",
    "initialTime = time.time()\n",
    "del(list1)\n",
    "\n",
    "# calculating execution time\n",
    "print(\"Time taken by Lists :\",\n",
    "\t(time.time() - initialTime),\n",
    "\t\"seconds\")\n",
    "\n",
    "# NumPy array\n",
    "initialTime = time.time()\n",
    "del(array1)\n",
    "\n",
    "# calculating execution time\n",
    "print(\"Time taken by NumPy Arrays :\",\n",
    "\t(time.time() - initialTime),\n",
    "\t\"seconds\")\n"
   ]
  },
  {
   "cell_type": "code",
   "execution_count": 28,
   "metadata": {
    "collapsed": false
   },
   "outputs": [],
   "source": [
    "import random"
   ]
  },
  {
   "cell_type": "code",
   "execution_count": 29,
   "metadata": {
    "collapsed": false
   },
   "outputs": [],
   "source": [
    "def get_random_array(n):\n",
    "    X = []\n",
    "    for i in range(n):\n",
    "        X.append(random.randint(-21, 2*i**3+ 12 - n))\n",
    "    return np.array(X)"
   ]
  },
  {
   "cell_type": "code",
   "execution_count": 30,
   "metadata": {
    "collapsed": false
   },
   "outputs": [
    {
     "data": {
      "text/plain": [
       "array([-20, -16, -20,  35,  32,  33, 375,  79, 459, 349])"
      ]
     },
     "execution_count": 30,
     "metadata": {},
     "output_type": "execute_result"
    }
   ],
   "source": [
    "C = get_random_array(10)\n",
    "C"
   ]
  },
  {
   "cell_type": "code",
   "execution_count": 31,
   "metadata": {
    "collapsed": false
   },
   "outputs": [
    {
     "data": {
      "text/plain": [
       "array([-10,  -6, -10,  45,  42,  43, 385,  89, 469, 359])"
      ]
     },
     "execution_count": 31,
     "metadata": {},
     "output_type": "execute_result"
    }
   ],
   "source": [
    "C + 10"
   ]
  },
  {
   "cell_type": "code",
   "execution_count": 32,
   "metadata": {
    "collapsed": false
   },
   "outputs": [
    {
     "data": {
      "text/plain": [
       "array([ -9,  -5,  -9,  46,  43,  44, 386,  90, 470, 360])"
      ]
     },
     "execution_count": 32,
     "metadata": {},
     "output_type": "execute_result"
    }
   ],
   "source": [
    "C + 11"
   ]
  },
  {
   "cell_type": "code",
   "execution_count": 33,
   "metadata": {
    "collapsed": false
   },
   "outputs": [
    {
     "data": {
      "text/plain": [
       "array([   400,    256,    400,   1225,   1024,   1089, 140625,   6241,\n",
       "       210681, 121801])"
      ]
     },
     "execution_count": 33,
     "metadata": {},
     "output_type": "execute_result"
    }
   ],
   "source": [
    "C ** 2"
   ]
  },
  {
   "cell_type": "code",
   "execution_count": 34,
   "metadata": {
    "collapsed": false
   },
   "outputs": [
    {
     "data": {
      "text/plain": [
       "array([-41, -33, -41,  69,  63,  65, 749, 157, 917, 697])"
      ]
     },
     "execution_count": 34,
     "metadata": {},
     "output_type": "execute_result"
    }
   ],
   "source": [
    "C*2 - 1"
   ]
  },
  {
   "cell_type": "code",
   "execution_count": 35,
   "metadata": {
    "collapsed": false
   },
   "outputs": [],
   "source": [
    "import matplotlib.pyplot as plt\n",
    "%matplotlib inline"
   ]
  },
  {
   "cell_type": "code",
   "execution_count": 36,
   "metadata": {
    "collapsed": false
   },
   "outputs": [
    {
     "data": {
      "text/plain": [
       "[<matplotlib.lines.Line2D at 0x2e2df338940>]"
      ]
     },
     "execution_count": 36,
     "metadata": {},
     "output_type": "execute_result"
    },
    {
     "data": {
      "image/png": "[encoded data removed]",
      "text/plain": [
       "<Figure size 640x480 with 1 Axes>"
      ]
     },
     "metadata": {},
     "output_type": "display_data"
    }
   ],
   "source": [
    "plt.plot(C)"
   ]
  },
  {
   "cell_type": "code",
   "execution_count": 37,
   "metadata": {
    "collapsed": false
   },
   "outputs": [
    {
     "data": {
      "text/plain": [
       "[<matplotlib.lines.Line2D at 0x2e2df5694c0>]"
      ]
     },
     "execution_count": 37,
     "metadata": {},
     "output_type": "execute_result"
    },
    {
     "data": {
      "image/png": "[encoded data removed]",
      "text/plain": [
       "<Figure size 640x480 with 1 Axes>"
      ]
     },
     "metadata": {},
     "output_type": "display_data"
    }
   ],
   "source": [
    "plt.plot(2*C+ 90)"
   ]
  },
  {
   "cell_type": "code",
   "execution_count": 38,
   "metadata": {
    "collapsed": false
   },
   "outputs": [
    {
     "data": {
      "text/plain": [
       "array([[11, 12, 13],\n",
       "       [14, 15, 16]], dtype=object)"
      ]
     },
     "execution_count": 38,
     "metadata": {},
     "output_type": "execute_result"
    }
   ],
   "source": [
    "# 2D array basic calculation\n",
    "\n",
    "q = np.array([\n",
    "    [1,2,3],\n",
    "    [4,5,6]\n",
    "], dtype = object)\n",
    "q + 10"
   ]
  },
  {
   "cell_type": "code",
   "execution_count": 39,
   "metadata": {
    "collapsed": false
   },
   "outputs": [
    {
     "ename": "RuntimeError",
     "evalue": "matplotlib does not support generators as input",
     "output_type": "error",
     "traceback": [
      "\u001b[1;31m---------------------------------------------------------------------------\u001b[0m",
      "\u001b[1;31mRuntimeError\u001b[0m                              Traceback (most recent call last)",
      "Cell \u001b[1;32mIn[39], line 7\u001b[0m\n\u001b[0;32m      5\u001b[0m y2 \u001b[39m=\u001b[39m \u001b[39mmap\u001b[39m(math\u001b[39m.\u001b[39msin,math\u001b[39m.\u001b[39mpi\u001b[39m*\u001b[39mt\u001b[39m+\u001b[39mmath\u001b[39m.\u001b[39mpi\u001b[39m/\u001b[39m\u001b[39m2\u001b[39m)\n\u001b[0;32m      6\u001b[0m y3 \u001b[39m=\u001b[39m \u001b[39mmap\u001b[39m(math\u001b[39m.\u001b[39msin,math\u001b[39m.\u001b[39mpi\u001b[39m*\u001b[39mt\u001b[39m-\u001b[39mmath\u001b[39m.\u001b[39mpi\u001b[39m/\u001b[39m\u001b[39m2\u001b[39m)\n\u001b[1;32m----> 7\u001b[0m plt\u001b[39m.\u001b[39;49mplot(t,y1,\u001b[39m'\u001b[39;49m\u001b[39mb*\u001b[39;49m\u001b[39m'\u001b[39;49m,t,y2,\u001b[39m'\u001b[39;49m\u001b[39mg^\u001b[39;49m\u001b[39m'\u001b[39;49m,t,y3,\u001b[39m'\u001b[39;49m\u001b[39mys\u001b[39;49m\u001b[39m'\u001b[39;49m)\n",
      "File \u001b[1;32mc:\\Users\\LH\\AppData\\Local\\Programs\\Python\\Python39\\lib\\site-packages\\matplotlib\\pyplot.py:2728\u001b[0m, in \u001b[0;36mplot\u001b[1;34m(scalex, scaley, data, *args, **kwargs)\u001b[0m\n\u001b[0;32m   2726\u001b[0m \u001b[39m@_copy_docstring_and_deprecators\u001b[39m(Axes\u001b[39m.\u001b[39mplot)\n\u001b[0;32m   2727\u001b[0m \u001b[39mdef\u001b[39;00m \u001b[39mplot\u001b[39m(\u001b[39m*\u001b[39margs, scalex\u001b[39m=\u001b[39m\u001b[39mTrue\u001b[39;00m, scaley\u001b[39m=\u001b[39m\u001b[39mTrue\u001b[39;00m, data\u001b[39m=\u001b[39m\u001b[39mNone\u001b[39;00m, \u001b[39m*\u001b[39m\u001b[39m*\u001b[39mkwargs):\n\u001b[1;32m-> 2728\u001b[0m     \u001b[39mreturn\u001b[39;00m gca()\u001b[39m.\u001b[39mplot(\n\u001b[0;32m   2729\u001b[0m         \u001b[39m*\u001b[39margs, scalex\u001b[39m=\u001b[39mscalex, scaley\u001b[39m=\u001b[39mscaley,\n\u001b[0;32m   2730\u001b[0m         \u001b[39m*\u001b[39m\u001b[39m*\u001b[39m({\u001b[39m\"\u001b[39m\u001b[39mdata\u001b[39m\u001b[39m\"\u001b[39m: data} \u001b[39mif\u001b[39;00m data \u001b[39mis\u001b[39;00m \u001b[39mnot\u001b[39;00m \u001b[39mNone\u001b[39;00m \u001b[39melse\u001b[39;00m {}), \u001b[39m*\u001b[39m\u001b[39m*\u001b[39mkwargs)\n",
      "File \u001b[1;32mc:\\Users\\LH\\AppData\\Local\\Programs\\Python\\Python39\\lib\\site-packages\\matplotlib\\axes\\_axes.py:1662\u001b[0m, in \u001b[0;36mAxes.plot\u001b[1;34m(self, scalex, scaley, data, *args, **kwargs)\u001b[0m\n\u001b[0;32m   1419\u001b[0m \u001b[39m\u001b[39m\u001b[39m\"\"\"\u001b[39;00m\n\u001b[0;32m   1420\u001b[0m \u001b[39mPlot y versus x as lines and/or markers.\u001b[39;00m\n\u001b[0;32m   1421\u001b[0m \n\u001b[1;32m   (...)\u001b[0m\n\u001b[0;32m   1659\u001b[0m \u001b[39m(``'green'``) or hex strings (``'#008000'``).\u001b[39;00m\n\u001b[0;32m   1660\u001b[0m \u001b[39m\"\"\"\u001b[39;00m\n\u001b[0;32m   1661\u001b[0m kwargs \u001b[39m=\u001b[39m cbook\u001b[39m.\u001b[39mnormalize_kwargs(kwargs, mlines\u001b[39m.\u001b[39mLine2D)\n\u001b[1;32m-> 1662\u001b[0m lines \u001b[39m=\u001b[39m [\u001b[39m*\u001b[39m\u001b[39mself\u001b[39m\u001b[39m.\u001b[39m_get_lines(\u001b[39m*\u001b[39margs, data\u001b[39m=\u001b[39mdata, \u001b[39m*\u001b[39m\u001b[39m*\u001b[39mkwargs)]\n\u001b[0;32m   1663\u001b[0m \u001b[39mfor\u001b[39;00m line \u001b[39min\u001b[39;00m lines:\n\u001b[0;32m   1664\u001b[0m     \u001b[39mself\u001b[39m\u001b[39m.\u001b[39madd_line(line)\n",
      "File \u001b[1;32mc:\\Users\\LH\\AppData\\Local\\Programs\\Python\\Python39\\lib\\site-packages\\matplotlib\\axes\\_base.py:311\u001b[0m, in \u001b[0;36m_process_plot_var_args.__call__\u001b[1;34m(self, data, *args, **kwargs)\u001b[0m\n\u001b[0;32m    309\u001b[0m     this \u001b[39m+\u001b[39m\u001b[39m=\u001b[39m args[\u001b[39m0\u001b[39m],\n\u001b[0;32m    310\u001b[0m     args \u001b[39m=\u001b[39m args[\u001b[39m1\u001b[39m:]\n\u001b[1;32m--> 311\u001b[0m \u001b[39myield from\u001b[39;00m \u001b[39mself\u001b[39;49m\u001b[39m.\u001b[39;49m_plot_args(\n\u001b[0;32m    312\u001b[0m     this, kwargs, ambiguous_fmt_datakey\u001b[39m=\u001b[39;49mambiguous_fmt_datakey)\n",
      "File \u001b[1;32mc:\\Users\\LH\\AppData\\Local\\Programs\\Python\\Python39\\lib\\site-packages\\matplotlib\\axes\\_base.py:501\u001b[0m, in \u001b[0;36m_process_plot_var_args._plot_args\u001b[1;34m(self, tup, kwargs, return_kwargs, ambiguous_fmt_datakey)\u001b[0m\n\u001b[0;32m    499\u001b[0m     \u001b[39mself\u001b[39m\u001b[39m.\u001b[39maxes\u001b[39m.\u001b[39mxaxis\u001b[39m.\u001b[39mupdate_units(x)\n\u001b[0;32m    500\u001b[0m \u001b[39mif\u001b[39;00m \u001b[39mself\u001b[39m\u001b[39m.\u001b[39maxes\u001b[39m.\u001b[39myaxis \u001b[39mis\u001b[39;00m \u001b[39mnot\u001b[39;00m \u001b[39mNone\u001b[39;00m:\n\u001b[1;32m--> 501\u001b[0m     \u001b[39mself\u001b[39;49m\u001b[39m.\u001b[39;49maxes\u001b[39m.\u001b[39;49myaxis\u001b[39m.\u001b[39;49mupdate_units(y)\n\u001b[0;32m    503\u001b[0m \u001b[39mif\u001b[39;00m x\u001b[39m.\u001b[39mshape[\u001b[39m0\u001b[39m] \u001b[39m!=\u001b[39m y\u001b[39m.\u001b[39mshape[\u001b[39m0\u001b[39m]:\n\u001b[0;32m    504\u001b[0m     \u001b[39mraise\u001b[39;00m \u001b[39mValueError\u001b[39;00m(\u001b[39mf\u001b[39m\u001b[39m\"\u001b[39m\u001b[39mx and y must have same first dimension, but \u001b[39m\u001b[39m\"\u001b[39m\n\u001b[0;32m    505\u001b[0m                      \u001b[39mf\u001b[39m\u001b[39m\"\u001b[39m\u001b[39mhave shapes \u001b[39m\u001b[39m{\u001b[39;00mx\u001b[39m.\u001b[39mshape\u001b[39m}\u001b[39;00m\u001b[39m and \u001b[39m\u001b[39m{\u001b[39;00my\u001b[39m.\u001b[39mshape\u001b[39m}\u001b[39;00m\u001b[39m\"\u001b[39m)\n",
      "File \u001b[1;32mc:\\Users\\LH\\AppData\\Local\\Programs\\Python\\Python39\\lib\\site-packages\\matplotlib\\axis.py:1602\u001b[0m, in \u001b[0;36mAxis.update_units\u001b[1;34m(self, data)\u001b[0m\n\u001b[0;32m   1596\u001b[0m \u001b[39mdef\u001b[39;00m \u001b[39mupdate_units\u001b[39m(\u001b[39mself\u001b[39m, data):\n\u001b[0;32m   1597\u001b[0m \u001b[39m    \u001b[39m\u001b[39m\"\"\"\u001b[39;00m\n\u001b[0;32m   1598\u001b[0m \u001b[39m    Introspect *data* for units converter and update the\u001b[39;00m\n\u001b[0;32m   1599\u001b[0m \u001b[39m    axis.converter instance if necessary. Return *True*\u001b[39;00m\n\u001b[0;32m   1600\u001b[0m \u001b[39m    if *data* is registered for unit conversion.\u001b[39;00m\n\u001b[0;32m   1601\u001b[0m \u001b[39m    \"\"\"\u001b[39;00m\n\u001b[1;32m-> 1602\u001b[0m     converter \u001b[39m=\u001b[39m munits\u001b[39m.\u001b[39;49mregistry\u001b[39m.\u001b[39;49mget_converter(data)\n\u001b[0;32m   1603\u001b[0m     \u001b[39mif\u001b[39;00m converter \u001b[39mis\u001b[39;00m \u001b[39mNone\u001b[39;00m:\n\u001b[0;32m   1604\u001b[0m         \u001b[39mreturn\u001b[39;00m \u001b[39mFalse\u001b[39;00m\n",
      "File \u001b[1;32mc:\\Users\\LH\\AppData\\Local\\Programs\\Python\\Python39\\lib\\site-packages\\matplotlib\\units.py:207\u001b[0m, in \u001b[0;36mRegistry.get_converter\u001b[1;34m(self, x)\u001b[0m\n\u001b[0;32m    203\u001b[0m \u001b[39melse\u001b[39;00m:\n\u001b[0;32m    204\u001b[0m     \u001b[39m# ... and avoid infinite recursion for pathological iterables for\u001b[39;00m\n\u001b[0;32m    205\u001b[0m     \u001b[39m# which indexing returns instances of the same iterable class.\u001b[39;00m\n\u001b[0;32m    206\u001b[0m     \u001b[39mif\u001b[39;00m \u001b[39mtype\u001b[39m(first) \u001b[39mis\u001b[39;00m \u001b[39mnot\u001b[39;00m \u001b[39mtype\u001b[39m(x):\n\u001b[1;32m--> 207\u001b[0m         \u001b[39mreturn\u001b[39;00m \u001b[39mself\u001b[39;49m\u001b[39m.\u001b[39;49mget_converter(first)\n\u001b[0;32m    208\u001b[0m \u001b[39mreturn\u001b[39;00m \u001b[39mNone\u001b[39;00m\n",
      "File \u001b[1;32mc:\\Users\\LH\\AppData\\Local\\Programs\\Python\\Python39\\lib\\site-packages\\matplotlib\\units.py:200\u001b[0m, in \u001b[0;36mRegistry.get_converter\u001b[1;34m(self, x)\u001b[0m\n\u001b[0;32m    198\u001b[0m         \u001b[39mpass\u001b[39;00m\n\u001b[0;32m    199\u001b[0m \u001b[39mtry\u001b[39;00m:  \u001b[39m# If cache lookup fails, look up based on first element...\u001b[39;00m\n\u001b[1;32m--> 200\u001b[0m     first \u001b[39m=\u001b[39m cbook\u001b[39m.\u001b[39;49m_safe_first_non_none(x)\n\u001b[0;32m    201\u001b[0m \u001b[39mexcept\u001b[39;00m (\u001b[39mTypeError\u001b[39;00m, \u001b[39mStopIteration\u001b[39;00m):\n\u001b[0;32m    202\u001b[0m     \u001b[39mpass\u001b[39;00m\n",
      "File \u001b[1;32mc:\\Users\\LH\\AppData\\Local\\Programs\\Python\\Python39\\lib\\site-packages\\matplotlib\\cbook\\__init__.py:1735\u001b[0m, in \u001b[0;36m_safe_first_non_none\u001b[1;34m(obj, skip_none)\u001b[0m\n\u001b[0;32m   1733\u001b[0m     \u001b[39mreturn\u001b[39;00m obj[\u001b[39m0\u001b[39m]\n\u001b[0;32m   1734\u001b[0m \u001b[39melif\u001b[39;00m \u001b[39misinstance\u001b[39m(obj, collections\u001b[39m.\u001b[39mabc\u001b[39m.\u001b[39mIterator):\n\u001b[1;32m-> 1735\u001b[0m     \u001b[39mraise\u001b[39;00m \u001b[39mRuntimeError\u001b[39;00m(\u001b[39m\"\u001b[39m\u001b[39mmatplotlib does not \u001b[39m\u001b[39m\"\u001b[39m\n\u001b[0;32m   1736\u001b[0m                        \u001b[39m\"\u001b[39m\u001b[39msupport generators as input\u001b[39m\u001b[39m\"\u001b[39m)\n\u001b[0;32m   1737\u001b[0m \u001b[39melse\u001b[39;00m:\n\u001b[0;32m   1738\u001b[0m     \u001b[39mreturn\u001b[39;00m \u001b[39mnext\u001b[39m(val \u001b[39mfor\u001b[39;00m val \u001b[39min\u001b[39;00m obj \u001b[39mif\u001b[39;00m val \u001b[39mis\u001b[39;00m \u001b[39mnot\u001b[39;00m \u001b[39mNone\u001b[39;00m)\n",
      "\u001b[1;31mRuntimeError\u001b[0m: matplotlib does not support generators as input"
     ]
    },
    {
     "data": {
      "image/png": "[encoded data removed]",
      "text/plain": [
       "<Figure size 640x480 with 1 Axes>"
      ]
     },
     "metadata": {},
     "output_type": "display_data"
    }
   ],
   "source": [
    "import math\n",
    "import numpy as np\n",
    "t = np.arange(0,2.5,0.1)\n",
    "y1 = map(math.sin,math.pi*t)\n",
    "y2 = map(math.sin,math.pi*t+math.pi/2)\n",
    "y3 = map(math.sin,math.pi*t-math.pi/2)\n",
    "plt.plot(t,y1,'b*',t,y2,'g^',t,y3,'ys')"
   ]
  },
  {
   "cell_type": "code",
   "execution_count": null,
   "metadata": {
    "collapsed": false
   },
   "outputs": [
    {
     "data": {
      "text/plain": [
       "array([-20,   0, -11,  53, 119, 132, 202, 348,   5, 164])"
      ]
     },
     "execution_count": 137,
     "metadata": {},
     "output_type": "execute_result"
    }
   ],
   "source": [
    "x = get_random_array(10)\n",
    "y = get_random_array(10)\n",
    "\n",
    "x"
   ]
  },
  {
   "cell_type": "code",
   "execution_count": null,
   "metadata": {
    "collapsed": false
   },
   "outputs": [
    {
     "data": {
      "text/plain": [
       "array([ -6, -19,  18,  28, 109, 117, 259,  -4, 241, 781])"
      ]
     },
     "execution_count": 117,
     "metadata": {},
     "output_type": "execute_result"
    }
   ],
   "source": [
    "y"
   ]
  },
  {
   "cell_type": "code",
   "execution_count": null,
   "metadata": {
    "collapsed": false
   },
   "outputs": [
    {
     "data": {
      "text/plain": [
       "array([ -15,    3,  -32,  -10, -119, -123,   30,  323,  319, -182])"
      ]
     },
     "execution_count": 118,
     "metadata": {},
     "output_type": "execute_result"
    }
   ],
   "source": [
    "x-y"
   ]
  },
  {
   "cell_type": "code",
   "execution_count": null,
   "metadata": {
    "collapsed": false
   },
   "outputs": [
    {
     "data": {
      "text/plain": [
       "array([ -27,  -35,    4,   46,   99,  111,  548,  315,  801, 1380])"
      ]
     },
     "execution_count": 119,
     "metadata": {},
     "output_type": "execute_result"
    }
   ],
   "source": [
    "x+y"
   ]
  },
  {
   "cell_type": "code",
   "execution_count": null,
   "metadata": {
    "collapsed": false
   },
   "outputs": [
    {
     "data": {
      "text/plain": [
       "array([   126,    304,   -252,    504,  -1090,   -702,  74851,  -1276,\n",
       "       134960, 467819])"
      ]
     },
     "execution_count": 120,
     "metadata": {},
     "output_type": "execute_result"
    }
   ],
   "source": [
    "x*y"
   ]
  },
  {
   "cell_type": "code",
   "execution_count": null,
   "metadata": {
    "collapsed": false
   },
   "outputs": [
    {
     "data": {
      "text/plain": [
       "array([  3,   0,  -1,   0,  -1,  -1,   1, -80,   2,   0])"
      ]
     },
     "execution_count": 121,
     "metadata": {},
     "output_type": "execute_result"
    }
   ],
   "source": [
    "x//y"
   ]
  },
  {
   "cell_type": "code",
   "execution_count": null,
   "metadata": {
    "collapsed": false
   },
   "outputs": [
    {
     "data": {
      "text/plain": [
       "array([ 3.50000000e+00,  8.42105263e-01, -7.77777778e-01,  6.42857143e-01,\n",
       "       -9.17431193e-02, -5.12820513e-02,  1.11583012e+00, -7.97500000e+01,\n",
       "        2.32365145e+00,  7.66965429e-01])"
      ]
     },
     "execution_count": 122,
     "metadata": {},
     "output_type": "execute_result"
    }
   ],
   "source": [
    "x/y"
   ]
  },
  {
   "cell_type": "code",
   "execution_count": null,
   "metadata": {
    "collapsed": false
   },
   "outputs": [
    {
     "data": {
      "text/plain": [
       "array([ -3, -16,   4,  18,  99, 111,  30,  -1,  78, 599])"
      ]
     },
     "execution_count": 123,
     "metadata": {},
     "output_type": "execute_result"
    }
   ],
   "source": [
    "x%y"
   ]
  },
  {
   "cell_type": "code",
   "execution_count": null,
   "metadata": {
    "collapsed": false
   },
   "outputs": [
    {
     "data": {
      "text/plain": [
       "-21"
      ]
     },
     "execution_count": 124,
     "metadata": {},
     "output_type": "execute_result"
    }
   ],
   "source": [
    "x.min()"
   ]
  },
  {
   "cell_type": "code",
   "execution_count": null,
   "metadata": {
    "collapsed": false
   },
   "outputs": [
    {
     "data": {
      "text/plain": [
       "-21"
      ]
     },
     "execution_count": 125,
     "metadata": {},
     "output_type": "execute_result"
    }
   ],
   "source": [
    "np.min(x)"
   ]
  },
  {
   "cell_type": "code",
   "execution_count": null,
   "metadata": {
    "collapsed": false
   },
   "outputs": [
    {
     "data": {
      "text/plain": [
       "599"
      ]
     },
     "execution_count": 126,
     "metadata": {},
     "output_type": "execute_result"
    }
   ],
   "source": [
    "np.max(x)"
   ]
  },
  {
   "cell_type": "code",
   "execution_count": null,
   "metadata": {
    "collapsed": false
   },
   "outputs": [
    {
     "data": {
      "text/plain": [
       "599"
      ]
     },
     "execution_count": 127,
     "metadata": {},
     "output_type": "execute_result"
    }
   ],
   "source": [
    "x.max()"
   ]
  },
  {
   "cell_type": "code",
   "execution_count": null,
   "metadata": {
    "collapsed": false
   },
   "outputs": [
    {
     "data": {
      "text/plain": [
       "1718"
      ]
     },
     "execution_count": 128,
     "metadata": {},
     "output_type": "execute_result"
    }
   ],
   "source": [
    "x.sum()"
   ]
  },
  {
   "cell_type": "code",
   "execution_count": null,
   "metadata": {
    "collapsed": false
   },
   "outputs": [
    {
     "data": {
      "text/plain": [
       "1718"
      ]
     },
     "execution_count": 129,
     "metadata": {},
     "output_type": "execute_result"
    }
   ],
   "source": [
    "np.sum(x)"
   ]
  },
  {
   "cell_type": "code",
   "execution_count": null,
   "metadata": {
    "collapsed": false
   },
   "outputs": [
    {
     "data": {
      "text/plain": [
       "6.0"
      ]
     },
     "execution_count": 130,
     "metadata": {},
     "output_type": "execute_result"
    }
   ],
   "source": [
    "np.median(x)"
   ]
  },
  {
   "cell_type": "code",
   "execution_count": null,
   "metadata": {
    "collapsed": false
   },
   "outputs": [
    {
     "data": {
      "text/plain": [
       "171.8"
      ]
     },
     "execution_count": 131,
     "metadata": {},
     "output_type": "execute_result"
    }
   ],
   "source": [
    "np.mean(x)"
   ]
  },
  {
   "cell_type": "code",
   "execution_count": null,
   "metadata": {
    "collapsed": false
   },
   "outputs": [
    {
     "data": {
      "text/plain": [
       "array([-21, -16, -14, -10,  -6,  18, 289, 319, 560, 599])"
      ]
     },
     "execution_count": 132,
     "metadata": {},
     "output_type": "execute_result"
    }
   ],
   "source": [
    "np.sort(x)"
   ]
  },
  {
   "cell_type": "code",
   "execution_count": null,
   "metadata": {
    "collapsed": false
   },
   "outputs": [
    {
     "data": {
      "text/plain": [
       "array([599, 560, 319, 289,  18,  -6, -10, -14, -16, -21])"
      ]
     },
     "execution_count": 133,
     "metadata": {},
     "output_type": "execute_result"
    }
   ],
   "source": [
    "np.sort(x)[::-1]"
   ]
  },
  {
   "cell_type": "code",
   "execution_count": null,
   "metadata": {
    "collapsed": false
   },
   "outputs": [
    {
     "data": {
      "text/plain": [
       "array([-21, -16, -14, -10,  -6,  18, 289, 319, 560, 599])"
      ]
     },
     "execution_count": 134,
     "metadata": {},
     "output_type": "execute_result"
    }
   ],
   "source": [
    "x.sort()\n",
    "x"
   ]
  },
  {
   "cell_type": "code",
   "execution_count": null,
   "metadata": {
    "collapsed": false
   },
   "outputs": [
    {
     "name": "stdout",
     "output_type": "stream",
     "text": [
      "---------------------------Built-in sort() vs np.sort() -------------------\n",
      "Time taken by lists: 0.0 seconds.\n",
      "Time taken by Numpy Arrays: 0.0010013580322265625 seconds\n"
     ]
    }
   ],
   "source": [
    "import time\n",
    "import numpy\n",
    "size = 10\n",
    "\n",
    "\n",
    "\n",
    "print(\"---------------------------Built-in sort() vs np.sort() -------------------\")\n",
    "list1 = range(size)\n",
    "list2 = range(size)\n",
    "\n",
    "array1 = numpy.arange(size)\n",
    "array2 = numpy.arange(size)\n",
    "\n",
    "\n",
    "initialTime = time.time()\n",
    "resultant_list = x.sort()\n",
    "\n",
    "\n",
    "print(f\"Time taken by lists: {time.time() - initialTime} seconds.\")\n",
    "\n",
    "\n",
    "# Numpy array\n",
    "initialTime = time.time()\n",
    "resultantArray = np.sort(x)\n",
    "print(f\"Time taken by Numpy Arrays: {time.time() - initialTime} seconds\")"
   ]
  },
  {
   "cell_type": "code",
   "execution_count": null,
   "metadata": {
    "collapsed": false
   },
   "outputs": [],
   "source": [
    "from scipy import stats\n",
    "\n",
    "#----------------------------------install scipy"
   ]
  }
 ],
 "metadata": {
  "kernelspec": {
   "display_name": "Python 3",
   "language": "python",
   "name": "python3"
  },
  "language_info": {
   "codemirror_mode": {
    "name": "ipython",
    "version": 3
   },
   "file_extension": ".py",
   "mimetype": "text/x-python",
   "name": "python",
   "nbconvert_exporter": "python",
   "pygments_lexer": "ipython3",
   "version": "3.9.7"
  }
 },
 "nbformat": 4,
 "nbformat_minor": 0
}
