{
 "cells": [
  {
   "cell_type": "code",
   "execution_count": 1,
   "metadata": {},
   "outputs": [],
   "source": [
    "import numpy as np"
   ]
  },
  {
   "cell_type": "code",
   "execution_count": 2,
   "metadata": {},
   "outputs": [
    {
     "data": {
      "text/plain": [
       "array([ 51, 181,  96, 251, 221, 112, 205,  54, 248, 113, 245, 282,  70,\n",
       "       179, 206,  72, 292, 230,  49, 156, 123, 204,  40, 146,  12])"
      ]
     },
     "execution_count": 2,
     "metadata": {},
     "output_type": "execute_result"
    }
   ],
   "source": [
    "a = np.random.randint(1, 300, 25)\n",
    "a"
   ]
  },
  {
   "cell_type": "code",
   "execution_count": 3,
   "metadata": {},
   "outputs": [
    {
     "data": {
      "text/plain": [
       "array([False, False,  True, False, False,  True, False,  True,  True,\n",
       "       False, False,  True,  True, False,  True,  True,  True,  True,\n",
       "       False,  True, False,  True,  True,  True,  True])"
      ]
     },
     "execution_count": 3,
     "metadata": {},
     "output_type": "execute_result"
    }
   ],
   "source": [
    "a % 2 == 0"
   ]
  },
  {
   "cell_type": "code",
   "execution_count": 4,
   "metadata": {},
   "outputs": [
    {
     "ename": "ValueError",
     "evalue": "The truth value of an array with more than one element is ambiguous. Use a.any() or a.all()",
     "output_type": "error",
     "traceback": [
      "\u001b[1;31m---------------------------------------------------------------------------\u001b[0m",
      "\u001b[1;31mValueError\u001b[0m                                Traceback (most recent call last)",
      "Cell \u001b[1;32mIn[4], line 1\u001b[0m\n\u001b[1;32m----> 1\u001b[0m a \u001b[39m%\u001b[39m \u001b[39m2\u001b[39m \u001b[39m==\u001b[39m \u001b[39m0\u001b[39m \u001b[39mand\u001b[39;00m a \u001b[39m%\u001b[39m \u001b[39m5\u001b[39m \u001b[39m==\u001b[39m \u001b[39m0\u001b[39m\n",
      "\u001b[1;31mValueError\u001b[0m: The truth value of an array with more than one element is ambiguous. Use a.any() or a.all()"
     ]
    }
   ],
   "source": [
    "a % 2 == 0 and a % 5 == 0"
   ]
  },
  {
   "cell_type": "code",
   "execution_count": null,
   "metadata": {},
   "outputs": [
    {
     "data": {
      "text/plain": [
       "array([ True, False, False, False, False, False, False, False, False,\n",
       "       False,  True, False, False, False, False, False, False, False,\n",
       "       False, False, False, False, False, False, False])"
      ]
     },
     "execution_count": 6,
     "metadata": {},
     "output_type": "execute_result"
    }
   ],
   "source": [
    "(a%2==0) &(a%5==0)"
   ]
  },
  {
   "cell_type": "code",
   "execution_count": null,
   "metadata": {},
   "outputs": [
    {
     "data": {
      "text/plain": [
       "(array([ 0, 10], dtype=int64),)"
      ]
     },
     "execution_count": 7,
     "metadata": {},
     "output_type": "execute_result"
    }
   ],
   "source": [
    "np.where((a%2 == 0) & (a%5==0))"
   ]
  },
  {
   "cell_type": "code",
   "execution_count": null,
   "metadata": {},
   "outputs": [
    {
     "data": {
      "text/plain": [
       "array([250,  92, 291, 219, 177, 163,  51,  67, 271,  59, 270, 266, 217,\n",
       "       274, 239, 235, 131, 142,  79, 117,  81, 182, 239, 103, 215])"
      ]
     },
     "execution_count": 8,
     "metadata": {},
     "output_type": "execute_result"
    }
   ],
   "source": [
    "a"
   ]
  },
  {
   "cell_type": "code",
   "execution_count": null,
   "metadata": {},
   "outputs": [
    {
     "ename": "ValueError",
     "evalue": "low >= high",
     "output_type": "error",
     "traceback": [
      "\u001b[1;31m---------------------------------------------------------------------------\u001b[0m",
      "\u001b[1;31mValueError\u001b[0m                                Traceback (most recent call last)",
      "Cell \u001b[1;32mIn[9], line 1\u001b[0m\n\u001b[1;32m----> 1\u001b[0m b \u001b[39m=\u001b[39m np\u001b[39m.\u001b[39;49mrandom\u001b[39m.\u001b[39;49mrandint(\u001b[39m1000\u001b[39;49m, \u001b[39m20\u001b[39;49m)\n",
      "File \u001b[1;32mmtrand.pyx:746\u001b[0m, in \u001b[0;36mnumpy.random.mtrand.RandomState.randint\u001b[1;34m()\u001b[0m\n",
      "File \u001b[1;32m_bounded_integers.pyx:1338\u001b[0m, in \u001b[0;36mnumpy.random._bounded_integers._rand_int32\u001b[1;34m()\u001b[0m\n",
      "\u001b[1;31mValueError\u001b[0m: low >= high"
     ]
    }
   ],
   "source": [
    "b = np.random.randint(1000, 20)"
   ]
  },
  {
   "cell_type": "code",
   "execution_count": null,
   "metadata": {},
   "outputs": [
    {
     "data": {
      "text/plain": [
       "array([1647, 1075, 1050, 1221, 1296, 1687, 1798, 1598, 1464, 1485, 1490,\n",
       "       1548, 1232, 1384, 1321, 1426, 1616, 1670, 1159, 1720, 1058, 1447,\n",
       "       1219, 1893, 1192])"
      ]
     },
     "execution_count": 12,
     "metadata": {},
     "output_type": "execute_result"
    }
   ],
   "source": [
    "c = np.random.randint(1000, 2000, 25)\n",
    "c"
   ]
  },
  {
   "cell_type": "code",
   "execution_count": null,
   "metadata": {},
   "outputs": [
    {
     "ename": "ValueError",
     "evalue": "The truth value of an array with more than one element is ambiguous. Use a.any() or a.all()",
     "output_type": "error",
     "traceback": [
      "\u001b[1;31m---------------------------------------------------------------------------\u001b[0m",
      "\u001b[1;31mValueError\u001b[0m                                Traceback (most recent call last)",
      "Cell \u001b[1;32mIn[14], line 1\u001b[0m\n\u001b[1;32m----> 1\u001b[0m (c\u001b[39m%\u001b[39m \u001b[39m2\u001b[39m \u001b[39m==\u001b[39m \u001b[39m0\u001b[39m) \u001b[39mand\u001b[39;00m (c\u001b[39m%\u001b[39m\u001b[39m3\u001b[39m\u001b[39m==\u001b[39m\u001b[39m0\u001b[39m) \u001b[39mand\u001b[39;00m (c\u001b[39m%\u001b[39m\u001b[39m5\u001b[39m \u001b[39m==\u001b[39m\u001b[39m0\u001b[39m)\n",
      "\u001b[1;31mValueError\u001b[0m: The truth value of an array with more than one element is ambiguous. Use a.any() or a.all()"
     ]
    }
   ],
   "source": [
    "(c% 2 == 0) and (c%3==0) and (c%5 ==0)\n"
   ]
  },
  {
   "cell_type": "code",
   "execution_count": 7,
   "metadata": {},
   "outputs": [
    {
     "data": {
      "text/plain": [
       "array([9916, 7267, 7749, 7476, 5630, 8107, 8922, 9995, 5449, 7541, 8250,\n",
       "       9511, 5497, 7150, 6754, 5237, 8196, 8304, 9107, 8105, 5137, 9886,\n",
       "       9691, 5348, 5413, 9309, 5509, 8502, 7144, 5496, 8896, 7383, 6268,\n",
       "       9532, 9299, 7928, 7172, 7304, 7133, 7670, 9270, 7108, 8105, 8064,\n",
       "       8277, 5548, 5560, 7087, 9890, 9894, 7920, 5457, 9073, 9876, 8098,\n",
       "       7155, 8550, 6663, 5778, 6218, 8811, 9864, 6527, 9580, 7238, 8332,\n",
       "       7366, 8105, 9365, 7412, 5616, 8832, 9291, 6900, 8808, 5861, 8468,\n",
       "       5065, 9268, 6804, 7118, 6170, 9163, 6575, 9294, 9914, 5056, 5389,\n",
       "       5029, 8951, 8001, 5353, 6884, 9200, 9491, 9560, 6791, 7172, 7151,\n",
       "       7486, 7491, 5596, 5696, 7121, 8951, 9308, 8977, 6812, 9001, 8162,\n",
       "       5871, 8243, 9412, 5803, 6140, 9024, 6040, 5708, 9618, 6497, 9768,\n",
       "       5907, 9403, 5945, 6816, 6208, 7563, 9234, 8193, 6009, 5487, 9311,\n",
       "       5541, 5343, 8385, 5770, 5054, 8869, 9385, 6303, 9846, 7562, 5167,\n",
       "       9256, 9274, 6762, 5692, 9789, 8159, 7403, 8651, 8196, 7877, 8805,\n",
       "       8298, 8940, 7861, 8924, 5504, 8565, 8441, 6497, 6317, 8000, 7525,\n",
       "       9339, 7043, 7275, 7655, 5864, 7196, 8330, 6909, 7155, 9775, 7798,\n",
       "       7491, 8211, 8372, 9849, 9398, 8860, 9333, 8135, 9128, 6434, 8423,\n",
       "       6934, 5028, 7058, 7959, 9666, 6164, 6521, 8631, 9527, 5546, 7222,\n",
       "       7360, 6233, 8389, 6359, 9680, 9744, 7716, 6428, 8610, 7451, 5608,\n",
       "       7360, 5218, 9706, 7969, 8507, 6297, 5688, 7986, 7851, 8499, 6368,\n",
       "       6698, 7225, 7939, 7869, 8714, 6338, 5356, 5857, 9544, 9330, 7561,\n",
       "       5133, 5907, 8376, 9278, 6577, 9194, 7308, 9804, 9938, 9889, 9582,\n",
       "       7208, 9608, 5504, 7463, 5843, 9309, 9576, 9339, 9264, 7661, 8838,\n",
       "       9888, 7564, 7817, 5232, 8771, 5929, 6602, 5712, 7831, 8999, 8299,\n",
       "       8591, 9969, 8936, 6965, 9594, 8012, 8326, 8888, 6204, 8785, 8240,\n",
       "       9350, 6103, 7217, 9195, 7915, 5848, 7754, 8646, 5837, 8694, 7026,\n",
       "       9363, 7274, 7312, 7387, 9040, 6678, 7570, 7584, 6304, 8514, 6613,\n",
       "       5309, 8748, 6496])"
      ]
     },
     "execution_count": 7,
     "metadata": {},
     "output_type": "execute_result"
    }
   ],
   "source": [
    "d = np.random.randint(5000, 9999, 300)\n",
    "d"
   ]
  },
  {
   "cell_type": "code",
   "execution_count": 8,
   "metadata": {},
   "outputs": [
    {
     "data": {
      "text/plain": [
       "array([False, False, False, False, False, False, False, False, False,\n",
       "       False,  True, False, False, False, False, False, False, False,\n",
       "       False, False, False, False, False, False, False, False, False,\n",
       "       False, False, False, False, False, False, False, False, False,\n",
       "       False, False, False, False,  True, False, False, False, False,\n",
       "       False, False, False, False, False,  True, False, False, False,\n",
       "       False,  True,  True, False, False, False, False, False, False,\n",
       "       False, False, False, False, False, False, False, False, False,\n",
       "       False,  True, False, False, False, False, False, False, False,\n",
       "       False, False, False, False, False, False, False, False, False,\n",
       "       False, False, False, False, False, False, False, False, False,\n",
       "       False, False, False, False, False, False, False, False, False,\n",
       "       False, False, False, False, False, False, False, False, False,\n",
       "       False, False, False, False, False, False, False, False, False,\n",
       "       False, False, False, False, False, False, False, False,  True,\n",
       "       False, False, False, False, False, False, False, False, False,\n",
       "       False, False, False, False, False, False, False, False, False,\n",
       "        True, False,  True, False, False, False,  True, False, False,\n",
       "       False, False, False, False, False,  True, False, False, False,\n",
       "       False, False,  True, False, False, False, False, False, False,\n",
       "       False, False, False, False, False, False, False, False, False,\n",
       "       False, False, False, False, False, False, False, False, False,\n",
       "       False, False, False, False, False, False, False, False,  True,\n",
       "       False, False, False, False, False, False, False, False, False,\n",
       "       False, False, False, False, False, False, False, False, False,\n",
       "       False, False, False, False,  True, False, False, False, False,\n",
       "       False, False, False, False, False, False, False, False, False,\n",
       "       False, False, False, False, False, False, False, False, False,\n",
       "       False, False, False, False, False, False, False, False, False,\n",
       "       False, False, False, False, False, False, False, False, False,\n",
       "       False, False, False, False, False, False, False, False,  True,\n",
       "       False, False, False, False, False, False, False, False, False,\n",
       "       False, False, False, False, False, False, False, False, False,\n",
       "       False, False, False])"
      ]
     },
     "execution_count": 8,
     "metadata": {},
     "output_type": "execute_result"
    }
   ],
   "source": [
    "# 1. Create boolean array to show value of the item that can divide by 3 and 5\n",
    "(d % 3 == 0) & (d%5 ==0)"
   ]
  },
  {
   "cell_type": "code",
   "execution_count": 9,
   "metadata": {},
   "outputs": [
    {
     "data": {
      "text/plain": [
       "array([False, False,  True,  True,  True, False,  True,  True, False,\n",
       "       False,  True, False, False,  True, False, False,  True,  True,\n",
       "       False,  True, False, False, False, False, False,  True, False,\n",
       "        True, False,  True, False,  True, False, False, False, False,\n",
       "       False, False, False,  True,  True, False,  True,  True,  True,\n",
       "       False,  True, False,  True,  True,  True,  True, False,  True,\n",
       "       False,  True,  True,  True,  True, False,  True,  True, False,\n",
       "        True, False, False, False,  True,  True, False,  True,  True,\n",
       "        True,  True,  True, False, False,  True, False,  True, False,\n",
       "        True, False,  True,  True, False, False, False, False, False,\n",
       "        True, False, False,  True, False,  True, False, False, False,\n",
       "       False,  True, False, False, False, False, False, False, False,\n",
       "       False, False,  True, False, False, False,  True,  True,  True,\n",
       "       False,  True, False,  True,  True, False,  True,  True, False,\n",
       "        True,  True,  True,  True,  True, False,  True,  True,  True,\n",
       "        True, False, False,  True,  True,  True, False, False, False,\n",
       "       False,  True, False,  True, False, False, False,  True, False,\n",
       "        True,  True,  True, False, False, False,  True, False, False,\n",
       "       False,  True,  True,  True, False,  True,  True, False, False,\n",
       "        True,  True,  True,  True, False,  True,  True, False,  True,\n",
       "       False,  True,  True,  True, False, False, False, False,  True,\n",
       "       False,  True,  True, False, False,  True, False, False, False,\n",
       "        True, False, False, False,  True,  True,  True, False,  True,\n",
       "       False, False,  True, False, False, False, False,  True,  True,\n",
       "        True,  True,  True, False, False,  True, False,  True, False,\n",
       "       False, False, False, False,  True, False,  True,  True,  True,\n",
       "       False, False, False,  True,  True, False, False,  True, False,\n",
       "       False, False, False, False,  True,  True,  True,  True, False,\n",
       "        True,  True, False, False,  True, False, False, False,  True,\n",
       "       False, False, False, False,  True, False,  True,  True, False,\n",
       "       False, False,  True,  True,  True,  True, False, False,  True,\n",
       "        True, False, False,  True, False,  True,  True,  True, False,\n",
       "       False, False,  True,  True,  True,  True, False,  True, False,\n",
       "       False,  True, False])"
      ]
     },
     "execution_count": 9,
     "metadata": {},
     "output_type": "execute_result"
    }
   ],
   "source": [
    "# 2. Create boolean array to show value of the item that can divide by 3 or 5\n",
    "(d % 3 == 0) | (d%5 ==0)"
   ]
  },
  {
   "cell_type": "code",
   "execution_count": 10,
   "metadata": {},
   "outputs": [
    {
     "data": {
      "text/plain": [
       "array([False, False,  True,  True,  True, False, False,  True, False,\n",
       "       False,  True, False, False,  True, False, False, False, False,\n",
       "        True,  True, False, False, False,  True, False, False,  True,\n",
       "       False, False, False, False, False, False, False, False, False,\n",
       "       False, False,  True,  True,  True, False,  True,  True, False,\n",
       "       False,  True, False,  True, False,  True, False, False, False,\n",
       "       False,  True,  True, False, False, False, False, False, False,\n",
       "        True,  True, False, False,  True,  True, False, False, False,\n",
       "       False,  True, False, False, False,  True,  True,  True, False,\n",
       "        True,  True,  True, False, False, False, False, False, False,\n",
       "        True, False, False,  True, False,  True, False, False, False,\n",
       "       False, False, False, False, False, False, False, False, False,\n",
       "       False,  True, False, False, False,  True,  True, False,  True,\n",
       "       False,  True, False, False, False, False,  True, False, False,\n",
       "       False, False, False, False, False, False, False, False,  True,\n",
       "        True,  True,  True,  True, False, False, False, False, False,\n",
       "       False,  True, False, False, False, False, False, False, False,\n",
       "        True, False,  True,  True, False, False,  True, False, False,\n",
       "       False,  True,  True, False, False,  True,  True, False,  True,\n",
       "        True,  True,  True,  True,  True, False,  True,  True,  True,\n",
       "       False,  True, False,  True,  True, False, False, False, False,\n",
       "       False,  True, False, False, False,  True,  True, False, False,\n",
       "        True, False, False, False,  True,  True, False, False,  True,\n",
       "       False, False,  True, False, False, False, False, False, False,\n",
       "       False, False, False, False, False,  True, False, False, False,\n",
       "       False, False, False, False,  True, False, False, False, False,\n",
       "       False, False, False,  True, False, False, False, False, False,\n",
       "       False, False, False, False, False,  True, False, False, False,\n",
       "       False, False, False, False, False,  True,  True, False,  True,\n",
       "       False, False, False, False, False, False,  True, False, False,\n",
       "       False, False, False,  True,  True,  True, False,  True,  True,\n",
       "        True, False, False, False, False,  True, False, False, False,\n",
       "       False, False,  True,  True,  True, False, False, False, False,\n",
       "       False, False,  True])"
      ]
     },
     "execution_count": 10,
     "metadata": {},
     "output_type": "execute_result"
    }
   ],
   "source": [
    "# 3. Create boolean array to show value of the item that can divide by 5 or 7\n",
    "(d % 7 == 0) | (d%5 ==0)"
   ]
  },
  {
   "cell_type": "code",
   "execution_count": 11,
   "metadata": {},
   "outputs": [
    {
     "data": {
      "text/plain": [
       "array([8250, 9270, 7920, 7155, 8550, 6900, 8385, 8805, 8940, 8565, 7275,\n",
       "       7155, 8610, 9330, 9195])"
      ]
     },
     "execution_count": 11,
     "metadata": {},
     "output_type": "execute_result"
    }
   ],
   "source": [
    "# 4. Create indexing array to show value of the item that can divide by 3 or 5\n",
    "d[(d % 3 == 0) & (d%5 ==0)]"
   ]
  },
  {
   "cell_type": "code",
   "execution_count": 12,
   "metadata": {},
   "outputs": [
    {
     "name": "stdout",
     "output_type": "stream",
     "text": [
      "(array([  3,   6,  10,  16,  17,  27,  29,  40,  43,  49,  50,  53,  56,\n",
      "        58,  61,  70,  71,  73,  74,  79,  84, 115, 118, 120, 124, 127,\n",
      "       140, 145, 151, 154, 155, 188, 191, 203, 204, 206, 215, 216, 229,\n",
      "       233, 237, 238, 241, 248, 250, 252, 253, 256, 260, 268, 272, 282,\n",
      "       284, 285, 291, 293, 295, 298], dtype=int64),)\n",
      "(array([164, 171, 206, 267, 273], dtype=int64),)\n",
      "(array([  0,   2,   3,   4,   6,  10,  13,  14,  16,  17,  21,  23,  25,\n",
      "        27,  28,  29,  30,  31,  32,  33,  35,  36,  37,  39,  40,  41,\n",
      "        43,  44,  45,  46,  48,  49,  50,  51,  53,  54,  55,  56,  57,\n",
      "        58,  59,  60,  61,  63,  64,  65,  66,  69,  70,  71,  72,  73,\n",
      "        74,  76,  78,  79,  80,  81,  84,  85,  86,  90,  92,  93,  95,\n",
      "        97,  99, 100, 101, 102, 105, 107, 109, 110, 112, 114, 115, 116,\n",
      "       117, 118, 120, 121, 124, 125, 126, 127, 128, 129, 130, 132, 133,\n",
      "       134, 135, 136, 139, 140, 141, 143, 144, 145, 146, 147, 151, 153,\n",
      "       154, 155, 157, 158, 159, 163, 165, 167, 169, 170, 171, 172, 173,\n",
      "       175, 176, 177, 178, 179, 180, 181, 182, 184, 185, 187, 188, 189,\n",
      "       190, 191, 192, 194, 196, 197, 198, 202, 203, 204, 205, 206, 208,\n",
      "       209, 210, 211, 214, 215, 216, 217, 218, 219, 220, 223, 224, 225,\n",
      "       226, 228, 229, 231, 232, 233, 234, 236, 237, 238, 239, 241, 242,\n",
      "       243, 244, 247, 248, 249, 250, 252, 253, 254, 256, 259, 260, 265,\n",
      "       266, 268, 269, 270, 271, 272, 274, 275, 278, 280, 281, 282, 284,\n",
      "       285, 286, 287, 288, 290, 291, 292, 293, 294, 295, 298, 299],\n",
      "      dtype=int64),)\n",
      "(array([  0,   2,   3,   4,   6,  10,  13,  14,  16,  17,  21,  23,  25,\n",
      "        27,  28,  29,  30,  31,  32,  33,  35,  36,  37,  39,  40,  41,\n",
      "        43,  44,  45,  46,  48,  49,  50,  51,  53,  54,  55,  56,  57,\n",
      "        58,  59,  60,  61,  63,  64,  65,  66,  69,  70,  71,  72,  73,\n",
      "        74,  76,  78,  79,  80,  81,  84,  85,  86,  90,  92,  93,  95,\n",
      "        97,  99, 100, 101, 102, 105, 107, 109, 110, 112, 114, 115, 116,\n",
      "       117, 118, 120, 121, 124, 125, 126, 127, 128, 129, 130, 132, 133,\n",
      "       134, 135, 136, 139, 140, 141, 143, 144, 145, 146, 147, 151, 153,\n",
      "       154, 155, 157, 158, 159, 163, 165, 167, 169, 170, 171, 172, 173,\n",
      "       175, 176, 177, 178, 179, 180, 181, 182, 184, 185, 187, 188, 189,\n",
      "       190, 191, 192, 194, 196, 197, 198, 202, 203, 204, 205, 206, 208,\n",
      "       209, 210, 211, 214, 215, 216, 217, 218, 219, 220, 223, 224, 225,\n",
      "       226, 228, 229, 231, 232, 233, 234, 236, 237, 238, 239, 241, 242,\n",
      "       243, 244, 247, 248, 249, 250, 252, 253, 254, 256, 259, 260, 265,\n",
      "       266, 268, 269, 270, 271, 272, 274, 275, 278, 280, 281, 282, 284,\n",
      "       285, 286, 287, 288, 290, 291, 292, 293, 294, 295, 298, 299],\n",
      "      dtype=int64),)\n"
     ]
    }
   ],
   "source": [
    "# 5. Create boolean array to show value of the item that can divide by 3 and 5\n",
    "print(np.where((d%2 == 0)&(d%3 == 0)))\n",
    "print(np.where((d%5 == 0)&(d%7 == 0)))\n",
    "print(np.where((d%2 == 0)|(d%3 == 0)))\n",
    "print(np.where((d%2 == 0)|(d%3 == 0)))"
   ]
  },
  {
   "cell_type": "code",
   "execution_count": null,
   "metadata": {},
   "outputs": [
    {
     "data": {
      "text/plain": [
       "array([8939, 5329, 5319, 5719, 6499, 9539, 5499, 9759, 5869, 8889, 6269,\n",
       "       7799, 6309, 8529, 7099, 5619, 7729, 9159, 8719, 7499, 8199, 9289,\n",
       "       8029])"
      ]
     },
     "execution_count": 29,
     "metadata": {},
     "output_type": "execute_result"
    }
   ],
   "source": [
    "# 6. Create an array of elements whose last digit is a 9\n",
    "d[d%10 ==9]\n"
   ]
  },
  {
   "cell_type": "code",
   "execution_count": null,
   "metadata": {},
   "outputs": [],
   "source": [
    "a = np.loadtxt('displ_cty_hwy.csv', delimiter=\",\")"
   ]
  },
  {
   "cell_type": "code",
   "execution_count": null,
   "metadata": {},
   "outputs": [
    {
     "data": {
      "text/plain": [
       "array([[ 2.4, 21. , 31. ],\n",
       "       [ 2.4, 22. , 31. ],\n",
       "       [ 3.3, 18. , 27. ],\n",
       "       [ 1.8, 28. , 37. ],\n",
       "       [ 1.8, 26. , 35. ],\n",
       "       [ 4. , 21. , 31. ],\n",
       "       [ 2.4, 21. , 31. ],\n",
       "       [ 3.5, 19. , 28. ],\n",
       "       [ 2.7, 17. , 22. ],\n",
       "       [ 4. , 15. , 18. ],\n",
       "       [ 4. , 16. , 20. ],\n",
       "       [ 4. , 16. , 20. ],\n",
       "       [ 4.7, 14. , 17. ],\n",
       "       [ 5.7, 13. , 18. ]])"
      ]
     },
     "execution_count": 32,
     "metadata": {},
     "output_type": "execute_result"
    }
   ],
   "source": [
    "a"
   ]
  },
  {
   "attachments": {},
   "cell_type": "markdown",
   "metadata": {},
   "source": [
    "### Find all features that are equal to 20"
   ]
  },
  {
   "cell_type": "code",
   "execution_count": null,
   "metadata": {},
   "outputs": [
    {
     "data": {
      "text/plain": [
       "array([[False, False, False],\n",
       "       [False, False, False],\n",
       "       [False, False, False],\n",
       "       [False, False, False],\n",
       "       [False, False, False],\n",
       "       [False, False, False],\n",
       "       [False, False, False],\n",
       "       [False, False, False],\n",
       "       [False, False, False],\n",
       "       [False, False, False],\n",
       "       [False, False,  True],\n",
       "       [False, False,  True],\n",
       "       [False, False, False],\n",
       "       [False, False, False]])"
      ]
     },
     "execution_count": 33,
     "metadata": {},
     "output_type": "execute_result"
    }
   ],
   "source": [
    "a == 20"
   ]
  },
  {
   "cell_type": "code",
   "execution_count": null,
   "metadata": {},
   "outputs": [
    {
     "data": {
      "text/plain": [
       "array([[0, 0, 0],\n",
       "       [0, 0, 0],\n",
       "       [0, 0, 0],\n",
       "       [0, 0, 0],\n",
       "       [0, 0, 0],\n",
       "       [0, 0, 0],\n",
       "       [0, 0, 0],\n",
       "       [0, 0, 0],\n",
       "       [0, 0, 0],\n",
       "       [0, 0, 0],\n",
       "       [0, 0, 1],\n",
       "       [0, 0, 1],\n",
       "       [0, 0, 0],\n",
       "       [0, 0, 0]])"
      ]
     },
     "execution_count": 34,
     "metadata": {},
     "output_type": "execute_result"
    }
   ],
   "source": [
    "(a==20).astype(int)"
   ]
  },
  {
   "cell_type": "code",
   "execution_count": null,
   "metadata": {},
   "outputs": [
    {
     "data": {
      "text/plain": [
       "array([20., 20.])"
      ]
     },
     "execution_count": 35,
     "metadata": {},
     "output_type": "execute_result"
    }
   ],
   "source": [
    "a[a==20]"
   ]
  },
  {
   "cell_type": "code",
   "execution_count": null,
   "metadata": {},
   "outputs": [
    {
     "data": {
      "text/plain": [
       "(array([10, 11], dtype=int64), array([2, 2], dtype=int64))"
      ]
     },
     "execution_count": 36,
     "metadata": {},
     "output_type": "execute_result"
    }
   ],
   "source": [
    "np.where(a==20)"
   ]
  },
  {
   "cell_type": "code",
   "execution_count": null,
   "metadata": {},
   "outputs": [
    {
     "data": {
      "text/plain": [
       "array([ True,  True,  True, False, False,  True,  True,  True,  True,\n",
       "        True,  True,  True,  True,  True])"
      ]
     },
     "execution_count": 38,
     "metadata": {},
     "output_type": "execute_result"
    }
   ],
   "source": [
    "# create a boolean array to find the dspl > 2\n",
    "a[: , 0] > 2 # by checking every row and first column"
   ]
  },
  {
   "cell_type": "code",
   "execution_count": null,
   "metadata": {},
   "outputs": [
    {
     "data": {
      "text/plain": [
       "array([[ 2.4, 21. , 31. ],\n",
       "       [ 2.4, 22. , 31. ],\n",
       "       [ 3.3, 18. , 27. ],\n",
       "       [ 4. , 21. , 31. ],\n",
       "       [ 2.4, 21. , 31. ],\n",
       "       [ 3.5, 19. , 28. ],\n",
       "       [ 2.7, 17. , 22. ],\n",
       "       [ 4. , 15. , 18. ],\n",
       "       [ 4. , 16. , 20. ],\n",
       "       [ 4. , 16. , 20. ],\n",
       "       [ 4.7, 14. , 17. ],\n",
       "       [ 5.7, 13. , 18. ]])"
      ]
     },
     "execution_count": 40,
     "metadata": {},
     "output_type": "execute_result"
    }
   ],
   "source": [
    "# value indexing\n",
    "a[a[: , 0] > 2]"
   ]
  },
  {
   "cell_type": "code",
   "execution_count": null,
   "metadata": {},
   "outputs": [
    {
     "data": {
      "text/plain": [
       "array([[ 3.3, 18. , 27. ],\n",
       "       [ 4. , 21. , 31. ],\n",
       "       [ 3.5, 19. , 28. ],\n",
       "       [ 4. , 16. , 20. ],\n",
       "       [ 4. , 16. , 20. ]])"
      ]
     },
     "execution_count": 41,
     "metadata": {},
     "output_type": "execute_result"
    }
   ],
   "source": [
    "# show all value of displ , cty, hwk, which dspl > 3 and run in the city > 15\n",
    "\n",
    "a[(a[: , 0] > 3) & (a[:, 1]>15)]"
   ]
  },
  {
   "attachments": {},
   "cell_type": "markdown",
   "metadata": {},
   "source": [
    "# Itertaive numpy"
   ]
  },
  {
   "cell_type": "code",
   "execution_count": null,
   "metadata": {},
   "outputs": [
    {
     "data": {
      "text/plain": [
       "array([ 0, 10, 20, 30, 40, 50, 60, 70, 80, 90])"
      ]
     },
     "execution_count": 43,
     "metadata": {},
     "output_type": "execute_result"
    }
   ],
   "source": [
    "c = np.arange(10)*10\n",
    "c"
   ]
  },
  {
   "cell_type": "code",
   "execution_count": null,
   "metadata": {},
   "outputs": [
    {
     "name": "stdout",
     "output_type": "stream",
     "text": [
      "0\n",
      "10\n",
      "20\n",
      "30\n",
      "40\n",
      "50\n",
      "60\n",
      "70\n",
      "80\n",
      "90\n"
     ]
    }
   ],
   "source": [
    "for i in c: print(i)"
   ]
  },
  {
   "cell_type": "code",
   "execution_count": null,
   "metadata": {},
   "outputs": [
    {
     "name": "stdout",
     "output_type": "stream",
     "text": [
      "3 0\n",
      "4 10\n",
      "5 20\n",
      "6 30\n",
      "7 40\n",
      "8 50\n",
      "9 60\n",
      "10 70\n",
      "11 80\n",
      "12 90\n"
     ]
    }
   ],
   "source": [
    "for i, v in enumerate(c, start=3):\n",
    "    print(i, v)\n"
   ]
  },
  {
   "cell_type": "code",
   "execution_count": null,
   "metadata": {},
   "outputs": [],
   "source": []
  },
  {
   "attachments": {},
   "cell_type": "markdown",
   "metadata": {},
   "source": [
    "# Distrbutions and universal functions(Tasks to be completed after tomorrow):  array, journal, eda"
   ]
  },
  {
   "attachments": {},
   "cell_type": "markdown",
   "metadata": {},
   "source": [
    "## Iterating over 2d arrays"
   ]
  },
  {
   "cell_type": "code",
   "execution_count": null,
   "metadata": {},
   "outputs": [
    {
     "data": {
      "text/plain": [
       "array([[11, 12, 13, 14, 15],\n",
       "       [16, 17, 18, 19, 20],\n",
       "       [21, 22, 23, 24, 25],\n",
       "       [26, 27, 28, 29, 30]])"
      ]
     },
     "execution_count": 52,
     "metadata": {},
     "output_type": "execute_result"
    }
   ],
   "source": [
    "d = np.arange(11, 31).reshape(4, 5)\n",
    "d"
   ]
  },
  {
   "cell_type": "code",
   "execution_count": null,
   "metadata": {},
   "outputs": [
    {
     "name": "stdout",
     "output_type": "stream",
     "text": [
      "[11 12 13 14 15]\n",
      "[16 17 18 19 20]\n",
      "[21 22 23 24 25]\n",
      "[26 27 28 29 30]\n"
     ]
    }
   ],
   "source": [
    "for i in d: print(i)"
   ]
  },
  {
   "cell_type": "code",
   "execution_count": null,
   "metadata": {},
   "outputs": [
    {
     "name": "stdout",
     "output_type": "stream",
     "text": [
      "(0,) 16\n",
      "(1,) 17\n",
      "(2,) 18\n",
      "(3,) 19\n",
      "(4,) 20\n"
     ]
    }
   ],
   "source": [
    "for i,v in np.ndenumerate(d[1]):\n",
    "    print(i,v)"
   ]
  },
  {
   "cell_type": "code",
   "execution_count": null,
   "metadata": {},
   "outputs": [
    {
     "name": "stdout",
     "output_type": "stream",
     "text": [
      "(0, 0) 11\n",
      "(0, 1) 12\n",
      "(0, 2) 13\n",
      "(0, 3) 14\n",
      "(0, 4) 15\n",
      "(1, 0) 16\n",
      "(1, 1) 17\n",
      "(1, 2) 18\n",
      "(1, 3) 19\n",
      "(1, 4) 20\n",
      "(2, 0) 21\n",
      "(2, 1) 22\n",
      "(2, 2) 23\n",
      "(2, 3) 24\n",
      "(2, 4) 25\n",
      "(3, 0) 26\n",
      "(3, 1) 27\n",
      "(3, 2) 28\n",
      "(3, 3) 29\n",
      "(3, 4) 30\n"
     ]
    }
   ],
   "source": [
    "for i,v in np.ndenumerate(d):\n",
    "    print(i,v)"
   ]
  },
  {
   "cell_type": "code",
   "execution_count": null,
   "metadata": {},
   "outputs": [
    {
     "name": "stdout",
     "output_type": "stream",
     "text": [
      "12 (0,)\n",
      "17 (1,)\n",
      "22 (2,)\n",
      "27 (3,)\n"
     ]
    }
   ],
   "source": [
    "for i,v in np.ndenumerate(d[:,1]):\n",
    "    #print(i,v)\n",
    "    print(v, i)"
   ]
  },
  {
   "cell_type": "code",
   "execution_count": null,
   "metadata": {},
   "outputs": [
    {
     "name": "stdout",
     "output_type": "stream",
     "text": [
      "(0,) 12\n",
      "(1,) 17\n",
      "(2,) 22\n",
      "(3,) 27\n"
     ]
    }
   ],
   "source": [
    "for i,v in np.ndenumerate(d[:,1]):\n",
    "    print(i,v)"
   ]
  },
  {
   "cell_type": "code",
   "execution_count": null,
   "metadata": {},
   "outputs": [
    {
     "name": "stdout",
     "output_type": "stream",
     "text": [
      "(0, 0) 14\n",
      "(0, 1) 15\n",
      "(1, 0) 19\n",
      "(1, 1) 20\n",
      "(2, 0) 24\n",
      "(2, 1) 25\n",
      "(3, 0) 29\n",
      "(3, 1) 30\n"
     ]
    }
   ],
   "source": [
    "for i,v in np.ndenumerate(d[:, 3:]):\n",
    "    print(i,v)"
   ]
  },
  {
   "cell_type": "code",
   "execution_count": null,
   "metadata": {},
   "outputs": [
    {
     "data": {
      "text/plain": [
       "array([[11, 12, 13, 14, 15],\n",
       "       [16, 17, 18, 19, 20],\n",
       "       [21, 22, 23, 24, 25],\n",
       "       [26, 27, 28, 29, 30]])"
      ]
     },
     "execution_count": 64,
     "metadata": {},
     "output_type": "execute_result"
    }
   ],
   "source": [
    "d"
   ]
  },
  {
   "cell_type": "code",
   "execution_count": null,
   "metadata": {},
   "outputs": [
    {
     "name": "stdout",
     "output_type": "stream",
     "text": [
      "11\n",
      "12\n",
      "13\n",
      "14\n",
      "15\n",
      "16\n",
      "17\n",
      "18\n",
      "19\n",
      "20\n",
      "21\n",
      "22\n",
      "23\n",
      "24\n",
      "25\n",
      "26\n",
      "27\n",
      "28\n",
      "29\n",
      "30\n"
     ]
    }
   ],
   "source": [
    "for i in d.flat:\n",
    "    print(i)"
   ]
  },
  {
   "cell_type": "code",
   "execution_count": null,
   "metadata": {},
   "outputs": [
    {
     "data": {
      "text/plain": [
       "array([[[21, 22, 23, 24, 25],\n",
       "        [26, 27, 28, 29, 30]],\n",
       "\n",
       "       [[31, 32, 33, 34, 35],\n",
       "        [36, 37, 38, 39, 40]],\n",
       "\n",
       "       [[41, 42, 43, 44, 45],\n",
       "        [46, 47, 48, 49, 50]]])"
      ]
     },
     "execution_count": 73,
     "metadata": {},
     "output_type": "execute_result"
    }
   ],
   "source": [
    "# 3x2x5\n",
    "\n",
    "e = np.arange(21, 51).reshape(3,2,5)\n",
    "e"
   ]
  },
  {
   "cell_type": "code",
   "execution_count": null,
   "metadata": {},
   "outputs": [
    {
     "data": {
      "text/plain": [
       "array([[31, 32, 33, 34, 35],\n",
       "       [36, 37, 38, 39, 40]])"
      ]
     },
     "execution_count": 74,
     "metadata": {},
     "output_type": "execute_result"
    }
   ],
   "source": [
    "e[1]"
   ]
  },
  {
   "cell_type": "code",
   "execution_count": null,
   "metadata": {},
   "outputs": [
    {
     "data": {
      "text/plain": [
       "array([46, 47, 48, 49, 50])"
      ]
     },
     "execution_count": 75,
     "metadata": {},
     "output_type": "execute_result"
    }
   ],
   "source": [
    "e[2][1]"
   ]
  },
  {
   "cell_type": "code",
   "execution_count": null,
   "metadata": {},
   "outputs": [],
   "source": [
    "e[0]"
   ]
  },
  {
   "attachments": {},
   "cell_type": "markdown",
   "metadata": {},
   "source": [
    "# linespace"
   ]
  },
  {
   "cell_type": "code",
   "execution_count": null,
   "metadata": {},
   "outputs": [
    {
     "data": {
      "text/plain": [
       "array([ 1.  ,  3.75,  6.5 ,  9.25, 12.  ])"
      ]
     },
     "execution_count": 76,
     "metadata": {},
     "output_type": "execute_result"
    }
   ],
   "source": [
    "np.linspace(1, 12, 5)"
   ]
  },
  {
   "cell_type": "code",
   "execution_count": null,
   "metadata": {},
   "outputs": [
    {
     "data": {
      "text/plain": [
       "3.141592653589793"
      ]
     },
     "execution_count": 77,
     "metadata": {},
     "output_type": "execute_result"
    }
   ],
   "source": [
    "np.pi"
   ]
  },
  {
   "cell_type": "code",
   "execution_count": null,
   "metadata": {},
   "outputs": [
    {
     "data": {
      "text/plain": [
       "array([0.        , 0.16110732, 0.32221463, 0.48332195, 0.64442926,\n",
       "       0.80553658, 0.96664389, 1.12775121, 1.28885852, 1.44996584,\n",
       "       1.61107316, 1.77218047, 1.93328779, 2.0943951 , 2.25550242,\n",
       "       2.41660973, 2.57771705, 2.73882436, 2.89993168, 3.061039  ,\n",
       "       3.22214631, 3.38325363, 3.54436094, 3.70546826, 3.86657557,\n",
       "       4.02768289, 4.1887902 , 4.34989752, 4.51100484, 4.67211215,\n",
       "       4.83321947, 4.99432678, 5.1554341 , 5.31654141, 5.47764873,\n",
       "       5.63875604, 5.79986336, 5.96097068, 6.12207799, 6.28318531])"
      ]
     },
     "execution_count": 88,
     "metadata": {},
     "output_type": "execute_result"
    }
   ],
   "source": [
    "x = np.linspace(0, 2*np.pi, 40)\n",
    "x"
   ]
  },
  {
   "cell_type": "code",
   "execution_count": null,
   "metadata": {},
   "outputs": [
    {
     "data": {
      "text/plain": [
       "array([ 1.        ,  0.98705026,  0.94853644,  0.88545603,  0.79944276,\n",
       "        0.69272435,  0.56806475,  0.42869256,  0.27821746,  0.12053668,\n",
       "       -0.04026594, -0.20002569, -0.35460489, -0.5       , -0.63244538,\n",
       "       -0.74851075, -0.84519009, -0.91997944, -0.97094182, -0.99675731,\n",
       "       -0.99675731, -0.97094182, -0.91997944, -0.84519009, -0.74851075,\n",
       "       -0.63244538, -0.5       , -0.35460489, -0.20002569, -0.04026594,\n",
       "        0.12053668,  0.27821746,  0.42869256,  0.56806475,  0.69272435,\n",
       "        0.79944276,  0.88545603,  0.94853644,  0.98705026,  1.        ])"
      ]
     },
     "execution_count": 89,
     "metadata": {},
     "output_type": "execute_result"
    }
   ],
   "source": [
    "y = np.cos(x)\n",
    "y"
   ]
  },
  {
   "cell_type": "code",
   "execution_count": null,
   "metadata": {},
   "outputs": [],
   "source": [
    "import matplotlib.pyplot as plt\n",
    "%matplotlib inline"
   ]
  },
  {
   "cell_type": "code",
   "execution_count": null,
   "metadata": {},
   "outputs": [
    {
     "data": {
      "text/plain": [
       "[<matplotlib.lines.Line2D at 0x19e0ddf3820>]"
      ]
     },
     "execution_count": 91,
     "metadata": {},
     "output_type": "execute_result"
    },
    {
     "data": {
      "image/png": "[encoded data removed]",
      "text/plain": [
       "<Figure size 640x480 with 1 Axes>"
      ]
     },
     "metadata": {},
     "output_type": "display_data"
    }
   ],
   "source": [
    "plt.plot(x, y)"
   ]
  },
  {
   "cell_type": "code",
   "execution_count": null,
   "metadata": {},
   "outputs": [
    {
     "data": {
      "image/png": "[encoded data removed]",
      "text/plain": [
       "<Figure size 640x480 with 1 Axes>"
      ]
     },
     "metadata": {},
     "output_type": "display_data"
    }
   ],
   "source": [
    "plt.scatter(x, y);"
   ]
  },
  {
   "cell_type": "code",
   "execution_count": null,
   "metadata": {},
   "outputs": [],
   "source": [
    "%config InlineBackend.figure_format='retina'"
   ]
  },
  {
   "cell_type": "code",
   "execution_count": null,
   "metadata": {},
   "outputs": [
    {
     "data": {
      "text/plain": [
       "<matplotlib.collections.PathCollection at 0x19e110fe290>"
      ]
     },
     "execution_count": 95,
     "metadata": {},
     "output_type": "execute_result"
    },
    {
     "data": {
      "image/png": "[encoded data removed]",
      "text/plain": [
       "<Figure size 640x480 with 1 Axes>"
      ]
     },
     "metadata": {
      "image/png": {
       "height": 413,
       "width": 568
      }
     },
     "output_type": "display_data"
    }
   ],
   "source": [
    "plt.scatter(x,y)"
   ]
  },
  {
   "cell_type": "code",
   "execution_count": null,
   "metadata": {},
   "outputs": [
    {
     "data": {
      "text/plain": [
       "[<matplotlib.lines.Line2D at 0x19e0dc931c0>]"
      ]
     },
     "execution_count": 96,
     "metadata": {},
     "output_type": "execute_result"
    },
    {
     "data": {
      "image/png": "[encoded data removed]",
      "text/plain": [
       "<Figure size 640x480 with 1 Axes>"
      ]
     },
     "metadata": {
      "image/png": {
       "height": 413,
       "width": 552
      }
     },
     "output_type": "display_data"
    }
   ],
   "source": [
    "a,b,c=(4,2,-5)\n",
    "x=np.linspace(-15,15,60)\n",
    "y=a*x**2+b*x+c\n",
    "plt.plot(x,y)"
   ]
  },
  {
   "cell_type": "code",
   "execution_count": null,
   "metadata": {},
   "outputs": [],
   "source": []
  },
  {
   "attachments": {},
   "cell_type": "markdown",
   "metadata": {},
   "source": [
    "# 4 -> 3 -> 2 -> 5 -> 1 -> 6"
   ]
  }
 ],
 "metadata": {
  "kernelspec": {
   "display_name": "Programming for Data Science",
   "language": "python",
   "name": "python3"
  },
  "language_info": {
   "codemirror_mode": {
    "name": "ipython",
    "version": 3
   },
   "file_extension": ".py",
   "mimetype": "text/x-python",
   "name": "python",
   "nbconvert_exporter": "python",
   "pygments_lexer": "ipython3",
   "version": "3.9.7"
  },
  "orig_nbformat": 4
 },
 "nbformat": 4,
 "nbformat_minor": 2
}
