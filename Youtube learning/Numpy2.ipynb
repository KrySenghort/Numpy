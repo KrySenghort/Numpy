{
 "cells": [
  {
   "cell_type": "markdown",
   "id": "1321ad83",
   "metadata": {},
   "source": [
    "# I.) Initialize matrix, transpose, determinant, size, inverse, power, add, minus,multiply, rank, nulity"
   ]
  },
  {
   "cell_type": "code",
   "execution_count": 1,
   "id": "814c3f66",
   "metadata": {},
   "outputs": [],
   "source": [
    "import numpy as np"
   ]
  },
  {
   "cell_type": "code",
   "execution_count": 2,
   "id": "46db5680",
   "metadata": {},
   "outputs": [
    {
     "name": "stdout",
     "output_type": "stream",
     "text": [
      "Initialize matrix :\n",
      "[['a' 'b' 'c']\n",
      " ['d' 'e' 'f']\n",
      " ['g' 'h' 'i']]\n"
     ]
    }
   ],
   "source": [
    "a1= np.matrix([['a','b','c'],['d','e','f'],['g','h','i']])\n",
    "print('Initialize matrix :')\n",
    "print(a1)"
   ]
  },
  {
   "cell_type": "code",
   "execution_count": 3,
   "id": "2485948f",
   "metadata": {},
   "outputs": [
    {
     "name": "stdout",
     "output_type": "stream",
     "text": [
      "After transpose on matrix : \n",
      "[['a' 'd' 'g']\n",
      " ['b' 'e' 'h']\n",
      " ['c' 'f' 'i']]\n"
     ]
    }
   ],
   "source": [
    "print('After transpose on matrix : ')\n",
    "print(a1.transpose())"
   ]
  },
  {
   "cell_type": "code",
   "execution_count": 4,
   "id": "21c3fcd4",
   "metadata": {},
   "outputs": [
    {
     "name": "stdout",
     "output_type": "stream",
     "text": [
      "#dimension of a1 :  2\n",
      "#shape of a1 :  (3, 3)\n",
      "#datatype of a1 :  <U1\n"
     ]
    }
   ],
   "source": [
    "print('#dimension of a1 : ',a1.ndim)\n",
    "print('#shape of a1 : ',a1.shape)\n",
    "print('#datatype of a1 : ',a1.dtype)"
   ]
  },
  {
   "cell_type": "code",
   "execution_count": 5,
   "id": "bff08fd4",
   "metadata": {},
   "outputs": [
    {
     "name": "stdout",
     "output_type": "stream",
     "text": [
      "size of element :  4 bits\n",
      "total size of a1 :  36 bits\n"
     ]
    }
   ],
   "source": [
    "print('size of element : ',a1.itemsize,'bits')\n",
    "print('total size of a1 : ',a1.nbytes,'bits')"
   ]
  },
  {
   "cell_type": "code",
   "execution_count": 6,
   "id": "c0f02661",
   "metadata": {},
   "outputs": [
    {
     "name": "stdout",
     "output_type": "stream",
     "text": [
      "[['d' 'a' 'e']\n",
      " ['a' 't' 'w']\n",
      " ['s' 'e' 'y']]\n"
     ]
    }
   ],
   "source": [
    "a2 = np.matrix([['d','a','e'],['a','t','w'],['s','e','y']])\n",
    "print(a2)"
   ]
  },
  {
   "cell_type": "code",
   "execution_count": 7,
   "id": "53219174",
   "metadata": {},
   "outputs": [
    {
     "name": "stdout",
     "output_type": "stream",
     "text": [
      "after transpose \n",
      " [['d' 'a' 's']\n",
      " ['a' 't' 'e']\n",
      " ['e' 'w' 'y']]\n"
     ]
    }
   ],
   "source": [
    "print('after transpose \\n',a2.transpose())"
   ]
  },
  {
   "cell_type": "code",
   "execution_count": 8,
   "id": "2614762a",
   "metadata": {},
   "outputs": [
    {
     "name": "stdout",
     "output_type": "stream",
     "text": [
      "after transpose\n",
      " [['d' 'a' 's']\n",
      " ['a' 't' 'e']\n",
      " ['e' 'w' 'y']]\n"
     ]
    }
   ],
   "source": [
    "print('after transpose\\n',a2.T)"
   ]
  },
  {
   "cell_type": "code",
   "execution_count": 9,
   "id": "87dea579",
   "metadata": {},
   "outputs": [
    {
     "name": "stdout",
     "output_type": "stream",
     "text": [
      "#dimension of a2 :  2\n",
      "#shape of a2 :  (3, 3)\n",
      "#size of element :  4\n",
      "#total size of a2 :  36\n"
     ]
    }
   ],
   "source": [
    "print('#dimension of a2 : ',a2.ndim)\n",
    "print('#shape of a2 : ',a2.shape)\n",
    "print('#size of element : ',a2.itemsize)\n",
    "print('#total size of a2 : ',a2.nbytes)"
   ]
  },
  {
   "cell_type": "code",
   "execution_count": 10,
   "id": "86ff02e7",
   "metadata": {},
   "outputs": [
    {
     "name": "stdout",
     "output_type": "stream",
     "text": [
      "after tranpose\n",
      " [[1 4]\n",
      " [2 6]]\n",
      "determinant(a) -2.0\n"
     ]
    }
   ],
   "source": [
    "a = np.array([[1,2],[4,6]])\n",
    "b = a.transpose()\n",
    "print('after tranpose\\n',b)\n",
    "print(\"determinant(a)\",np.linalg.det(a))"
   ]
  },
  {
   "cell_type": "code",
   "execution_count": 11,
   "id": "88fb0590",
   "metadata": {},
   "outputs": [
    {
     "name": "stdout",
     "output_type": "stream",
     "text": [
      "transpose of c\n",
      " [[ 1 -2  4]\n",
      " [ 1  2  7]\n",
      " [ 3  1  4]]\n",
      "det(c) :  -53.00000000000001\n"
     ]
    }
   ],
   "source": [
    "c = np.array([[1,1,3],[-2,2,1],[4,7,4]])\n",
    "print('transpose of c\\n',c.T)\n",
    "print('det(c) : ',np.linalg.det(c))"
   ]
  },
  {
   "cell_type": "markdown",
   "id": "92dc9ce3",
   "metadata": {},
   "source": [
    "### Inverse of matrix "
   ]
  },
  {
   "cell_type": "code",
   "execution_count": 12,
   "id": "d4cacc62",
   "metadata": {},
   "outputs": [
    {
     "name": "stdout",
     "output_type": "stream",
     "text": [
      "[[1 2]\n",
      " [4 6]]\n"
     ]
    }
   ],
   "source": [
    "M = np.array([[1,1,1],[0,2,5],[2,5,-1]])\n",
    "print(a)"
   ]
  },
  {
   "cell_type": "code",
   "execution_count": 13,
   "id": "3525eed4",
   "metadata": {},
   "outputs": [
    {
     "name": "stdout",
     "output_type": "stream",
     "text": [
      "[[ 1.28571429 -0.28571429 -0.14285714]\n",
      " [-0.47619048  0.14285714  0.23809524]\n",
      " [ 0.19047619  0.14285714 -0.0952381 ]]\n"
     ]
    }
   ],
   "source": [
    "# Display the inverse of matrix M\n",
    "print(np.linalg.inv(M))"
   ]
  },
  {
   "cell_type": "code",
   "execution_count": 14,
   "id": "6651a1d3",
   "metadata": {},
   "outputs": [
    {
     "name": "stdout",
     "output_type": "stream",
     "text": [
      "[[ 0.13368984  0.10695187  0.02139037 -0.09090909]\n",
      " [-0.00229183  0.02673797  0.14820474 -0.12987013]\n",
      " [-0.12987013  0.18181818  0.06493506 -0.02597403]\n",
      " [ 0.11000764 -0.28342246 -0.11382735  0.23376623]]\n"
     ]
    }
   ],
   "source": [
    "A = np.array([[6, 1, 1, 3],\n",
    "              [4, -2, 5, 1],\n",
    "              [2, 8, 7, 6],\n",
    "              [3, 1, 9, 7]])\n",
    "print(np.linalg.inv(A))"
   ]
  },
  {
   "cell_type": "code",
   "execution_count": 15,
   "id": "2e3fdaff",
   "metadata": {},
   "outputs": [
    {
     "name": "stdout",
     "output_type": "stream",
     "text": [
      "[[ 0.17647059 -0.00326797 -0.02287582]\n",
      " [ 0.05882353 -0.13071895  0.08496732]\n",
      " [-0.11764706  0.1503268   0.05228758]]\n"
     ]
    }
   ],
   "source": [
    "N = np.array([[6, 1, 1],\n",
    "              [4, -2, 5],\n",
    "              [2, 8, 7]])\n",
    "print(np.linalg.inv(N))"
   ]
  },
  {
   "cell_type": "code",
   "execution_count": 16,
   "id": "a557da73",
   "metadata": {},
   "outputs": [
    {
     "name": "stdout",
     "output_type": "stream",
     "text": [
      "[[[-2.    1.  ]\n",
      "  [ 1.5  -0.5 ]]\n",
      "\n",
      " [[-1.25  0.75]\n",
      "  [ 0.75 -0.25]]]\n"
     ]
    }
   ],
   "source": [
    "O = np.array([[[1,2],[3,4]],\n",
    "              [[1,3],[3,5]]])\n",
    "print(np.linalg.inv(O))"
   ]
  },
  {
   "cell_type": "markdown",
   "id": "91a2250d",
   "metadata": {},
   "source": [
    "### Rank and Nulity of Matrix "
   ]
  },
  {
   "cell_type": "code",
   "execution_count": 17,
   "id": "fcfa0c95",
   "metadata": {},
   "outputs": [
    {
     "name": "stdout",
     "output_type": "stream",
     "text": [
      "[['d' 'a' 'e']\n",
      " ['a' 't' 'w']\n",
      " ['s' 'e' 'y']]\n"
     ]
    }
   ],
   "source": [
    "print(a2)"
   ]
  },
  {
   "cell_type": "code",
   "execution_count": 18,
   "id": "483c2e32",
   "metadata": {},
   "outputs": [
    {
     "ename": "UFuncTypeError",
     "evalue": "Cannot cast ufunc 'svd_n' input from dtype('<U1') to dtype('float64') with casting rule 'same_kind'",
     "output_type": "error",
     "traceback": [
      "\u001b[1;31m---------------------------------------------------------------------------\u001b[0m",
      "\u001b[1;31mUFuncTypeError\u001b[0m                            Traceback (most recent call last)",
      "Input \u001b[1;32mIn [18]\u001b[0m, in \u001b[0;36m<cell line: 2>\u001b[1;34m()\u001b[0m\n\u001b[0;32m      1\u001b[0m \u001b[38;5;66;03m# Display the rank of matrix a\u001b[39;00m\n\u001b[1;32m----> 2\u001b[0m \u001b[38;5;28mprint\u001b[39m(\u001b[43mnp\u001b[49m\u001b[38;5;241;43m.\u001b[39;49m\u001b[43mlinalg\u001b[49m\u001b[38;5;241;43m.\u001b[39;49m\u001b[43mmatrix_rank\u001b[49m\u001b[43m(\u001b[49m\u001b[43ma1\u001b[49m\u001b[43m)\u001b[49m)\n",
      "File \u001b[1;32m<__array_function__ internals>:5\u001b[0m, in \u001b[0;36mmatrix_rank\u001b[1;34m(*args, **kwargs)\u001b[0m\n",
      "File \u001b[1;32mC:\\ProgramData\\Anaconda3\\lib\\site-packages\\numpy\\linalg\\linalg.py:1901\u001b[0m, in \u001b[0;36mmatrix_rank\u001b[1;34m(M, tol, hermitian)\u001b[0m\n\u001b[0;32m   1899\u001b[0m \u001b[38;5;28;01mif\u001b[39;00m M\u001b[38;5;241m.\u001b[39mndim \u001b[38;5;241m<\u001b[39m \u001b[38;5;241m2\u001b[39m:\n\u001b[0;32m   1900\u001b[0m     \u001b[38;5;28;01mreturn\u001b[39;00m \u001b[38;5;28mint\u001b[39m(\u001b[38;5;129;01mnot\u001b[39;00m \u001b[38;5;28mall\u001b[39m(M\u001b[38;5;241m==\u001b[39m\u001b[38;5;241m0\u001b[39m))\n\u001b[1;32m-> 1901\u001b[0m S \u001b[38;5;241m=\u001b[39m \u001b[43msvd\u001b[49m\u001b[43m(\u001b[49m\u001b[43mM\u001b[49m\u001b[43m,\u001b[49m\u001b[43m \u001b[49m\u001b[43mcompute_uv\u001b[49m\u001b[38;5;241;43m=\u001b[39;49m\u001b[38;5;28;43;01mFalse\u001b[39;49;00m\u001b[43m,\u001b[49m\u001b[43m \u001b[49m\u001b[43mhermitian\u001b[49m\u001b[38;5;241;43m=\u001b[39;49m\u001b[43mhermitian\u001b[49m\u001b[43m)\u001b[49m\n\u001b[0;32m   1902\u001b[0m \u001b[38;5;28;01mif\u001b[39;00m tol \u001b[38;5;129;01mis\u001b[39;00m \u001b[38;5;28;01mNone\u001b[39;00m:\n\u001b[0;32m   1903\u001b[0m     tol \u001b[38;5;241m=\u001b[39m S\u001b[38;5;241m.\u001b[39mmax(axis\u001b[38;5;241m=\u001b[39m\u001b[38;5;241m-\u001b[39m\u001b[38;5;241m1\u001b[39m, keepdims\u001b[38;5;241m=\u001b[39m\u001b[38;5;28;01mTrue\u001b[39;00m) \u001b[38;5;241m*\u001b[39m \u001b[38;5;28mmax\u001b[39m(M\u001b[38;5;241m.\u001b[39mshape[\u001b[38;5;241m-\u001b[39m\u001b[38;5;241m2\u001b[39m:]) \u001b[38;5;241m*\u001b[39m finfo(S\u001b[38;5;241m.\u001b[39mdtype)\u001b[38;5;241m.\u001b[39meps\n",
      "File \u001b[1;32m<__array_function__ internals>:5\u001b[0m, in \u001b[0;36msvd\u001b[1;34m(*args, **kwargs)\u001b[0m\n",
      "File \u001b[1;32mC:\\ProgramData\\Anaconda3\\lib\\site-packages\\numpy\\linalg\\linalg.py:1672\u001b[0m, in \u001b[0;36msvd\u001b[1;34m(a, full_matrices, compute_uv, hermitian)\u001b[0m\n\u001b[0;32m   1669\u001b[0m     gufunc \u001b[38;5;241m=\u001b[39m _umath_linalg\u001b[38;5;241m.\u001b[39msvd_n\n\u001b[0;32m   1671\u001b[0m signature \u001b[38;5;241m=\u001b[39m \u001b[38;5;124m'\u001b[39m\u001b[38;5;124mD->d\u001b[39m\u001b[38;5;124m'\u001b[39m \u001b[38;5;28;01mif\u001b[39;00m isComplexType(t) \u001b[38;5;28;01melse\u001b[39;00m \u001b[38;5;124m'\u001b[39m\u001b[38;5;124md->d\u001b[39m\u001b[38;5;124m'\u001b[39m\n\u001b[1;32m-> 1672\u001b[0m s \u001b[38;5;241m=\u001b[39m \u001b[43mgufunc\u001b[49m\u001b[43m(\u001b[49m\u001b[43ma\u001b[49m\u001b[43m,\u001b[49m\u001b[43m \u001b[49m\u001b[43msignature\u001b[49m\u001b[38;5;241;43m=\u001b[39;49m\u001b[43msignature\u001b[49m\u001b[43m,\u001b[49m\u001b[43m \u001b[49m\u001b[43mextobj\u001b[49m\u001b[38;5;241;43m=\u001b[39;49m\u001b[43mextobj\u001b[49m\u001b[43m)\u001b[49m\n\u001b[0;32m   1673\u001b[0m s \u001b[38;5;241m=\u001b[39m s\u001b[38;5;241m.\u001b[39mastype(_realType(result_t), copy\u001b[38;5;241m=\u001b[39m\u001b[38;5;28;01mFalse\u001b[39;00m)\n\u001b[0;32m   1674\u001b[0m \u001b[38;5;28;01mreturn\u001b[39;00m s\n",
      "\u001b[1;31mUFuncTypeError\u001b[0m: Cannot cast ufunc 'svd_n' input from dtype('<U1') to dtype('float64') with casting rule 'same_kind'"
     ]
    }
   ],
   "source": [
    "# Display the rank of matrix a\n",
    "print(np.linalg.matrix_rank(a1))"
   ]
  },
  {
   "cell_type": "code",
   "execution_count": null,
   "id": "cbabcb2b",
   "metadata": {},
   "outputs": [],
   "source": [
    "# Display the nulity of matrix a\n",
    "nulity = a1.shape[1] - np.linalg.matrix_rank(a1)\n",
    "print(nulity)"
   ]
  },
  {
   "cell_type": "code",
   "execution_count": null,
   "id": "57b95b02",
   "metadata": {},
   "outputs": [],
   "source": [
    "print(A)\n",
    "print(np.linalg.matrix_rank(A)) # is the rank of matrix A"
   ]
  },
  {
   "cell_type": "code",
   "execution_count": null,
   "id": "21419a10",
   "metadata": {},
   "outputs": [],
   "source": [
    "nulity2 = A.shape[1]-np.linalg.matrix_rank(A)\n",
    "print(nulity2)"
   ]
  },
  {
   "cell_type": "markdown",
   "id": "f780f9aa",
   "metadata": {},
   "source": [
    "### Eigenvalue of matrix "
   ]
  },
  {
   "cell_type": "code",
   "execution_count": null,
   "id": "3248191f",
   "metadata": {},
   "outputs": [],
   "source": [
    "print(f)"
   ]
  },
  {
   "cell_type": "code",
   "execution_count": null,
   "id": "4c33362e",
   "metadata": {},
   "outputs": [],
   "source": [
    "X = np.matrix([[2,1,1],[1,2,1],[1,1,2]])\n",
    "print(X)\n",
    "u,v=np.linalg.eig(X)\n",
    "print(\"Eigenvalue :\",u)\n",
    "print(\"Eigenvector : \",v)"
   ]
  },
  {
   "cell_type": "code",
   "execution_count": 19,
   "id": "8214b566",
   "metadata": {
    "scrolled": false
   },
   "outputs": [
    {
     "name": "stdout",
     "output_type": "stream",
     "text": [
      "[[ 1  1  3]\n",
      " [-2  2  1]\n",
      " [ 4  7  4]]\n",
      "Eigenvalue : \n",
      " [-2.52202863  3.47554612  6.04648251]\n",
      "Eigenvector : \n",
      " [[ 0.52636191  0.63158487  0.50527621]\n",
      " [ 0.39885396 -0.41019718 -0.03666742]\n",
      " [-0.75090523  0.65790488  0.86217832]]\n"
     ]
    }
   ],
   "source": [
    "print(c)\n",
    "w,v = np.linalg.eig(c)\n",
    "print(\"Eigenvalue : \\n\",w)\n",
    "print(\"Eigenvector : \\n\",v)"
   ]
  },
  {
   "cell_type": "code",
   "execution_count": 20,
   "id": "28fd72a3",
   "metadata": {},
   "outputs": [
    {
     "name": "stdout",
     "output_type": "stream",
     "text": [
      "Printing the Original square array:\n",
      " [[1 2 3]\n",
      " [2 3 4]\n",
      " [4 5 6]]\n",
      "Printing the Eigen values of the given square array:\n",
      " [ 1.08309519e+01 -8.30951895e-01 -1.09042184e-16]\n",
      "Printing Right eigenvectors of the given square array:\n",
      " [[ 0.34416959  0.72770285  0.40824829]\n",
      " [ 0.49532111  0.27580256 -0.81649658]\n",
      " [ 0.79762415 -0.62799801  0.40824829]]\n"
     ]
    }
   ],
   "source": [
    "m = np.array([[1, 2, 3],\n",
    "              [2, 3, 4],\n",
    "              [4, 5, 6]])\n",
    "print(\"Printing the Original square array:\\n\",m)\n",
    "\n",
    "# find eigenvalues and eigenvectors\n",
    "w, v = np.linalg.eig(m)\n",
    "print(\"Printing the Eigen values of the given square array:\\n\",w)\n",
    "print(\"Printing Right eigenvectors of the given square array:\\n\",v)"
   ]
  },
  {
   "cell_type": "markdown",
   "id": "886ae982",
   "metadata": {},
   "source": [
    "### Elementary row operation(row echelon form) "
   ]
  },
  {
   "cell_type": "code",
   "execution_count": 21,
   "id": "01166aa7",
   "metadata": {},
   "outputs": [
    {
     "name": "stdout",
     "output_type": "stream",
     "text": [
      "\n",
      "Row Two:\n",
      "[[ 1.    7.    4.    3.  ]\n",
      " [ 0.    1.    2.    3.  ]\n",
      " [-0.75 -0.    1.    0.75]\n",
      " [ 1.    3.    1.    3.  ]]\n",
      "\n",
      "Row Three:\n",
      "[[ 1.          7.          4.          3.        ]\n",
      " [ 0.          1.          2.          3.        ]\n",
      " [-0.75       -0.          1.          0.75      ]\n",
      " [ 0.77777778  1.33333333  0.          1.        ]]\n"
     ]
    }
   ],
   "source": [
    "def fixRowTwo(A) :\n",
    "\n",
    "    # Sets the sub-diagonal elements of row two to zero\n",
    "    A[2] = A[2] - A[2,0] * A[1]\n",
    "    A[2] = A[2] - A[2,1] * A[1]\n",
    "\n",
    "    # Test if diagonal element is not zero.\n",
    "    if A[2,2] == 0 :\n",
    "        # Add a lower row to row two.\n",
    "        A[2] = A[2] + A[3]\n",
    "\n",
    "        # Sets the sub-diagonal elements to zero again ???\n",
    "        A[2] = A[2] - A[2,0] * A[1]\n",
    "        A[2] = A[2] - A[2,1] * A[1]\n",
    "\n",
    "    if A[2,2] == 0 :\n",
    "        print(\"S I N G U L A R\")\n",
    "        sys.Exit()\n",
    "\n",
    "    # Set the diagonal element to one\n",
    "    A[2] = A[2] / A[2,2]\n",
    "\n",
    "    return A\n",
    "\n",
    "def fixRowThree(A) :\n",
    "\n",
    "    # Sets the sub-diagonal elements of row two to zero\n",
    "    A[3] = A[3] - A[3,0] * A[2]\n",
    "    A[3] = A[3] - A[3,1] * A[2]\n",
    "    A[3] = A[3] - A[3,2] * A[2]    \n",
    "\n",
    "    # Test if diagonal element is not zero.\n",
    "    if A[3,3] == 0:\n",
    "        print(\"S I N G U L A R\")\n",
    "        sys.Exit()\n",
    "\n",
    "    # Set the diagonal element to one\n",
    "    A[3] = A[3] / A[3,3]\n",
    "\n",
    "    return A\n",
    "\n",
    "A = np.array([\n",
    "        [1, 7, 4, 3],\n",
    "        [0, 1, 2, 3],\n",
    "        [3, 2, 0, 3],\n",
    "        [1, 3, 1, 3]\n",
    "    ], dtype=np.float_)\n",
    "\n",
    "fixRowTwo(A)\n",
    "print(\"\")\n",
    "print(\"Row Two:\")\n",
    "print(A)\n",
    "\n",
    "fixRowThree(A)\n",
    "print(\"\")\n",
    "print(\"Row Three:\")\n",
    "print(A)"
   ]
  },
  {
   "cell_type": "code",
   "execution_count": 22,
   "id": "699186a6",
   "metadata": {},
   "outputs": [
    {
     "name": "stdout",
     "output_type": "stream",
     "text": [
      "[[ 1.          1.75        0.75        2.        ]\n",
      " [ 0.          1.         -0.18181818  0.81818182]\n",
      " [ 0.          0.          1.         -1.22222222]]\n"
     ]
    }
   ],
   "source": [
    "def row_echelon(A):\n",
    "    \"\"\" Return Row Echelon Form of matrix A \"\"\"\n",
    "    \n",
    "    # if matrix A has no columns or rows,\n",
    "    # it is already in REF, so we return itself\n",
    "    r, c = A.shape\n",
    "    if r == 0 or c == 0:\n",
    "        return A\n",
    "\n",
    "    # we search for non-zero element in the first column\n",
    "    for i in range(len(A)):\n",
    "        if A[i,0] != 0:\n",
    "            break\n",
    "    else:\n",
    "        # if all elements in the first column is zero,\n",
    "        # we perform REF on matrix from second column\n",
    "        B = row_echelon(A[:,1:])\n",
    "        # and then add the first zero-column back\n",
    "        return np.hstack([A[:,:1], B])\n",
    "\n",
    "    # if non-zero element happens not in the first row,\n",
    "    # we switch rows\n",
    "    if i > 0:\n",
    "        ith_row = A[i].copy()\n",
    "        A[i] = A[0]\n",
    "        A[0] = ith_row\n",
    "\n",
    "    # we divide first row by first element in it\n",
    "    A[0] = A[0] / A[0,0]\n",
    "    # we subtract all subsequent rows with first row (it has 1 now as first element)\n",
    "    # multiplied by the corresponding element in the first column\n",
    "    A[1:] -= A[0] * A[1:,0:1]\n",
    "\n",
    "    # we perform REF on matrix from second row, from second column\n",
    "    B = row_echelon(A[1:,1:])\n",
    "\n",
    "    # we add first row and first (zero) column, and return\n",
    "    return np.vstack([A[:1], np.hstack([A[1:,:1], B]) ])\n",
    "\n",
    "A = np.array([[4, 7, 3, 8],\n",
    "              [8, 3, 8, 7],\n",
    "              [2, 9, 5, 3]], dtype='float')\n",
    "\n",
    "print(row_echelon(A))"
   ]
  },
  {
   "cell_type": "code",
   "execution_count": null,
   "id": "1c51f0e2",
   "metadata": {},
   "outputs": [],
   "source": []
  },
  {
   "cell_type": "markdown",
   "id": "df26422e",
   "metadata": {},
   "source": [
    "### Summation, Multiplication, Substraction, Power"
   ]
  },
  {
   "cell_type": "code",
   "execution_count": 23,
   "id": "6025ccb5",
   "metadata": {},
   "outputs": [
    {
     "name": "stdout",
     "output_type": "stream",
     "text": [
      "[[ 1  1  3]\n",
      " [-2  2  1]\n",
      " [ 4  7  4]] \n",
      "+\n",
      " [[5 4 6]\n",
      " [8 9 0]\n",
      " [3 4 5]] \n",
      "=\n",
      "[[ 6  5  9]\n",
      " [ 6 11  1]\n",
      " [ 7 11  9]]\n"
     ]
    }
   ],
   "source": [
    "d = np.array([[5,4,6],[8,9,0],[3,4,5]])\n",
    "print(c,'\\n+\\n',d,'\\n=')\n",
    "print(c+d)"
   ]
  },
  {
   "cell_type": "code",
   "execution_count": 24,
   "id": "2014955f",
   "metadata": {},
   "outputs": [
    {
     "name": "stdout",
     "output_type": "stream",
     "text": [
      "[[ -4  -3  -3]\n",
      " [-10  -7   1]\n",
      " [  1   3  -1]]\n"
     ]
    }
   ],
   "source": [
    "print(c-d)"
   ]
  },
  {
   "cell_type": "code",
   "execution_count": 25,
   "id": "87e4d4cc",
   "metadata": {},
   "outputs": [
    {
     "name": "stdout",
     "output_type": "stream",
     "text": [
      "c^T-d^T = \n",
      "[[ -4 -10   1]\n",
      " [ -3  -7   3]\n",
      " [ -3   1  -1]]\n"
     ]
    }
   ],
   "source": [
    "print('c^T-d^T = ')\n",
    "print(c.T-d.T)"
   ]
  },
  {
   "cell_type": "code",
   "execution_count": 26,
   "id": "b01e1765",
   "metadata": {},
   "outputs": [
    {
     "name": "stdout",
     "output_type": "stream",
     "text": [
      "det(c-d) = \n",
      "79.99999999999997\n"
     ]
    }
   ],
   "source": [
    "print('det(c-d) = ')\n",
    "print(np.linalg.det(c-d))"
   ]
  },
  {
   "cell_type": "code",
   "execution_count": 27,
   "id": "dd2c7ccf",
   "metadata": {},
   "outputs": [
    {
     "name": "stdout",
     "output_type": "stream",
     "text": [
      "det(c^T-d^T) = \n",
      "80.00000000000004\n"
     ]
    }
   ],
   "source": [
    "print('det(c^T-d^T) = ')\n",
    "print(np.linalg.det(c.T-d.T))"
   ]
  },
  {
   "cell_type": "code",
   "execution_count": 28,
   "id": "36388696",
   "metadata": {},
   "outputs": [
    {
     "name": "stdout",
     "output_type": "stream",
     "text": [
      "(c-d)^T = \n",
      "[[ -4 -10   1]\n",
      " [ -3  -7   3]\n",
      " [ -3   1  -1]]\n"
     ]
    }
   ],
   "source": [
    "print('(c-d)^T = ')\n",
    "print((c-d).T)"
   ]
  },
  {
   "cell_type": "code",
   "execution_count": 29,
   "id": "d1965ffe",
   "metadata": {},
   "outputs": [
    {
     "name": "stdout",
     "output_type": "stream",
     "text": [
      "c*d = \n",
      " [[  5   4  18]\n",
      " [-16  18   0]\n",
      " [ 12  28  20]]\n"
     ]
    }
   ],
   "source": [
    "print('c*d = \\n',c*d)"
   ]
  },
  {
   "cell_type": "code",
   "execution_count": 30,
   "id": "af0af7ce",
   "metadata": {},
   "outputs": [
    {
     "name": "stdout",
     "output_type": "stream",
     "text": [
      "[[  5 -16  12]\n",
      " [  4  18  28]\n",
      " [ 18   0  20]]\n",
      "-8871.999999999998\n"
     ]
    }
   ],
   "source": [
    "print(c.T*d.T)\n",
    "print(np.linalg.det(c.T*d.T))"
   ]
  },
  {
   "cell_type": "code",
   "execution_count": 31,
   "id": "a9a87d63",
   "metadata": {},
   "outputs": [
    {
     "name": "stdout",
     "output_type": "stream",
     "text": [
      "c^2 = \n",
      " [[ 1  1  9]\n",
      " [ 4  4  1]\n",
      " [16 49 16]]\n"
     ]
    }
   ],
   "source": [
    "print('c^2 = \\n',c**2)"
   ]
  },
  {
   "cell_type": "code",
   "execution_count": 32,
   "id": "3b29cef8",
   "metadata": {},
   "outputs": [
    {
     "name": "stdout",
     "output_type": "stream",
     "text": [
      "c^3 = \n",
      " [[  1   1  27]\n",
      " [ -8   8   1]\n",
      " [ 64 343  64]]\n"
     ]
    }
   ],
   "source": [
    "print('c^3 = \\n',c**3)"
   ]
  },
  {
   "cell_type": "code",
   "execution_count": 33,
   "id": "111c4d35",
   "metadata": {
    "scrolled": false
   },
   "outputs": [
    {
     "name": "stdout",
     "output_type": "stream",
     "text": [
      "Initialize matrix c \n",
      " [[ 1  1  3]\n",
      " [-2  2  1]\n",
      " [ 4  7  4]]\n",
      "=> c^ 0 \n",
      " [[ 1  1  3]\n",
      " [-2  2  1]\n",
      " [ 4  7  4]] \n",
      "\n",
      "=> c^ 1 \n",
      " [[ 0  0  2]\n",
      " [-1  3  0]\n",
      " [ 5  6  5]] \n",
      "\n",
      "=> c^ 2 \n",
      " [[ 3  3  1]\n",
      " [-4  0  3]\n",
      " [ 6  5  6]] \n",
      "\n",
      "=> c^ 3 \n",
      " [[ 2  2  0]\n",
      " [-3  1  2]\n",
      " [ 7  4  7]] \n",
      "\n",
      "=> c^ 4 \n",
      " [[ 5  5  7]\n",
      " [-6  6  5]\n",
      " [ 0  3  0]] \n",
      "\n"
     ]
    }
   ],
   "source": [
    "print('Initialize matrix c \\n',c)\n",
    "for i in range(5):\n",
    "    print(\"=> c^\",i,\"\\n\",c^i,\"\\n\")"
   ]
  },
  {
   "cell_type": "code",
   "execution_count": 34,
   "id": "09324b4e",
   "metadata": {
    "scrolled": false
   },
   "outputs": [
    {
     "name": "stdout",
     "output_type": "stream",
     "text": [
      "Initialize matrix c \n",
      " [[ 1  1  3]\n",
      " [-2  2  1]\n",
      " [ 4  7  4]]\n",
      "=> pow(c,0)\n",
      " [[1 1 1]\n",
      " [1 1 1]\n",
      " [1 1 1]] \n",
      "\n",
      "=> pow(c,1)\n",
      " [[ 1  1  3]\n",
      " [-2  2  1]\n",
      " [ 4  7  4]] \n",
      "\n",
      "=> pow(c,2)\n",
      " [[ 1  1  9]\n",
      " [ 4  4  1]\n",
      " [16 49 16]] \n",
      "\n",
      "=> pow(c,3)\n",
      " [[  1   1  27]\n",
      " [ -8   8   1]\n",
      " [ 64 343  64]] \n",
      "\n",
      "=> pow(c,4)\n",
      " [[   1    1   81]\n",
      " [  16   16    1]\n",
      " [ 256 2401  256]] \n",
      "\n",
      "=> pow(c,5)\n",
      " [[    1     1   243]\n",
      " [  -32    32     1]\n",
      " [ 1024 16807  1024]] \n",
      "\n",
      "=> pow(c,6)\n",
      " [[     1      1    729]\n",
      " [    64     64      1]\n",
      " [  4096 117649   4096]] \n",
      "\n",
      "=> pow(c,7)\n",
      " [[     1      1   2187]\n",
      " [  -128    128      1]\n",
      " [ 16384 823543  16384]] \n",
      "\n",
      "=> pow(c,8)\n",
      " [[      1       1    6561]\n",
      " [    256     256       1]\n",
      " [  65536 5764801   65536]] \n",
      "\n",
      "=> pow(c,9)\n",
      " [[       1        1    19683]\n",
      " [    -512      512        1]\n",
      " [  262144 40353607   262144]] \n",
      "\n",
      "=> pow(c,10)\n",
      " [[        1         1     59049]\n",
      " [     1024      1024         1]\n",
      " [  1048576 282475249   1048576]] \n",
      "\n"
     ]
    }
   ],
   "source": [
    "print('Initialize matrix c \\n',c)\n",
    "for i in range(11):\n",
    "    print(\"=> pow(c,\"+str(i)+\")\\n\",c**i,\"\\n\")"
   ]
  },
  {
   "cell_type": "code",
   "execution_count": 35,
   "id": "0dc0154a",
   "metadata": {
    "scrolled": false
   },
   "outputs": [
    {
     "name": "stdout",
     "output_type": "stream",
     "text": [
      "initialize matrix d\n",
      "[[5 4 6]\n",
      " [8 9 0]\n",
      " [3 4 5]]\n",
      "pow(d,0)\n",
      " [[1 1 1]\n",
      " [1 1 1]\n",
      " [1 1 1]]\n",
      "pow(d,1)\n",
      " [[5 4 6]\n",
      " [8 9 0]\n",
      " [3 4 5]]\n",
      "pow(d,2)\n",
      " [[25 16 36]\n",
      " [64 81  0]\n",
      " [ 9 16 25]]\n",
      "pow(d,3)\n",
      " [[125  64 216]\n",
      " [512 729   0]\n",
      " [ 27  64 125]]\n",
      "pow(d,4)\n",
      " [[ 625  256 1296]\n",
      " [4096 6561    0]\n",
      " [  81  256  625]]\n",
      "pow(d,5)\n",
      " [[ 3125  1024  7776]\n",
      " [32768 59049     0]\n",
      " [  243  1024  3125]]\n",
      "pow(d,6)\n",
      " [[ 15625   4096  46656]\n",
      " [262144 531441      0]\n",
      " [   729   4096  15625]]\n",
      "pow(d,7)\n",
      " [[  78125   16384  279936]\n",
      " [2097152 4782969       0]\n",
      " [   2187   16384   78125]]\n",
      "pow(d,8)\n",
      " [[  390625    65536  1679616]\n",
      " [16777216 43046721        0]\n",
      " [    6561    65536   390625]]\n",
      "pow(d,9)\n",
      " [[  1953125    262144  10077696]\n",
      " [134217728 387420489         0]\n",
      " [    19683    262144   1953125]]\n",
      "pow(d,10)\n",
      " [[   9765625    1048576   60466176]\n",
      " [1073741824 -808182895          0]\n",
      " [     59049    1048576    9765625]]\n",
      "pow(d,11)\n",
      " [[  48828125    4194304  362797056]\n",
      " [         0 1316288537          0]\n",
      " [    177147    4194304   48828125]]\n",
      "pow(d,12)\n",
      " [[  244140625    16777216 -2118184960]\n",
      " [          0 -1038305055           0]\n",
      " [     531441    16777216   244140625]]\n",
      "pow(d,13)\n",
      " [[1220703125   67108864  175792128]\n",
      " [         0 -754810903          0]\n",
      " [   1594323   67108864 1220703125]]\n",
      "pow(d,14)\n",
      " [[1808548329  268435456 1054752768]\n",
      " [         0 1796636465          0]\n",
      " [   4782969  268435456 1808548329]]\n",
      "pow(d,15)\n",
      " [[  452807053  1073741824  2033549312]\n",
      " [          0 -1010140999           0]\n",
      " [   14348907  1073741824   452807053]]\n",
      "pow(d,16)\n",
      " [[-2030932031           0  -683606016]\n",
      " [          0  -501334399           0]\n",
      " [   43046721           0 -2030932031]]\n",
      "pow(d,17)\n",
      " [[-1564725563           0   193331200]\n",
      " [          0  -217042295           0]\n",
      " [  129140163           0 -1564725563]]\n",
      "pow(d,18)\n",
      " [[  766306777           0  1159987200]\n",
      " [          0 -1953380655           0]\n",
      " [  387420489           0   766306777]]\n",
      "pow(d,19)\n",
      " [[ -463433411           0 -1630011392]\n",
      " [          0  -400556711           0]\n",
      " [ 1162261467           0  -463433411]]\n",
      "pow(d,20)\n",
      " [[ 1977800241           0 -1190133760]\n",
      " [          0   689956897           0]\n",
      " [ -808182895           0  1977800241]]\n",
      "pow(d,21)\n",
      " [[1299066613          0 1449132032]\n",
      " [         0 1914644777          0]\n",
      " [1870418611          0 1299066613]]\n",
      "pow(d,22)\n",
      " [[-2094601527           0   104857600]\n",
      " [          0    51933809           0]\n",
      " [ 1316288537           0 -2094601527]]\n",
      "pow(d,23)\n",
      " [[-1883073043           0   629145600]\n",
      " [          0   467404281           0]\n",
      " [ -346101685           0 -1883073043]]\n",
      "pow(d,24)\n",
      " [[ -825430623           0  -520093696]\n",
      " [          0   -88328767           0]\n",
      " [-1038305055           0  -825430623]]\n",
      "pow(d,25)\n",
      " [[ 167814181          0 1174405120]\n",
      " [         0 -794958903          0]\n",
      " [1180052131          0  167814181]]\n",
      "pow(d,26)\n",
      " [[  839070905           0 -1543503872]\n",
      " [          0  1435304465           0]\n",
      " [ -754810903           0   839070905]]\n",
      "pow(d,27)\n",
      " [[ -99612771          0 -671088640]\n",
      " [         0   32838297          0]\n",
      " [2030534587          0  -99612771]]\n",
      "pow(d,28)\n",
      " [[-498063855          0  268435456]\n",
      " [         0  295544673          0]\n",
      " [1796636465          0 -498063855]]\n",
      "pow(d,29)\n",
      " [[ 1804648021           0  1610612736]\n",
      " [          0 -1635065239           0]\n",
      " [ 1094942099           0  1804648021]]\n",
      "pow(d,30)\n",
      " [[  433305513           0  1073741824]\n",
      " [          0 -1830685263           0]\n",
      " [-1010140999           0   433305513]]\n"
     ]
    }
   ],
   "source": [
    "print('initialize matrix d')\n",
    "print(d)\n",
    "for i in range(31):\n",
    "    print('pow(d,'+str(i)+')\\n',d**i)"
   ]
  },
  {
   "cell_type": "code",
   "execution_count": 36,
   "id": "b00358de",
   "metadata": {
    "scrolled": false
   },
   "outputs": [
    {
     "name": "stdout",
     "output_type": "stream",
     "text": [
      "initialize matrix d\n",
      "[[5 4 6]\n",
      " [8 9 0]\n",
      " [3 4 5]]\n",
      "\n",
      "==> d^0\n",
      " [[5 4 6]\n",
      " [8 9 0]\n",
      " [3 4 5]]\n",
      "\n",
      "==> d^1\n",
      " [[4 5 7]\n",
      " [9 8 1]\n",
      " [2 5 4]]\n",
      "\n",
      "==> d^2\n",
      " [[ 7  6  4]\n",
      " [10 11  2]\n",
      " [ 1  6  7]]\n",
      "\n",
      "==> d^3\n",
      " [[ 6  7  5]\n",
      " [11 10  3]\n",
      " [ 0  7  6]]\n",
      "\n",
      "==> d^4\n",
      " [[ 1  0  2]\n",
      " [12 13  4]\n",
      " [ 7  0  1]]\n",
      "\n",
      "==> d^5\n",
      " [[ 0  1  3]\n",
      " [13 12  5]\n",
      " [ 6  1  0]]\n",
      "\n",
      "==> d^6\n",
      " [[ 3  2  0]\n",
      " [14 15  6]\n",
      " [ 5  2  3]]\n",
      "\n",
      "==> d^7\n",
      " [[ 2  3  1]\n",
      " [15 14  7]\n",
      " [ 4  3  2]]\n",
      "\n",
      "==> d^8\n",
      " [[13 12 14]\n",
      " [ 0  1  8]\n",
      " [11 12 13]]\n",
      "\n",
      "==> d^9\n",
      " [[12 13 15]\n",
      " [ 1  0  9]\n",
      " [10 13 12]]\n",
      "\n",
      "==> d^10\n",
      " [[15 14 12]\n",
      " [ 2  3 10]\n",
      " [ 9 14 15]]\n",
      "\n",
      "==> d^11\n",
      " [[14 15 13]\n",
      " [ 3  2 11]\n",
      " [ 8 15 14]]\n",
      "\n",
      "==> d^12\n",
      " [[ 9  8 10]\n",
      " [ 4  5 12]\n",
      " [15  8  9]]\n",
      "\n",
      "==> d^13\n",
      " [[ 8  9 11]\n",
      " [ 5  4 13]\n",
      " [14  9  8]]\n",
      "\n",
      "==> d^14\n",
      " [[11 10  8]\n",
      " [ 6  7 14]\n",
      " [13 10 11]]\n",
      "\n",
      "==> d^15\n",
      " [[10 11  9]\n",
      " [ 7  6 15]\n",
      " [12 11 10]]\n",
      "\n",
      "==> d^16\n",
      " [[21 20 22]\n",
      " [24 25 16]\n",
      " [19 20 21]]\n",
      "\n",
      "==> d^17\n",
      " [[20 21 23]\n",
      " [25 24 17]\n",
      " [18 21 20]]\n",
      "\n",
      "==> d^18\n",
      " [[23 22 20]\n",
      " [26 27 18]\n",
      " [17 22 23]]\n",
      "\n",
      "==> d^19\n",
      " [[22 23 21]\n",
      " [27 26 19]\n",
      " [16 23 22]]\n",
      "\n",
      "==> d^20\n",
      " [[17 16 18]\n",
      " [28 29 20]\n",
      " [23 16 17]]\n",
      "\n",
      "==> d^21\n",
      " [[16 17 19]\n",
      " [29 28 21]\n",
      " [22 17 16]]\n",
      "\n",
      "==> d^22\n",
      " [[19 18 16]\n",
      " [30 31 22]\n",
      " [21 18 19]]\n",
      "\n",
      "==> d^23\n",
      " [[18 19 17]\n",
      " [31 30 23]\n",
      " [20 19 18]]\n",
      "\n",
      "==> d^24\n",
      " [[29 28 30]\n",
      " [16 17 24]\n",
      " [27 28 29]]\n",
      "\n",
      "==> d^25\n",
      " [[28 29 31]\n",
      " [17 16 25]\n",
      " [26 29 28]]\n",
      "\n",
      "==> d^26\n",
      " [[31 30 28]\n",
      " [18 19 26]\n",
      " [25 30 31]]\n",
      "\n",
      "==> d^27\n",
      " [[30 31 29]\n",
      " [19 18 27]\n",
      " [24 31 30]]\n",
      "\n",
      "==> d^28\n",
      " [[25 24 26]\n",
      " [20 21 28]\n",
      " [31 24 25]]\n",
      "\n",
      "==> d^29\n",
      " [[24 25 27]\n",
      " [21 20 29]\n",
      " [30 25 24]]\n",
      "\n",
      "==> d^30\n",
      " [[27 26 24]\n",
      " [22 23 30]\n",
      " [29 26 27]]\n"
     ]
    }
   ],
   "source": [
    "print('initialize matrix d')\n",
    "print(d)\n",
    "for i in range(31):\n",
    "    print('\\n==> d^'+str(i)+'\\n',d^i)"
   ]
  },
  {
   "cell_type": "code",
   "execution_count": 37,
   "id": "71514fa5",
   "metadata": {},
   "outputs": [
    {
     "name": "stdout",
     "output_type": "stream",
     "text": [
      "transpose(e)\n",
      " [[ 1  6 11  0  4]\n",
      " [ 2  7 12  1  6]\n",
      " [ 3  8 13  2  7]\n",
      " [ 4  9 14  3  8]\n",
      " [ 5 10 15  3  9]]\n",
      "transpose(f)\n",
      " [[ 4  3  5  0  5]\n",
      " [ 5  4  7  0 -3]\n",
      " [ 6 65 67 98 -4]\n",
      " [ 7  3 54  8 -5]\n",
      " [ 9  2  3  9  2]]\n",
      "sum(e+f) = \n",
      "[[  5   7   9  11  14]\n",
      " [  9  11  73  12  12]\n",
      " [ 16  19  80  68  18]\n",
      " [  0   1 100  11  12]\n",
      " [  9   3   3   3  11]]\n",
      "sum(e.T+f.T) = \n",
      " [[  5   9  16   0   9]\n",
      " [  7  11  19   1   3]\n",
      " [  9  73  80 100   3]\n",
      " [ 11  12  68  11   3]\n",
      " [ 14  12  18  12  11]]\n"
     ]
    }
   ],
   "source": [
    "e = np.matrix([[1,2,3,4,5],[6,7,8,9,10],[11,12,13,14,15],[0,1,2,3,3],[4,6,7,8,9]])\n",
    "f = np.matrix([[4,5,6,7,9],[3,4,65,3,2],[5,7,67,54,3],[0,0,98,8,9],[5,-3,-4,-5,2]])\n",
    "print('transpose(e)\\n',e.T)\n",
    "print('transpose(f)\\n',f.T)\n",
    "print('sum(e+f) = \\n'+str(e+f))\n",
    "print('sum(e.T+f.T) = \\n',e.T+f.T)"
   ]
  },
  {
   "cell_type": "code",
   "execution_count": 38,
   "id": "22b3d668",
   "metadata": {},
   "outputs": [
    {
     "name": "stdout",
     "output_type": "stream",
     "text": [
      "det(e)   =  2.5288413338684173e-15\n",
      "det(e.T) =  3.330669073875456e-15\n"
     ]
    }
   ],
   "source": [
    "print('det(e)   = ',np.linalg.det(e))\n",
    "print('det(e.T) = ',np.linalg.det(e.T))"
   ]
  },
  {
   "cell_type": "code",
   "execution_count": 39,
   "id": "3e5461b6",
   "metadata": {},
   "outputs": [
    {
     "name": "stdout",
     "output_type": "stream",
     "text": [
      "det(f) =  1895118.000000004\n",
      "det(f.T) =  1895118.0000000005\n"
     ]
    }
   ],
   "source": [
    "print('det(f) = ',np.linalg.det(f))\n",
    "print('det(f.T) = ',np.linalg.det(f.T))"
   ]
  },
  {
   "cell_type": "code",
   "execution_count": 40,
   "id": "390f58c8",
   "metadata": {},
   "outputs": [
    {
     "name": "stdout",
     "output_type": "stream",
     "text": [
      "2\n",
      "2\n"
     ]
    }
   ],
   "source": [
    "print(e.ndim)\n",
    "print(f.ndim)"
   ]
  },
  {
   "cell_type": "code",
   "execution_count": 41,
   "id": "085d3930",
   "metadata": {},
   "outputs": [
    {
     "name": "stdout",
     "output_type": "stream",
     "text": [
      "The 2x3 order of g is \n",
      " [[9. 8. 7.]\n",
      " [6. 5. 4.]]\n",
      "The 3x6 order of h is \n",
      " [[ 1  2  3  4  5  0]\n",
      " [-3  8 -5  0  8  8]\n",
      " [ 1  2  3  4  5  6]]\n"
     ]
    }
   ],
   "source": [
    "g = np.array([[9.0,8.0,7.0],[6.0,5.0,4.0]])\n",
    "h = np.array([[1,2,3,4,5,0],[-3,8,-5,0,8,8],[1,2,3,4,5,6]])\n",
    "print('The 2x3 order of g is \\n',g)\n",
    "print('The 3x6 order of h is \\n',h)"
   ]
  },
  {
   "cell_type": "code",
   "execution_count": 51,
   "id": "5d271f1d",
   "metadata": {},
   "outputs": [
    {
     "name": "stdout",
     "output_type": "stream",
     "text": [
      "Enter a11 : 1\n",
      "Enter a12 : 2\n",
      "Enter a13 : 3\n",
      "Enter a14 : 4\n",
      "Enter a21 : 5\n",
      "Enter a22 : 6\n",
      "Enter a23 : 7\n",
      "Enter a24 : 8\n",
      "Enter a31 : 9\n",
      "Enter a32 : 0\n",
      "Enter a33 : 1\n",
      "Enter a34 : 2\n",
      "Enter a41 : 3\n",
      "Enter a42 : 4\n",
      "Enter a43 : 5\n",
      "Enter a44 : 6\n",
      "[[1 2 3 4]\n",
      " [5 6 7 8]\n",
      " [9 0 1 2]\n",
      " [3 4 5 6]]\n"
     ]
    }
   ],
   "source": [
    "a11 = int(input(\"Enter a11 : \"))\n",
    "a12 = int(input(\"Enter a12 : \"))\n",
    "a13 = int(input(\"Enter a13 : \"))\n",
    "a14 = int(input(\"Enter a14 : \"))\n",
    "\n",
    "a21 = int(input(\"Enter a21 : \"))\n",
    "a22 = int(input(\"Enter a22 : \"))\n",
    "a23 = int(input(\"Enter a23 : \"))\n",
    "a24 = int(input(\"Enter a24 : \"))\n",
    "\n",
    "a31 = int(input(\"Enter a31 : \"))\n",
    "a32 = int(input(\"Enter a32 : \"))\n",
    "a33 = int(input(\"Enter a33 : \"))\n",
    "a34 = int(input(\"Enter a34 : \"))\n",
    "\n",
    "a41 = int(input(\"Enter a41 : \"))\n",
    "a42 = int(input(\"Enter a42 : \"))\n",
    "a43 = int(input(\"Enter a43 : \"))\n",
    "a44 = int(input(\"Enter a44 : \"))\n",
    "i = np.array([[a11,a12,a13,a14],\n",
    "              [a21,a22,a23,a24],\n",
    "              [a31,a32,a33,a34],\n",
    "              [a41,a42,a43,a44]])\n",
    "print(i)"
   ]
  },
  {
   "cell_type": "code",
   "execution_count": 52,
   "id": "36464da6",
   "metadata": {},
   "outputs": [
    {
     "name": "stdout",
     "output_type": "stream",
     "text": [
      "[[1 2 3 4]\n",
      " [5 6 7 8]\n",
      " [9 0 1 2]\n",
      " [3 4 5 6]]\n",
      "[[1 5 9 3]\n",
      " [2 6 0 4]\n",
      " [3 7 1 5]\n",
      " [4 8 2 6]]\n",
      "0.0\n",
      "4.17772812229319e-14\n"
     ]
    }
   ],
   "source": [
    "print(i)\n",
    "print(i.T)\n",
    "print(np.linalg.det(i.T))\n",
    "print(np.linalg.det(i))"
   ]
  },
  {
   "cell_type": "code",
   "execution_count": 53,
   "id": "a83110b8",
   "metadata": {},
   "outputs": [
    {
     "name": "stdout",
     "output_type": "stream",
     "text": [
      "[[ 1.   2.   3.9  4.   5. ]\n",
      " [ 6.   7.   8.   9.   0. ]\n",
      " [-1.  -3.   4.   5.   6. ]\n",
      " [ 2.   3.   4.   5.   6. ]\n",
      " [ 0.   8.   6.   5.   4. ]]\n"
     ]
    }
   ],
   "source": [
    "j = np.matrix([[1,2,3.9,4,5],[6,7,8,9,0],[-1,-3,4,5,6],[2,3,4,5,6],[0,8,6,5,4]])\n",
    "print(j)"
   ]
  },
  {
   "cell_type": "code",
   "execution_count": 54,
   "id": "76a67da8",
   "metadata": {},
   "outputs": [
    {
     "name": "stdout",
     "output_type": "stream",
     "text": [
      "After transpose(j)\n",
      " [[ 1.   6.  -1.   2.   0. ]\n",
      " [ 2.   7.  -3.   3.   8. ]\n",
      " [ 3.9  8.   4.   4.   6. ]\n",
      " [ 4.   9.   5.   5.   5. ]\n",
      " [ 5.   0.   6.   6.   4. ]] \n",
      "\n",
      "888.5999999999988 \n",
      "\n",
      "[[ 17.1  56.3  81.5  86.5  72.4]\n",
      " [ 58.   64.  147.4 172.  132. ]\n",
      " [-13.   28.   44.1  44.   73. ]\n",
      " [ 26.   76.  103.8 110.   88. ]\n",
      " [ 52.   85.  132.  147.   82. ]] \n",
      "\n",
      "[[1.46372009e+128 3.45731468e+128 5.56042406e+128 6.08504870e+128\n",
      "  4.92050705e+128]\n",
      " [2.57952687e+128 6.09285628e+128 9.79918457e+128 1.07237352e+129\n",
      "  8.67145315e+128]\n",
      " [8.74316042e+127 2.06513917e+128 3.32137818e+128 3.63474939e+128\n",
      "  2.93913999e+128]\n",
      " [1.88349039e+128 4.44881438e+128 7.15506016e+128 7.83013832e+128\n",
      "  6.33162571e+128]\n",
      " [2.25014271e+128 5.31484913e+128 8.54791007e+128 9.35440328e+128\n",
      "  7.56418059e+128]]\n"
     ]
    }
   ],
   "source": [
    "print(\"After transpose(j)\\n\",j.T,\"\\n\")\n",
    "print(np.linalg.det(j),\"\\n\")\n",
    "print(j**2,\"\\n\")\n",
    "print(j**100)"
   ]
  },
  {
   "cell_type": "code",
   "execution_count": 55,
   "id": "a5ddd107",
   "metadata": {},
   "outputs": [
    {
     "name": "stdout",
     "output_type": "stream",
     "text": [
      "[[21.]]\n",
      "[[ 1.   2.   3.9  4.   5. ]\n",
      " [ 6.   7.   8.   9.   0. ]\n",
      " [-1.  -3.   4.   5.   6. ]\n",
      " [ 2.   3.   4.   5.   6. ]\n",
      " [ 0.   8.   6.   5.   4. ]]\n",
      "sort j [[0 1 2 3 4]\n",
      " [4 0 1 2 3]\n",
      " [1 0 2 3 4]\n",
      " [0 1 2 3 4]\n",
      " [0 4 3 2 1]]\n"
     ]
    }
   ],
   "source": [
    "print(j.trace())\n",
    "print(j.conjugate())\n",
    "print(\"sort j\",j.argsort())"
   ]
  },
  {
   "cell_type": "code",
   "execution_count": 56,
   "id": "a3c964cb",
   "metadata": {},
   "outputs": [
    {
     "name": "stdout",
     "output_type": "stream",
     "text": [
      "[[ 1  2  3  4  5  6  7  8  9 10]\n",
      " [ 4  1  5  5  6  0 -4 -2 -1  6]\n",
      " [ 1  8  0  7  8  9 -2 -1  3 -4]\n",
      " [ 2  4  5  6  4  3  8  9  0  7]\n",
      " [ 3  8  9  0  4  3  5  6  7  8]\n",
      " [ 1  2  3  4  5  6  7  8  9  0]\n",
      " [ 4  6  3  2  1 -9 -7  0  6  4]\n",
      " [ 1  4  5  6  7  5  4  3  2  1]\n",
      " [ 1  2  3  4  5  6  7  8  9  0]\n",
      " [ 0  0  7  0  5  4  3  9  0  1]]\n"
     ]
    }
   ],
   "source": [
    "k = np.array([[1,2,3,4,5,6,7,8,9,10],[4,1,5,5,6,0,-4,-2,-1,6],[1,8,0,7,8,9,-2,-1,3,-4],[2,4,5,6,4,3,8,9,0,7],\n",
    "              [3,8,9,0,4,3,5,6,7,8],[1,2,3,4,5,6,7,8,9,0],[4,6,3,2,1,-9,-7,0,6,4],[1,4,5,6,7,5,4,3,2,1],\n",
    "              [1,2,3,4,5,6,7,8,9,0],[0,0,7,0,5,4,3,9,0,1]])\n",
    "print(k)"
   ]
  },
  {
   "cell_type": "code",
   "execution_count": 57,
   "id": "0cfcd26e",
   "metadata": {},
   "outputs": [
    {
     "name": "stdout",
     "output_type": "stream",
     "text": [
      "After transpose\n",
      "[[ 1  4  1  2  3  1  4  1  1  0]\n",
      " [ 2  1  8  4  8  2  6  4  2  0]\n",
      " [ 3  5  0  5  9  3  3  5  3  7]\n",
      " [ 4  5  7  6  0  4  2  6  4  0]\n",
      " [ 5  6  8  4  4  5  1  7  5  5]\n",
      " [ 6  0  9  3  3  6 -9  5  6  4]\n",
      " [ 7 -4 -2  8  5  7 -7  4  7  3]\n",
      " [ 8 -2 -1  9  6  8  0  3  8  9]\n",
      " [ 9 -1  3  0  7  9  6  2  9  0]\n",
      " [10  6 -4  7  8  0  4  1  0  1]]\n"
     ]
    }
   ],
   "source": [
    "print('After transpose')\n",
    "print(k.T)"
   ]
  },
  {
   "cell_type": "code",
   "execution_count": 58,
   "id": "0179cf3b",
   "metadata": {},
   "outputs": [
    {
     "name": "stdout",
     "output_type": "stream",
     "text": [
      "det(k) =  0.0\n",
      "det(k^T) =  1.3485847077899445e-08\n"
     ]
    }
   ],
   "source": [
    "print('det(k) = ',np.linalg.det(k))\n",
    "print('det(k^T) = ',np.linalg.det(k.T))"
   ]
  },
  {
   "cell_type": "code",
   "execution_count": 59,
   "id": "879f7484",
   "metadata": {
    "scrolled": false
   },
   "outputs": [
    {
     "name": "stdout",
     "output_type": "stream",
     "text": [
      "\n",
      "pow(k,1) = \n",
      " [[ 1  2  3  4  5  6  7  8  9 10]\n",
      " [ 4  1  5  5  6  0 -4 -2 -1  6]\n",
      " [ 1  8  0  7  8  9 -2 -1  3 -4]\n",
      " [ 2  4  5  6  4  3  8  9  0  7]\n",
      " [ 3  8  9  0  4  3  5  6  7  8]\n",
      " [ 1  2  3  4  5  6  7  8  9  0]\n",
      " [ 4  6  3  2  1 -9 -7  0  6  4]\n",
      " [ 1  4  5  6  7  5  4  3  2  1]\n",
      " [ 1  2  3  4  5  6  7  8  9  0]\n",
      " [ 0  0  7  0  5  4  3  9  0  1]]\n",
      "\n",
      "pow(k,2) = \n",
      " [[  1   4   9  16  25  36  49  64  81 100]\n",
      " [ 16   1  25  25  36   0  16   4   1  36]\n",
      " [  1  64   0  49  64  81   4   1   9  16]\n",
      " [  4  16  25  36  16   9  64  81   0  49]\n",
      " [  9  64  81   0  16   9  25  36  49  64]\n",
      " [  1   4   9  16  25  36  49  64  81   0]\n",
      " [ 16  36   9   4   1  81  49   0  36  16]\n",
      " [  1  16  25  36  49  25  16   9   4   1]\n",
      " [  1   4   9  16  25  36  49  64  81   0]\n",
      " [  0   0  49   0  25  16   9  81   0   1]]\n",
      "\n",
      "pow(k,3) = \n",
      " [[   1    8   27   64  125  216  343  512  729 1000]\n",
      " [  64    1  125  125  216    0  -64   -8   -1  216]\n",
      " [   1  512    0  343  512  729   -8   -1   27  -64]\n",
      " [   8   64  125  216   64   27  512  729    0  343]\n",
      " [  27  512  729    0   64   27  125  216  343  512]\n",
      " [   1    8   27   64  125  216  343  512  729    0]\n",
      " [  64  216   27    8    1 -729 -343    0  216   64]\n",
      " [   1   64  125  216  343  125   64   27    8    1]\n",
      " [   1    8   27   64  125  216  343  512  729    0]\n",
      " [   0    0  343    0  125   64   27  729    0    1]]\n",
      "\n",
      "pow(k,4) = \n",
      " [[    1    16    81   256   625  1296  2401  4096  6561 10000]\n",
      " [  256     1   625   625  1296     0   256    16     1  1296]\n",
      " [    1  4096     0  2401  4096  6561    16     1    81   256]\n",
      " [   16   256   625  1296   256    81  4096  6561     0  2401]\n",
      " [   81  4096  6561     0   256    81   625  1296  2401  4096]\n",
      " [    1    16    81   256   625  1296  2401  4096  6561     0]\n",
      " [  256  1296    81    16     1  6561  2401     0  1296   256]\n",
      " [    1   256   625  1296  2401   625   256    81    16     1]\n",
      " [    1    16    81   256   625  1296  2401  4096  6561     0]\n",
      " [    0     0  2401     0   625   256    81  6561     0     1]]\n",
      "\n",
      "pow(k,5) = \n",
      " [[     1     32    243   1024   3125   7776  16807  32768  59049 100000]\n",
      " [  1024      1   3125   3125   7776      0  -1024    -32     -1   7776]\n",
      " [     1  32768      0  16807  32768  59049    -32     -1    243  -1024]\n",
      " [    32   1024   3125   7776   1024    243  32768  59049      0  16807]\n",
      " [   243  32768  59049      0   1024    243   3125   7776  16807  32768]\n",
      " [     1     32    243   1024   3125   7776  16807  32768  59049      0]\n",
      " [  1024   7776    243     32      1 -59049 -16807      0   7776   1024]\n",
      " [     1   1024   3125   7776  16807   3125   1024    243     32      1]\n",
      " [     1     32    243   1024   3125   7776  16807  32768  59049      0]\n",
      " [     0      0  16807      0   3125   1024    243  59049      0      1]]\n",
      "\n",
      "pow(k,6) = \n",
      " [[      1      64     729    4096   15625   46656  117649  262144  531441\n",
      "  1000000]\n",
      " [   4096       1   15625   15625   46656       0    4096      64       1\n",
      "    46656]\n",
      " [      1  262144       0  117649  262144  531441      64       1     729\n",
      "     4096]\n",
      " [     64    4096   15625   46656    4096     729  262144  531441       0\n",
      "   117649]\n",
      " [    729  262144  531441       0    4096     729   15625   46656  117649\n",
      "   262144]\n",
      " [      1      64     729    4096   15625   46656  117649  262144  531441\n",
      "        0]\n",
      " [   4096   46656     729      64       1  531441  117649       0   46656\n",
      "     4096]\n",
      " [      1    4096   15625   46656  117649   15625    4096     729      64\n",
      "        1]\n",
      " [      1      64     729    4096   15625   46656  117649  262144  531441\n",
      "        0]\n",
      " [      0       0  117649       0   15625    4096     729  531441       0\n",
      "        1]]\n",
      "\n",
      "pow(k,7) = \n",
      " [[       1      128     2187    16384    78125   279936   823543  2097152\n",
      "   4782969 10000000]\n",
      " [   16384        1    78125    78125   279936        0   -16384     -128\n",
      "        -1   279936]\n",
      " [       1  2097152        0   823543  2097152  4782969     -128       -1\n",
      "      2187   -16384]\n",
      " [     128    16384    78125   279936    16384     2187  2097152  4782969\n",
      "         0   823543]\n",
      " [    2187  2097152  4782969        0    16384     2187    78125   279936\n",
      "    823543  2097152]\n",
      " [       1      128     2187    16384    78125   279936   823543  2097152\n",
      "   4782969        0]\n",
      " [   16384   279936     2187      128        1 -4782969  -823543        0\n",
      "    279936    16384]\n",
      " [       1    16384    78125   279936   823543    78125    16384     2187\n",
      "       128        1]\n",
      " [       1      128     2187    16384    78125   279936   823543  2097152\n",
      "   4782969        0]\n",
      " [       0        0   823543        0    78125    16384     2187  4782969\n",
      "         0        1]]\n",
      "\n",
      "pow(k,8) = \n",
      " [[        1       256      6561     65536    390625   1679616   5764801\n",
      "   16777216  43046721 100000000]\n",
      " [    65536         1    390625    390625   1679616         0     65536\n",
      "        256         1   1679616]\n",
      " [        1  16777216         0   5764801  16777216  43046721       256\n",
      "          1      6561     65536]\n",
      " [      256     65536    390625   1679616     65536      6561  16777216\n",
      "   43046721         0   5764801]\n",
      " [     6561  16777216  43046721         0     65536      6561    390625\n",
      "    1679616   5764801  16777216]\n",
      " [        1       256      6561     65536    390625   1679616   5764801\n",
      "   16777216  43046721         0]\n",
      " [    65536   1679616      6561       256         1  43046721   5764801\n",
      "          0   1679616     65536]\n",
      " [        1     65536    390625   1679616   5764801    390625     65536\n",
      "       6561       256         1]\n",
      " [        1       256      6561     65536    390625   1679616   5764801\n",
      "   16777216  43046721         0]\n",
      " [        0         0   5764801         0    390625     65536      6561\n",
      "   43046721         0         1]]\n",
      "\n",
      "pow(k,9) = \n",
      " [[         1        512      19683     262144    1953125   10077696\n",
      "    40353607  134217728  387420489 1000000000]\n",
      " [    262144          1    1953125    1953125   10077696          0\n",
      "     -262144       -512         -1   10077696]\n",
      " [         1  134217728          0   40353607  134217728  387420489\n",
      "        -512         -1      19683    -262144]\n",
      " [       512     262144    1953125   10077696     262144      19683\n",
      "   134217728  387420489          0   40353607]\n",
      " [     19683  134217728  387420489          0     262144      19683\n",
      "     1953125   10077696   40353607  134217728]\n",
      " [         1        512      19683     262144    1953125   10077696\n",
      "    40353607  134217728  387420489          0]\n",
      " [    262144   10077696      19683        512          1 -387420489\n",
      "   -40353607          0   10077696     262144]\n",
      " [         1     262144    1953125   10077696   40353607    1953125\n",
      "      262144      19683        512          1]\n",
      " [         1        512      19683     262144    1953125   10077696\n",
      "    40353607  134217728  387420489          0]\n",
      " [         0          0   40353607          0    1953125     262144\n",
      "       19683  387420489          0          1]]\n",
      "\n",
      "pow(k,10) = \n",
      " [[         1       1024      59049    1048576    9765625   60466176\n",
      "   282475249 1073741824 -808182895 1410065408]\n",
      " [   1048576          1    9765625    9765625   60466176          0\n",
      "     1048576       1024          1   60466176]\n",
      " [         1 1073741824          0  282475249 1073741824 -808182895\n",
      "        1024          1      59049    1048576]\n",
      " [      1024    1048576    9765625   60466176    1048576      59049\n",
      "  1073741824 -808182895          0  282475249]\n",
      " [     59049 1073741824 -808182895          0    1048576      59049\n",
      "     9765625   60466176  282475249 1073741824]\n",
      " [         1       1024      59049    1048576    9765625   60466176\n",
      "   282475249 1073741824 -808182895          0]\n",
      " [   1048576   60466176      59049       1024          1 -808182895\n",
      "   282475249          0   60466176    1048576]\n",
      " [         1    1048576    9765625   60466176  282475249    9765625\n",
      "     1048576      59049       1024          1]\n",
      " [         1       1024      59049    1048576    9765625   60466176\n",
      "   282475249 1073741824 -808182895          0]\n",
      " [         0          0  282475249          0    9765625    1048576\n",
      "       59049 -808182895          0          1]]\n"
     ]
    }
   ],
   "source": [
    "for i in range(1,11):\n",
    "    print('\\npow(k,'+str(i)+\") = \\n\",pow(k,i))"
   ]
  },
  {
   "cell_type": "code",
   "execution_count": 60,
   "id": "e5f15d53",
   "metadata": {},
   "outputs": [
    {
     "name": "stdout",
     "output_type": "stream",
     "text": [
      "power(k,0) = \n",
      " [[1 1 1 1 1 1 1 1 1 1]\n",
      " [1 1 1 1 1 1 1 1 1 1]\n",
      " [1 1 1 1 1 1 1 1 1 1]\n",
      " [1 1 1 1 1 1 1 1 1 1]\n",
      " [1 1 1 1 1 1 1 1 1 1]\n",
      " [1 1 1 1 1 1 1 1 1 1]\n",
      " [1 1 1 1 1 1 1 1 1 1]\n",
      " [1 1 1 1 1 1 1 1 1 1]\n",
      " [1 1 1 1 1 1 1 1 1 1]\n",
      " [1 1 1 1 1 1 1 1 1 1]]\n"
     ]
    }
   ],
   "source": [
    "print(\"power(k,0) = \\n\",pow(k,0))"
   ]
  },
  {
   "cell_type": "code",
   "execution_count": 61,
   "id": "e444a76b",
   "metadata": {
    "scrolled": false
   },
   "outputs": [
    {
     "name": "stdout",
     "output_type": "stream",
     "text": [
      "\n",
      "power(k,1)\n",
      " [[ 1.  2.  3.  4.  5.  6.  7.  8.  9. 10.]\n",
      " [ 4.  1.  5.  5.  6.  0. -4. -2. -1.  6.]\n",
      " [ 1.  8.  0.  7.  8.  9. -2. -1.  3. -4.]\n",
      " [ 2.  4.  5.  6.  4.  3.  8.  9.  0.  7.]\n",
      " [ 3.  8.  9.  0.  4.  3.  5.  6.  7.  8.]\n",
      " [ 1.  2.  3.  4.  5.  6.  7.  8.  9.  0.]\n",
      " [ 4.  6.  3.  2.  1. -9. -7.  0.  6.  4.]\n",
      " [ 1.  4.  5.  6.  7.  5.  4.  3.  2.  1.]\n",
      " [ 1.  2.  3.  4.  5.  6.  7.  8.  9.  0.]\n",
      " [ 0.  0.  7.  0.  5.  4.  3.  9.  0.  1.]]\n",
      "\n",
      "power(k,2)\n",
      " [[1.         1.41421356 1.73205081 2.         2.23606798 2.44948974\n",
      "  2.64575131 2.82842712 3.         3.16227766]\n",
      " [2.         1.         2.23606798 2.23606798 2.44948974 0.\n",
      "         nan        nan        nan 2.44948974]\n",
      " [1.         2.82842712 0.         2.64575131 2.82842712 3.\n",
      "         nan        nan 1.73205081        nan]\n",
      " [1.41421356 2.         2.23606798 2.44948974 2.         1.73205081\n",
      "  2.82842712 3.         0.         2.64575131]\n",
      " [1.73205081 2.82842712 3.         0.         2.         1.73205081\n",
      "  2.23606798 2.44948974 2.64575131 2.82842712]\n",
      " [1.         1.41421356 1.73205081 2.         2.23606798 2.44948974\n",
      "  2.64575131 2.82842712 3.         0.        ]\n",
      " [2.         2.44948974 1.73205081 1.41421356 1.                nan\n",
      "         nan 0.         2.44948974 2.        ]\n",
      " [1.         2.         2.23606798 2.44948974 2.64575131 2.23606798\n",
      "  2.         1.73205081 1.41421356 1.        ]\n",
      " [1.         1.41421356 1.73205081 2.         2.23606798 2.44948974\n",
      "  2.64575131 2.82842712 3.         0.        ]\n",
      " [0.         0.         2.64575131 0.         2.23606798 2.\n",
      "  1.73205081 3.         0.         1.        ]]\n",
      "\n",
      "power(k,3)\n",
      " [[1.         1.25992105 1.44224957 1.58740105 1.70997595 1.81712059\n",
      "  1.91293118 2.         2.08008382 2.15443469]\n",
      " [1.58740105 1.         1.70997595 1.70997595 1.81712059 0.\n",
      "         nan        nan        nan 1.81712059]\n",
      " [1.         2.         0.         1.91293118 2.         2.08008382\n",
      "         nan        nan 1.44224957        nan]\n",
      " [1.25992105 1.58740105 1.70997595 1.81712059 1.58740105 1.44224957\n",
      "  2.         2.08008382 0.         1.91293118]\n",
      " [1.44224957 2.         2.08008382 0.         1.58740105 1.44224957\n",
      "  1.70997595 1.81712059 1.91293118 2.        ]\n",
      " [1.         1.25992105 1.44224957 1.58740105 1.70997595 1.81712059\n",
      "  1.91293118 2.         2.08008382 0.        ]\n",
      " [1.58740105 1.81712059 1.44224957 1.25992105 1.                nan\n",
      "         nan 0.         1.81712059 1.58740105]\n",
      " [1.         1.58740105 1.70997595 1.81712059 1.91293118 1.70997595\n",
      "  1.58740105 1.44224957 1.25992105 1.        ]\n",
      " [1.         1.25992105 1.44224957 1.58740105 1.70997595 1.81712059\n",
      "  1.91293118 2.         2.08008382 0.        ]\n",
      " [0.         0.         1.91293118 0.         1.70997595 1.58740105\n",
      "  1.44224957 2.08008382 0.         1.        ]]\n",
      "\n",
      "power(k,4)\n",
      " [[1.         1.18920712 1.31607401 1.41421356 1.49534878 1.56508458\n",
      "  1.62657656 1.68179283 1.73205081 1.77827941]\n",
      " [1.41421356 1.         1.49534878 1.49534878 1.56508458 0.\n",
      "         nan        nan        nan 1.56508458]\n",
      " [1.         1.68179283 0.         1.62657656 1.68179283 1.73205081\n",
      "         nan        nan 1.31607401        nan]\n",
      " [1.18920712 1.41421356 1.49534878 1.56508458 1.41421356 1.31607401\n",
      "  1.68179283 1.73205081 0.         1.62657656]\n",
      " [1.31607401 1.68179283 1.73205081 0.         1.41421356 1.31607401\n",
      "  1.49534878 1.56508458 1.62657656 1.68179283]\n",
      " [1.         1.18920712 1.31607401 1.41421356 1.49534878 1.56508458\n",
      "  1.62657656 1.68179283 1.73205081 0.        ]\n",
      " [1.41421356 1.56508458 1.31607401 1.18920712 1.                nan\n",
      "         nan 0.         1.56508458 1.41421356]\n",
      " [1.         1.41421356 1.49534878 1.56508458 1.62657656 1.49534878\n",
      "  1.41421356 1.31607401 1.18920712 1.        ]\n",
      " [1.         1.18920712 1.31607401 1.41421356 1.49534878 1.56508458\n",
      "  1.62657656 1.68179283 1.73205081 0.        ]\n",
      " [0.         0.         1.62657656 0.         1.49534878 1.41421356\n",
      "  1.31607401 1.73205081 0.         1.        ]]\n",
      "\n",
      "power(k,5)\n",
      " [[1.         1.14869835 1.24573094 1.31950791 1.37972966 1.43096908\n",
      "  1.47577316 1.51571657 1.55184557 1.58489319]\n",
      " [1.31950791 1.         1.37972966 1.37972966 1.43096908 0.\n",
      "         nan        nan        nan 1.43096908]\n",
      " [1.         1.51571657 0.         1.47577316 1.51571657 1.55184557\n",
      "         nan        nan 1.24573094        nan]\n",
      " [1.14869835 1.31950791 1.37972966 1.43096908 1.31950791 1.24573094\n",
      "  1.51571657 1.55184557 0.         1.47577316]\n",
      " [1.24573094 1.51571657 1.55184557 0.         1.31950791 1.24573094\n",
      "  1.37972966 1.43096908 1.47577316 1.51571657]\n",
      " [1.         1.14869835 1.24573094 1.31950791 1.37972966 1.43096908\n",
      "  1.47577316 1.51571657 1.55184557 0.        ]\n",
      " [1.31950791 1.43096908 1.24573094 1.14869835 1.                nan\n",
      "         nan 0.         1.43096908 1.31950791]\n",
      " [1.         1.31950791 1.37972966 1.43096908 1.47577316 1.37972966\n",
      "  1.31950791 1.24573094 1.14869835 1.        ]\n",
      " [1.         1.14869835 1.24573094 1.31950791 1.37972966 1.43096908\n",
      "  1.47577316 1.51571657 1.55184557 0.        ]\n",
      " [0.         0.         1.47577316 0.         1.37972966 1.31950791\n",
      "  1.24573094 1.55184557 0.         1.        ]]\n",
      "\n",
      "power(k,6)\n",
      " [[1.         1.12246205 1.20093696 1.25992105 1.30766049 1.34800615\n",
      "  1.38308755 1.41421356 1.44224957 1.46779927]\n",
      " [1.25992105 1.         1.30766049 1.30766049 1.34800615 0.\n",
      "         nan        nan        nan 1.34800615]\n",
      " [1.         1.41421356 0.         1.38308755 1.41421356 1.44224957\n",
      "         nan        nan 1.20093696        nan]\n",
      " [1.12246205 1.25992105 1.30766049 1.34800615 1.25992105 1.20093696\n",
      "  1.41421356 1.44224957 0.         1.38308755]\n",
      " [1.20093696 1.41421356 1.44224957 0.         1.25992105 1.20093696\n",
      "  1.30766049 1.34800615 1.38308755 1.41421356]\n",
      " [1.         1.12246205 1.20093696 1.25992105 1.30766049 1.34800615\n",
      "  1.38308755 1.41421356 1.44224957 0.        ]\n",
      " [1.25992105 1.34800615 1.20093696 1.12246205 1.                nan\n",
      "         nan 0.         1.34800615 1.25992105]\n",
      " [1.         1.25992105 1.30766049 1.34800615 1.38308755 1.30766049\n",
      "  1.25992105 1.20093696 1.12246205 1.        ]\n",
      " [1.         1.12246205 1.20093696 1.25992105 1.30766049 1.34800615\n",
      "  1.38308755 1.41421356 1.44224957 0.        ]\n",
      " [0.         0.         1.38308755 0.         1.30766049 1.25992105\n",
      "  1.20093696 1.44224957 0.         1.        ]]\n",
      "\n",
      "power(k,7)\n",
      " [[1.         1.10408951 1.16993081 1.21901365 1.25849895 1.29170834\n",
      "  1.32046925 1.34590019 1.36873811 1.38949549]\n",
      " [1.21901365 1.         1.25849895 1.25849895 1.29170834 0.\n",
      "         nan        nan        nan 1.29170834]\n",
      " [1.         1.34590019 0.         1.32046925 1.34590019 1.36873811\n",
      "         nan        nan 1.16993081        nan]\n",
      " [1.10408951 1.21901365 1.25849895 1.29170834 1.21901365 1.16993081\n",
      "  1.34590019 1.36873811 0.         1.32046925]\n",
      " [1.16993081 1.34590019 1.36873811 0.         1.21901365 1.16993081\n",
      "  1.25849895 1.29170834 1.32046925 1.34590019]\n",
      " [1.         1.10408951 1.16993081 1.21901365 1.25849895 1.29170834\n",
      "  1.32046925 1.34590019 1.36873811 0.        ]\n",
      " [1.21901365 1.29170834 1.16993081 1.10408951 1.                nan\n",
      "         nan 0.         1.29170834 1.21901365]\n",
      " [1.         1.21901365 1.25849895 1.29170834 1.32046925 1.25849895\n",
      "  1.21901365 1.16993081 1.10408951 1.        ]\n",
      " [1.         1.10408951 1.16993081 1.21901365 1.25849895 1.29170834\n",
      "  1.32046925 1.34590019 1.36873811 0.        ]\n",
      " [0.         0.         1.32046925 0.         1.25849895 1.21901365\n",
      "  1.16993081 1.36873811 0.         1.        ]]\n",
      "\n",
      "power(k,8)\n",
      " [[1.         1.09050773 1.14720269 1.18920712 1.22284454 1.2510334\n",
      "  1.27537311 1.29683955 1.31607401 1.33352143]\n",
      " [1.18920712 1.         1.22284454 1.22284454 1.2510334  0.\n",
      "         nan        nan        nan 1.2510334 ]\n",
      " [1.         1.29683955 0.         1.27537311 1.29683955 1.31607401\n",
      "         nan        nan 1.14720269        nan]\n",
      " [1.09050773 1.18920712 1.22284454 1.2510334  1.18920712 1.14720269\n",
      "  1.29683955 1.31607401 0.         1.27537311]\n",
      " [1.14720269 1.29683955 1.31607401 0.         1.18920712 1.14720269\n",
      "  1.22284454 1.2510334  1.27537311 1.29683955]\n",
      " [1.         1.09050773 1.14720269 1.18920712 1.22284454 1.2510334\n",
      "  1.27537311 1.29683955 1.31607401 0.        ]\n",
      " [1.18920712 1.2510334  1.14720269 1.09050773 1.                nan\n",
      "         nan 0.         1.2510334  1.18920712]\n",
      " [1.         1.18920712 1.22284454 1.2510334  1.27537311 1.22284454\n",
      "  1.18920712 1.14720269 1.09050773 1.        ]\n",
      " [1.         1.09050773 1.14720269 1.18920712 1.22284454 1.2510334\n",
      "  1.27537311 1.29683955 1.31607401 0.        ]\n",
      " [0.         0.         1.27537311 0.         1.22284454 1.18920712\n",
      "  1.14720269 1.31607401 0.         1.        ]]\n",
      "\n",
      "power(k,9)\n",
      " [[1.         1.08005974 1.12983096 1.16652904 1.19581317 1.22028494\n",
      "  1.24136582 1.25992105 1.27651801 1.29154967]\n",
      " [1.16652904 1.         1.19581317 1.19581317 1.22028494 0.\n",
      "         nan        nan        nan 1.22028494]\n",
      " [1.         1.25992105 0.         1.24136582 1.25992105 1.27651801\n",
      "         nan        nan 1.12983096        nan]\n",
      " [1.08005974 1.16652904 1.19581317 1.22028494 1.16652904 1.12983096\n",
      "  1.25992105 1.27651801 0.         1.24136582]\n",
      " [1.12983096 1.25992105 1.27651801 0.         1.16652904 1.12983096\n",
      "  1.19581317 1.22028494 1.24136582 1.25992105]\n",
      " [1.         1.08005974 1.12983096 1.16652904 1.19581317 1.22028494\n",
      "  1.24136582 1.25992105 1.27651801 0.        ]\n",
      " [1.16652904 1.22028494 1.12983096 1.08005974 1.                nan\n",
      "         nan 0.         1.22028494 1.16652904]\n",
      " [1.         1.16652904 1.19581317 1.22028494 1.24136582 1.19581317\n",
      "  1.16652904 1.12983096 1.08005974 1.        ]\n",
      " [1.         1.08005974 1.12983096 1.16652904 1.19581317 1.22028494\n",
      "  1.24136582 1.25992105 1.27651801 0.        ]\n",
      " [0.         0.         1.24136582 0.         1.19581317 1.16652904\n",
      "  1.12983096 1.27651801 0.         1.        ]]\n"
     ]
    },
    {
     "name": "stderr",
     "output_type": "stream",
     "text": [
      "C:\\Users\\LH\\AppData\\Local\\Temp\\ipykernel_7300\\4261224221.py:2: RuntimeWarning: invalid value encountered in power\n",
      "  print(\"\\npower(k,\"+str(j)+\")\\n\",pow(k,1/j))\n"
     ]
    }
   ],
   "source": [
    "for j in range(1,10):\n",
    "    print(\"\\npower(k,\"+str(j)+\")\\n\",pow(k,1/j))"
   ]
  },
  {
   "cell_type": "code",
   "execution_count": 62,
   "id": "d26335fd",
   "metadata": {},
   "outputs": [
    {
     "name": "stdout",
     "output_type": "stream",
     "text": [
      "[[ 1]\n",
      " [ 2]\n",
      " [ 1]\n",
      " [ 3]\n",
      " [ 5]\n",
      " [ 2]\n",
      " [ 0]\n",
      " [ 7]\n",
      " [-1]\n",
      " [-2]]\n"
     ]
    }
   ],
   "source": [
    "l = np.array([[1],[2],[1],[3],[5],[2],[0],[7],[-1],[-2]])\n",
    "print(l)"
   ]
  },
  {
   "cell_type": "code",
   "execution_count": 63,
   "id": "a6ec92bc",
   "metadata": {},
   "outputs": [
    {
     "name": "stdout",
     "output_type": "stream",
     "text": [
      "j*l = \n",
      " [[  9]\n",
      " [ 18]\n",
      " [  9]\n",
      " [ 27]\n",
      " [ 45]\n",
      " [ 18]\n",
      " [  0]\n",
      " [ 63]\n",
      " [ -9]\n",
      " [-18]]\n"
     ]
    }
   ],
   "source": [
    "print('j*l = \\n',j*l)"
   ]
  },
  {
   "cell_type": "code",
   "execution_count": 64,
   "id": "6641dedd",
   "metadata": {},
   "outputs": [
    {
     "name": "stdout",
     "output_type": "stream",
     "text": [
      "Initialize matrix m\n",
      "[[ 1  2  3  4  5  6  7  8  9 10  1  2  3  4  5]\n",
      " [ 4  1  5  5  6  0 -4 -2 -1  6  6  7  8  9  0]\n",
      " [ 1  8  0  7  8  9 -2 -1  3 -4 -8 -1  2  3  4]\n",
      " [ 2  4  5  6  4  3  8  9  0  7  2  3  4  5  6]\n",
      " [ 3  8  9  0  4  3  5  6  7  8  0  0  1  2  3]\n",
      " [ 1  2  3  4  5  6  7  2  3  4  5  6  8  9  0]\n",
      " [ 4  6  3  2  1 -9 -7  0  6  4  0  0  1 -2  3]\n",
      " [ 1  4  5  6  7  5  4  3  2  1  1  2  0  0  4]\n",
      " [ 1  2  3  4  5  6  7  8  9  0  9  9  5  4  8]\n",
      " [ 2  3  4  5  6  7  8  9  0  1  2  4  3  4  5]\n",
      " [ 0  0  7  0  5  4  3  9  0  1  0  0  8 -9 -2]\n",
      " [ 1  2  3  4  5  6  7  8  9  0  0  9  8  4  3]\n",
      " [ 1  2  3  4  5  6  7  8  9  0  9  7  5  4  3]\n",
      " [ 1  2  3  4  6 -9 -8 -6 -3 -1  2  3  5  6  7]\n",
      " [ 0  0  2  1  3  4  5  6  7  8  6  5  4  9  6]]\n"
     ]
    }
   ],
   "source": [
    "m = np.array([[1,2,3,4,5,6,7,8,9,10,1,2,3,4,5],[4,1,5,5,6,0,-4,-2,-1,6,6,7,8,9,0],[1,8,0,7,8,9,-2,-1,3,-4,-8,-1,2,3,4],\n",
    "              [2,4,5,6,4,3,8,9,0,7,2,3,4,5,6],[3,8,9,0,4,3,5,6,7,8,0,0,1,2,3],[1,2,3,4,5,6,7,2,3,4,5,6,8,9,0],\n",
    "              [4,6,3,2,1,-9,-7,0,6,4,0,0,1,-2,3],[1,4,5,6,7,5,4,3,2,1,1,2,0,0,4],[1,2,3,4,5,6,7,8,9,0,9,9,5,4,8],\n",
    "              [2,3,4,5,6,7,8,9,0,1,2,4,3,4,5],[0,0,7,0,5,4,3,9,0,1,0,0,8,-9,-2],[1,2,3,4,5,6,7,8,9,0,0,9,8,4,3],\n",
    "              [1,2,3,4,5,6,7,8,9,0,9,7,5,4,3],[1,2,3,4,6,-9,-8,-6,-3,-1,2,3,5,6,7],[0,0,2,1,3,4,5,6,7,8,6,5,4,9,6]])\n",
    "print(\"Initialize matrix m\")\n",
    "print(m)"
   ]
  },
  {
   "cell_type": "code",
   "execution_count": 65,
   "id": "731f303f",
   "metadata": {},
   "outputs": [
    {
     "name": "stdout",
     "output_type": "stream",
     "text": [
      "[[ 1  4  1  2  3  1  4  1  1  2  0  1  1  1  0]\n",
      " [ 2  1  8  4  8  2  6  4  2  3  0  2  2  2  0]\n",
      " [ 3  5  0  5  9  3  3  5  3  4  7  3  3  3  2]\n",
      " [ 4  5  7  6  0  4  2  6  4  5  0  4  4  4  1]\n",
      " [ 5  6  8  4  4  5  1  7  5  6  5  5  5  6  3]\n",
      " [ 6  0  9  3  3  6 -9  5  6  7  4  6  6 -9  4]\n",
      " [ 7 -4 -2  8  5  7 -7  4  7  8  3  7  7 -8  5]\n",
      " [ 8 -2 -1  9  6  2  0  3  8  9  9  8  8 -6  6]\n",
      " [ 9 -1  3  0  7  3  6  2  9  0  0  9  9 -3  7]\n",
      " [10  6 -4  7  8  4  4  1  0  1  1  0  0 -1  8]\n",
      " [ 1  6 -8  2  0  5  0  1  9  2  0  0  9  2  6]\n",
      " [ 2  7 -1  3  0  6  0  2  9  4  0  9  7  3  5]\n",
      " [ 3  8  2  4  1  8  1  0  5  3  8  8  5  5  4]\n",
      " [ 4  9  3  5  2  9 -2  0  4  4 -9  4  4  6  9]\n",
      " [ 5  0  4  6  3  0  3  4  8  5 -2  3  3  7  6]]\n"
     ]
    }
   ],
   "source": [
    "print(m.T)"
   ]
  },
  {
   "cell_type": "code",
   "execution_count": 67,
   "id": "1515b12b",
   "metadata": {},
   "outputs": [
    {
     "name": "stdout",
     "output_type": "stream",
     "text": [
      "5787723947628.011\n",
      "5787723947627.99\n"
     ]
    }
   ],
   "source": [
    "print(np.linalg.det(m.T))\n",
    "print(np.linalg.det(m))"
   ]
  },
  {
   "cell_type": "code",
   "execution_count": 68,
   "id": "a3b4e273",
   "metadata": {},
   "outputs": [
    {
     "name": "stdout",
     "output_type": "stream",
     "text": [
      "225\n",
      "900\n",
      "(15, 15)\n"
     ]
    }
   ],
   "source": [
    "print(m.size) # number of element\n",
    "print(m.nbytes) # size of total elements in array\n",
    "print(m.shape) # the order of matrix"
   ]
  },
  {
   "cell_type": "markdown",
   "id": "68617527",
   "metadata": {},
   "source": [
    "# II.) Accessing and Changing specific elements, row and columns in matrix"
   ]
  },
  {
   "cell_type": "code",
   "execution_count": 69,
   "id": "1f6e300b",
   "metadata": {},
   "outputs": [
    {
     "name": "stdout",
     "output_type": "stream",
     "text": [
      "[[ 1  2  3  4  5  6  7]\n",
      " [ 8  9 10 11 12 13 14]\n",
      " [ 2  4  7  8  9  6  4]\n",
      " [ 0  9  0  7  5  4  3]]\n"
     ]
    }
   ],
   "source": [
    "a = np.matrix([[1,2,3,4,5,6,7],[8,9,10,11,12,13,14],[2,4,7,8,9,6,4],[0,9,0,7,5,4,3]])\n",
    "print(a)"
   ]
  },
  {
   "cell_type": "code",
   "execution_count": 70,
   "id": "92d3fe50",
   "metadata": {},
   "outputs": [
    {
     "name": "stdout",
     "output_type": "stream",
     "text": [
      "a[0,0] = 1\n",
      "a[0,1] = 2\n",
      "a[0,2] = 3\n",
      "a[0,3] = 4\n",
      "a[0,4] = 5\n",
      "a[0,5] = 6\n",
      "a[0,6] = 7\n"
     ]
    }
   ],
   "source": [
    "# Get specific element[r,c]\n",
    "print(\"a[0,0] =\",a[0,0])\n",
    "print(\"a[0,1] =\",a[0,1])\n",
    "print(\"a[0,2] =\",a[0,2])\n",
    "print(\"a[0,3] =\",a[0,3])\n",
    "print(\"a[0,4] =\",a[0,4])\n",
    "print(\"a[0,5] =\",a[0,5])\n",
    "print(\"a[0,6] =\",a[0,6])"
   ]
  },
  {
   "cell_type": "code",
   "execution_count": 71,
   "id": "4d42d149",
   "metadata": {},
   "outputs": [
    {
     "name": "stdout",
     "output_type": "stream",
     "text": [
      "a[0,0] = 1\n",
      "a[0,1] = 2\n",
      "a[0,2] = 3\n",
      "a[0,3] = 4\n",
      "a[0,4] = 5\n",
      "a[0,5] = 6\n",
      "a[0,6] = 7\n"
     ]
    }
   ],
   "source": [
    "for i in range(0,7):\n",
    "    print(\"a[0,\"+str(i)+\"] =\",a[0,i])"
   ]
  },
  {
   "cell_type": "code",
   "execution_count": 72,
   "id": "69311bb7",
   "metadata": {},
   "outputs": [
    {
     "name": "stdout",
     "output_type": "stream",
     "text": [
      "0th row :  [[1 2 3 4 5 6 7]]\n",
      "1st row :  [[ 8  9 10 11 12 13 14]]\n",
      "2nd row :  [[2 4 7 8 9 6 4]]\n",
      "3rd row :  [[0 9 0 7 5 4 3]]\n"
     ]
    }
   ],
   "source": [
    "# Get a specific row\n",
    "print('0th row : ',a[0,:])\n",
    "print('1st row : ',a[1,:])\n",
    "print('2nd row : ',a[2,:])\n",
    "print(\"3rd row : \",a[3,:])"
   ]
  },
  {
   "cell_type": "code",
   "execution_count": 73,
   "id": "e8de5b06",
   "metadata": {},
   "outputs": [
    {
     "name": "stdout",
     "output_type": "stream",
     "text": [
      "0th column : \n",
      " [[1]\n",
      " [8]\n",
      " [2]\n",
      " [0]]\n",
      "1st column : \n",
      " [[2]\n",
      " [9]\n",
      " [4]\n",
      " [9]]\n",
      "2nd column : \n",
      " [[ 3]\n",
      " [10]\n",
      " [ 7]\n",
      " [ 0]]\n",
      "3rd column : \n",
      " [[ 4]\n",
      " [11]\n",
      " [ 8]\n",
      " [ 7]]\n",
      "3rd column : \n",
      " [[ 4]\n",
      " [11]\n",
      " [ 8]\n",
      " [ 7]]\n",
      "4th column : \n",
      " [[ 5]\n",
      " [12]\n",
      " [ 9]\n",
      " [ 5]]\n",
      "5st column : \n",
      " [[ 6]\n",
      " [13]\n",
      " [ 6]\n",
      " [ 4]]\n",
      "6nd column : \n",
      " [[ 7]\n",
      " [14]\n",
      " [ 4]\n",
      " [ 3]]\n"
     ]
    }
   ],
   "source": [
    "# Get a specific column\n",
    "print('0th column : \\n',a[:,0])\n",
    "print('1st column : \\n',a[:,1])\n",
    "print('2nd column : \\n',a[:,2])\n",
    "print('3rd column : \\n',a[:,3])\n",
    "print('3rd column : \\n',a[:,3])\n",
    "print('4th column : \\n',a[:,4])\n",
    "print('5st column : \\n',a[:,5])\n",
    "print('6nd column : \\n',a[:,6])"
   ]
  },
  {
   "cell_type": "code",
   "execution_count": 74,
   "id": "f0e2c4db",
   "metadata": {},
   "outputs": [
    {
     "name": "stdout",
     "output_type": "stream",
     "text": [
      "[[ 1  2  3  4  5  6  7  8  9 10]\n",
      " [ 4  1  5  5  6  0 -4 -2 -1  6]\n",
      " [ 1  8  0  7  8  9 -2 -1  3 -4]\n",
      " [ 2  4  5  6  4  3  8  9  0  7]\n",
      " [ 3  8  9  0  4  3  5  6  7  8]\n",
      " [ 1  2  3  4  5  6  7  8  9  0]\n",
      " [ 4  6  3  2  1 -9 -7  0  6  4]\n",
      " [ 1  4  5  6  7  5  4  3  2  1]\n",
      " [ 1  2  3  4  5  6  7  8  9  0]\n",
      " [ 0  0  7  0  5  4  3  9  0  1]]\n",
      "row(0) :  [ 1  2  3  4  5  6  7  8  9 10]\n",
      "row(1) :  [ 4  1  5  5  6  0 -4 -2 -1  6]\n",
      "row(2) :  [ 1  8  0  7  8  9 -2 -1  3 -4]\n",
      "row(3) :  [2 4 5 6 4 3 8 9 0 7]\n",
      "row(4) :  [3 8 9 0 4 3 5 6 7 8]\n",
      "row(5) :  [1 2 3 4 5 6 7 8 9 0]\n",
      "row(6) :  [ 4  6  3  2  1 -9 -7  0  6  4]\n",
      "row(7) :  [1 4 5 6 7 5 4 3 2 1]\n",
      "row(8) :  [1 2 3 4 5 6 7 8 9 0]\n",
      "row(9) :  [0 0 7 0 5 4 3 9 0 1]\n"
     ]
    }
   ],
   "source": [
    "print(k)\n",
    "for i in range(10):\n",
    "    print(\"row(\"+str(i)+\") : \",k[i,:])"
   ]
  },
  {
   "cell_type": "code",
   "execution_count": 75,
   "id": "34975989",
   "metadata": {},
   "outputs": [
    {
     "name": "stdout",
     "output_type": "stream",
     "text": [
      "column(0) :  [1 4 1 2 3 1 4 1 1 0]\n",
      "column(1) :  [2 1 8 4 8 2 6 4 2 0]\n",
      "column(2) :  [3 5 0 5 9 3 3 5 3 7]\n",
      "column(3) :  [4 5 7 6 0 4 2 6 4 0]\n",
      "column(4) :  [5 6 8 4 4 5 1 7 5 5]\n",
      "column(5) :  [ 6  0  9  3  3  6 -9  5  6  4]\n",
      "column(6) :  [ 7 -4 -2  8  5  7 -7  4  7  3]\n",
      "column(7) :  [ 8 -2 -1  9  6  8  0  3  8  9]\n",
      "column(8) :  [ 9 -1  3  0  7  9  6  2  9  0]\n",
      "column(9) :  [10  6 -4  7  8  0  4  1  0  1]\n"
     ]
    }
   ],
   "source": [
    "for j in range(10):\n",
    "    print(\"column(\"+str(j)+\") : \",k[:,j])"
   ]
  },
  {
   "cell_type": "code",
   "execution_count": 76,
   "id": "a27fd02f",
   "metadata": {},
   "outputs": [
    {
     "name": "stdout",
     "output_type": "stream",
     "text": [
      "24\n"
     ]
    }
   ],
   "source": [
    "print(k.trace()) # sum the diagonal values in matrix k"
   ]
  },
  {
   "cell_type": "code",
   "execution_count": 77,
   "id": "bc5bc056",
   "metadata": {},
   "outputs": [
    {
     "name": "stdout",
     "output_type": "stream",
     "text": [
      "[[ 1  2  3  4  5  6  7]\n",
      " [ 8  9 10 11 12 13 14]\n",
      " [ 2  4  7  8  9  6  4]\n",
      " [ 0  9  0  7  5  4  3]]\n"
     ]
    }
   ],
   "source": [
    "print(a)"
   ]
  },
  {
   "cell_type": "code",
   "execution_count": 78,
   "id": "7029357c",
   "metadata": {},
   "outputs": [
    {
     "name": "stdout",
     "output_type": "stream",
     "text": [
      "The fancy location of a is such that : \n",
      "[[2 4 6]]\n",
      "[[ 8  9 10 11 12 13]]\n",
      "[[7 5]]\n",
      "[[7 8 9 6]]\n"
     ]
    }
   ],
   "source": [
    "# Get little more fancy[row-th,startIndex:endIndex:stepSize] where stepsize is a step of order forward.\n",
    "print('The fancy location of a is such that : ')\n",
    "print(a[0,1:6:2])\n",
    "print(a[1,0:6:1])\n",
    "print(a[3,3:5:1])\n",
    "print(a[2,2:-1:1])"
   ]
  },
  {
   "cell_type": "code",
   "execution_count": 79,
   "id": "d7623d95",
   "metadata": {},
   "outputs": [
    {
     "name": "stdout",
     "output_type": "stream",
     "text": [
      "[[ 1  2  3  4  5  6  7]\n",
      " [ 8  9 10 11 12 13 14]]\n"
     ]
    }
   ],
   "source": [
    "# Change element using specific index\n",
    "b = np.matrix([[1,2,3,4,5,6,7],[8,9,10,11,12,13,14]])\n",
    "print(b)"
   ]
  },
  {
   "cell_type": "code",
   "execution_count": 80,
   "id": "e9d1eaef",
   "metadata": {},
   "outputs": [
    {
     "name": "stdout",
     "output_type": "stream",
     "text": [
      "[[  1   2   3   4   5   6   7]\n",
      " [  8   9  10  11  12 200  14]]\n"
     ]
    }
   ],
   "source": [
    "# change b15\n",
    "b[1,5] = 200\n",
    "print(b)"
   ]
  },
  {
   "cell_type": "code",
   "execution_count": 81,
   "id": "fdd9e8c9",
   "metadata": {},
   "outputs": [
    {
     "name": "stdout",
     "output_type": "stream",
     "text": [
      "[[   1    2    3    4    5    6 3000]\n",
      " [   8    9 1200   11   12  200 3000]]\n"
     ]
    }
   ],
   "source": [
    "# change b12 and b[column(6) with the same value]\n",
    "b[1,2] = 1200\n",
    "b[:,6] = 3000\n",
    "print(b)"
   ]
  },
  {
   "cell_type": "code",
   "execution_count": 82,
   "id": "e4640430",
   "metadata": {},
   "outputs": [
    {
     "name": "stdout",
     "output_type": "stream",
     "text": [
      "[[ 1  2  3  4  5  6  7  8  9 10]\n",
      " [ 4  1  5  5  6  0 -4 -2 -1  6]\n",
      " [ 1  8  0  7  8  9 -2 -1  3 -4]\n",
      " [ 2  4  5  6  4  3  8  9  0  7]\n",
      " [ 3  8  9  0  4  3  5  6  7  8]\n",
      " [ 1  2  3  4  5  6  7  8  9  0]\n",
      " [ 4  6  3  2  1 -9 -7  0  6  4]\n",
      " [ 1  4  5  6  7  5  4  3  2  1]\n",
      " [ 1  2  3  4  5  6  7  8  9  0]\n",
      " [ 0  0  7  0  5  4  3  9  0  1]]\n"
     ]
    }
   ],
   "source": [
    "print(k)"
   ]
  },
  {
   "cell_type": "code",
   "execution_count": 83,
   "id": "d59e468c",
   "metadata": {},
   "outputs": [
    {
     "name": "stdout",
     "output_type": "stream",
     "text": [
      "[[200   2  -6   4   5   6   7   8   9  10]\n",
      " [200   1  -6   5   6   0  -4  -2  -1   6]\n",
      " [200   8  -6   7   8   9  -2  -1   3  -4]\n",
      " [200   4  -6   6   4   3   8   9   0   7]\n",
      " [200   8  -6   0   4   3   5   6   7   8]\n",
      " [200   2  -6   4   5   6   7   8   9   0]\n",
      " [200   6  -6   2   1  -9  -7   0   6   4]\n",
      " [200   4  -6   6   7   5   4   3   2   1]\n",
      " [200   2  -6   4   5   6   7   8   9   0]\n",
      " [200   0  -6   0   5   4   3   9   0   1]]\n"
     ]
    }
   ],
   "source": [
    "k[:,0] = 200\n",
    "k[:,2] = -6\n",
    "print(k)"
   ]
  },
  {
   "cell_type": "code",
   "execution_count": 84,
   "id": "f8338e5b",
   "metadata": {},
   "outputs": [
    {
     "name": "stdout",
     "output_type": "stream",
     "text": [
      "[[100 100 100 100 100 100 100 100 100 100]\n",
      " [200   0   0   0   0   0   0   0   0 400]\n",
      " [200   8  -6   7   8   9  -2  -1   3 400]\n",
      " [200   4  -6   6   4   3   8   9   0 400]\n",
      " [200   8  -6   0   4   3   5   6   7 400]\n",
      " [200   2  -6   4   5   6   7   8   9 400]\n",
      " [200   6  -6   2   1  -9  -7   0   6 400]\n",
      " [200   4  -6   6   7   5   4   3   2 400]\n",
      " [200   2  -6   4   5   6   7   8   9 400]\n",
      " [100 100 100 100 100 100 100 100 100 100]]\n"
     ]
    }
   ],
   "source": [
    "k[0,:] = 100\n",
    "# change value at all rows that start from index(1) to index(9) with step size = 2 with the same values.\n",
    "k[:,9] = 400\n",
    "k[0,9] = 100\n",
    "k[1,1:9:1] = 0 # change value at 1st row with index1 to 9 about stepsize=2\n",
    "k[9,:] = 100\n",
    "print(k)"
   ]
  },
  {
   "cell_type": "code",
   "execution_count": 85,
   "id": "a11e5cf9",
   "metadata": {},
   "outputs": [
    {
     "name": "stdout",
     "output_type": "stream",
     "text": [
      "[[[1 2]\n",
      "  [3 4]]\n",
      "\n",
      " [[5 6]\n",
      "  [7 8]]]\n",
      "element[0,0]:4\n",
      "element[0,:] of two matrices :\n",
      "[[3 4]\n",
      " [7 8]]\n",
      "element[9,1] of two matrices :\n",
      "[2 6]\n",
      "element[1:] of two matrix after change value :\n",
      "[[[1 2]\n",
      "  [9 9]]\n",
      "\n",
      " [[5 6]\n",
      "  [8 8]]]\n"
     ]
    }
   ],
   "source": [
    "c = np.array([[[1,2],[3,4]],[[5,6],[7,8]]])\n",
    "print(c)\n",
    "\n",
    "# Get specific element(work outside in)\n",
    "print('element[0,0]:'+str(c[0,1,1]))  # c[order of matrix,row-th,column-th]\n",
    "print('element[0,:] of two matrices :\\n'+str(c[:,1,:]))\n",
    "print('element[9,1] of two matrices :\\n'+str(c[:,0,1]))\n",
    "c[:,1,:] = [[9,9],[8,8]]\n",
    "print('element[1:] of two matrix after change value :\\n'+str(c))"
   ]
  },
  {
   "cell_type": "markdown",
   "id": "a0ed5272",
   "metadata": {},
   "source": [
    "# III.) Initialize different types of matrix"
   ]
  },
  {
   "cell_type": "markdown",
   "id": "353e16d9",
   "metadata": {},
   "source": [
    "### a.) Zero Matrix:"
   ]
  },
  {
   "cell_type": "code",
   "execution_count": 86,
   "id": "a807d791",
   "metadata": {},
   "outputs": [
    {
     "name": "stdout",
     "output_type": "stream",
     "text": [
      "[0. 0. 0. 0. 0.]\n"
     ]
    }
   ],
   "source": [
    "a = np.zeros(5) # 1 row and 5 columns\n",
    "print(a)"
   ]
  },
  {
   "cell_type": "code",
   "execution_count": 87,
   "id": "6aba9d55",
   "metadata": {},
   "outputs": [
    {
     "name": "stdout",
     "output_type": "stream",
     "text": [
      "[0. 0. 0. 0. 0. 0. 0. 0. 0. 0. 0. 0. 0. 0. 0. 0. 0. 0. 0. 0.]\n"
     ]
    }
   ],
   "source": [
    "b = np.zeros(20)\n",
    "print(b)"
   ]
  },
  {
   "cell_type": "code",
   "execution_count": 88,
   "id": "c1e2da2f",
   "metadata": {},
   "outputs": [
    {
     "name": "stdout",
     "output_type": "stream",
     "text": [
      "[0. 0. 0. 0. 0. 0. 0. 0. 0. 0. 0. 0. 0. 0. 0. 0. 0. 0. 0. 0. 0. 0. 0. 0.\n",
      " 0. 0. 0. 0. 0. 0. 0. 0. 0. 0. 0. 0. 0. 0. 0. 0. 0. 0. 0. 0. 0. 0. 0. 0.\n",
      " 0. 0. 0. 0. 0. 0. 0. 0. 0. 0. 0. 0. 0. 0. 0. 0. 0. 0. 0. 0. 0. 0. 0. 0.\n",
      " 0. 0. 0. 0. 0. 0. 0. 0. 0. 0. 0. 0. 0. 0. 0. 0. 0. 0. 0. 0. 0. 0. 0. 0.\n",
      " 0. 0. 0. 0.]\n"
     ]
    }
   ],
   "source": [
    "c = np.zeros(100)\n",
    "print(c)"
   ]
  },
  {
   "cell_type": "code",
   "execution_count": 89,
   "id": "d76fcc68",
   "metadata": {},
   "outputs": [
    {
     "name": "stdout",
     "output_type": "stream",
     "text": [
      "[[0. 0. 0. 0. 0. 0.]\n",
      " [0. 0. 0. 0. 0. 0.]\n",
      " [0. 0. 0. 0. 0. 0.]\n",
      " [0. 0. 0. 0. 0. 0.]]\n"
     ]
    }
   ],
   "source": [
    "d = np.zeros((4,6)) # 4 rows and 6 columns\n",
    "print(d)"
   ]
  },
  {
   "cell_type": "code",
   "execution_count": 90,
   "id": "319e92c7",
   "metadata": {},
   "outputs": [
    {
     "name": "stdout",
     "output_type": "stream",
     "text": [
      "[[0. 0. 0. 0. 0. 0. 0. 0. 0. 0. 0. 0. 0. 0. 0. 0. 0. 0. 0. 0.]\n",
      " [0. 0. 0. 0. 0. 0. 0. 0. 0. 0. 0. 0. 0. 0. 0. 0. 0. 0. 0. 0.]\n",
      " [0. 0. 0. 0. 0. 0. 0. 0. 0. 0. 0. 0. 0. 0. 0. 0. 0. 0. 0. 0.]\n",
      " [0. 0. 0. 0. 0. 0. 0. 0. 0. 0. 0. 0. 0. 0. 0. 0. 0. 0. 0. 0.]\n",
      " [0. 0. 0. 0. 0. 0. 0. 0. 0. 0. 0. 0. 0. 0. 0. 0. 0. 0. 0. 0.]\n",
      " [0. 0. 0. 0. 0. 0. 0. 0. 0. 0. 0. 0. 0. 0. 0. 0. 0. 0. 0. 0.]\n",
      " [0. 0. 0. 0. 0. 0. 0. 0. 0. 0. 0. 0. 0. 0. 0. 0. 0. 0. 0. 0.]\n",
      " [0. 0. 0. 0. 0. 0. 0. 0. 0. 0. 0. 0. 0. 0. 0. 0. 0. 0. 0. 0.]\n",
      " [0. 0. 0. 0. 0. 0. 0. 0. 0. 0. 0. 0. 0. 0. 0. 0. 0. 0. 0. 0.]\n",
      " [0. 0. 0. 0. 0. 0. 0. 0. 0. 0. 0. 0. 0. 0. 0. 0. 0. 0. 0. 0.]\n",
      " [0. 0. 0. 0. 0. 0. 0. 0. 0. 0. 0. 0. 0. 0. 0. 0. 0. 0. 0. 0.]\n",
      " [0. 0. 0. 0. 0. 0. 0. 0. 0. 0. 0. 0. 0. 0. 0. 0. 0. 0. 0. 0.]\n",
      " [0. 0. 0. 0. 0. 0. 0. 0. 0. 0. 0. 0. 0. 0. 0. 0. 0. 0. 0. 0.]\n",
      " [0. 0. 0. 0. 0. 0. 0. 0. 0. 0. 0. 0. 0. 0. 0. 0. 0. 0. 0. 0.]\n",
      " [0. 0. 0. 0. 0. 0. 0. 0. 0. 0. 0. 0. 0. 0. 0. 0. 0. 0. 0. 0.]\n",
      " [0. 0. 0. 0. 0. 0. 0. 0. 0. 0. 0. 0. 0. 0. 0. 0. 0. 0. 0. 0.]\n",
      " [0. 0. 0. 0. 0. 0. 0. 0. 0. 0. 0. 0. 0. 0. 0. 0. 0. 0. 0. 0.]\n",
      " [0. 0. 0. 0. 0. 0. 0. 0. 0. 0. 0. 0. 0. 0. 0. 0. 0. 0. 0. 0.]\n",
      " [0. 0. 0. 0. 0. 0. 0. 0. 0. 0. 0. 0. 0. 0. 0. 0. 0. 0. 0. 0.]\n",
      " [0. 0. 0. 0. 0. 0. 0. 0. 0. 0. 0. 0. 0. 0. 0. 0. 0. 0. 0. 0.]]\n"
     ]
    }
   ],
   "source": [
    "e = np.zeros((20,20))\n",
    "print(e)"
   ]
  },
  {
   "cell_type": "code",
   "execution_count": 91,
   "id": "c123be99",
   "metadata": {},
   "outputs": [
    {
     "name": "stdout",
     "output_type": "stream",
     "text": [
      "[[0. 0. 0. 0. 0. 0. 0. 0. 0. 0.]\n",
      " [0. 0. 0. 0. 0. 0. 0. 0. 0. 0.]\n",
      " [0. 0. 0. 0. 0. 0. 0. 0. 0. 0.]\n",
      " [0. 0. 0. 0. 0. 0. 0. 0. 0. 0.]\n",
      " [0. 0. 0. 0. 0. 0. 0. 0. 0. 0.]\n",
      " [0. 0. 0. 0. 0. 0. 0. 0. 0. 0.]\n",
      " [0. 0. 0. 0. 0. 0. 0. 0. 0. 0.]\n",
      " [0. 0. 0. 0. 0. 0. 0. 0. 0. 0.]\n",
      " [0. 0. 0. 0. 0. 0. 0. 0. 0. 0.]\n",
      " [0. 0. 0. 0. 0. 0. 0. 0. 0. 0.]\n",
      " [0. 0. 0. 0. 0. 0. 0. 0. 0. 0.]\n",
      " [0. 0. 0. 0. 0. 0. 0. 0. 0. 0.]\n",
      " [0. 0. 0. 0. 0. 0. 0. 0. 0. 0.]\n",
      " [0. 0. 0. 0. 0. 0. 0. 0. 0. 0.]\n",
      " [0. 0. 0. 0. 0. 0. 0. 0. 0. 0.]]\n"
     ]
    }
   ],
   "source": [
    "# zero matrix with 15 rows and 10 columns\n",
    "f = np.zeros((15,10))\n",
    "print(f)"
   ]
  },
  {
   "cell_type": "code",
   "execution_count": 92,
   "id": "6c227d26",
   "metadata": {},
   "outputs": [
    {
     "name": "stdout",
     "output_type": "stream",
     "text": [
      "[[4. 1. 1. 1. 1. 1. 1. 1. 1. 5.]\n",
      " [4. 0. 0. 0. 0. 0. 0. 0. 0. 5.]\n",
      " [4. 0. 0. 0. 0. 0. 0. 0. 0. 5.]\n",
      " [4. 0. 0. 0. 0. 0. 0. 0. 0. 5.]\n",
      " [4. 0. 0. 0. 0. 0. 0. 0. 0. 5.]\n",
      " [4. 0. 0. 0. 0. 0. 0. 0. 0. 5.]\n",
      " [4. 0. 0. 0. 0. 0. 0. 0. 0. 5.]\n",
      " [4. 0. 0. 0. 0. 0. 0. 0. 0. 5.]\n",
      " [4. 0. 0. 0. 0. 0. 0. 0. 0. 5.]\n",
      " [4. 0. 0. 0. 0. 0. 0. 0. 0. 5.]\n",
      " [4. 0. 0. 0. 0. 0. 0. 0. 0. 5.]\n",
      " [4. 0. 0. 0. 0. 0. 0. 0. 0. 5.]\n",
      " [4. 0. 0. 0. 0. 0. 0. 0. 0. 5.]\n",
      " [4. 0. 0. 0. 0. 0. 0. 0. 0. 5.]\n",
      " [4. 2. 2. 2. 2. 2. 2. 2. 2. 5.]]\n"
     ]
    }
   ],
   "source": [
    "f[0,:] = 1\n",
    "f[14,:] = 2\n",
    "f[:,0] = 4\n",
    "f[:,9] = 5\n",
    "print(f)"
   ]
  },
  {
   "cell_type": "code",
   "execution_count": 93,
   "id": "ae1d5a99",
   "metadata": {},
   "outputs": [
    {
     "name": "stdout",
     "output_type": "stream",
     "text": [
      "[[[0. 0. 0. 0. 0. 0. 0.]\n",
      "  [0. 0. 0. 0. 0. 0. 0.]\n",
      "  [0. 0. 0. 0. 0. 0. 0.]\n",
      "  [0. 0. 0. 0. 0. 0. 0.]\n",
      "  [0. 0. 0. 0. 0. 0. 0.]]\n",
      "\n",
      " [[0. 0. 0. 0. 0. 0. 0.]\n",
      "  [0. 0. 0. 0. 0. 0. 0.]\n",
      "  [0. 0. 0. 0. 0. 0. 0.]\n",
      "  [0. 0. 0. 0. 0. 0. 0.]\n",
      "  [0. 0. 0. 0. 0. 0. 0.]]\n",
      "\n",
      " [[0. 0. 0. 0. 0. 0. 0.]\n",
      "  [0. 0. 0. 0. 0. 0. 0.]\n",
      "  [0. 0. 0. 0. 0. 0. 0.]\n",
      "  [0. 0. 0. 0. 0. 0. 0.]\n",
      "  [0. 0. 0. 0. 0. 0. 0.]]]\n"
     ]
    }
   ],
   "source": [
    "# 3 zero matrices with 5 rows and 7 columns\n",
    "g = np.zeros((3,5,7))\n",
    "print(g)"
   ]
  },
  {
   "cell_type": "code",
   "execution_count": 94,
   "id": "8103c442",
   "metadata": {
    "scrolled": false
   },
   "outputs": [
    {
     "name": "stdout",
     "output_type": "stream",
     "text": [
      "[[[[0. 0. 0.]\n",
      "   [0. 0. 0.]\n",
      "   [0. 0. 0.]\n",
      "   [0. 0. 0.]\n",
      "   [0. 0. 0.]\n",
      "   [0. 0. 0.]\n",
      "   [0. 0. 0.]]\n",
      "\n",
      "  [[0. 0. 0.]\n",
      "   [0. 0. 0.]\n",
      "   [0. 0. 0.]\n",
      "   [0. 0. 0.]\n",
      "   [0. 0. 0.]\n",
      "   [0. 0. 0.]\n",
      "   [0. 0. 0.]]\n",
      "\n",
      "  [[0. 0. 0.]\n",
      "   [0. 0. 0.]\n",
      "   [0. 0. 0.]\n",
      "   [0. 0. 0.]\n",
      "   [0. 0. 0.]\n",
      "   [0. 0. 0.]\n",
      "   [0. 0. 0.]]\n",
      "\n",
      "  [[0. 0. 0.]\n",
      "   [0. 0. 0.]\n",
      "   [0. 0. 0.]\n",
      "   [0. 0. 0.]\n",
      "   [0. 0. 0.]\n",
      "   [0. 0. 0.]\n",
      "   [0. 0. 0.]]\n",
      "\n",
      "  [[0. 0. 0.]\n",
      "   [0. 0. 0.]\n",
      "   [0. 0. 0.]\n",
      "   [0. 0. 0.]\n",
      "   [0. 0. 0.]\n",
      "   [0. 0. 0.]\n",
      "   [0. 0. 0.]]]\n",
      "\n",
      "\n",
      " [[[0. 0. 0.]\n",
      "   [0. 0. 0.]\n",
      "   [0. 0. 0.]\n",
      "   [0. 0. 0.]\n",
      "   [0. 0. 0.]\n",
      "   [0. 0. 0.]\n",
      "   [0. 0. 0.]]\n",
      "\n",
      "  [[0. 0. 0.]\n",
      "   [0. 0. 0.]\n",
      "   [0. 0. 0.]\n",
      "   [0. 0. 0.]\n",
      "   [0. 0. 0.]\n",
      "   [0. 0. 0.]\n",
      "   [0. 0. 0.]]\n",
      "\n",
      "  [[0. 0. 0.]\n",
      "   [0. 0. 0.]\n",
      "   [0. 0. 0.]\n",
      "   [0. 0. 0.]\n",
      "   [0. 0. 0.]\n",
      "   [0. 0. 0.]\n",
      "   [0. 0. 0.]]\n",
      "\n",
      "  [[0. 0. 0.]\n",
      "   [0. 0. 0.]\n",
      "   [0. 0. 0.]\n",
      "   [0. 0. 0.]\n",
      "   [0. 0. 0.]\n",
      "   [0. 0. 0.]\n",
      "   [0. 0. 0.]]\n",
      "\n",
      "  [[0. 0. 0.]\n",
      "   [0. 0. 0.]\n",
      "   [0. 0. 0.]\n",
      "   [0. 0. 0.]\n",
      "   [0. 0. 0.]\n",
      "   [0. 0. 0.]\n",
      "   [0. 0. 0.]]]\n",
      "\n",
      "\n",
      " [[[0. 0. 0.]\n",
      "   [0. 0. 0.]\n",
      "   [0. 0. 0.]\n",
      "   [0. 0. 0.]\n",
      "   [0. 0. 0.]\n",
      "   [0. 0. 0.]\n",
      "   [0. 0. 0.]]\n",
      "\n",
      "  [[0. 0. 0.]\n",
      "   [0. 0. 0.]\n",
      "   [0. 0. 0.]\n",
      "   [0. 0. 0.]\n",
      "   [0. 0. 0.]\n",
      "   [0. 0. 0.]\n",
      "   [0. 0. 0.]]\n",
      "\n",
      "  [[0. 0. 0.]\n",
      "   [0. 0. 0.]\n",
      "   [0. 0. 0.]\n",
      "   [0. 0. 0.]\n",
      "   [0. 0. 0.]\n",
      "   [0. 0. 0.]\n",
      "   [0. 0. 0.]]\n",
      "\n",
      "  [[0. 0. 0.]\n",
      "   [0. 0. 0.]\n",
      "   [0. 0. 0.]\n",
      "   [0. 0. 0.]\n",
      "   [0. 0. 0.]\n",
      "   [0. 0. 0.]\n",
      "   [0. 0. 0.]]\n",
      "\n",
      "  [[0. 0. 0.]\n",
      "   [0. 0. 0.]\n",
      "   [0. 0. 0.]\n",
      "   [0. 0. 0.]\n",
      "   [0. 0. 0.]\n",
      "   [0. 0. 0.]\n",
      "   [0. 0. 0.]]]\n",
      "\n",
      "\n",
      " [[[0. 0. 0.]\n",
      "   [0. 0. 0.]\n",
      "   [0. 0. 0.]\n",
      "   [0. 0. 0.]\n",
      "   [0. 0. 0.]\n",
      "   [0. 0. 0.]\n",
      "   [0. 0. 0.]]\n",
      "\n",
      "  [[0. 0. 0.]\n",
      "   [0. 0. 0.]\n",
      "   [0. 0. 0.]\n",
      "   [0. 0. 0.]\n",
      "   [0. 0. 0.]\n",
      "   [0. 0. 0.]\n",
      "   [0. 0. 0.]]\n",
      "\n",
      "  [[0. 0. 0.]\n",
      "   [0. 0. 0.]\n",
      "   [0. 0. 0.]\n",
      "   [0. 0. 0.]\n",
      "   [0. 0. 0.]\n",
      "   [0. 0. 0.]\n",
      "   [0. 0. 0.]]\n",
      "\n",
      "  [[0. 0. 0.]\n",
      "   [0. 0. 0.]\n",
      "   [0. 0. 0.]\n",
      "   [0. 0. 0.]\n",
      "   [0. 0. 0.]\n",
      "   [0. 0. 0.]\n",
      "   [0. 0. 0.]]\n",
      "\n",
      "  [[0. 0. 0.]\n",
      "   [0. 0. 0.]\n",
      "   [0. 0. 0.]\n",
      "   [0. 0. 0.]\n",
      "   [0. 0. 0.]\n",
      "   [0. 0. 0.]\n",
      "   [0. 0. 0.]]]]\n"
     ]
    }
   ],
   "source": [
    "# 20 zero matrices with 7 rows and 3 columns\n",
    "h = np.zeros((4,5,7,3))\n",
    "print(h)"
   ]
  },
  {
   "cell_type": "markdown",
   "id": "fec42b49",
   "metadata": {},
   "source": [
    "### b.) One Matrix"
   ]
  },
  {
   "cell_type": "code",
   "execution_count": 95,
   "id": "defc5761",
   "metadata": {},
   "outputs": [
    {
     "name": "stdout",
     "output_type": "stream",
     "text": [
      "[1. 1. 1. 1. 1. 1. 1. 1. 1. 1. 1. 1. 1. 1. 1. 1. 1. 1. 1. 1.]\n"
     ]
    }
   ],
   "source": [
    "d = np.ones(20)\n",
    "print(d)"
   ]
  },
  {
   "cell_type": "code",
   "execution_count": 96,
   "id": "279e1f50",
   "metadata": {},
   "outputs": [
    {
     "name": "stdout",
     "output_type": "stream",
     "text": [
      "[1. 1. 1. 1. 1. 1. 1. 1. 1. 1. 1. 1. 1. 1. 1. 1. 1. 1. 1. 1. 1. 1. 1. 1.\n",
      " 1. 1. 1. 1. 1. 1. 1. 1. 1. 1. 1. 1. 1. 1. 1. 1. 1. 1. 1. 1. 1. 1. 1. 1.\n",
      " 1. 1. 1. 1. 1. 1. 1. 1. 1. 1. 1. 1. 1. 1. 1. 1. 1. 1. 1. 1. 1. 1. 1. 1.\n",
      " 1. 1. 1. 1. 1. 1. 1. 1. 1. 1. 1. 1. 1. 1. 1. 1. 1. 1. 1. 1. 1. 1. 1. 1.\n",
      " 1. 1. 1. 1.]\n"
     ]
    }
   ],
   "source": [
    "e = np.ones(100)\n",
    "print(e)"
   ]
  },
  {
   "cell_type": "code",
   "execution_count": 97,
   "id": "820a6e8c",
   "metadata": {},
   "outputs": [
    {
     "name": "stdout",
     "output_type": "stream",
     "text": [
      "[[1. 1. 1.]\n",
      " [1. 1. 1.]]\n"
     ]
    }
   ],
   "source": [
    "# one matrix with 2 rows and 3 columns\n",
    "f = np.ones((2,3))\n",
    "print(f)"
   ]
  },
  {
   "cell_type": "code",
   "execution_count": 98,
   "id": "a6115eb7",
   "metadata": {},
   "outputs": [
    {
     "name": "stdout",
     "output_type": "stream",
     "text": [
      "[[[1. 1. 1. 1. 1.]\n",
      "  [1. 1. 1. 1. 1.]\n",
      "  [1. 1. 1. 1. 1.]]\n",
      "\n",
      " [[1. 1. 1. 1. 1.]\n",
      "  [1. 1. 1. 1. 1.]\n",
      "  [1. 1. 1. 1. 1.]]]\n"
     ]
    }
   ],
   "source": [
    "# 2 one matrices with 3 rows and 5 columns\n",
    "g = np.ones((2,3,5))\n",
    "print(g)"
   ]
  },
  {
   "cell_type": "code",
   "execution_count": 99,
   "id": "a381167c",
   "metadata": {},
   "outputs": [
    {
     "name": "stdout",
     "output_type": "stream",
     "text": [
      "[[[1. 1. 1. 1. 1. 1. 1. 1. 1. 1.]\n",
      "  [1. 1. 1. 1. 1. 1. 1. 1. 1. 1.]\n",
      "  [1. 1. 1. 1. 1. 1. 1. 1. 1. 1.]\n",
      "  [1. 1. 1. 1. 1. 1. 1. 1. 1. 1.]\n",
      "  [1. 1. 1. 1. 1. 1. 1. 1. 1. 1.]\n",
      "  [1. 1. 1. 1. 1. 1. 1. 1. 1. 1.]]\n",
      "\n",
      " [[1. 1. 1. 1. 1. 1. 1. 1. 1. 1.]\n",
      "  [1. 1. 1. 1. 1. 1. 1. 1. 1. 1.]\n",
      "  [1. 1. 1. 1. 1. 1. 1. 1. 1. 1.]\n",
      "  [1. 1. 1. 1. 1. 1. 1. 1. 1. 1.]\n",
      "  [1. 1. 1. 1. 1. 1. 1. 1. 1. 1.]\n",
      "  [1. 1. 1. 1. 1. 1. 1. 1. 1. 1.]]\n",
      "\n",
      " [[1. 1. 1. 1. 1. 1. 1. 1. 1. 1.]\n",
      "  [1. 1. 1. 1. 1. 1. 1. 1. 1. 1.]\n",
      "  [1. 1. 1. 1. 1. 1. 1. 1. 1. 1.]\n",
      "  [1. 1. 1. 1. 1. 1. 1. 1. 1. 1.]\n",
      "  [1. 1. 1. 1. 1. 1. 1. 1. 1. 1.]\n",
      "  [1. 1. 1. 1. 1. 1. 1. 1. 1. 1.]]\n",
      "\n",
      " [[1. 1. 1. 1. 1. 1. 1. 1. 1. 1.]\n",
      "  [1. 1. 1. 1. 1. 1. 1. 1. 1. 1.]\n",
      "  [1. 1. 1. 1. 1. 1. 1. 1. 1. 1.]\n",
      "  [1. 1. 1. 1. 1. 1. 1. 1. 1. 1.]\n",
      "  [1. 1. 1. 1. 1. 1. 1. 1. 1. 1.]\n",
      "  [1. 1. 1. 1. 1. 1. 1. 1. 1. 1.]]]\n"
     ]
    }
   ],
   "source": [
    "h = np.ones((4,6,10))\n",
    "print(h)"
   ]
  },
  {
   "cell_type": "code",
   "execution_count": 100,
   "id": "30d57b25",
   "metadata": {
    "scrolled": false
   },
   "outputs": [
    {
     "name": "stdout",
     "output_type": "stream",
     "text": [
      "[[[1. 1. 1. 1. 1. 1. 1. 1. 1. 1.]\n",
      "  [1. 1. 1. 1. 1. 1. 1. 1. 1. 1.]\n",
      "  [1. 1. 1. 1. 1. 1. 1. 1. 1. 1.]\n",
      "  [1. 1. 1. 1. 1. 1. 1. 1. 1. 1.]\n",
      "  [1. 1. 1. 1. 1. 1. 1. 1. 1. 1.]\n",
      "  [1. 1. 1. 1. 1. 1. 1. 1. 1. 1.]\n",
      "  [1. 1. 1. 1. 1. 1. 1. 1. 1. 1.]\n",
      "  [1. 1. 1. 1. 1. 1. 1. 1. 1. 1.]\n",
      "  [1. 1. 1. 1. 1. 1. 1. 1. 1. 1.]\n",
      "  [1. 1. 1. 1. 1. 1. 1. 1. 1. 1.]]\n",
      "\n",
      " [[1. 1. 1. 1. 1. 1. 1. 1. 1. 1.]\n",
      "  [1. 1. 1. 1. 1. 1. 1. 1. 1. 1.]\n",
      "  [1. 1. 1. 1. 1. 1. 1. 1. 1. 1.]\n",
      "  [1. 1. 1. 1. 1. 1. 1. 1. 1. 1.]\n",
      "  [1. 1. 1. 1. 1. 1. 1. 1. 1. 1.]\n",
      "  [1. 1. 1. 1. 1. 1. 1. 1. 1. 1.]\n",
      "  [1. 1. 1. 1. 1. 1. 1. 1. 1. 1.]\n",
      "  [1. 1. 1. 1. 1. 1. 1. 1. 1. 1.]\n",
      "  [1. 1. 1. 1. 1. 1. 1. 1. 1. 1.]\n",
      "  [1. 1. 1. 1. 1. 1. 1. 1. 1. 1.]]\n",
      "\n",
      " [[1. 1. 1. 1. 1. 1. 1. 1. 1. 1.]\n",
      "  [1. 1. 1. 1. 1. 1. 1. 1. 1. 1.]\n",
      "  [1. 1. 1. 1. 1. 1. 1. 1. 1. 1.]\n",
      "  [1. 1. 1. 1. 1. 1. 1. 1. 1. 1.]\n",
      "  [1. 1. 1. 1. 1. 1. 1. 1. 1. 1.]\n",
      "  [1. 1. 1. 1. 1. 1. 1. 1. 1. 1.]\n",
      "  [1. 1. 1. 1. 1. 1. 1. 1. 1. 1.]\n",
      "  [1. 1. 1. 1. 1. 1. 1. 1. 1. 1.]\n",
      "  [1. 1. 1. 1. 1. 1. 1. 1. 1. 1.]\n",
      "  [1. 1. 1. 1. 1. 1. 1. 1. 1. 1.]]\n",
      "\n",
      " [[1. 1. 1. 1. 1. 1. 1. 1. 1. 1.]\n",
      "  [1. 1. 1. 1. 1. 1. 1. 1. 1. 1.]\n",
      "  [1. 1. 1. 1. 1. 1. 1. 1. 1. 1.]\n",
      "  [1. 1. 1. 1. 1. 1. 1. 1. 1. 1.]\n",
      "  [1. 1. 1. 1. 1. 1. 1. 1. 1. 1.]\n",
      "  [1. 1. 1. 1. 1. 1. 1. 1. 1. 1.]\n",
      "  [1. 1. 1. 1. 1. 1. 1. 1. 1. 1.]\n",
      "  [1. 1. 1. 1. 1. 1. 1. 1. 1. 1.]\n",
      "  [1. 1. 1. 1. 1. 1. 1. 1. 1. 1.]\n",
      "  [1. 1. 1. 1. 1. 1. 1. 1. 1. 1.]]\n",
      "\n",
      " [[1. 1. 1. 1. 1. 1. 1. 1. 1. 1.]\n",
      "  [1. 1. 1. 1. 1. 1. 1. 1. 1. 1.]\n",
      "  [1. 1. 1. 1. 1. 1. 1. 1. 1. 1.]\n",
      "  [1. 1. 1. 1. 1. 1. 1. 1. 1. 1.]\n",
      "  [1. 1. 1. 1. 1. 1. 1. 1. 1. 1.]\n",
      "  [1. 1. 1. 1. 1. 1. 1. 1. 1. 1.]\n",
      "  [1. 1. 1. 1. 1. 1. 1. 1. 1. 1.]\n",
      "  [1. 1. 1. 1. 1. 1. 1. 1. 1. 1.]\n",
      "  [1. 1. 1. 1. 1. 1. 1. 1. 1. 1.]\n",
      "  [1. 1. 1. 1. 1. 1. 1. 1. 1. 1.]]\n",
      "\n",
      " [[1. 1. 1. 1. 1. 1. 1. 1. 1. 1.]\n",
      "  [1. 1. 1. 1. 1. 1. 1. 1. 1. 1.]\n",
      "  [1. 1. 1. 1. 1. 1. 1. 1. 1. 1.]\n",
      "  [1. 1. 1. 1. 1. 1. 1. 1. 1. 1.]\n",
      "  [1. 1. 1. 1. 1. 1. 1. 1. 1. 1.]\n",
      "  [1. 1. 1. 1. 1. 1. 1. 1. 1. 1.]\n",
      "  [1. 1. 1. 1. 1. 1. 1. 1. 1. 1.]\n",
      "  [1. 1. 1. 1. 1. 1. 1. 1. 1. 1.]\n",
      "  [1. 1. 1. 1. 1. 1. 1. 1. 1. 1.]\n",
      "  [1. 1. 1. 1. 1. 1. 1. 1. 1. 1.]]\n",
      "\n",
      " [[1. 1. 1. 1. 1. 1. 1. 1. 1. 1.]\n",
      "  [1. 1. 1. 1. 1. 1. 1. 1. 1. 1.]\n",
      "  [1. 1. 1. 1. 1. 1. 1. 1. 1. 1.]\n",
      "  [1. 1. 1. 1. 1. 1. 1. 1. 1. 1.]\n",
      "  [1. 1. 1. 1. 1. 1. 1. 1. 1. 1.]\n",
      "  [1. 1. 1. 1. 1. 1. 1. 1. 1. 1.]\n",
      "  [1. 1. 1. 1. 1. 1. 1. 1. 1. 1.]\n",
      "  [1. 1. 1. 1. 1. 1. 1. 1. 1. 1.]\n",
      "  [1. 1. 1. 1. 1. 1. 1. 1. 1. 1.]\n",
      "  [1. 1. 1. 1. 1. 1. 1. 1. 1. 1.]]\n",
      "\n",
      " [[1. 1. 1. 1. 1. 1. 1. 1. 1. 1.]\n",
      "  [1. 1. 1. 1. 1. 1. 1. 1. 1. 1.]\n",
      "  [1. 1. 1. 1. 1. 1. 1. 1. 1. 1.]\n",
      "  [1. 1. 1. 1. 1. 1. 1. 1. 1. 1.]\n",
      "  [1. 1. 1. 1. 1. 1. 1. 1. 1. 1.]\n",
      "  [1. 1. 1. 1. 1. 1. 1. 1. 1. 1.]\n",
      "  [1. 1. 1. 1. 1. 1. 1. 1. 1. 1.]\n",
      "  [1. 1. 1. 1. 1. 1. 1. 1. 1. 1.]\n",
      "  [1. 1. 1. 1. 1. 1. 1. 1. 1. 1.]\n",
      "  [1. 1. 1. 1. 1. 1. 1. 1. 1. 1.]]\n",
      "\n",
      " [[1. 1. 1. 1. 1. 1. 1. 1. 1. 1.]\n",
      "  [1. 1. 1. 1. 1. 1. 1. 1. 1. 1.]\n",
      "  [1. 1. 1. 1. 1. 1. 1. 1. 1. 1.]\n",
      "  [1. 1. 1. 1. 1. 1. 1. 1. 1. 1.]\n",
      "  [1. 1. 1. 1. 1. 1. 1. 1. 1. 1.]\n",
      "  [1. 1. 1. 1. 1. 1. 1. 1. 1. 1.]\n",
      "  [1. 1. 1. 1. 1. 1. 1. 1. 1. 1.]\n",
      "  [1. 1. 1. 1. 1. 1. 1. 1. 1. 1.]\n",
      "  [1. 1. 1. 1. 1. 1. 1. 1. 1. 1.]\n",
      "  [1. 1. 1. 1. 1. 1. 1. 1. 1. 1.]]\n",
      "\n",
      " [[1. 1. 1. 1. 1. 1. 1. 1. 1. 1.]\n",
      "  [1. 1. 1. 1. 1. 1. 1. 1. 1. 1.]\n",
      "  [1. 1. 1. 1. 1. 1. 1. 1. 1. 1.]\n",
      "  [1. 1. 1. 1. 1. 1. 1. 1. 1. 1.]\n",
      "  [1. 1. 1. 1. 1. 1. 1. 1. 1. 1.]\n",
      "  [1. 1. 1. 1. 1. 1. 1. 1. 1. 1.]\n",
      "  [1. 1. 1. 1. 1. 1. 1. 1. 1. 1.]\n",
      "  [1. 1. 1. 1. 1. 1. 1. 1. 1. 1.]\n",
      "  [1. 1. 1. 1. 1. 1. 1. 1. 1. 1.]\n",
      "  [1. 1. 1. 1. 1. 1. 1. 1. 1. 1.]]]\n"
     ]
    }
   ],
   "source": [
    "i = np.ones((10,10,10))\n",
    "print(i)"
   ]
  },
  {
   "cell_type": "code",
   "execution_count": 101,
   "id": "c7f6f6b0",
   "metadata": {},
   "outputs": [
    {
     "name": "stdout",
     "output_type": "stream",
     "text": [
      "[[[1. 1.]\n",
      "  [1. 1.]]\n",
      "\n",
      " [[1. 1.]\n",
      "  [1. 1.]]\n",
      "\n",
      " [[1. 1.]\n",
      "  [1. 1.]]\n",
      "\n",
      " [[1. 1.]\n",
      "  [1. 1.]]]\n",
      "float64\n"
     ]
    }
   ],
   "source": [
    "j = np.ones((4,2,2))\n",
    "print(j)\n",
    "print(j.dtype)"
   ]
  },
  {
   "cell_type": "code",
   "execution_count": 102,
   "id": "e63857dc",
   "metadata": {},
   "outputs": [
    {
     "name": "stdout",
     "output_type": "stream",
     "text": [
      "[[[1 1]\n",
      "  [1 1]]\n",
      "\n",
      " [[1 1]\n",
      "  [1 1]]\n",
      "\n",
      " [[1 1]\n",
      "  [1 1]]\n",
      "\n",
      " [[1 1]\n",
      "  [1 1]]]\n",
      "int32\n"
     ]
    }
   ],
   "source": [
    "j = np.ones((4,2,2),dtype=\"int32\")\n",
    "print(j)\n",
    "print(j.dtype)"
   ]
  },
  {
   "cell_type": "markdown",
   "id": "de32044d",
   "metadata": {},
   "source": [
    "### c.) Any other number of matrix"
   ]
  },
  {
   "cell_type": "code",
   "execution_count": 103,
   "id": "a94bf003",
   "metadata": {},
   "outputs": [
    {
     "name": "stdout",
     "output_type": "stream",
     "text": [
      "[[99. 99.]\n",
      " [99. 99.]]\n"
     ]
    }
   ],
   "source": [
    "x=np.full((2,2),99,dtype=\"float32\")\n",
    "print(x)"
   ]
  },
  {
   "cell_type": "code",
   "execution_count": 104,
   "id": "ceca396e",
   "metadata": {
    "scrolled": false
   },
   "outputs": [
    {
     "name": "stdout",
     "output_type": "stream",
     "text": [
      "[[[3 3 3 3 3 3 3 3 3 3]\n",
      "  [3 3 3 3 3 3 3 3 3 3]\n",
      "  [3 3 3 3 3 3 3 3 3 3]\n",
      "  [3 3 3 3 3 3 3 3 3 3]\n",
      "  [3 3 3 3 3 3 3 3 3 3]\n",
      "  [3 3 3 3 3 3 3 3 3 3]\n",
      "  [3 3 3 3 3 3 3 3 3 3]\n",
      "  [3 3 3 3 3 3 3 3 3 3]\n",
      "  [3 3 3 3 3 3 3 3 3 3]\n",
      "  [3 3 3 3 3 3 3 3 3 3]]\n",
      "\n",
      " [[3 3 3 3 3 3 3 3 3 3]\n",
      "  [3 3 3 3 3 3 3 3 3 3]\n",
      "  [3 3 3 3 3 3 3 3 3 3]\n",
      "  [3 3 3 3 3 3 3 3 3 3]\n",
      "  [3 3 3 3 3 3 3 3 3 3]\n",
      "  [3 3 3 3 3 3 3 3 3 3]\n",
      "  [3 3 3 3 3 3 3 3 3 3]\n",
      "  [3 3 3 3 3 3 3 3 3 3]\n",
      "  [3 3 3 3 3 3 3 3 3 3]\n",
      "  [3 3 3 3 3 3 3 3 3 3]]\n",
      "\n",
      " [[3 3 3 3 3 3 3 3 3 3]\n",
      "  [3 3 3 3 3 3 3 3 3 3]\n",
      "  [3 3 3 3 3 3 3 3 3 3]\n",
      "  [3 3 3 3 3 3 3 3 3 3]\n",
      "  [3 3 3 3 3 3 3 3 3 3]\n",
      "  [3 3 3 3 3 3 3 3 3 3]\n",
      "  [3 3 3 3 3 3 3 3 3 3]\n",
      "  [3 3 3 3 3 3 3 3 3 3]\n",
      "  [3 3 3 3 3 3 3 3 3 3]\n",
      "  [3 3 3 3 3 3 3 3 3 3]]\n",
      "\n",
      " [[3 3 3 3 3 3 3 3 3 3]\n",
      "  [3 3 3 3 3 3 3 3 3 3]\n",
      "  [3 3 3 3 3 3 3 3 3 3]\n",
      "  [3 3 3 3 3 3 3 3 3 3]\n",
      "  [3 3 3 3 3 3 3 3 3 3]\n",
      "  [3 3 3 3 3 3 3 3 3 3]\n",
      "  [3 3 3 3 3 3 3 3 3 3]\n",
      "  [3 3 3 3 3 3 3 3 3 3]\n",
      "  [3 3 3 3 3 3 3 3 3 3]\n",
      "  [3 3 3 3 3 3 3 3 3 3]]\n",
      "\n",
      " [[3 3 3 3 3 3 3 3 3 3]\n",
      "  [3 3 3 3 3 3 3 3 3 3]\n",
      "  [3 3 3 3 3 3 3 3 3 3]\n",
      "  [3 3 3 3 3 3 3 3 3 3]\n",
      "  [3 3 3 3 3 3 3 3 3 3]\n",
      "  [3 3 3 3 3 3 3 3 3 3]\n",
      "  [3 3 3 3 3 3 3 3 3 3]\n",
      "  [3 3 3 3 3 3 3 3 3 3]\n",
      "  [3 3 3 3 3 3 3 3 3 3]\n",
      "  [3 3 3 3 3 3 3 3 3 3]]\n",
      "\n",
      " [[3 3 3 3 3 3 3 3 3 3]\n",
      "  [3 3 3 3 3 3 3 3 3 3]\n",
      "  [3 3 3 3 3 3 3 3 3 3]\n",
      "  [3 3 3 3 3 3 3 3 3 3]\n",
      "  [3 3 3 3 3 3 3 3 3 3]\n",
      "  [3 3 3 3 3 3 3 3 3 3]\n",
      "  [3 3 3 3 3 3 3 3 3 3]\n",
      "  [3 3 3 3 3 3 3 3 3 3]\n",
      "  [3 3 3 3 3 3 3 3 3 3]\n",
      "  [3 3 3 3 3 3 3 3 3 3]]\n",
      "\n",
      " [[3 3 3 3 3 3 3 3 3 3]\n",
      "  [3 3 3 3 3 3 3 3 3 3]\n",
      "  [3 3 3 3 3 3 3 3 3 3]\n",
      "  [3 3 3 3 3 3 3 3 3 3]\n",
      "  [3 3 3 3 3 3 3 3 3 3]\n",
      "  [3 3 3 3 3 3 3 3 3 3]\n",
      "  [3 3 3 3 3 3 3 3 3 3]\n",
      "  [3 3 3 3 3 3 3 3 3 3]\n",
      "  [3 3 3 3 3 3 3 3 3 3]\n",
      "  [3 3 3 3 3 3 3 3 3 3]]\n",
      "\n",
      " [[3 3 3 3 3 3 3 3 3 3]\n",
      "  [3 3 3 3 3 3 3 3 3 3]\n",
      "  [3 3 3 3 3 3 3 3 3 3]\n",
      "  [3 3 3 3 3 3 3 3 3 3]\n",
      "  [3 3 3 3 3 3 3 3 3 3]\n",
      "  [3 3 3 3 3 3 3 3 3 3]\n",
      "  [3 3 3 3 3 3 3 3 3 3]\n",
      "  [3 3 3 3 3 3 3 3 3 3]\n",
      "  [3 3 3 3 3 3 3 3 3 3]\n",
      "  [3 3 3 3 3 3 3 3 3 3]]\n",
      "\n",
      " [[3 3 3 3 3 3 3 3 3 3]\n",
      "  [3 3 3 3 3 3 3 3 3 3]\n",
      "  [3 3 3 3 3 3 3 3 3 3]\n",
      "  [3 3 3 3 3 3 3 3 3 3]\n",
      "  [3 3 3 3 3 3 3 3 3 3]\n",
      "  [3 3 3 3 3 3 3 3 3 3]\n",
      "  [3 3 3 3 3 3 3 3 3 3]\n",
      "  [3 3 3 3 3 3 3 3 3 3]\n",
      "  [3 3 3 3 3 3 3 3 3 3]\n",
      "  [3 3 3 3 3 3 3 3 3 3]]\n",
      "\n",
      " [[3 3 3 3 3 3 3 3 3 3]\n",
      "  [3 3 3 3 3 3 3 3 3 3]\n",
      "  [3 3 3 3 3 3 3 3 3 3]\n",
      "  [3 3 3 3 3 3 3 3 3 3]\n",
      "  [3 3 3 3 3 3 3 3 3 3]\n",
      "  [3 3 3 3 3 3 3 3 3 3]\n",
      "  [3 3 3 3 3 3 3 3 3 3]\n",
      "  [3 3 3 3 3 3 3 3 3 3]\n",
      "  [3 3 3 3 3 3 3 3 3 3]\n",
      "  [3 3 3 3 3 3 3 3 3 3]]]\n"
     ]
    }
   ],
   "source": [
    "y = np.full((10,10,10),3)\n",
    "print(y)"
   ]
  },
  {
   "cell_type": "code",
   "execution_count": 105,
   "id": "deacffaa",
   "metadata": {},
   "outputs": [
    {
     "name": "stdout",
     "output_type": "stream",
     "text": [
      "[[-1 -1 -1 -1 -1 -1 -1 -1 -1 -1 -1 -1 -1 -1 -1 -1 -1 -1 -1 -1]\n",
      " [-1 -1 -1 -1 -1 -1 -1 -1 -1 -1 -1 -1 -1 -1 -1 -1 -1 -1 -1 -1]\n",
      " [-1 -1 -1 -1 -1 -1 -1 -1 -1 -1 -1 -1 -1 -1 -1 -1 -1 -1 -1 -1]\n",
      " [-1 -1 -1 -1 -1 -1 -1 -1 -1 -1 -1 -1 -1 -1 -1 -1 -1 -1 -1 -1]\n",
      " [-1 -1 -1 -1 -1 -1 -1 -1 -1 -1 -1 -1 -1 -1 -1 -1 -1 -1 -1 -1]\n",
      " [-1 -1 -1 -1 -1 -1 -1 -1 -1 -1 -1 -1 -1 -1 -1 -1 -1 -1 -1 -1]\n",
      " [-1 -1 -1 -1 -1 -1 -1 -1 -1 -1 -1 -1 -1 -1 -1 -1 -1 -1 -1 -1]\n",
      " [-1 -1 -1 -1 -1 -1 -1 -1 -1 -1 -1 -1 -1 -1 -1 -1 -1 -1 -1 -1]\n",
      " [-1 -1 -1 -1 -1 -1 -1 -1 -1 -1 -1 -1 -1 -1 -1 -1 -1 -1 -1 -1]\n",
      " [-1 -1 -1 -1 -1 -1 -1 -1 -1 -1 -1 -1 -1 -1 -1 -1 -1 -1 -1 -1]\n",
      " [-1 -1 -1 -1 -1 -1 -1 -1 -1 -1 -1 -1 -1 -1 -1 -1 -1 -1 -1 -1]\n",
      " [-1 -1 -1 -1 -1 -1 -1 -1 -1 -1 -1 -1 -1 -1 -1 -1 -1 -1 -1 -1]\n",
      " [-1 -1 -1 -1 -1 -1 -1 -1 -1 -1 -1 -1 -1 -1 -1 -1 -1 -1 -1 -1]\n",
      " [-1 -1 -1 -1 -1 -1 -1 -1 -1 -1 -1 -1 -1 -1 -1 -1 -1 -1 -1 -1]\n",
      " [-1 -1 -1 -1 -1 -1 -1 -1 -1 -1 -1 -1 -1 -1 -1 -1 -1 -1 -1 -1]\n",
      " [-1 -1 -1 -1 -1 -1 -1 -1 -1 -1 -1 -1 -1 -1 -1 -1 -1 -1 -1 -1]\n",
      " [-1 -1 -1 -1 -1 -1 -1 -1 -1 -1 -1 -1 -1 -1 -1 -1 -1 -1 -1 -1]\n",
      " [-1 -1 -1 -1 -1 -1 -1 -1 -1 -1 -1 -1 -1 -1 -1 -1 -1 -1 -1 -1]\n",
      " [-1 -1 -1 -1 -1 -1 -1 -1 -1 -1 -1 -1 -1 -1 -1 -1 -1 -1 -1 -1]\n",
      " [-1 -1 -1 -1 -1 -1 -1 -1 -1 -1 -1 -1 -1 -1 -1 -1 -1 -1 -1 -1]]\n"
     ]
    }
   ],
   "source": [
    "z = np.full((20,20),-1)\n",
    "print(z)"
   ]
  },
  {
   "cell_type": "code",
   "execution_count": 106,
   "id": "d3f0cf6b",
   "metadata": {},
   "outputs": [
    {
     "name": "stdout",
     "output_type": "stream",
     "text": [
      "[[4 4 4 4 4 4 4 4 4 4 4 4 4 4 4 4 4 4 4 4 4 4 4 4 4 4 4 4 4 4]\n",
      " [4 4 4 4 4 4 4 4 4 4 4 4 4 4 4 4 4 4 4 4 4 4 4 4 4 4 4 4 4 4]\n",
      " [4 4 4 4 4 4 4 4 4 4 4 4 4 4 4 4 4 4 4 4 4 4 4 4 4 4 4 4 4 4]\n",
      " [4 4 4 4 4 4 4 4 4 4 4 4 4 4 4 4 4 4 4 4 4 4 4 4 4 4 4 4 4 4]\n",
      " [4 4 4 4 4 4 4 4 4 4 4 4 4 4 4 4 4 4 4 4 4 4 4 4 4 4 4 4 4 4]\n",
      " [4 4 4 4 4 4 4 4 4 4 4 4 4 4 4 4 4 4 4 4 4 4 4 4 4 4 4 4 4 4]\n",
      " [4 4 4 4 4 4 4 4 4 4 4 4 4 4 4 4 4 4 4 4 4 4 4 4 4 4 4 4 4 4]\n",
      " [4 4 4 4 4 4 4 4 4 4 4 4 4 4 4 4 4 4 4 4 4 4 4 4 4 4 4 4 4 4]\n",
      " [4 4 4 4 4 4 4 4 4 4 4 4 4 4 4 4 4 4 4 4 4 4 4 4 4 4 4 4 4 4]\n",
      " [4 4 4 4 4 4 4 4 4 4 4 4 4 4 4 4 4 4 4 4 4 4 4 4 4 4 4 4 4 4]\n",
      " [4 4 4 4 4 4 4 4 4 4 4 4 4 4 4 4 4 4 4 4 4 4 4 4 4 4 4 4 4 4]\n",
      " [4 4 4 4 4 4 4 4 4 4 4 4 4 4 4 4 4 4 4 4 4 4 4 4 4 4 4 4 4 4]\n",
      " [4 4 4 4 4 4 4 4 4 4 4 4 4 4 4 4 4 4 4 4 4 4 4 4 4 4 4 4 4 4]\n",
      " [4 4 4 4 4 4 4 4 4 4 4 4 4 4 4 4 4 4 4 4 4 4 4 4 4 4 4 4 4 4]\n",
      " [4 4 4 4 4 4 4 4 4 4 4 4 4 4 4 4 4 4 4 4 4 4 4 4 4 4 4 4 4 4]\n",
      " [4 4 4 4 4 4 4 4 4 4 4 4 4 4 4 4 4 4 4 4 4 4 4 4 4 4 4 4 4 4]\n",
      " [4 4 4 4 4 4 4 4 4 4 4 4 4 4 4 4 4 4 4 4 4 4 4 4 4 4 4 4 4 4]\n",
      " [4 4 4 4 4 4 4 4 4 4 4 4 4 4 4 4 4 4 4 4 4 4 4 4 4 4 4 4 4 4]\n",
      " [4 4 4 4 4 4 4 4 4 4 4 4 4 4 4 4 4 4 4 4 4 4 4 4 4 4 4 4 4 4]\n",
      " [4 4 4 4 4 4 4 4 4 4 4 4 4 4 4 4 4 4 4 4 4 4 4 4 4 4 4 4 4 4]\n",
      " [4 4 4 4 4 4 4 4 4 4 4 4 4 4 4 4 4 4 4 4 4 4 4 4 4 4 4 4 4 4]\n",
      " [4 4 4 4 4 4 4 4 4 4 4 4 4 4 4 4 4 4 4 4 4 4 4 4 4 4 4 4 4 4]\n",
      " [4 4 4 4 4 4 4 4 4 4 4 4 4 4 4 4 4 4 4 4 4 4 4 4 4 4 4 4 4 4]\n",
      " [4 4 4 4 4 4 4 4 4 4 4 4 4 4 4 4 4 4 4 4 4 4 4 4 4 4 4 4 4 4]\n",
      " [4 4 4 4 4 4 4 4 4 4 4 4 4 4 4 4 4 4 4 4 4 4 4 4 4 4 4 4 4 4]\n",
      " [4 4 4 4 4 4 4 4 4 4 4 4 4 4 4 4 4 4 4 4 4 4 4 4 4 4 4 4 4 4]\n",
      " [4 4 4 4 4 4 4 4 4 4 4 4 4 4 4 4 4 4 4 4 4 4 4 4 4 4 4 4 4 4]\n",
      " [4 4 4 4 4 4 4 4 4 4 4 4 4 4 4 4 4 4 4 4 4 4 4 4 4 4 4 4 4 4]\n",
      " [4 4 4 4 4 4 4 4 4 4 4 4 4 4 4 4 4 4 4 4 4 4 4 4 4 4 4 4 4 4]\n",
      " [4 4 4 4 4 4 4 4 4 4 4 4 4 4 4 4 4 4 4 4 4 4 4 4 4 4 4 4 4 4]]\n"
     ]
    }
   ],
   "source": [
    "m = np.full((30,30),4)\n",
    "print(m)"
   ]
  },
  {
   "cell_type": "code",
   "execution_count": 107,
   "id": "133571c4",
   "metadata": {},
   "outputs": [
    {
     "name": "stdout",
     "output_type": "stream",
     "text": [
      "[[4 4 4 4 4 4 4]\n",
      " [4 4 4 4 4 4 4]\n",
      " [4 4 4 4 4 4 4]]\n"
     ]
    }
   ],
   "source": [
    "n = np.array([[1,2,3,4,5,6,7],[8,9,10,11,12,13,14],[0,9,0,8,6,5,-3]])\n",
    "print(np.full_like(n,4))"
   ]
  },
  {
   "cell_type": "code",
   "execution_count": 108,
   "id": "e3c03c37",
   "metadata": {},
   "outputs": [
    {
     "name": "stdout",
     "output_type": "stream",
     "text": [
      "[[4 4 4 4 4 4 4]\n",
      " [4 4 4 4 4 4 4]\n",
      " [4 4 4 4 4 4 4]]\n"
     ]
    }
   ],
   "source": [
    "print(np.full(n.shape,4))"
   ]
  },
  {
   "cell_type": "code",
   "execution_count": 109,
   "id": "11411eb8",
   "metadata": {},
   "outputs": [
    {
     "name": "stdout",
     "output_type": "stream",
     "text": [
      "[[5 5 5 5 5 5 5]\n",
      " [5 5 5 5 5 5 5]\n",
      " [5 5 5 5 5 5 5]]\n"
     ]
    }
   ],
   "source": [
    "print(np.full_like(n,5))"
   ]
  },
  {
   "cell_type": "code",
   "execution_count": 110,
   "id": "a9def3da",
   "metadata": {},
   "outputs": [],
   "source": [
    "# np.full_like(n,a) = np.full(n.shape,a), where a is constant"
   ]
  },
  {
   "cell_type": "markdown",
   "id": "951731a6",
   "metadata": {},
   "source": [
    "### d.) Random number in matrix"
   ]
  },
  {
   "cell_type": "code",
   "execution_count": 111,
   "id": "c7888da4",
   "metadata": {},
   "outputs": [
    {
     "name": "stdout",
     "output_type": "stream",
     "text": [
      "[[0.29836468 0.95491516]\n",
      " [0.81032453 0.09527103]\n",
      " [0.71370772 0.158331  ]\n",
      " [0.85871714 0.06759747]]\n"
     ]
    }
   ],
   "source": [
    "# random number on(0,1) with 4 rows and 2 columns\n",
    "print(np.random.rand(4,2))"
   ]
  },
  {
   "cell_type": "code",
   "execution_count": 112,
   "id": "8dee101f",
   "metadata": {},
   "outputs": [
    {
     "name": "stdout",
     "output_type": "stream",
     "text": [
      "[[[0.53259878 0.23340412 0.13684431]\n",
      "  [0.14139531 0.9771577  0.84943649]]\n",
      "\n",
      " [[0.06199424 0.23966948 0.26959797]\n",
      "  [0.44991392 0.65597107 0.90445552]]\n",
      "\n",
      " [[0.83702931 0.27365017 0.44604798]\n",
      "  [0.40768061 0.69318887 0.75366238]]\n",
      "\n",
      " [[0.11617681 0.48146572 0.50454002]\n",
      "  [0.78640471 0.28507069 0.9655753 ]]]\n"
     ]
    }
   ],
   "source": [
    "# random number on(0,1) with 2 rows and 3 columns for 4 matrices.\n",
    "print(np.random.rand(4,2,3))"
   ]
  },
  {
   "cell_type": "code",
   "execution_count": 113,
   "id": "4c6fbb6a",
   "metadata": {},
   "outputs": [
    {
     "name": "stdout",
     "output_type": "stream",
     "text": [
      "[[ 1  2  3  4  5  6  7]\n",
      " [ 8  9 10 11 12 13 14]\n",
      " [ 0  9  0  8  6  5 -3]]\n",
      "[[0.37375404 0.37634546 0.68646076 0.35779359 0.06100001 0.5302908\n",
      "  0.25139477]\n",
      " [0.79861591 0.00634484 0.84074891 0.64250249 0.29214985 0.04423007\n",
      "  0.92291453]\n",
      " [0.26271885 0.61875452 0.49268848 0.37511463 0.9206648  0.39932682\n",
      "  0.34285574]]\n"
     ]
    }
   ],
   "source": [
    "# random on matrix n on the interval(0,1)\n",
    "print(n)\n",
    "print(np.random.random_sample(n.shape))"
   ]
  },
  {
   "cell_type": "code",
   "execution_count": 114,
   "id": "2e5eaa2d",
   "metadata": {},
   "outputs": [
    {
     "name": "stdout",
     "output_type": "stream",
     "text": [
      "[[[ 1  0 -3]\n",
      "  [ 4  3 -1]\n",
      "  [-4 -4  7]]\n",
      "\n",
      " [[-4 -2  6]\n",
      "  [-2  0 -1]\n",
      "  [ 0  0  2]]\n",
      "\n",
      " [[ 2  4  5]\n",
      "  [-3 -4  4]\n",
      "  [-1 -3  3]]]\n"
     ]
    }
   ],
   "source": [
    "# random integer value on the interval(-4,8) with 3 matrices about 3 rows and 3 columns\n",
    "print(np.random.randint(-4,8,size=(3,3,3)))"
   ]
  },
  {
   "cell_type": "code",
   "execution_count": 118,
   "id": "1e8b22c4",
   "metadata": {},
   "outputs": [
    {
     "name": "stdout",
     "output_type": "stream",
     "text": [
      "[[[94 59 98 48 40]\n",
      "  [35 36 60 92 39]\n",
      "  [78 95 12 40 55]\n",
      "  [47 15 17  5 62]]\n",
      "\n",
      " [[79 66 30 44 68]\n",
      "  [68 27 23 43 66]\n",
      "  [45 27 95 43 11]\n",
      "  [43  5 95 41  2]]\n",
      "\n",
      " [[35 57 94 33  2]\n",
      "  [ 6  3  6 32  3]\n",
      "  [44 36 74 80 24]\n",
      "  [86 27 28 63 28]]]\n"
     ]
    }
   ],
   "source": [
    "# random integer value on the interval(1,100)\n",
    "print(np.random.randint(1,100,size=(3,4,5)))"
   ]
  },
  {
   "cell_type": "code",
   "execution_count": 119,
   "id": "ef6bfc2b",
   "metadata": {},
   "outputs": [
    {
     "name": "stdout",
     "output_type": "stream",
     "text": [
      "[[689 594 383 760 850 841 255 891 931 143 801 573 693 109  11]\n",
      " [750  34  81 945 346 294 714  33 746 721 654 337 834 458 506]\n",
      " [126 640 367 571 780 617 906 610 276 868 268 752 795 791   3]\n",
      " [781 626 579 496 491 665 350 687 336 178 546 668 533 169 318]\n",
      " [834 334 604 930 931 681 869 201 278  80 265 171 271 803 585]\n",
      " [916 365 519 746 748 787 953 342 840 465  82 580 811  89  51]\n",
      " [813 725 655 877 216 738 654 805 171 393 795   5 664 855 334]\n",
      " [902 811 858 953 142 216 672 480 731 235 736 876 777 435 792]\n",
      " [421 976 720 114 757 898 579 782 986 462 610 217 328 601 354]\n",
      " [868 479 340 674 233 477 363 207 986 390 848 968  20 927 168]\n",
      " [ 21 383 252 281 476 622 803 115 893 828 544 529 176 435  32]\n",
      " [678 289 719 121 737 990 953 312 390 988 222 139 225 223 689]\n",
      " [261 467 793 348 226 330 514 138 111 987 716 460 391 857 932]\n",
      " [602 904 252 330 208 645 541 201 308 496 446  14 445 428 767]\n",
      " [240 559 115 383 612 355 403 725 281 823 891 726 849 896 143]]\n",
      "===============================================================\n",
      "-3.043883811156688e+28\n"
     ]
    }
   ],
   "source": [
    "print(np.random.randint(1,1000,size=(15,15)))\n",
    "print(\"===============================================================\")\n",
    "print(np.linalg.det(np.random.randint(1,100,size=(15,15))))"
   ]
  },
  {
   "cell_type": "code",
   "execution_count": 120,
   "id": "b7124926",
   "metadata": {},
   "outputs": [],
   "source": [
    "# np.random.rand(number of matrix,row-th,column-th), if no input number of matrix it will display just a matrix default.\n",
    "# np.random.random_sample(m.shape) : this case we need input m.shape such the form (a,b) where a,b are row-th and column-th\n",
    "# respectively in order.\n",
    "# np.random.randint(startValue,endValue,size(#matrix,row-th,column-th))"
   ]
  },
  {
   "cell_type": "markdown",
   "id": "9ff59b06",
   "metadata": {},
   "source": [
    "### e.) Identity Matrix"
   ]
  },
  {
   "cell_type": "code",
   "execution_count": 121,
   "id": "b22259f3",
   "metadata": {},
   "outputs": [
    {
     "name": "stdout",
     "output_type": "stream",
     "text": [
      "[[1. 0. 0.]\n",
      " [0. 1. 0.]\n",
      " [0. 0. 1.]]\n"
     ]
    }
   ],
   "source": [
    "print(np.identity(3))"
   ]
  },
  {
   "cell_type": "code",
   "execution_count": 122,
   "id": "b00da009",
   "metadata": {},
   "outputs": [
    {
     "name": "stdout",
     "output_type": "stream",
     "text": [
      "[[1. 0. 0. 0. 0. 0. 0. 0. 0. 0.]\n",
      " [0. 1. 0. 0. 0. 0. 0. 0. 0. 0.]\n",
      " [0. 0. 1. 0. 0. 0. 0. 0. 0. 0.]\n",
      " [0. 0. 0. 1. 0. 0. 0. 0. 0. 0.]\n",
      " [0. 0. 0. 0. 1. 0. 0. 0. 0. 0.]\n",
      " [0. 0. 0. 0. 0. 1. 0. 0. 0. 0.]\n",
      " [0. 0. 0. 0. 0. 0. 1. 0. 0. 0.]\n",
      " [0. 0. 0. 0. 0. 0. 0. 1. 0. 0.]\n",
      " [0. 0. 0. 0. 0. 0. 0. 0. 1. 0.]\n",
      " [0. 0. 0. 0. 0. 0. 0. 0. 0. 1.]]\n"
     ]
    }
   ],
   "source": [
    "print(np.identity(10))"
   ]
  },
  {
   "cell_type": "code",
   "execution_count": 123,
   "id": "a5ddc652",
   "metadata": {},
   "outputs": [
    {
     "name": "stdout",
     "output_type": "stream",
     "text": [
      "[[1. 0. 0. 0. 0. 0. 0. 0. 0. 0. 0. 0. 0. 0. 0. 0. 0. 0. 0. 0.]\n",
      " [0. 1. 0. 0. 0. 0. 0. 0. 0. 0. 0. 0. 0. 0. 0. 0. 0. 0. 0. 0.]\n",
      " [0. 0. 1. 0. 0. 0. 0. 0. 0. 0. 0. 0. 0. 0. 0. 0. 0. 0. 0. 0.]\n",
      " [0. 0. 0. 1. 0. 0. 0. 0. 0. 0. 0. 0. 0. 0. 0. 0. 0. 0. 0. 0.]\n",
      " [0. 0. 0. 0. 1. 0. 0. 0. 0. 0. 0. 0. 0. 0. 0. 0. 0. 0. 0. 0.]\n",
      " [0. 0. 0. 0. 0. 1. 0. 0. 0. 0. 0. 0. 0. 0. 0. 0. 0. 0. 0. 0.]\n",
      " [0. 0. 0. 0. 0. 0. 1. 0. 0. 0. 0. 0. 0. 0. 0. 0. 0. 0. 0. 0.]\n",
      " [0. 0. 0. 0. 0. 0. 0. 1. 0. 0. 0. 0. 0. 0. 0. 0. 0. 0. 0. 0.]\n",
      " [0. 0. 0. 0. 0. 0. 0. 0. 1. 0. 0. 0. 0. 0. 0. 0. 0. 0. 0. 0.]\n",
      " [0. 0. 0. 0. 0. 0. 0. 0. 0. 1. 0. 0. 0. 0. 0. 0. 0. 0. 0. 0.]\n",
      " [0. 0. 0. 0. 0. 0. 0. 0. 0. 0. 1. 0. 0. 0. 0. 0. 0. 0. 0. 0.]\n",
      " [0. 0. 0. 0. 0. 0. 0. 0. 0. 0. 0. 1. 0. 0. 0. 0. 0. 0. 0. 0.]\n",
      " [0. 0. 0. 0. 0. 0. 0. 0. 0. 0. 0. 0. 1. 0. 0. 0. 0. 0. 0. 0.]\n",
      " [0. 0. 0. 0. 0. 0. 0. 0. 0. 0. 0. 0. 0. 1. 0. 0. 0. 0. 0. 0.]\n",
      " [0. 0. 0. 0. 0. 0. 0. 0. 0. 0. 0. 0. 0. 0. 1. 0. 0. 0. 0. 0.]\n",
      " [0. 0. 0. 0. 0. 0. 0. 0. 0. 0. 0. 0. 0. 0. 0. 1. 0. 0. 0. 0.]\n",
      " [0. 0. 0. 0. 0. 0. 0. 0. 0. 0. 0. 0. 0. 0. 0. 0. 1. 0. 0. 0.]\n",
      " [0. 0. 0. 0. 0. 0. 0. 0. 0. 0. 0. 0. 0. 0. 0. 0. 0. 1. 0. 0.]\n",
      " [0. 0. 0. 0. 0. 0. 0. 0. 0. 0. 0. 0. 0. 0. 0. 0. 0. 0. 1. 0.]\n",
      " [0. 0. 0. 0. 0. 0. 0. 0. 0. 0. 0. 0. 0. 0. 0. 0. 0. 0. 0. 1.]]\n"
     ]
    }
   ],
   "source": [
    "print(np.identity(20))"
   ]
  },
  {
   "cell_type": "code",
   "execution_count": 124,
   "id": "157e5cee",
   "metadata": {},
   "outputs": [
    {
     "name": "stdout",
     "output_type": "stream",
     "text": [
      "20.0\n"
     ]
    }
   ],
   "source": [
    "print(np.identity(20).trace())"
   ]
  },
  {
   "cell_type": "code",
   "execution_count": 125,
   "id": "f2e7674e",
   "metadata": {},
   "outputs": [
    {
     "name": "stdout",
     "output_type": "stream",
     "text": [
      "100.0\n"
     ]
    }
   ],
   "source": [
    "print(np.identity(100).trace())"
   ]
  },
  {
   "cell_type": "code",
   "execution_count": 126,
   "id": "4b59c0b2",
   "metadata": {},
   "outputs": [
    {
     "name": "stdout",
     "output_type": "stream",
     "text": [
      "[[1. 0. 0. 0. 0. 0. 0. 0. 0. 0. 0. 0. 0. 0. 0. 0. 0. 0. 0. 0.]\n",
      " [0. 1. 0. 0. 0. 0. 0. 0. 0. 0. 0. 0. 0. 0. 0. 0. 0. 0. 0. 0.]\n",
      " [0. 0. 1. 0. 0. 0. 0. 0. 0. 0. 0. 0. 0. 0. 0. 0. 0. 0. 0. 0.]\n",
      " [0. 0. 0. 1. 0. 0. 0. 0. 0. 0. 0. 0. 0. 0. 0. 0. 0. 0. 0. 0.]\n",
      " [0. 0. 0. 0. 1. 0. 0. 0. 0. 0. 0. 0. 0. 0. 0. 0. 0. 0. 0. 0.]\n",
      " [0. 0. 0. 0. 0. 1. 0. 0. 0. 0. 0. 0. 0. 0. 0. 0. 0. 0. 0. 0.]\n",
      " [0. 0. 0. 0. 0. 0. 1. 0. 0. 0. 0. 0. 0. 0. 0. 0. 0. 0. 0. 0.]\n",
      " [0. 0. 0. 0. 0. 0. 0. 1. 0. 0. 0. 0. 0. 0. 0. 0. 0. 0. 0. 0.]\n",
      " [0. 0. 0. 0. 0. 0. 0. 0. 1. 0. 0. 0. 0. 0. 0. 0. 0. 0. 0. 0.]\n",
      " [0. 0. 0. 0. 0. 0. 0. 0. 0. 1. 0. 0. 0. 0. 0. 0. 0. 0. 0. 0.]\n",
      " [0. 0. 0. 0. 0. 0. 0. 0. 0. 0. 1. 0. 0. 0. 0. 0. 0. 0. 0. 0.]\n",
      " [0. 0. 0. 0. 0. 0. 0. 0. 0. 0. 0. 1. 0. 0. 0. 0. 0. 0. 0. 0.]\n",
      " [0. 0. 0. 0. 0. 0. 0. 0. 0. 0. 0. 0. 1. 0. 0. 0. 0. 0. 0. 0.]\n",
      " [0. 0. 0. 0. 0. 0. 0. 0. 0. 0. 0. 0. 0. 1. 0. 0. 0. 0. 0. 0.]\n",
      " [0. 0. 0. 0. 0. 0. 0. 0. 0. 0. 0. 0. 0. 0. 1. 0. 0. 0. 0. 0.]\n",
      " [0. 0. 0. 0. 0. 0. 0. 0. 0. 0. 0. 0. 0. 0. 0. 1. 0. 0. 0. 0.]\n",
      " [0. 0. 0. 0. 0. 0. 0. 0. 0. 0. 0. 0. 0. 0. 0. 0. 1. 0. 0. 0.]\n",
      " [0. 0. 0. 0. 0. 0. 0. 0. 0. 0. 0. 0. 0. 0. 0. 0. 0. 1. 0. 0.]\n",
      " [0. 0. 0. 0. 0. 0. 0. 0. 0. 0. 0. 0. 0. 0. 0. 0. 0. 0. 1. 0.]\n",
      " [0. 0. 0. 0. 0. 0. 0. 0. 0. 0. 0. 0. 0. 0. 0. 0. 0. 0. 0. 1.]]\n"
     ]
    }
   ],
   "source": [
    "print(pow(np.identity(20),2))"
   ]
  },
  {
   "cell_type": "code",
   "execution_count": 127,
   "id": "6125aa11",
   "metadata": {},
   "outputs": [
    {
     "name": "stdout",
     "output_type": "stream",
     "text": [
      "[[1. 0. 0. 0. 0. 0. 0. 0. 0. 0. 0. 0. 0. 0. 0. 0. 0. 0. 0. 0.]\n",
      " [0. 1. 0. 0. 0. 0. 0. 0. 0. 0. 0. 0. 0. 0. 0. 0. 0. 0. 0. 0.]\n",
      " [0. 0. 1. 0. 0. 0. 0. 0. 0. 0. 0. 0. 0. 0. 0. 0. 0. 0. 0. 0.]\n",
      " [0. 0. 0. 1. 0. 0. 0. 0. 0. 0. 0. 0. 0. 0. 0. 0. 0. 0. 0. 0.]\n",
      " [0. 0. 0. 0. 1. 0. 0. 0. 0. 0. 0. 0. 0. 0. 0. 0. 0. 0. 0. 0.]\n",
      " [0. 0. 0. 0. 0. 1. 0. 0. 0. 0. 0. 0. 0. 0. 0. 0. 0. 0. 0. 0.]\n",
      " [0. 0. 0. 0. 0. 0. 1. 0. 0. 0. 0. 0. 0. 0. 0. 0. 0. 0. 0. 0.]\n",
      " [0. 0. 0. 0. 0. 0. 0. 1. 0. 0. 0. 0. 0. 0. 0. 0. 0. 0. 0. 0.]\n",
      " [0. 0. 0. 0. 0. 0. 0. 0. 1. 0. 0. 0. 0. 0. 0. 0. 0. 0. 0. 0.]\n",
      " [0. 0. 0. 0. 0. 0. 0. 0. 0. 1. 0. 0. 0. 0. 0. 0. 0. 0. 0. 0.]\n",
      " [0. 0. 0. 0. 0. 0. 0. 0. 0. 0. 1. 0. 0. 0. 0. 0. 0. 0. 0. 0.]\n",
      " [0. 0. 0. 0. 0. 0. 0. 0. 0. 0. 0. 1. 0. 0. 0. 0. 0. 0. 0. 0.]\n",
      " [0. 0. 0. 0. 0. 0. 0. 0. 0. 0. 0. 0. 1. 0. 0. 0. 0. 0. 0. 0.]\n",
      " [0. 0. 0. 0. 0. 0. 0. 0. 0. 0. 0. 0. 0. 1. 0. 0. 0. 0. 0. 0.]\n",
      " [0. 0. 0. 0. 0. 0. 0. 0. 0. 0. 0. 0. 0. 0. 1. 0. 0. 0. 0. 0.]\n",
      " [0. 0. 0. 0. 0. 0. 0. 0. 0. 0. 0. 0. 0. 0. 0. 1. 0. 0. 0. 0.]\n",
      " [0. 0. 0. 0. 0. 0. 0. 0. 0. 0. 0. 0. 0. 0. 0. 0. 1. 0. 0. 0.]\n",
      " [0. 0. 0. 0. 0. 0. 0. 0. 0. 0. 0. 0. 0. 0. 0. 0. 0. 1. 0. 0.]\n",
      " [0. 0. 0. 0. 0. 0. 0. 0. 0. 0. 0. 0. 0. 0. 0. 0. 0. 0. 1. 0.]\n",
      " [0. 0. 0. 0. 0. 0. 0. 0. 0. 0. 0. 0. 0. 0. 0. 0. 0. 0. 0. 1.]]\n"
     ]
    }
   ],
   "source": [
    "print(np.identity(20)**100)"
   ]
  },
  {
   "cell_type": "code",
   "execution_count": 128,
   "id": "82618481",
   "metadata": {},
   "outputs": [
    {
     "name": "stdout",
     "output_type": "stream",
     "text": [
      "[[1. 0.]\n",
      " [0. 1.]]\n"
     ]
    }
   ],
   "source": [
    "print(np.identity(2))"
   ]
  },
  {
   "cell_type": "code",
   "execution_count": 129,
   "id": "e24e75d7",
   "metadata": {},
   "outputs": [
    {
     "name": "stdout",
     "output_type": "stream",
     "text": [
      "[1 1 1 1 1 1 1 1 1 1 2 2 2 2 2 2 2 2 2 2 3 3 3 3 3 3 3 3 3 3]\n"
     ]
    }
   ],
   "source": [
    "# Repeat an array\n",
    "a = np.array([1,2,3])\n",
    "print(np.repeat(a,10,0)) \n",
    "# 0 is default value for the axis where set of axis = {-1,0,1} "
   ]
  },
  {
   "cell_type": "code",
   "execution_count": 130,
   "id": "ea5328c3",
   "metadata": {},
   "outputs": [
    {
     "name": "stdout",
     "output_type": "stream",
     "text": [
      "[[99. 99.]\n",
      " [99. 99.]]\n",
      "\n",
      "\n",
      "[[99. 99.]\n",
      " [99. 99.]\n",
      " [99. 99.]\n",
      " [99. 99.]\n",
      " [99. 99.]\n",
      " [99. 99.]\n",
      " [99. 99.]\n",
      " [99. 99.]\n",
      " [99. 99.]\n",
      " [99. 99.]\n",
      " [99. 99.]\n",
      " [99. 99.]\n",
      " [99. 99.]\n",
      " [99. 99.]]\n"
     ]
    }
   ],
   "source": [
    "# np.repeat(matrix,#repetition,axis) : it displays that has the repetition.\n",
    "print(x)\n",
    "print(\"\\n\")\n",
    "print(np.repeat(x,7,0))"
   ]
  },
  {
   "cell_type": "code",
   "execution_count": 131,
   "id": "75e3ef7f",
   "metadata": {},
   "outputs": [
    {
     "name": "stdout",
     "output_type": "stream",
     "text": [
      "[[1. 1. 1. 1. 1.]\n",
      " [1. 1. 1. 1. 1.]\n",
      " [1. 1. 1. 1. 1.]\n",
      " [1. 1. 1. 1. 1.]\n",
      " [1. 1. 1. 1. 1.]]\n"
     ]
    }
   ],
   "source": [
    "table = np.ones((5,5))\n",
    "print(table)"
   ]
  },
  {
   "cell_type": "code",
   "execution_count": 132,
   "id": "1e7bd164",
   "metadata": {},
   "outputs": [
    {
     "name": "stdout",
     "output_type": "stream",
     "text": [
      "[[0. 0. 0.]\n",
      " [0. 9. 0.]\n",
      " [0. 0. 0.]]\n"
     ]
    }
   ],
   "source": [
    "z = np.zeros((3,3))\n",
    "z[1,1] = 9\n",
    "print(z)"
   ]
  },
  {
   "cell_type": "code",
   "execution_count": 133,
   "id": "aad8cdcd",
   "metadata": {},
   "outputs": [
    {
     "name": "stdout",
     "output_type": "stream",
     "text": [
      "[[1. 1. 1. 1. 1.]\n",
      " [1. 0. 0. 0. 1.]\n",
      " [1. 0. 9. 0. 1.]\n",
      " [1. 0. 0. 0. 1.]\n",
      " [1. 1. 1. 1. 1.]]\n"
     ]
    }
   ],
   "source": [
    "table[1:4,1:4] = z\n",
    "print(table)"
   ]
  },
  {
   "cell_type": "code",
   "execution_count": 134,
   "id": "cb53f87b",
   "metadata": {},
   "outputs": [
    {
     "name": "stdout",
     "output_type": "stream",
     "text": [
      "[[1. 1. 1. 1. 1. 1. 1. 1. 1. 1.]\n",
      " [1. 1. 0. 0. 0. 0. 0. 0. 0. 1.]\n",
      " [1. 0. 1. 0. 0. 0. 0. 0. 0. 1.]\n",
      " [1. 0. 0. 1. 0. 0. 0. 0. 0. 1.]\n",
      " [1. 0. 0. 0. 1. 0. 0. 0. 0. 1.]\n",
      " [1. 0. 0. 0. 0. 2. 0. 0. 0. 1.]\n",
      " [1. 0. 0. 0. 0. 0. 1. 0. 0. 1.]\n",
      " [1. 0. 0. 0. 0. 0. 0. 1. 0. 1.]\n",
      " [1. 0. 0. 0. 0. 0. 0. 0. 1. 1.]\n",
      " [1. 1. 1. 1. 1. 1. 1. 1. 1. 1.]]\n",
      "\n",
      "\n",
      "[[1. 1. 1. 1. 1. 1. 1. 1. 1. 1.]\n",
      " [1. 1. 0. 0. 0. 0. 0. 0. 0. 1.]\n",
      " [1. 0. 1. 0. 0. 0. 0. 0. 0. 1.]\n",
      " [1. 0. 0. 1. 0. 0. 0. 0. 0. 1.]\n",
      " [1. 0. 0. 0. 1. 0. 0. 0. 0. 1.]\n",
      " [1. 0. 0. 0. 0. 2. 0. 0. 0. 1.]\n",
      " [1. 0. 0. 0. 0. 0. 1. 0. 0. 1.]\n",
      " [1. 0. 0. 0. 0. 0. 0. 1. 0. 1.]\n",
      " [1. 0. 0. 0. 0. 0. 0. 0. 1. 1.]\n",
      " [1. 1. 1. 1. 1. 1. 1. 1. 1. 1.]]\n",
      "\n",
      "\n",
      "0.0\n"
     ]
    }
   ],
   "source": [
    "w = np.identity(4)\n",
    "v = np.identity(3)\n",
    "x = np.ones((10,10))\n",
    "y = np.zeros((8,8))\n",
    "y[4,4] = 2\n",
    "x[1:9,1:9] = y\n",
    "x[1:5,1:5] = w\n",
    "x[6:9,6:9] = v \n",
    "print(x)\n",
    "print('\\n')\n",
    "print(x.T)\n",
    "print('\\n')\n",
    "print(np.linalg.det(x))"
   ]
  },
  {
   "cell_type": "markdown",
   "id": "ddcb15d4",
   "metadata": {},
   "source": [
    "### f.) Copying matrix"
   ]
  },
  {
   "cell_type": "code",
   "execution_count": 135,
   "id": "f41f4032",
   "metadata": {},
   "outputs": [
    {
     "name": "stdout",
     "output_type": "stream",
     "text": [
      "[100   2   3]\n"
     ]
    }
   ],
   "source": [
    "a = np.array([1,2,3])\n",
    "b = a\n",
    "b[0] = 100\n",
    "print(a)"
   ]
  },
  {
   "cell_type": "code",
   "execution_count": 136,
   "id": "3f4ade48",
   "metadata": {},
   "outputs": [
    {
     "name": "stdout",
     "output_type": "stream",
     "text": [
      "[99  2  3]\n"
     ]
    }
   ],
   "source": [
    "b = a.copy()\n",
    "b[0] = 99\n",
    "print(b)"
   ]
  },
  {
   "cell_type": "code",
   "execution_count": 137,
   "id": "ed7434b6",
   "metadata": {},
   "outputs": [
    {
     "name": "stdout",
     "output_type": "stream",
     "text": [
      "[[1 2 3]\n",
      " [9 8 7]\n",
      " [0 7 6]]\n",
      "\n",
      "\n",
      "[99  2  3]\n"
     ]
    }
   ],
   "source": [
    "c = np.matrix([[1,2,3],[9,8,7],[0,7,6]])\n",
    "print(c)\n",
    "print(\"\\n\")\n",
    "c = b.copy()\n",
    "print(c)"
   ]
  },
  {
   "cell_type": "markdown",
   "id": "b6fd3493",
   "metadata": {},
   "source": [
    "### IV.) Mathematics"
   ]
  },
  {
   "cell_type": "code",
   "execution_count": 138,
   "id": "fcb342ef",
   "metadata": {},
   "outputs": [
    {
     "name": "stdout",
     "output_type": "stream",
     "text": [
      "[3 4 5 6]\n"
     ]
    }
   ],
   "source": [
    "y = np.array([3,4,5,6])\n",
    "print(y)"
   ]
  },
  {
   "cell_type": "code",
   "execution_count": 139,
   "id": "bbd63a2c",
   "metadata": {},
   "outputs": [
    {
     "name": "stdout",
     "output_type": "stream",
     "text": [
      "[5 6 7 8]\n"
     ]
    }
   ],
   "source": [
    "y= y+2\n",
    "print(y)"
   ]
  },
  {
   "cell_type": "code",
   "execution_count": 140,
   "id": "58c82019",
   "metadata": {},
   "outputs": [
    {
     "name": "stdout",
     "output_type": "stream",
     "text": [
      "[-9 -8 -7 -6]\n"
     ]
    }
   ],
   "source": [
    "m = y-14\n",
    "print(m)"
   ]
  },
  {
   "cell_type": "code",
   "execution_count": 141,
   "id": "6c3f33ed",
   "metadata": {},
   "outputs": [
    {
     "name": "stdout",
     "output_type": "stream",
     "text": [
      "[10 12 14 16]\n"
     ]
    }
   ],
   "source": [
    "w = y*2\n",
    "print(w)"
   ]
  },
  {
   "cell_type": "code",
   "execution_count": 142,
   "id": "44f2b762",
   "metadata": {},
   "outputs": [
    {
     "name": "stdout",
     "output_type": "stream",
     "text": [
      "[2.5 3.  3.5 4. ]\n"
     ]
    }
   ],
   "source": [
    "x = y/2\n",
    "print(x)"
   ]
  },
  {
   "cell_type": "code",
   "execution_count": 143,
   "id": "a12490ec",
   "metadata": {},
   "outputs": [
    {
     "name": "stdout",
     "output_type": "stream",
     "text": [
      "[[0.         3.14159265 2.0943951  1.04719755 0.78539816 0.52359878]]\n",
      "[[ 1.57079633 -1.57079633 -0.52359878  0.52359878  0.78539816  1.04719755]]\n",
      "[[ 0.78539816 -0.78539816 -0.46364761  0.46364761  0.61547971  0.71372438]]\n",
      "[[ 1.27323954 -1.27323954 -2.15681043  2.15681043  1.62474893  1.40110108]]\n"
     ]
    }
   ],
   "source": [
    "from math import sqrt\n",
    "a = np.matrix([1,-1,-1/2,1/2,sqrt(2)/2,sqrt(3)/2])\n",
    "print(np.arccos(a))\n",
    "print(np.arcsin(a))\n",
    "print(np.arctan(a))\n",
    "print(1/np.arctan(a))"
   ]
  },
  {
   "cell_type": "markdown",
   "id": "bd6f66b0",
   "metadata": {},
   "source": [
    "# V.) Linear Algebra"
   ]
  },
  {
   "cell_type": "markdown",
   "id": "3dc9fc59",
   "metadata": {},
   "source": [
    "### a.) Matrix multiplication"
   ]
  },
  {
   "cell_type": "code",
   "execution_count": 144,
   "id": "faa0e80c",
   "metadata": {},
   "outputs": [
    {
     "name": "stdout",
     "output_type": "stream",
     "text": [
      "[[1. 1. 1.]\n",
      " [1. 1. 1.]]\n"
     ]
    }
   ],
   "source": [
    "a = np.ones((2,3))\n",
    "print(a)"
   ]
  },
  {
   "cell_type": "code",
   "execution_count": 145,
   "id": "6639c864",
   "metadata": {},
   "outputs": [
    {
     "name": "stdout",
     "output_type": "stream",
     "text": [
      "[[2 2]\n",
      " [2 2]\n",
      " [2 2]]\n"
     ]
    }
   ],
   "source": [
    "b = np.full((3,2),2)\n",
    "print(b)"
   ]
  },
  {
   "cell_type": "code",
   "execution_count": 146,
   "id": "a7af3583",
   "metadata": {},
   "outputs": [
    {
     "name": "stdout",
     "output_type": "stream",
     "text": [
      "[[6. 6.]\n",
      " [6. 6.]]\n"
     ]
    }
   ],
   "source": [
    "result = np.matmul(a,b)\n",
    "print(result)"
   ]
  },
  {
   "cell_type": "code",
   "execution_count": 149,
   "id": "ba85ee46",
   "metadata": {},
   "outputs": [
    {
     "name": "stdout",
     "output_type": "stream",
     "text": [
      "[[ 1  2  3  4  5  6  7  8  9 10  1  2  3  4  5]\n",
      " [ 4  1  5  5  6  0 -4 -2 -1  6  6  7  8  9  0]\n",
      " [ 1  8  0  7  8  9 -2 -1  3 -4 -8 -1  2  3  4]\n",
      " [ 2  4  5  6  4  3  8  9  0  7  2  3  4  5  6]\n",
      " [ 3  8  9  0  4  3  5  6  7  8  0  0  1  2  3]\n",
      " [ 1  2  3  4  5  6  7  2  3  4  5  6  8  9  0]\n",
      " [ 4  6  3  2  1 -9 -7  0  6  4  0  0  1 -2  3]\n",
      " [ 1  4  5  6  7  5  4  3  2  1  1  2  0  0  4]\n",
      " [ 1  2  3  4  5  6  7  8  9  0  9  9  5  4  8]\n",
      " [ 2  3  4  5  6  7  8  9  0  1  2  4  3  4  5]\n",
      " [ 0  0  7  0  5  4  3  9  0  1  0  0  8 -9 -2]\n",
      " [ 1  2  3  4  5  6  7  8  9  0  0  9  8  4  3]\n",
      " [ 1  2  3  4  5  6  7  8  9  0  9  7  5  4  3]\n",
      " [ 1  2  3  4  6 -9 -8 -6 -3 -1  2  3  5  6  7]\n",
      " [ 0  0  2  1  3  4  5  6  7  8  6  5  4  9  6]] \n",
      "\n",
      "[[ 1  2  3  4  5  6  7  8  9 10  1  2  3  4  5]] \n",
      "\n",
      "[[440]\n",
      " [158]\n",
      " [132]\n",
      " [355]\n",
      " [336]\n",
      " [300]\n",
      " [ 39]\n",
      " [218]\n",
      " [383]\n",
      " [310]\n",
      " [151]\n",
      " [358]\n",
      " [354]\n",
      " [-53]\n",
      " [369]]\n"
     ]
    }
   ],
   "source": [
    "c = np.array([[1,2,3,4,5,6,7,8,9,10,1,2,3,4,5],[4,1,5,5,6,0,-4,-2,-1,6,6,7,8,9,0],[1,8,0,7,8,9,-2,-1,3,-4,-8,-1,2,3,4],\n",
    "              [2,4,5,6,4,3,8,9,0,7,2,3,4,5,6],[3,8,9,0,4,3,5,6,7,8,0,0,1,2,3],[1,2,3,4,5,6,7,2,3,4,5,6,8,9,0],\n",
    "              [4,6,3,2,1,-9,-7,0,6,4,0,0,1,-2,3],[1,4,5,6,7,5,4,3,2,1,1,2,0,0,4],[1,2,3,4,5,6,7,8,9,0,9,9,5,4,8],\n",
    "              [2,3,4,5,6,7,8,9,0,1,2,4,3,4,5],[0,0,7,0,5,4,3,9,0,1,0,0,8,-9,-2],[1,2,3,4,5,6,7,8,9,0,0,9,8,4,3],\n",
    "              [1,2,3,4,5,6,7,8,9,0,9,7,5,4,3],[1,2,3,4,6,-9,-8,-6,-3,-1,2,3,5,6,7],[0,0,2,1,3,4,5,6,7,8,6,5,4,9,6]])\n",
    "d = np.array([[1,2,3,4,5,6,7,8,9,10,1,2,3,4,5]])\n",
    "result = np.matmul(c,d.T)\n",
    "print(c,\"\\n\")\n",
    "print(d,\"\\n\")\n",
    "print(result)"
   ]
  },
  {
   "cell_type": "code",
   "execution_count": 150,
   "id": "0c98f274",
   "metadata": {},
   "outputs": [
    {
     "name": "stdout",
     "output_type": "stream",
     "text": [
      "[[440 158]\n",
      " [158 390]\n",
      " [132  66]\n",
      " [355 193]\n",
      " [336 124]\n",
      " [300 277]\n",
      " [ 39  89]\n",
      " [218 107]\n",
      " [383 211]\n",
      " [310 148]\n",
      " [151  24]\n",
      " [358 181]\n",
      " [354 197]\n",
      " [-53 245]\n",
      " [369 226]]\n"
     ]
    }
   ],
   "source": [
    "e = np.array([[1,2,3,4,5,6,7,8,9,10,1,2,3,4,5],[4,1,5,5,6,0,-4,-2,-1,6,6,7,8,9,0]])\n",
    "result = np.matmul(c,e.transpose())\n",
    "print(result)"
   ]
  },
  {
   "cell_type": "code",
   "execution_count": 151,
   "id": "443b8d5c",
   "metadata": {},
   "outputs": [
    {
     "name": "stdout",
     "output_type": "stream",
     "text": [
      "[[440 300  39 158]\n",
      " [158 277  89 390]\n",
      " [132 113  17  66]\n",
      " [355 294  20 193]\n",
      " [336 210 109 124]\n",
      " [300 375 -41 277]\n",
      " [ 39 -41 262  89]\n",
      " [218 174  17 107]\n",
      " [383 358  10 211]\n",
      " [310 284 -51 148]\n",
      " [151  96  -7  24]\n",
      " [358 337  -2 181]\n",
      " [354 346  -5 197]\n",
      " [-53  47 168 245]\n",
      " [369 322  18 226]]\n"
     ]
    }
   ],
   "source": [
    "g = np.array([[1,2,3,4,5,6,7,8,9,10,1,2,3,4,5],\n",
    "              [1,2,3,4,5,6,7,2,3,4,5,6,8,9,0],\n",
    "              [4,6,3,2,1,-9,-7,0,6,4,0,0,1,-2,3],\n",
    "              [4,1,5,5,6,0,-4,-2,-1,6,6,7,8,9,0]])\n",
    "result = np.matmul(c,g.transpose())\n",
    "print(result)"
   ]
  },
  {
   "cell_type": "code",
   "execution_count": 152,
   "id": "94893248",
   "metadata": {},
   "outputs": [
    {
     "name": "stdout",
     "output_type": "stream",
     "text": [
      "[[440 300  39 158 151 358]\n",
      " [158 277  89 390  24 181]\n",
      " [132 113  17  66  38 175]\n",
      " [355 294  20 193 154 312]\n",
      " [336 210 109 124 156 255]\n",
      " [300 375 -41 277  96 337]\n",
      " [ 39 -41 262  89  -7  -2]\n",
      " [218 174  17 107 122 213]\n",
      " [383 358  10 211 151 446]\n",
      " [310 284 -51 148 170 331]\n",
      " [151  96  -7  24 330 185]\n",
      " [358 337  -2 181 185 455]\n",
      " [354 346  -5 197 161 413]\n",
      " [-53  47 168 245 -92 -13]\n",
      " [369 322  18 226  61 326]]\n"
     ]
    }
   ],
   "source": [
    "h = np.array([[1,2,3,4,5,6,7,8,9,10,1,2,3,4,5],[1,2,3,4,5,6,7,2,3,4,5,6,8,9,0],[4,6,3,2,1,-9,-7,0,6,4,0,0,1,-2,3],\n",
    "              [4,1,5,5,6,0,-4,-2,-1,6,6,7,8,9,0],[0,0,7,0,5,4,3,9,0,1,0,0,8,-9,-2],[1,2,3,4,5,6,7,8,9,0,0,9,8,4,3]])\n",
    "result = np.matmul(c,h.transpose())\n",
    "print(result)"
   ]
  },
  {
   "cell_type": "markdown",
   "id": "693661e0",
   "metadata": {},
   "source": [
    "### b.) Statistic "
   ]
  },
  {
   "cell_type": "code",
   "execution_count": 158,
   "id": "ff7ba202",
   "metadata": {},
   "outputs": [
    {
     "name": "stdout",
     "output_type": "stream",
     "text": [
      "[[1 2 3]\n",
      " [4 5 6]\n",
      " [7 8 9]]\n"
     ]
    }
   ],
   "source": [
    "a = np.matrix([[1,2,3],[4,5,6],[7,8,9]])\n",
    "print(a)"
   ]
  },
  {
   "cell_type": "code",
   "execution_count": 159,
   "id": "8806689d",
   "metadata": {},
   "outputs": [
    {
     "name": "stdout",
     "output_type": "stream",
     "text": [
      "1\n",
      "4\n",
      "7\n"
     ]
    }
   ],
   "source": [
    "print(np.min(a[0,:])) # show minimum value at zero(th) row and any column\n",
    "print(np.min(a[1,:]))\n",
    "print(np.min(a[2,:]))"
   ]
  },
  {
   "cell_type": "code",
   "execution_count": 160,
   "id": "cbb2319c",
   "metadata": {},
   "outputs": [
    {
     "name": "stdout",
     "output_type": "stream",
     "text": [
      "1\n",
      "2\n",
      "3\n"
     ]
    }
   ],
   "source": [
    "print(np.min(a[:,0]))\n",
    "print(np.min(a[:,1]))\n",
    "print(np.min(a[:,2]))"
   ]
  },
  {
   "cell_type": "code",
   "execution_count": 161,
   "id": "b297590c",
   "metadata": {},
   "outputs": [
    {
     "name": "stdout",
     "output_type": "stream",
     "text": [
      "1\n",
      "9\n",
      "5.0\n"
     ]
    }
   ],
   "source": [
    "print(np.min(a))\n",
    "print(np.max(a))\n",
    "print(np.average(a))"
   ]
  },
  {
   "cell_type": "code",
   "execution_count": 162,
   "id": "e2ff5a7a",
   "metadata": {},
   "outputs": [
    {
     "name": "stdout",
     "output_type": "stream",
     "text": [
      "[[1 2 3]\n",
      " [4 5 6]\n",
      " [7 8 9]]\n"
     ]
    }
   ],
   "source": [
    "print(a)"
   ]
  },
  {
   "cell_type": "code",
   "execution_count": 163,
   "id": "f4f5275a",
   "metadata": {},
   "outputs": [
    {
     "name": "stdout",
     "output_type": "stream",
     "text": [
      "[[1]\n",
      " [4]\n",
      " [7]]\n"
     ]
    }
   ],
   "source": [
    "print(np.min(a,axis=-1))"
   ]
  },
  {
   "cell_type": "code",
   "execution_count": 164,
   "id": "6c173a6c",
   "metadata": {},
   "outputs": [
    {
     "name": "stdout",
     "output_type": "stream",
     "text": [
      "[[1 2 3]]\n"
     ]
    }
   ],
   "source": [
    "print(np.min(a,axis=0))"
   ]
  },
  {
   "cell_type": "code",
   "execution_count": 165,
   "id": "8521223d",
   "metadata": {},
   "outputs": [
    {
     "name": "stdout",
     "output_type": "stream",
     "text": [
      "[[1]\n",
      " [4]\n",
      " [7]]\n"
     ]
    }
   ],
   "source": [
    "print(np.min(a,axis=1))"
   ]
  },
  {
   "cell_type": "code",
   "execution_count": 166,
   "id": "e9ef72d3",
   "metadata": {},
   "outputs": [
    {
     "name": "stdout",
     "output_type": "stream",
     "text": [
      "[[7 8 9]]\n"
     ]
    }
   ],
   "source": [
    "print(np.max(a,axis=0))"
   ]
  },
  {
   "cell_type": "code",
   "execution_count": 167,
   "id": "708e441b",
   "metadata": {},
   "outputs": [
    {
     "name": "stdout",
     "output_type": "stream",
     "text": [
      "[[4. 5. 6.]]\n"
     ]
    }
   ],
   "source": [
    "print(np.average(a,axis=0))"
   ]
  },
  {
   "cell_type": "code",
   "execution_count": 168,
   "id": "9e54e8a7",
   "metadata": {},
   "outputs": [
    {
     "name": "stdout",
     "output_type": "stream",
     "text": [
      "[[2.]\n",
      " [5.]\n",
      " [8.]]\n"
     ]
    }
   ],
   "source": [
    "print(np.average(a,axis=1))"
   ]
  },
  {
   "cell_type": "code",
   "execution_count": 169,
   "id": "ff52b4bd",
   "metadata": {},
   "outputs": [
    {
     "name": "stdout",
     "output_type": "stream",
     "text": [
      "sum all element in a =  45\n"
     ]
    }
   ],
   "source": [
    "Sum = np.sum(a)\n",
    "print(\"sum all element in a = \",Sum)"
   ]
  },
  {
   "cell_type": "code",
   "execution_count": 170,
   "id": "4034a6c4",
   "metadata": {},
   "outputs": [
    {
     "name": "stdout",
     "output_type": "stream",
     "text": [
      "[[12 15 18]]\n"
     ]
    }
   ],
   "source": [
    "S = np.sum(a,axis=0)\n",
    "print(S) # show the total value for each column"
   ]
  },
  {
   "cell_type": "markdown",
   "id": "890fd942",
   "metadata": {},
   "source": [
    "### c.) Reorganizing array"
   ]
  },
  {
   "cell_type": "code",
   "execution_count": 171,
   "id": "ba6dbcf7",
   "metadata": {},
   "outputs": [
    {
     "name": "stdout",
     "output_type": "stream",
     "text": [
      "[[1 2 3 4]\n",
      " [5 6 7 8]]\n"
     ]
    }
   ],
   "source": [
    "a1 = np.matrix([[1,2,3,4],[5,6,7,8]])\n",
    "print(a1)"
   ]
  },
  {
   "cell_type": "code",
   "execution_count": 172,
   "id": "47a8cb72",
   "metadata": {},
   "outputs": [
    {
     "name": "stdout",
     "output_type": "stream",
     "text": [
      "[[1]\n",
      " [2]\n",
      " [3]\n",
      " [4]\n",
      " [5]\n",
      " [6]\n",
      " [7]\n",
      " [8]]\n"
     ]
    }
   ],
   "source": [
    "a2 = a1.reshape((8,1))\n",
    "print(a2)"
   ]
  },
  {
   "cell_type": "code",
   "execution_count": 173,
   "id": "521975ed",
   "metadata": {},
   "outputs": [
    {
     "name": "stdout",
     "output_type": "stream",
     "text": [
      "[[1 2]\n",
      " [3 4]\n",
      " [5 6]\n",
      " [7 8]]\n"
     ]
    }
   ],
   "source": [
    "a3 = a1.reshape((4,2))\n",
    "print(a3)"
   ]
  },
  {
   "cell_type": "code",
   "execution_count": 174,
   "id": "8ef74d61",
   "metadata": {},
   "outputs": [
    {
     "name": "stdout",
     "output_type": "stream",
     "text": [
      "[[1 2 3 4 5 6 7 8]]\n"
     ]
    }
   ],
   "source": [
    "a4 = a1.reshape((1,8))\n",
    "print(a4)"
   ]
  },
  {
   "cell_type": "code",
   "execution_count": 175,
   "id": "3551e1f3",
   "metadata": {},
   "outputs": [
    {
     "name": "stdout",
     "output_type": "stream",
     "text": [
      "vertical stack\n",
      "[[1 2 3 4]\n",
      " [5 6 7 8]]\n"
     ]
    }
   ],
   "source": [
    "# vertically Stacking Vectors(Combine together)\n",
    "print(\"vertical stack\")\n",
    "v1 = np.matrix([1,2,3,4])\n",
    "v2 = np.matrix([5,6,7,8])\n",
    "x = np.vstack([v1,v2])\n",
    "print(x)"
   ]
  },
  {
   "cell_type": "code",
   "execution_count": 176,
   "id": "e81655d2",
   "metadata": {},
   "outputs": [
    {
     "name": "stdout",
     "output_type": "stream",
     "text": [
      "[[1 2 3 4]\n",
      " [5 6 7 8]\n",
      " [1 2 3 4]\n",
      " [5 6 7 8]]\n"
     ]
    }
   ],
   "source": [
    "y = np.stack([v1,v2,v1,v2])\n",
    "print(y)"
   ]
  },
  {
   "cell_type": "code",
   "execution_count": 177,
   "id": "2aaf2cea",
   "metadata": {},
   "outputs": [
    {
     "name": "stdout",
     "output_type": "stream",
     "text": [
      "Horizontal Stack\n",
      "[[1. 1. 1. 1.]\n",
      " [1. 1. 1. 1.]]\n"
     ]
    }
   ],
   "source": [
    "# Horizontal Stack\n",
    "print('Horizontal Stack')\n",
    "h1 = np.ones((2,4))\n",
    "print(h1)"
   ]
  },
  {
   "cell_type": "code",
   "execution_count": 178,
   "id": "eb5edcfd",
   "metadata": {},
   "outputs": [
    {
     "name": "stdout",
     "output_type": "stream",
     "text": [
      "[[0. 0.]\n",
      " [0. 0.]]\n"
     ]
    }
   ],
   "source": [
    "h2 = np.zeros((2,2))\n",
    "print(h2)"
   ]
  },
  {
   "cell_type": "code",
   "execution_count": 179,
   "id": "7520142d",
   "metadata": {},
   "outputs": [
    {
     "name": "stdout",
     "output_type": "stream",
     "text": [
      "[[1. 1. 1. 1. 0. 0.]\n",
      " [1. 1. 1. 1. 0. 0.]]\n"
     ]
    }
   ],
   "source": [
    "# After horizontal stack\n",
    "print(np.hstack((h1,h2)))"
   ]
  },
  {
   "cell_type": "markdown",
   "id": "7275d87d",
   "metadata": {},
   "source": [
    "### e.) Boolean masking and advanced indexing"
   ]
  },
  {
   "cell_type": "code",
   "execution_count": 180,
   "id": "c6843de8",
   "metadata": {},
   "outputs": [
    {
     "name": "stdout",
     "output_type": "stream",
     "text": [
      "[[100 100 100 100 100 100 100 100 100 100]\n",
      " [200   0   0   0   0   0   0   0   0 400]\n",
      " [200   8  -6   7   8   9  -2  -1   3 400]\n",
      " [200   4  -6   6   4   3   8   9   0 400]\n",
      " [200   8  -6   0   4   3   5   6   7 400]\n",
      " [200   2  -6   4   5   6   7   8   9 400]\n",
      " [200   6  -6   2   1  -9  -7   0   6 400]\n",
      " [200   4  -6   6   7   5   4   3   2 400]\n",
      " [200   2  -6   4   5   6   7   8   9 400]\n",
      " [100 100 100 100 100 100 100 100 100 100]]\n"
     ]
    }
   ],
   "source": [
    "print(k)"
   ]
  },
  {
   "cell_type": "code",
   "execution_count": 181,
   "id": "b8aa0699",
   "metadata": {},
   "outputs": [
    {
     "name": "stdout",
     "output_type": "stream",
     "text": [
      "[ 0  0  0  0  0  0  0  0  8 -6  7  8  9 -2 -1  3  4 -6  6  4  3  8  9  0\n",
      "  8 -6  0  4  3  5  6  7  2 -6  4  5  6  7  8  9  6 -6  2  1 -9 -7  0  6\n",
      "  4 -6  6  7  5  4  3  2  2 -6  4  5  6  7  8  9]\n"
     ]
    }
   ],
   "source": [
    "a = k[k<10]\n",
    "print(a)"
   ]
  },
  {
   "cell_type": "code",
   "execution_count": 182,
   "id": "a0f494f2",
   "metadata": {},
   "outputs": [
    {
     "name": "stdout",
     "output_type": "stream",
     "text": [
      "[200 400 200 400 200 400 200 400 200 400 200 400 200 400 200 400]\n"
     ]
    }
   ],
   "source": [
    "print(k[k>100])"
   ]
  },
  {
   "cell_type": "code",
   "execution_count": 183,
   "id": "5f064df0",
   "metadata": {},
   "outputs": [
    {
     "name": "stdout",
     "output_type": "stream",
     "text": [
      "[400 400 400 400 400 400 400 400]\n"
     ]
    }
   ],
   "source": [
    "print(k[k>200])"
   ]
  },
  {
   "cell_type": "code",
   "execution_count": 184,
   "id": "00a0cfe3",
   "metadata": {},
   "outputs": [
    {
     "name": "stdout",
     "output_type": "stream",
     "text": [
      "[  1.   2.   3.   4.   5.   6.   7.   8.   9.  10.  11.  12.  13.  14.\n",
      "  15.  16.  17.  18.  19.  20.  21.  22.  23.  24.  25.  26.  27.  28.\n",
      "  29.  30.  31.  32.  33.  34.  35.  36.  37.  38.  38.  40.  78.  90.\n",
      "   9.  87.  56.  78.  99. 900. 987. 865. 453. 100.]\n"
     ]
    }
   ],
   "source": [
    "# load data from file\n",
    "file = np.genfromtxt('data2.txt',delimiter=',')\n",
    "file.astype('int32')\n",
    "print(file)"
   ]
  },
  {
   "cell_type": "code",
   "execution_count": 185,
   "id": "1f92f36f",
   "metadata": {},
   "outputs": [
    {
     "name": "stdout",
     "output_type": "stream",
     "text": [
      "[False False False False False False False False False False False False\n",
      " False False False False False False False False False False False False\n",
      " False False False False False False False False False False False False\n",
      " False False False False  True  True False  True  True  True  True  True\n",
      "  True  True  True  True]\n"
     ]
    }
   ],
   "source": [
    "print(file>50)"
   ]
  },
  {
   "cell_type": "code",
   "execution_count": 186,
   "id": "59cd66e5",
   "metadata": {},
   "outputs": [
    {
     "name": "stdout",
     "output_type": "stream",
     "text": [
      "[ True  True  True  True  True  True  True  True  True  True  True  True\n",
      "  True  True  True  True  True  True  True  True  True  True  True  True\n",
      "  True  True  True  True  True  True  True  True  True  True  True  True\n",
      "  True  True  True  True False False  True False False False False False\n",
      " False False False False]\n"
     ]
    }
   ],
   "source": [
    "# test condition whether it is true or false with value < 59\n",
    "print(file<50)"
   ]
  },
  {
   "cell_type": "code",
   "execution_count": 187,
   "id": "24ddc546",
   "metadata": {},
   "outputs": [
    {
     "name": "stdout",
     "output_type": "stream",
     "text": [
      "[1. 2. 3. 4. 5. 6. 7. 8. 9. 9.]\n"
     ]
    }
   ],
   "source": [
    "# Show the elements that are smaller than 10\n",
    "print(file[file<10])"
   ]
  },
  {
   "cell_type": "code",
   "execution_count": 188,
   "id": "a80459e0",
   "metadata": {},
   "outputs": [
    {
     "name": "stdout",
     "output_type": "stream",
     "text": [
      "[ 1.  2.  3.  4.  5.  6.  7.  8.  9. 10. 11. 12. 13. 14. 15. 16. 17. 18.\n",
      " 19. 20. 21. 22. 23. 24. 25. 26. 27. 28. 29. 30. 31. 32. 33. 34. 35. 36.\n",
      " 37. 38. 38. 40.  9.]\n"
     ]
    }
   ],
   "source": [
    "# show the element that are smaller than 50.\n",
    "print(file[file<50])"
   ]
  },
  {
   "cell_type": "code",
   "execution_count": 189,
   "id": "27e17b1b",
   "metadata": {},
   "outputs": [
    {
     "name": "stdout",
     "output_type": "stream",
     "text": [
      "[900. 987. 865. 453.]\n"
     ]
    }
   ],
   "source": [
    "print(file[file>100])"
   ]
  },
  {
   "cell_type": "code",
   "execution_count": 190,
   "id": "d0242341",
   "metadata": {},
   "outputs": [
    {
     "name": "stdout",
     "output_type": "stream",
     "text": [
      "False\n"
     ]
    }
   ],
   "source": [
    "x = np.all(file>50,axis=0)\n",
    "print(x)"
   ]
  },
  {
   "cell_type": "code",
   "execution_count": 191,
   "id": "10feabbc",
   "metadata": {},
   "outputs": [
    {
     "name": "stdout",
     "output_type": "stream",
     "text": [
      "[ True  True  True  True  True  True  True  True  True  True  True  True\n",
      "  True  True  True  True  True  True  True  True  True  True  True  True\n",
      "  True  True  True  True  True  True  True  True  True  True  True  True\n",
      "  True  True  True  True False False  True False False False False False\n",
      " False False False False]\n"
     ]
    }
   ],
   "source": [
    "# Show the reality of element that are neither larger than 50 and less than 100. \n",
    "y = (~(file>50)&(file<100))\n",
    "print(y)"
   ]
  },
  {
   "cell_type": "code",
   "execution_count": 192,
   "id": "c30d0789",
   "metadata": {},
   "outputs": [
    {
     "name": "stdout",
     "output_type": "stream",
     "text": [
      "[False False False False False False False False False False False False\n",
      " False False False False False False False False False False False False\n",
      " False False False False False False False False False False False False\n",
      " False False False False  True  True False  True  True  True  True  True\n",
      "  True  True  True  True]\n"
     ]
    }
   ],
   "source": [
    "# ~ = not. For example a & b = true then, ~(a & b) = false.\n",
    "z = ~y\n",
    "print(z)"
   ]
  },
  {
   "cell_type": "markdown",
   "id": "91f23c08",
   "metadata": {},
   "source": [
    "### f.) Index with a list"
   ]
  },
  {
   "cell_type": "code",
   "execution_count": 193,
   "id": "38aabf03",
   "metadata": {},
   "outputs": [
    {
     "name": "stdout",
     "output_type": "stream",
     "text": [
      "[1 2 3 4 5 6 7 8 9]\n",
      "[2 3 9]\n"
     ]
    }
   ],
   "source": [
    "a = np.array([1,2,3,4,5,6,7,8,9])\n",
    "print(a)\n",
    "# display the value at index[1], index[2] and index[8]\n",
    "print(a[[1,2,8]])"
   ]
  },
  {
   "cell_type": "code",
   "execution_count": 195,
   "id": "92d54066",
   "metadata": {},
   "outputs": [
    {
     "name": "stdout",
     "output_type": "stream",
     "text": [
      "[1 2 3 4 5]\n",
      "[ 6  7  8  9 10]\n",
      "[11 12 13 14 15]\n",
      "[17 18 19 20 21]\n",
      "[22 23 24 25 26]\n"
     ]
    }
   ],
   "source": [
    "y = np.array([1,2,3,4,5])\n",
    "for i in range(1,6):\n",
    "    if(i==1):\n",
    "        x = np.array([i,i+1,i+2,i+3,i+4])\n",
    "    elif(i==2):\n",
    "        x = np.array([i+4,i+5,i+6,i+7,i+8])\n",
    "    elif(i==3):\n",
    "        x = np.array([i+8,i+9,i+10,i+11,i+12])\n",
    "    elif(i==4):\n",
    "        x = np.array([i+13,i+14,i+15,i+16,i+17])\n",
    "    elif(i==5):\n",
    "        x = np.array([i+17,i+18,i+19,i+20,i+21])\n",
    "    print(x)"
   ]
  }
 ],
 "metadata": {
  "kernelspec": {
   "display_name": "Python 3 (ipykernel)",
   "language": "python",
   "name": "python3"
  },
  "language_info": {
   "codemirror_mode": {
    "name": "ipython",
    "version": 3
   },
   "file_extension": ".py",
   "mimetype": "text/x-python",
   "name": "python",
   "nbconvert_exporter": "python",
   "pygments_lexer": "ipython3",
   "version": "3.9.12"
  }
 },
 "nbformat": 4,
 "nbformat_minor": 5
}
